{
 "cells": [
  {
   "cell_type": "markdown",
   "id": "c51f257b",
   "metadata": {},
   "source": [
    "# Built-in Data Types\n",
    ">Variables can store data of different types, and different types can do different things.\n",
    "\n",
    "<ul>Python has the following data types built-in by default, in these categories:\n",
    "    <li>Text Type:\tstr </li>\n",
    "<li>Numeric Types:\tint, float, complex</li>\n",
    "<li>Sequence Types:\tlist, tuple, range</li>\n",
    "<li>Mapping Type:\tdict</li>\n",
    "<li>Set Types:\tset, frozenset</li>\n",
    "<li>Boolean Type:\tbool</li>\n",
    "<li>Binary Types:\tbytes, bytearray, memoryview</li></ul>"
   ]
  },
  {
   "cell_type": "code",
   "execution_count": 1,
   "id": "99e17ec9",
   "metadata": {},
   "outputs": [
    {
     "name": "stdout",
     "output_type": "stream",
     "text": [
      "Hello World \n",
      " <class 'str'>\n"
     ]
    }
   ],
   "source": [
    "x = \"Hello World\"\n",
    "print(x,\"\\n\",type(x))"
   ]
  },
  {
   "cell_type": "code",
   "execution_count": 2,
   "id": "a1245cd8",
   "metadata": {},
   "outputs": [
    {
     "name": "stdout",
     "output_type": "stream",
     "text": [
      "100 \n",
      " <class 'int'>\n"
     ]
    }
   ],
   "source": [
    "x = 100\n",
    "print(x,\"\\n\",type(x))"
   ]
  },
  {
   "cell_type": "code",
   "execution_count": 3,
   "id": "6751b91e",
   "metadata": {},
   "outputs": [
    {
     "name": "stdout",
     "output_type": "stream",
     "text": [
      "3.14 \n",
      " <class 'float'>\n"
     ]
    }
   ],
   "source": [
    "x = 3.14\n",
    "print(x,\"\\n\",type(x))"
   ]
  },
  {
   "cell_type": "code",
   "execution_count": 4,
   "id": "31b7bcc3",
   "metadata": {},
   "outputs": [
    {
     "name": "stdout",
     "output_type": "stream",
     "text": [
      "3j \n",
      " <class 'complex'>\n"
     ]
    }
   ],
   "source": [
    "x = 3j\n",
    "print(x,\"\\n\",type(x))"
   ]
  },
  {
   "cell_type": "code",
   "execution_count": 5,
   "id": "48f05a2b",
   "metadata": {},
   "outputs": [
    {
     "name": "stdout",
     "output_type": "stream",
     "text": [
      "['apple', 'Orange', 'Grapes', 'Pineapple'] \n",
      " <class 'list'>\n"
     ]
    }
   ],
   "source": [
    "x = [\"apple\", \"Orange\", \"Grapes\",\"Pineapple\"]\n",
    "print(x,\"\\n\",type(x))"
   ]
  },
  {
   "cell_type": "code",
   "execution_count": 6,
   "id": "1e921954",
   "metadata": {},
   "outputs": [
    {
     "name": "stdout",
     "output_type": "stream",
     "text": [
      "('apple', 'Orange', 'Grapes', 'Pineapple') \n",
      " <class 'tuple'>\n"
     ]
    }
   ],
   "source": [
    "x = (\"apple\", \"Orange\", \"Grapes\",\"Pineapple\")\n",
    "print(x,\"\\n\",type(x))"
   ]
  },
  {
   "cell_type": "code",
   "execution_count": 7,
   "id": "df0f096d",
   "metadata": {},
   "outputs": [
    {
     "name": "stdout",
     "output_type": "stream",
     "text": [
      "range(0, 5) \n",
      " <class 'range'>\n"
     ]
    }
   ],
   "source": [
    "x = range(5)\n",
    "print(x,\"\\n\",type(x))"
   ]
  },
  {
   "cell_type": "code",
   "execution_count": 8,
   "id": "f58defff",
   "metadata": {},
   "outputs": [
    {
     "name": "stdout",
     "output_type": "stream",
     "text": [
      "{'name': 'Divya', 'Gender': 'Female'} \n",
      " <class 'dict'>\n"
     ]
    }
   ],
   "source": [
    "x = {\"name\" : \"Divya\", \"Gender\" : \"Female\"}\n",
    "print(x,\"\\n\",type(x))"
   ]
  },
  {
   "cell_type": "code",
   "execution_count": 9,
   "id": "9e923f51",
   "metadata": {},
   "outputs": [
    {
     "name": "stdout",
     "output_type": "stream",
     "text": [
      "{'Grapes', 'Orange', 'apple', 'Pineapple'} \n",
      " <class 'set'>\n"
     ]
    }
   ],
   "source": [
    "x = {\"apple\", \"Orange\", \"Grapes\",\"Pineapple\"}\n",
    "print(x,\"\\n\",type(x))"
   ]
  },
  {
   "cell_type": "code",
   "execution_count": 10,
   "id": "a37bfa0f",
   "metadata": {},
   "outputs": [
    {
     "name": "stdout",
     "output_type": "stream",
     "text": [
      "frozenset({'Grapes', 'Orange', 'apple', 'Pineapple'}) \n",
      " <class 'frozenset'>\n"
     ]
    }
   ],
   "source": [
    "x = frozenset({\"apple\", \"Orange\", \"Grapes\",\"Pineapple\"})\n",
    "print(x,\"\\n\",type(x))"
   ]
  },
  {
   "cell_type": "code",
   "execution_count": 11,
   "id": "5607b5e5",
   "metadata": {},
   "outputs": [
    {
     "name": "stdout",
     "output_type": "stream",
     "text": [
      "x= True \n",
      "y= False \n",
      " <class 'bool'> \n",
      " <class 'bool'>\n"
     ]
    }
   ],
   "source": [
    "x,y = True,False\n",
    "print(\"x=\",x,\"\\ny=\",y,\"\\n\",type(x),\"\\n\",type(y))"
   ]
  },
  {
   "cell_type": "code",
   "execution_count": 12,
   "id": "a2b92e27",
   "metadata": {},
   "outputs": [
    {
     "name": "stdout",
     "output_type": "stream",
     "text": [
      "b'Hi' \n",
      " <class 'bytes'>\n"
     ]
    }
   ],
   "source": [
    "x=b\"Hi\"\n",
    "print(x,\"\\n\",type(x))"
   ]
  },
  {
   "cell_type": "code",
   "execution_count": 13,
   "id": "aaf65104",
   "metadata": {},
   "outputs": [
    {
     "name": "stdout",
     "output_type": "stream",
     "text": [
      "bytearray(b'\\x00\\x00') \n",
      " <class 'bytearray'>\n"
     ]
    }
   ],
   "source": [
    "x = bytearray(2)\n",
    "print(x,\"\\n\",type(x))"
   ]
  },
  {
   "cell_type": "code",
   "execution_count": 14,
   "id": "c88fa6ef",
   "metadata": {},
   "outputs": [
    {
     "name": "stdout",
     "output_type": "stream",
     "text": [
      "<memory at 0x000000BAE00D2AC0> \n",
      " <class 'memoryview'>\n"
     ]
    }
   ],
   "source": [
    "x = memoryview(bytes(3))\n",
    "print(x,\"\\n\",type(x))"
   ]
  },
  {
   "cell_type": "code",
   "execution_count": 15,
   "id": "f9c33c90",
   "metadata": {},
   "outputs": [
    {
     "name": "stdout",
     "output_type": "stream",
     "text": [
      "Hello World \n",
      " <class 'str'>\n",
      "100 \n",
      " <class 'int'>\n",
      "205.9 \n",
      " <class 'float'>\n",
      "13j \n",
      " <class 'complex'>\n",
      "['apple', 'Orange', 'Grapes', 'Pineapple'] \n",
      " <class 'list'>\n",
      "('apple', 'Orange', 'Grapes', 'Pineapple') \n",
      " <class 'tuple'>\n",
      "range(0, 7) \n",
      " <class 'range'>\n",
      "{'name': 'Divya', 'age': 21} \n",
      " <class 'dict'>\n",
      "{'Grapes', 'Orange', 'apple', 'Pineapple'} \n",
      " <class 'set'>\n",
      "frozenset({'Grapes', 'Orange', 'apple', 'Pineapple'}) \n",
      " <class 'frozenset'>\n",
      "True \n",
      " <class 'bool'>\n",
      "b'\\x00\\x00\\x00\\x00\\x00\\x00' \n",
      " <class 'bytes'>\n",
      "bytearray(b'\\x00\\x00\\x00\\x00\\x00\\x00') \n",
      " <class 'bytearray'>\n",
      "<memory at 0x000000BAE00D2AC0> \n",
      " <class 'memoryview'>\n"
     ]
    }
   ],
   "source": [
    "#Setting the particular datatype\n",
    "\n",
    "x = str(\"Hello World\")\n",
    "print(x,\"\\n\",type(x))\n",
    "x = int(100)\n",
    "print(x,\"\\n\",type(x))\n",
    "x = float(205.90)\n",
    "print(x,\"\\n\",type(x))\n",
    "x = complex(13j)\n",
    "print(x,\"\\n\",type(x))\n",
    "x = list((\"apple\", \"Orange\", \"Grapes\",\"Pineapple\"))\n",
    "print(x,\"\\n\",type(x))\n",
    "x = tuple((\"apple\", \"Orange\", \"Grapes\",\"Pineapple\"))\n",
    "print(x,\"\\n\",type(x))\n",
    "x = range(7)\n",
    "print(x,\"\\n\",type(x))\n",
    "x = dict(name=\"Divya\", age=21)\n",
    "print(x,\"\\n\",type(x))\n",
    "x = set((\"apple\", \"Orange\", \"Grapes\",\"Pineapple\"))\n",
    "print(x,\"\\n\",type(x))\n",
    "x = frozenset((\"apple\", \"Orange\", \"Grapes\",\"Pineapple\"))\n",
    "print(x,\"\\n\",type(x))\n",
    "x = bool(6)\n",
    "print(x,\"\\n\",type(x))\n",
    "x = bytes(6)\n",
    "print(x,\"\\n\",type(x))\n",
    "x = bytearray(6)\n",
    "print(x,\"\\n\",type(x))\n",
    "x = memoryview(bytes(6))\n",
    "print(x,\"\\n\",type(x))"
   ]
  },
  {
   "cell_type": "markdown",
   "id": "23fd627c",
   "metadata": {},
   "source": [
    "# variables in Python"
   ]
  },
  {
   "cell_type": "markdown",
   "id": "87b93d86",
   "metadata": {},
   "source": [
    "**Variable Creation**"
   ]
  },
  {
   "cell_type": "code",
   "execution_count": 16,
   "id": "08f9eac1",
   "metadata": {},
   "outputs": [
    {
     "data": {
      "text/plain": [
       "('Divya', 21, 5.45)"
      ]
     },
     "execution_count": 16,
     "metadata": {},
     "output_type": "execute_result"
    }
   ],
   "source": [
    "Name=\"Divya\" # no need of defining the datatype of the value stored in the varable \n",
    "age=21\n",
    "height=5.45\n",
    "Name,age,height"
   ]
  },
  {
   "cell_type": "code",
   "execution_count": 61,
   "id": "024a05af",
   "metadata": {},
   "outputs": [
    {
     "ename": "NameError",
     "evalue": "name 'Divya' is not defined",
     "output_type": "error",
     "traceback": [
      "\u001b[1;31m---------------------------------------------------------------------------\u001b[0m",
      "\u001b[1;31mNameError\u001b[0m                                 Traceback (most recent call last)",
      "\u001b[1;32mC:\\Users\\DIVYAJ~1\\AppData\\Local\\Temp/ipykernel_281432/3789952931.py\u001b[0m in \u001b[0;36m<module>\u001b[1;34m\u001b[0m\n\u001b[1;32m----> 1\u001b[1;33m \u001b[0mS1\u001b[0m\u001b[1;33m=\u001b[0m\u001b[0mDivya\u001b[0m \u001b[1;31m# if you define a string without quotes it leads to an error\u001b[0m\u001b[1;33m\u001b[0m\u001b[1;33m\u001b[0m\u001b[0m\n\u001b[0m",
      "\u001b[1;31mNameError\u001b[0m: name 'Divya' is not defined"
     ]
    }
   ],
   "source": [
    "S1=Divya # if you define a string without quotes it leads to an error"
   ]
  },
  {
   "cell_type": "code",
   "execution_count": 66,
   "id": "878e35f0",
   "metadata": {},
   "outputs": [
    {
     "data": {
      "text/plain": [
       "('Divya', 'Divya', \"'Divya'\")"
      ]
     },
     "execution_count": 66,
     "metadata": {},
     "output_type": "execute_result"
    }
   ],
   "source": [
    "S1='Divya'# you can define a string with single quotes\n",
    "S2=\"Divya\"# you can define a string with double quotes\n",
    "S3=\"'Divya'\"# you can define a string with triple quotes too\n",
    "S1,S2,S3"
   ]
  },
  {
   "cell_type": "code",
   "execution_count": 132,
   "id": "39badbea",
   "metadata": {},
   "outputs": [
    {
     "data": {
      "text/plain": [
       "(1, 2, 3, 4)"
      ]
     },
     "execution_count": 132,
     "metadata": {},
     "output_type": "execute_result"
    }
   ],
   "source": [
    "# you can also assign values to the variables in this way\n",
    "n1,n2,n3,n4=1,2,3,4\n",
    "n1,n2,n3,n4"
   ]
  },
  {
   "cell_type": "code",
   "execution_count": 71,
   "id": "82dafb95",
   "metadata": {},
   "outputs": [
    {
     "data": {
      "text/plain": [
       "(str, str, str)"
      ]
     },
     "execution_count": 71,
     "metadata": {},
     "output_type": "execute_result"
    }
   ],
   "source": [
    "type(S1),type(S2),type(S3)"
   ]
  },
  {
   "cell_type": "markdown",
   "id": "3a71725a",
   "metadata": {},
   "source": [
    "**Declare the variable and print**"
   ]
  },
  {
   "cell_type": "code",
   "execution_count": 10,
   "id": "f5ada428",
   "metadata": {},
   "outputs": [
    {
     "name": "stdout",
     "output_type": "stream",
     "text": [
      "Sudhakar is the name of my brother\n",
      "Sudhakar is the name of my brother Divya\n"
     ]
    }
   ],
   "source": [
    "Var1=\"Sudhakar is the name of my brother\"\n",
    "print(Var1)\n",
    "print(Var1,Name) #printing 2 variables at a time "
   ]
  },
  {
   "cell_type": "markdown",
   "id": "a645e26c",
   "metadata": {},
   "source": [
    "**Re-declaring the Variable**"
   ]
  },
  {
   "cell_type": "code",
   "execution_count": 16,
   "id": "f9630622",
   "metadata": {},
   "outputs": [
    {
     "name": "stdout",
     "output_type": "stream",
     "text": [
      "Before declaration value = 100\n",
      "After re-declaration value = 20\n"
     ]
    }
   ],
   "source": [
    "Number1=100\n",
    "print(\"Before declaration value =\",Number1,)\n",
    "Number1=20\n",
    "print(\"After re-declaration value =\",Number1)"
   ]
  },
  {
   "cell_type": "markdown",
   "id": "a60d5aba",
   "metadata": {},
   "source": [
    "**Assigning multiple values to variables**"
   ]
  },
  {
   "cell_type": "code",
   "execution_count": 45,
   "id": "af73a0f9",
   "metadata": {},
   "outputs": [
    {
     "name": "stdout",
     "output_type": "stream",
     "text": [
      "22\n",
      "22\n",
      "22\n"
     ]
    }
   ],
   "source": [
    "a=b=c=22\n",
    "print(a)\n",
    "print(b)\n",
    "print(c)"
   ]
  },
  {
   "cell_type": "markdown",
   "id": "a440f002",
   "metadata": {},
   "source": [
    "**Checking for the memory ID**"
   ]
  },
  {
   "cell_type": "code",
   "execution_count": 46,
   "id": "2ff23148",
   "metadata": {},
   "outputs": [
    {
     "data": {
      "text/plain": [
       "(557796256720, 557796256720, 557796256720)"
      ]
     },
     "execution_count": 46,
     "metadata": {},
     "output_type": "execute_result"
    }
   ],
   "source": [
    "id(a),id(b),id(c) # all the values are stored at the same memory location"
   ]
  },
  {
   "cell_type": "markdown",
   "id": "22ba8360",
   "metadata": {},
   "source": [
    "**Deleting the variable**"
   ]
  },
  {
   "cell_type": "code",
   "execution_count": 50,
   "id": "55e584da",
   "metadata": {},
   "outputs": [],
   "source": [
    "del(a) # var a is deleted"
   ]
  },
  {
   "cell_type": "code",
   "execution_count": 51,
   "id": "ce641d44",
   "metadata": {},
   "outputs": [
    {
     "ename": "NameError",
     "evalue": "name 'a' is not defined",
     "output_type": "error",
     "traceback": [
      "\u001b[1;31m---------------------------------------------------------------------------\u001b[0m",
      "\u001b[1;31mNameError\u001b[0m                                 Traceback (most recent call last)",
      "\u001b[1;32mC:\\Users\\DIVYAJ~1\\AppData\\Local\\Temp/ipykernel_281432/3046766756.py\u001b[0m in \u001b[0;36m<module>\u001b[1;34m\u001b[0m\n\u001b[1;32m----> 1\u001b[1;33m \u001b[0ma\u001b[0m\u001b[1;31m# checking whether the var is in the memory location\u001b[0m\u001b[1;33m\u001b[0m\u001b[1;33m\u001b[0m\u001b[0m\n\u001b[0m",
      "\u001b[1;31mNameError\u001b[0m: name 'a' is not defined"
     ]
    }
   ],
   "source": [
    "a# checking whether the var is in the memory location"
   ]
  },
  {
   "cell_type": "code",
   "execution_count": 29,
   "id": "5865bfb2",
   "metadata": {},
   "outputs": [
    {
     "data": {
      "text/plain": [
       "(22, 22)"
      ]
     },
     "execution_count": 29,
     "metadata": {},
     "output_type": "execute_result"
    }
   ],
   "source": [
    "b,c # checking whether b and c are present in the memory"
   ]
  },
  {
   "cell_type": "code",
   "execution_count": 30,
   "id": "4b6cc178",
   "metadata": {},
   "outputs": [],
   "source": [
    "d=22 # creating another var with same val to check whether it is in same location"
   ]
  },
  {
   "cell_type": "code",
   "execution_count": 31,
   "id": "eb4d74ee",
   "metadata": {},
   "outputs": [
    {
     "data": {
      "text/plain": [
       "557796256720"
      ]
     },
     "execution_count": 31,
     "metadata": {},
     "output_type": "execute_result"
    }
   ],
   "source": [
    "id(d) #even d is also pointing to the same location"
   ]
  },
  {
   "cell_type": "code",
   "execution_count": 32,
   "id": "5f7c5f09",
   "metadata": {},
   "outputs": [],
   "source": [
    "c=100 # changing the val"
   ]
  },
  {
   "cell_type": "code",
   "execution_count": 33,
   "id": "e19935b0",
   "metadata": {},
   "outputs": [
    {
     "data": {
      "text/plain": [
       "(22, 100)"
      ]
     },
     "execution_count": 33,
     "metadata": {},
     "output_type": "execute_result"
    }
   ],
   "source": [
    "b,c # now value of c is changed , c=22 is garbage collected "
   ]
  },
  {
   "cell_type": "code",
   "execution_count": 34,
   "id": "14a338b7",
   "metadata": {},
   "outputs": [
    {
     "data": {
      "text/plain": [
       "557796447696"
      ]
     },
     "execution_count": 34,
     "metadata": {},
     "output_type": "execute_result"
    }
   ],
   "source": [
    "id(c) # now as a different memory location "
   ]
  },
  {
   "cell_type": "markdown",
   "id": "ff47e689",
   "metadata": {},
   "source": [
    "**To check the datatype**"
   ]
  },
  {
   "cell_type": "code",
   "execution_count": 55,
   "id": "706eed2e",
   "metadata": {},
   "outputs": [
    {
     "data": {
      "text/plain": [
       "(int, str, float)"
      ]
     },
     "execution_count": 55,
     "metadata": {},
     "output_type": "execute_result"
    }
   ],
   "source": [
    "type(c),type(Name),type(height)"
   ]
  },
  {
   "cell_type": "markdown",
   "id": "e1b0020c",
   "metadata": {},
   "source": [
    "**+ Operator**"
   ]
  },
  {
   "cell_type": "code",
   "execution_count": 56,
   "id": "1d477ec4",
   "metadata": {},
   "outputs": [],
   "source": [
    "a=10\n",
    "b=10"
   ]
  },
  {
   "cell_type": "code",
   "execution_count": 57,
   "id": "4b91e0b8",
   "metadata": {},
   "outputs": [
    {
     "data": {
      "text/plain": [
       "20"
      ]
     },
     "execution_count": 57,
     "metadata": {},
     "output_type": "execute_result"
    }
   ],
   "source": [
    "a+b # here + performs an addtion operation"
   ]
  },
  {
   "cell_type": "code",
   "execution_count": 58,
   "id": "40439fcd",
   "metadata": {},
   "outputs": [],
   "source": [
    "Name=\"Sudhakar\"\n",
    "Surname=\"Reddy\""
   ]
  },
  {
   "cell_type": "code",
   "execution_count": 59,
   "id": "027df108",
   "metadata": {},
   "outputs": [
    {
     "data": {
      "text/plain": [
       "'SudhakarReddy'"
      ]
     },
     "execution_count": 59,
     "metadata": {},
     "output_type": "execute_result"
    }
   ],
   "source": [
    "Name+Surname # here + performs concatination"
   ]
  },
  {
   "cell_type": "code",
   "execution_count": 72,
   "id": "8e2828cf",
   "metadata": {},
   "outputs": [
    {
     "ename": "TypeError",
     "evalue": "unsupported operand type(s) for +: 'int' and 'str'",
     "output_type": "error",
     "traceback": [
      "\u001b[1;31m---------------------------------------------------------------------------\u001b[0m",
      "\u001b[1;31mTypeError\u001b[0m                                 Traceback (most recent call last)",
      "\u001b[1;32mC:\\Users\\DIVYAJ~1\\AppData\\Local\\Temp/ipykernel_281432/1257007041.py\u001b[0m in \u001b[0;36m<module>\u001b[1;34m\u001b[0m\n\u001b[1;32m----> 1\u001b[1;33m \u001b[0ma\u001b[0m\u001b[1;33m+\u001b[0m\u001b[0mName\u001b[0m\u001b[1;33m\u001b[0m\u001b[1;33m\u001b[0m\u001b[0m\n\u001b[0m",
      "\u001b[1;31mTypeError\u001b[0m: unsupported operand type(s) for +: 'int' and 'str'"
     ]
    }
   ],
   "source": [
    "a+Name # you can't concatenate a int and string"
   ]
  },
  {
   "cell_type": "markdown",
   "id": "cbd7052b",
   "metadata": {},
   "source": [
    "**Local Variables**\n",
    ">*Local variables are defined and declared within a function*"
   ]
  },
  {
   "cell_type": "code",
   "execution_count": 135,
   "id": "bad27578",
   "metadata": {},
   "outputs": [],
   "source": [
    "def f():\n",
    "    s=\"Hello World!\" # s is a local variable\n",
    "    print(s)"
   ]
  },
  {
   "cell_type": "code",
   "execution_count": 136,
   "id": "6eba3ab9",
   "metadata": {},
   "outputs": [
    {
     "name": "stdout",
     "output_type": "stream",
     "text": [
      "Hello World!\n"
     ]
    }
   ],
   "source": [
    "f()"
   ]
  },
  {
   "cell_type": "code",
   "execution_count": 78,
   "id": "861b5101",
   "metadata": {},
   "outputs": [
    {
     "ename": "NameError",
     "evalue": "name 's' is not defined",
     "output_type": "error",
     "traceback": [
      "\u001b[1;31m---------------------------------------------------------------------------\u001b[0m",
      "\u001b[1;31mNameError\u001b[0m                                 Traceback (most recent call last)",
      "\u001b[1;32mC:\\Users\\DIVYAJ~1\\AppData\\Local\\Temp/ipykernel_281432/1028141915.py\u001b[0m in \u001b[0;36m<module>\u001b[1;34m\u001b[0m\n\u001b[1;32m----> 1\u001b[1;33m \u001b[0ms\u001b[0m\u001b[1;33m\u001b[0m\u001b[1;33m\u001b[0m\u001b[0m\n\u001b[0m",
      "\u001b[1;31mNameError\u001b[0m: name 's' is not defined"
     ]
    }
   ],
   "source": [
    "s # this variable is not available out of the function"
   ]
  },
  {
   "cell_type": "markdown",
   "id": "2295794e",
   "metadata": {},
   "source": [
    "**Global variables**\n",
    ">*Global variables are defined and declared outside the function*\n",
    ">>*if we declare any variable using global keyword inside a function this variable is accessible even outside the function and the changes made outside the function will effect the value of global variable inside the function*"
   ]
  },
  {
   "cell_type": "code",
   "execution_count": 1,
   "id": "2edc392f",
   "metadata": {},
   "outputs": [],
   "source": [
    "string1=\"Python\" # this variable as global scope"
   ]
  },
  {
   "cell_type": "code",
   "execution_count": 2,
   "id": "799ebee8",
   "metadata": {},
   "outputs": [],
   "source": [
    "def s():\n",
    "    print(string1) # hence accessible everywhere"
   ]
  },
  {
   "cell_type": "code",
   "execution_count": 3,
   "id": "098dd037",
   "metadata": {},
   "outputs": [
    {
     "name": "stdout",
     "output_type": "stream",
     "text": [
      "Python\n"
     ]
    }
   ],
   "source": [
    "s()"
   ]
  },
  {
   "cell_type": "code",
   "execution_count": 7,
   "id": "910f2579",
   "metadata": {},
   "outputs": [
    {
     "data": {
      "text/plain": [
       "10"
      ]
     },
     "execution_count": 7,
     "metadata": {},
     "output_type": "execute_result"
    }
   ],
   "source": [
    "global p\n",
    "p=10\n",
    "p"
   ]
  },
  {
   "cell_type": "code",
   "execution_count": 8,
   "id": "40543f9f",
   "metadata": {},
   "outputs": [],
   "source": [
    "def addition():\n",
    "    print(p)\n",
    "    "
   ]
  },
  {
   "cell_type": "code",
   "execution_count": 9,
   "id": "a468402a",
   "metadata": {},
   "outputs": [
    {
     "name": "stdout",
     "output_type": "stream",
     "text": [
      "10\n"
     ]
    }
   ],
   "source": [
    "addition()"
   ]
  },
  {
   "cell_type": "code",
   "execution_count": 13,
   "id": "77ebf932",
   "metadata": {},
   "outputs": [],
   "source": [
    "def addition():\n",
    "    p=p*10 #since p is declared as global outside the function you cannot make any changes to the value of p inside the function\n",
    "    print(p)"
   ]
  },
  {
   "cell_type": "code",
   "execution_count": 14,
   "id": "5ee415c2",
   "metadata": {},
   "outputs": [
    {
     "ename": "UnboundLocalError",
     "evalue": "local variable 'p' referenced before assignment",
     "output_type": "error",
     "traceback": [
      "\u001b[1;31m---------------------------------------------------------------------------\u001b[0m",
      "\u001b[1;31mUnboundLocalError\u001b[0m                         Traceback (most recent call last)",
      "\u001b[1;32mC:\\Users\\DIVYAJ~1\\AppData\\Local\\Temp/ipykernel_277276/3913882453.py\u001b[0m in \u001b[0;36m<module>\u001b[1;34m\u001b[0m\n\u001b[1;32m----> 1\u001b[1;33m \u001b[0maddition\u001b[0m\u001b[1;33m(\u001b[0m\u001b[1;33m)\u001b[0m\u001b[1;33m\u001b[0m\u001b[1;33m\u001b[0m\u001b[0m\n\u001b[0m",
      "\u001b[1;32mC:\\Users\\DIVYAJ~1\\AppData\\Local\\Temp/ipykernel_277276/2711429057.py\u001b[0m in \u001b[0;36maddition\u001b[1;34m()\u001b[0m\n\u001b[0;32m      1\u001b[0m \u001b[1;32mdef\u001b[0m \u001b[0maddition\u001b[0m\u001b[1;33m(\u001b[0m\u001b[1;33m)\u001b[0m\u001b[1;33m:\u001b[0m\u001b[1;33m\u001b[0m\u001b[1;33m\u001b[0m\u001b[0m\n\u001b[1;32m----> 2\u001b[1;33m     \u001b[0mp\u001b[0m\u001b[1;33m=\u001b[0m\u001b[0mp\u001b[0m\u001b[1;33m*\u001b[0m\u001b[1;36m10\u001b[0m \u001b[1;31m#since p is declared as global outside the function you cannot make any changes to the value of p inside the function\u001b[0m\u001b[1;33m\u001b[0m\u001b[1;33m\u001b[0m\u001b[0m\n\u001b[0m\u001b[0;32m      3\u001b[0m     \u001b[0mprint\u001b[0m\u001b[1;33m(\u001b[0m\u001b[0mp\u001b[0m\u001b[1;33m)\u001b[0m\u001b[1;33m\u001b[0m\u001b[1;33m\u001b[0m\u001b[0m\n",
      "\u001b[1;31mUnboundLocalError\u001b[0m: local variable 'p' referenced before assignment"
     ]
    }
   ],
   "source": [
    "addition() #this leads to error since the function trying to modify the value of global variable p"
   ]
  },
  {
   "cell_type": "code",
   "execution_count": 16,
   "id": "2652764c",
   "metadata": {},
   "outputs": [
    {
     "data": {
      "text/plain": [
       "(10, 17179175504, int)"
      ]
     },
     "execution_count": 16,
     "metadata": {},
     "output_type": "execute_result"
    }
   ],
   "source": [
    "p,id(p),type(p)"
   ]
  },
  {
   "cell_type": "code",
   "execution_count": 17,
   "id": "ad7cd828",
   "metadata": {},
   "outputs": [],
   "source": [
    "p=p+1 # you can modify the value of p outside the function"
   ]
  },
  {
   "cell_type": "code",
   "execution_count": 22,
   "id": "cac60894",
   "metadata": {},
   "outputs": [
    {
     "data": {
      "text/plain": [
       "(100, 17179366864)"
      ]
     },
     "execution_count": 22,
     "metadata": {},
     "output_type": "execute_result"
    }
   ],
   "source": [
    "q=100\n",
    "q,id(q)"
   ]
  },
  {
   "cell_type": "code",
   "execution_count": 20,
   "id": "c66a3c76",
   "metadata": {},
   "outputs": [],
   "source": [
    "def q():\n",
    "    global q\n",
    "    print(q)"
   ]
  },
  {
   "cell_type": "code",
   "execution_count": 21,
   "id": "3afe0927",
   "metadata": {},
   "outputs": [
    {
     "name": "stdout",
     "output_type": "stream",
     "text": [
      "<function q at 0x000000038546C310>\n"
     ]
    }
   ],
   "source": [
    "q() #this function does not give a proper result since it is defined as global inside the function but not assigned a value to it inside the function"
   ]
  },
  {
   "cell_type": "code",
   "execution_count": 23,
   "id": "345ca32f",
   "metadata": {},
   "outputs": [
    {
     "data": {
      "text/plain": [
       "100"
      ]
     },
     "execution_count": 23,
     "metadata": {},
     "output_type": "execute_result"
    }
   ],
   "source": [
    "q"
   ]
  },
  {
   "cell_type": "code",
   "execution_count": 60,
   "id": "22e519a5",
   "metadata": {},
   "outputs": [],
   "source": [
    "def q():\n",
    "    global q\n",
    "    q=200\n",
    "    print(q)"
   ]
  },
  {
   "cell_type": "code",
   "execution_count": 61,
   "id": "3f2872d8",
   "metadata": {},
   "outputs": [
    {
     "name": "stdout",
     "output_type": "stream",
     "text": [
      "200\n"
     ]
    }
   ],
   "source": [
    "q() # now you can see that the value of q is changed ,and if you check the value of q now it will show the updated q value"
   ]
  },
  {
   "cell_type": "code",
   "execution_count": 62,
   "id": "d36a55b4",
   "metadata": {},
   "outputs": [
    {
     "ename": "TypeError",
     "evalue": "'int' object is not callable",
     "output_type": "error",
     "traceback": [
      "\u001b[1;31m---------------------------------------------------------------------------\u001b[0m",
      "\u001b[1;31mTypeError\u001b[0m                                 Traceback (most recent call last)",
      "\u001b[1;32mC:\\Users\\DIVYAJ~1\\AppData\\Local\\Temp/ipykernel_277276/1051197514.py\u001b[0m in \u001b[0;36m<module>\u001b[1;34m\u001b[0m\n\u001b[1;32m----> 1\u001b[1;33m \u001b[0mq\u001b[0m\u001b[1;33m,\u001b[0m\u001b[0mq\u001b[0m\u001b[1;33m(\u001b[0m\u001b[1;33m)\u001b[0m \u001b[1;31m# you cannot call a func and var at a time this leads to error\u001b[0m\u001b[1;33m\u001b[0m\u001b[1;33m\u001b[0m\u001b[0m\n\u001b[0m",
      "\u001b[1;31mTypeError\u001b[0m: 'int' object is not callable"
     ]
    }
   ],
   "source": [
    "q,q() # you cannot call a func and var at a time this leads to error "
   ]
  },
  {
   "cell_type": "code",
   "execution_count": 63,
   "id": "4c97cb4b",
   "metadata": {},
   "outputs": [
    {
     "data": {
      "text/plain": [
       "300"
      ]
     },
     "execution_count": 63,
     "metadata": {},
     "output_type": "execute_result"
    }
   ],
   "source": [
    "q=300\n",
    "q"
   ]
  },
  {
   "cell_type": "code",
   "execution_count": 64,
   "id": "500f0ec9",
   "metadata": {},
   "outputs": [
    {
     "ename": "TypeError",
     "evalue": "'int' object is not callable",
     "output_type": "error",
     "traceback": [
      "\u001b[1;31m---------------------------------------------------------------------------\u001b[0m",
      "\u001b[1;31mTypeError\u001b[0m                                 Traceback (most recent call last)",
      "\u001b[1;32mC:\\Users\\DIVYAJ~1\\AppData\\Local\\Temp/ipykernel_277276/4030036392.py\u001b[0m in \u001b[0;36m<module>\u001b[1;34m\u001b[0m\n\u001b[1;32m----> 1\u001b[1;33m \u001b[0mq\u001b[0m\u001b[1;33m(\u001b[0m\u001b[1;33m)\u001b[0m \u001b[1;31m# this leads to error since you are updated the value of global variable which is inside the function\u001b[0m\u001b[1;33m\u001b[0m\u001b[1;33m\u001b[0m\u001b[0m\n\u001b[0m",
      "\u001b[1;31mTypeError\u001b[0m: 'int' object is not callable"
     ]
    }
   ],
   "source": [
    "q() # this leads to error since you are updated the value of variable q as 300 but inside the function it is making q as global and making it as q=200"
   ]
  },
  {
   "cell_type": "code",
   "execution_count": 66,
   "id": "4c8ed27c",
   "metadata": {},
   "outputs": [
    {
     "data": {
      "text/plain": [
       "302"
      ]
     },
     "execution_count": 66,
     "metadata": {},
     "output_type": "execute_result"
    }
   ],
   "source": [
    "q=q+1\n",
    "q "
   ]
  },
  {
   "cell_type": "code",
   "execution_count": 68,
   "id": "591dca4c",
   "metadata": {},
   "outputs": [
    {
     "name": "stdout",
     "output_type": "stream",
     "text": [
      "200\n"
     ]
    }
   ],
   "source": [
    "def q(): #currently q=302\n",
    "    global q \n",
    "    q=200 # Now q changes 200\n",
    "    print(q)\n",
    "    \n",
    "q()    "
   ]
  },
  {
   "cell_type": "code",
   "execution_count": 70,
   "id": "3a4f69c6",
   "metadata": {},
   "outputs": [
    {
     "data": {
      "text/plain": [
       "(11, 12, 200)"
      ]
     },
     "execution_count": 70,
     "metadata": {},
     "output_type": "execute_result"
    }
   ],
   "source": [
    "p,(p+1),q #now q is globally assigned as 200"
   ]
  },
  {
   "cell_type": "code",
   "execution_count": 81,
   "id": "b6474edd",
   "metadata": {},
   "outputs": [
    {
     "data": {
      "text/plain": [
       "1200"
      ]
     },
     "execution_count": 81,
     "metadata": {},
     "output_type": "execute_result"
    }
   ],
   "source": [
    "q=200+1000\n",
    "q"
   ]
  },
  {
   "cell_type": "code",
   "execution_count": 78,
   "id": "cc48b8fe",
   "metadata": {},
   "outputs": [
    {
     "ename": "TypeError",
     "evalue": "'int' object is not callable",
     "output_type": "error",
     "traceback": [
      "\u001b[1;31m---------------------------------------------------------------------------\u001b[0m",
      "\u001b[1;31mTypeError\u001b[0m                                 Traceback (most recent call last)",
      "\u001b[1;32mC:\\Users\\DIVYAJ~1\\AppData\\Local\\Temp/ipykernel_277276/510840122.py\u001b[0m in \u001b[0;36m<module>\u001b[1;34m\u001b[0m\n\u001b[1;32m----> 1\u001b[1;33m \u001b[0mq\u001b[0m\u001b[1;33m(\u001b[0m\u001b[1;33m)\u001b[0m \u001b[1;31m#now if you run this func it leads to error!\u001b[0m\u001b[1;33m\u001b[0m\u001b[1;33m\u001b[0m\u001b[0m\n\u001b[0m",
      "\u001b[1;31mTypeError\u001b[0m: 'int' object is not callable"
     ]
    }
   ],
   "source": [
    "q() #now if you run this func it leads to error!"
   ]
  },
  {
   "cell_type": "code",
   "execution_count": 84,
   "id": "e6ec467e",
   "metadata": {},
   "outputs": [
    {
     "data": {
      "text/plain": [
       "(402, 1200, 2400)"
      ]
     },
     "execution_count": 84,
     "metadata": {},
     "output_type": "execute_result"
    }
   ],
   "source": [
    "201*2,q,q*2"
   ]
  },
  {
   "cell_type": "markdown",
   "id": "a0453748",
   "metadata": {},
   "source": [
    "**Object reference**"
   ]
  },
  {
   "cell_type": "code",
   "execution_count": 87,
   "id": "21be5d1d",
   "metadata": {},
   "outputs": [],
   "source": [
    "x=1000"
   ]
  },
  {
   "cell_type": "code",
   "execution_count": 88,
   "id": "2fe1d052",
   "metadata": {},
   "outputs": [
    {
     "ename": "NameError",
     "evalue": "name 'y' is not defined",
     "output_type": "error",
     "traceback": [
      "\u001b[1;31m---------------------------------------------------------------------------\u001b[0m",
      "\u001b[1;31mNameError\u001b[0m                                 Traceback (most recent call last)",
      "\u001b[1;32mC:\\Users\\DIVYAJ~1\\AppData\\Local\\Temp/ipykernel_277276/2639743992.py\u001b[0m in \u001b[0;36m<module>\u001b[1;34m\u001b[0m\n\u001b[1;32m----> 1\u001b[1;33m \u001b[0mx\u001b[0m\u001b[1;33m=\u001b[0m\u001b[0my\u001b[0m \u001b[1;31m# this leads to error since y does'nt have any value\u001b[0m\u001b[1;33m\u001b[0m\u001b[1;33m\u001b[0m\u001b[0m\n\u001b[0m",
      "\u001b[1;31mNameError\u001b[0m: name 'y' is not defined"
     ]
    }
   ],
   "source": [
    "x=y # this leads to error since y does'nt have any value "
   ]
  },
  {
   "cell_type": "code",
   "execution_count": 89,
   "id": "131ef028",
   "metadata": {},
   "outputs": [],
   "source": [
    "y=x # now both x and y points to same value "
   ]
  },
  {
   "cell_type": "code",
   "execution_count": 90,
   "id": "bb041f60",
   "metadata": {},
   "outputs": [
    {
     "data": {
      "text/plain": [
       "(1000, 1000, 15120982096, 15120982096)"
      ]
     },
     "execution_count": 90,
     "metadata": {},
     "output_type": "execute_result"
    }
   ],
   "source": [
    "x,y,id(x),id(y)"
   ]
  },
  {
   "cell_type": "code",
   "execution_count": 91,
   "id": "50e58ea1",
   "metadata": {},
   "outputs": [],
   "source": [
    "# if we make any changes to  y it will be affected to y itself, it does not affect x\n",
    "y='Divu'"
   ]
  },
  {
   "cell_type": "code",
   "execution_count": 92,
   "id": "d179bacc",
   "metadata": {},
   "outputs": [
    {
     "data": {
      "text/plain": [
       "(1000, 'Divu')"
      ]
     },
     "execution_count": 92,
     "metadata": {},
     "output_type": "execute_result"
    }
   ],
   "source": [
    "x,y"
   ]
  },
  {
   "cell_type": "code",
   "execution_count": 193,
   "id": "8d700bf5",
   "metadata": {},
   "outputs": [],
   "source": [
    "x=y #now both x and y have same value ,the val x->100 goes to garbage "
   ]
  },
  {
   "cell_type": "code",
   "execution_count": 93,
   "id": "9f8f878b",
   "metadata": {},
   "outputs": [
    {
     "data": {
      "text/plain": [
       "(1000, 'Divu')"
      ]
     },
     "execution_count": 93,
     "metadata": {},
     "output_type": "execute_result"
    }
   ],
   "source": [
    "x,y"
   ]
  },
  {
   "cell_type": "markdown",
   "id": "e2c7dc81",
   "metadata": {},
   "source": [
    "**Deleting the variable from memory using del()**"
   ]
  },
  {
   "cell_type": "code",
   "execution_count": 195,
   "id": "e4f8c242",
   "metadata": {},
   "outputs": [
    {
     "ename": "SyntaxError",
     "evalue": "invalid syntax (Temp/ipykernel_281432/3809829599.py, line 1)",
     "output_type": "error",
     "traceback": [
      "\u001b[1;36m  File \u001b[1;32m\"C:\\Users\\DIVYAJ~1\\AppData\\Local\\Temp/ipykernel_281432/3809829599.py\"\u001b[1;36m, line \u001b[1;32m1\u001b[0m\n\u001b[1;33m    del(x),del(y)\u001b[0m\n\u001b[1;37m           ^\u001b[0m\n\u001b[1;31mSyntaxError\u001b[0m\u001b[1;31m:\u001b[0m invalid syntax\n"
     ]
    }
   ],
   "source": [
    "del(x),del(y) # cannot use del() two times in a cell"
   ]
  },
  {
   "cell_type": "code",
   "execution_count": 94,
   "id": "133ffadb",
   "metadata": {},
   "outputs": [],
   "source": [
    "del(x,y) # deleting multiple variables at a time"
   ]
  },
  {
   "cell_type": "code",
   "execution_count": 95,
   "id": "419d196b",
   "metadata": {},
   "outputs": [
    {
     "ename": "NameError",
     "evalue": "name 'x' is not defined",
     "output_type": "error",
     "traceback": [
      "\u001b[1;31m---------------------------------------------------------------------------\u001b[0m",
      "\u001b[1;31mNameError\u001b[0m                                 Traceback (most recent call last)",
      "\u001b[1;32mC:\\Users\\DIVYAJ~1\\AppData\\Local\\Temp/ipykernel_277276/3538159106.py\u001b[0m in \u001b[0;36m<module>\u001b[1;34m\u001b[0m\n\u001b[1;32m----> 1\u001b[1;33m \u001b[1;32mdel\u001b[0m\u001b[1;33m(\u001b[0m\u001b[0mx\u001b[0m\u001b[1;33m)\u001b[0m\u001b[1;33m\u001b[0m\u001b[1;33m\u001b[0m\u001b[0m\n\u001b[0m",
      "\u001b[1;31mNameError\u001b[0m: name 'x' is not defined"
     ]
    }
   ],
   "source": [
    "del(x)"
   ]
  },
  {
   "cell_type": "markdown",
   "id": "f1d6c1c8",
   "metadata": {},
   "source": [
    "# Output in Python"
   ]
  },
  {
   "cell_type": "markdown",
   "id": "be33f82d",
   "metadata": {},
   "source": [
    "## print()\n",
    " \n",
    "**Print function is used to print the statement within the quotes**\n",
    "> print() has two arguments\n",
    ">><li>end</li>\n",
    ">><li>sep</li>"
   ]
  },
  {
   "cell_type": "code",
   "execution_count": 97,
   "id": "7e4c55da",
   "metadata": {},
   "outputs": [
    {
     "name": "stdout",
     "output_type": "stream",
     "text": [
      "Welcome to the world of Python\n"
     ]
    }
   ],
   "source": [
    "print(\"Welcome to the world of Python\")"
   ]
  },
  {
   "cell_type": "code",
   "execution_count": 101,
   "id": "fdab8fa8",
   "metadata": {},
   "outputs": [
    {
     "name": "stdout",
     "output_type": "stream",
     "text": [
      "welcome\n",
      "to\n",
      "the\n",
      "world\n"
     ]
    }
   ],
   "source": [
    "print(\"welcome\")\n",
    "print('to')\n",
    "print('the')\n",
    "print(\"world\")"
   ]
  },
  {
   "cell_type": "code",
   "execution_count": null,
   "id": "3295f56c",
   "metadata": {},
   "outputs": [],
   "source": [
    "# to avoid printing multiple print statements in multiple lines use the end argument,so that all of them executes in the same line as shown below"
   ]
  },
  {
   "cell_type": "code",
   "execution_count": 102,
   "id": "a5b3cab4",
   "metadata": {},
   "outputs": [
    {
     "name": "stdout",
     "output_type": "stream",
     "text": [
      "Welcome:to the World "
     ]
    }
   ],
   "source": [
    "print(\"Welcome\",end=\" \")\n",
    "print(\"to\",end=\" \")\n",
    "print(\"the\",end=\" \")\n",
    "print(\"World\",end=\" \")"
   ]
  },
  {
   "cell_type": "code",
   "execution_count": 117,
   "id": "1f4fa77c",
   "metadata": {},
   "outputs": [
    {
     "name": "stdout",
     "output_type": "stream",
     "text": [
      "Hello\n",
      "What's your name? Hii,My name is Divya\n",
      ",can i know your good name plzzz!\n"
     ]
    }
   ],
   "source": [
    "print(\"Hello\")\n",
    "print(\"What's your name? \",end=\"Hii,\")\n",
    "print(\"My name is Divya\")\n",
    "print(\",can i know your good name plzzz!\")"
   ]
  },
  {
   "cell_type": "code",
   "execution_count": 119,
   "id": "70785724",
   "metadata": {},
   "outputs": [
    {
     "name": "stdout",
     "output_type": "stream",
     "text": [
      "Hello!\n",
      "What's your name? Hii,My name is Divya ,can i know your good name plzzz!\n"
     ]
    }
   ],
   "source": [
    "print(\"Hello!\")\n",
    "print(\"What's your name? \",end=\"Hii,\")\n",
    "print(\"My name is Divya\",end=\" \")\n",
    "print(\",can i know your good name plzzz!\")"
   ]
  },
  {
   "cell_type": "code",
   "execution_count": null,
   "id": "e3c8163b",
   "metadata": {},
   "outputs": [],
   "source": [
    "# sep-this argument provides a separator between the strings in a print statement!\n",
    "#by default it provides a single space sep=''"
   ]
  },
  {
   "cell_type": "code",
   "execution_count": 123,
   "id": "98fa65b7",
   "metadata": {},
   "outputs": [],
   "source": [
    "v1,v2,v3=1,2,3"
   ]
  },
  {
   "cell_type": "code",
   "execution_count": 124,
   "id": "ab72cabc",
   "metadata": {},
   "outputs": [
    {
     "name": "stdout",
     "output_type": "stream",
     "text": [
      "1 2 3\n"
     ]
    }
   ],
   "source": [
    "print(v1,v2,v3) #by default the print statement provides a single space between two values separated by comma"
   ]
  },
  {
   "cell_type": "code",
   "execution_count": 128,
   "id": "49b63711",
   "metadata": {},
   "outputs": [
    {
     "name": "stdout",
     "output_type": "stream",
     "text": [
      "123\n"
     ]
    }
   ],
   "source": [
    "print(v1,v2,v3,sep=\"\") # this indicates not to provide a space between the arguments "
   ]
  },
  {
   "cell_type": "code",
   "execution_count": 129,
   "id": "5d1f9a93",
   "metadata": {},
   "outputs": [
    {
     "name": "stdout",
     "output_type": "stream",
     "text": [
      "1,2,3\n"
     ]
    }
   ],
   "source": [
    "print(v1,v2,v3,sep=\",\")"
   ]
  },
  {
   "cell_type": "code",
   "execution_count": 130,
   "id": "0f698ea6",
   "metadata": {},
   "outputs": [
    {
     "name": "stdout",
     "output_type": "stream",
     "text": [
      "1:2:3\n"
     ]
    }
   ],
   "source": [
    "print(v1,v2,v3,sep=\":\")"
   ]
  },
  {
   "cell_type": "code",
   "execution_count": 134,
   "id": "a7265cd0",
   "metadata": {},
   "outputs": [
    {
     "name": "stdout",
     "output_type": "stream",
     "text": [
      "1--------------------------3 2\n"
     ]
    }
   ],
   "source": [
    "print(v1,v3,sep=\"--------------------------\",end=\" \")\n",
    "print(v2)"
   ]
  },
  {
   "cell_type": "raw",
   "id": "da504113",
   "metadata": {},
   "source": [
    "new line character \\n "
   ]
  },
  {
   "cell_type": "code",
   "execution_count": 332,
   "id": "1bf02c5b",
   "metadata": {},
   "outputs": [
    {
     "name": "stdout",
     "output_type": "stream",
     "text": [
      "Name:\n",
      "Divya\n",
      "Age:\n",
      "22\n"
     ]
    }
   ],
   "source": [
    "print(\"Name:\\nDivya\\nAge:\\n22\") #\\n is the new line character"
   ]
  },
  {
   "cell_type": "code",
   "execution_count": 339,
   "id": "24ab6eaa",
   "metadata": {},
   "outputs": [
    {
     "name": "stdout",
     "output_type": "stream",
     "text": [
      "\n"
     ]
    }
   ],
   "source": [
    "print(\"\")"
   ]
  },
  {
   "cell_type": "markdown",
   "id": "3eab281f",
   "metadata": {},
   "source": [
    "# Input in Python"
   ]
  },
  {
   "cell_type": "markdown",
   "id": "2dc8c83d",
   "metadata": {},
   "source": [
    "*input() is used to take input from the user.It should be noted that the input() accepts only string data.*"
   ]
  },
  {
   "cell_type": "code",
   "execution_count": 138,
   "id": "94979c7a",
   "metadata": {},
   "outputs": [
    {
     "name": "stdout",
     "output_type": "stream",
     "text": [
      "Enter the number:1234\n",
      "The Number is = 1234 and the class of the num is <class 'str'>\n"
     ]
    }
   ],
   "source": [
    "num=input(\"Enter the number:\") # here the entered num is considered as string \n",
    "print(\"The Number is =\",num,\"and the class of the num is\",type(num))"
   ]
  },
  {
   "cell_type": "code",
   "execution_count": 143,
   "id": "83c6ab31",
   "metadata": {},
   "outputs": [
    {
     "name": "stdout",
     "output_type": "stream",
     "text": [
      "Enter the Username : Divya\n",
      "Enter the Password : divya023\n",
      "Username= Divya Password= divya023\n",
      "class of username and password <class 'str'> <class 'str'>\n"
     ]
    }
   ],
   "source": [
    "Username=input(\"Enter the Username : \")\n",
    "Password=input(\"Enter the Password : \")\n",
    "print(\"Username=\",Username,\"Password=\",Password)\n",
    "print(\"class of username and password\",type(Username),type(Password))"
   ]
  },
  {
   "cell_type": "markdown",
   "id": "c613ab2d",
   "metadata": {},
   "source": [
    "**input with int()**\n",
    ">if the user want to take the numeric data as input then use int()"
   ]
  },
  {
   "cell_type": "code",
   "execution_count": 148,
   "id": "d18f4324",
   "metadata": {},
   "outputs": [
    {
     "name": "stdout",
     "output_type": "stream",
     "text": [
      "Enter your name : Divya\n",
      "Enter your age : 21\n",
      "Enter your contact number : 9731056014\n",
      "Divya:21:9731056014\n"
     ]
    }
   ],
   "source": [
    "Name=input(\"Enter your name : \")\n",
    "Age=int(input(\"Enter your age : \")) \n",
    "Phone_num=int(input(\"Enter your contact number : \"))\n",
    "print(Name,Age,Phone_num,sep=\":\")"
   ]
  },
  {
   "cell_type": "code",
   "execution_count": 149,
   "id": "f9bb896b",
   "metadata": {},
   "outputs": [
    {
     "data": {
      "text/plain": [
       "(str, int, int)"
      ]
     },
     "execution_count": 149,
     "metadata": {},
     "output_type": "execute_result"
    }
   ],
   "source": [
    "type(Name),type(Age),type(Phone_num)"
   ]
  },
  {
   "cell_type": "markdown",
   "id": "95a3e7aa",
   "metadata": {},
   "source": [
    "**input wit float**()\n",
    ">if the user want to take the float value as input then use float()"
   ]
  },
  {
   "cell_type": "code",
   "execution_count": 150,
   "id": "17752362",
   "metadata": {},
   "outputs": [
    {
     "name": "stdout",
     "output_type": "stream",
     "text": [
      "Enter your salary100850.00\n",
      "Salary= 100850.0\n"
     ]
    }
   ],
   "source": [
    "salary=float(input(\"Enter your salary\"))\n",
    "print(\"Salary=\",salary)"
   ]
  },
  {
   "cell_type": "code",
   "execution_count": 151,
   "id": "9db14a6a",
   "metadata": {},
   "outputs": [
    {
     "data": {
      "text/plain": [
       "float"
      ]
     },
     "execution_count": 151,
     "metadata": {},
     "output_type": "execute_result"
    }
   ],
   "source": [
    "type(salary)"
   ]
  },
  {
   "cell_type": "code",
   "execution_count": 156,
   "id": "74d021ae",
   "metadata": {},
   "outputs": [
    {
     "name": "stdout",
     "output_type": "stream",
     "text": [
      "Enter the value of a : 20\n",
      "Enter the value of b : 10\n",
      "c= 2.0\n"
     ]
    }
   ],
   "source": [
    "a=int(input(\"Enter the value of a : \"))\n",
    "b=float(input(\"Enter the value of b : \"))\n",
    "c=a/b\n",
    "print(\"c=\",c)"
   ]
  },
  {
   "cell_type": "code",
   "execution_count": 158,
   "id": "d95c24ae",
   "metadata": {},
   "outputs": [
    {
     "data": {
      "text/plain": [
       "(int, float, float)"
      ]
     },
     "execution_count": 158,
     "metadata": {},
     "output_type": "execute_result"
    }
   ],
   "source": [
    "type(a),type(b),type(c)"
   ]
  },
  {
   "cell_type": "markdown",
   "id": "62f9edb5",
   "metadata": {},
   "source": [
    "**input with eval()**\n",
    "> eval() considers the datatype according to the nature of the input provided "
   ]
  },
  {
   "cell_type": "code",
   "execution_count": 160,
   "id": "c1e774d7",
   "metadata": {},
   "outputs": [
    {
     "name": "stdout",
     "output_type": "stream",
     "text": [
      "Student Name : \"Divya\"\n",
      "Age : 21\n",
      "Gender : 'F'\n",
      "Enter your height in centimeters : 132.3\n",
      "Student Name :  Divya\n",
      "Student Age :  21\n",
      "Student Gender :  F\n",
      "Student Height :  132.3\n"
     ]
    }
   ],
   "source": [
    "Student_Name=eval(input(\"Student Name : \"))\n",
    "Student_Age=eval(input(\"Age : \"))\n",
    "Student_Gender=eval(input(\"Gender : \"))\n",
    "Student_Height=eval(input(\"Enter your height in centimeters : \"))\n",
    "print(\"Student Name : \",Student_Name)\n",
    "print(\"Student Age : \",Student_Age)\n",
    "print(\"Student Gender : \",Student_Gender)\n",
    "print(\"Student Height : \",Student_Height)"
   ]
  },
  {
   "cell_type": "code",
   "execution_count": 161,
   "id": "ec7c0efc",
   "metadata": {},
   "outputs": [
    {
     "name": "stdout",
     "output_type": "stream",
     "text": [
      "Student Name : Divya\n"
     ]
    },
    {
     "ename": "NameError",
     "evalue": "name 'Divya' is not defined",
     "output_type": "error",
     "traceback": [
      "\u001b[1;31m---------------------------------------------------------------------------\u001b[0m",
      "\u001b[1;31mNameError\u001b[0m                                 Traceback (most recent call last)",
      "\u001b[1;32mC:\\Users\\DIVYAJ~1\\AppData\\Local\\Temp/ipykernel_277276/2080892896.py\u001b[0m in \u001b[0;36m<module>\u001b[1;34m\u001b[0m\n\u001b[1;32m----> 1\u001b[1;33m \u001b[0mStudent_Name\u001b[0m\u001b[1;33m=\u001b[0m\u001b[0meval\u001b[0m\u001b[1;33m(\u001b[0m\u001b[0minput\u001b[0m\u001b[1;33m(\u001b[0m\u001b[1;34m\"Student Name : \"\u001b[0m\u001b[1;33m)\u001b[0m\u001b[1;33m)\u001b[0m \u001b[1;31m# it takes string as input only if it is mentioned within quotes,otherwise leadsto error!\u001b[0m\u001b[1;33m\u001b[0m\u001b[1;33m\u001b[0m\u001b[0m\n\u001b[0m\u001b[0;32m      2\u001b[0m \u001b[0mStudent_Age\u001b[0m\u001b[1;33m=\u001b[0m\u001b[0meval\u001b[0m\u001b[1;33m(\u001b[0m\u001b[0minput\u001b[0m\u001b[1;33m(\u001b[0m\u001b[1;34m\"Age : \"\u001b[0m\u001b[1;33m)\u001b[0m\u001b[1;33m)\u001b[0m\u001b[1;33m\u001b[0m\u001b[1;33m\u001b[0m\u001b[0m\n\u001b[0;32m      3\u001b[0m \u001b[0mStudent_Gender\u001b[0m\u001b[1;33m=\u001b[0m\u001b[0meval\u001b[0m\u001b[1;33m(\u001b[0m\u001b[0minput\u001b[0m\u001b[1;33m(\u001b[0m\u001b[1;34m\"Gender : \"\u001b[0m\u001b[1;33m)\u001b[0m\u001b[1;33m)\u001b[0m\u001b[1;33m\u001b[0m\u001b[1;33m\u001b[0m\u001b[0m\n\u001b[0;32m      4\u001b[0m \u001b[0mStudent_Height\u001b[0m\u001b[1;33m=\u001b[0m\u001b[0meval\u001b[0m\u001b[1;33m(\u001b[0m\u001b[0minput\u001b[0m\u001b[1;33m(\u001b[0m\u001b[1;34m\"Enter your height in centimeters : \"\u001b[0m\u001b[1;33m)\u001b[0m\u001b[1;33m)\u001b[0m\u001b[1;33m\u001b[0m\u001b[1;33m\u001b[0m\u001b[0m\n",
      "\u001b[1;32m<string>\u001b[0m in \u001b[0;36m<module>\u001b[1;34m\u001b[0m\n",
      "\u001b[1;31mNameError\u001b[0m: name 'Divya' is not defined"
     ]
    }
   ],
   "source": [
    "Student_Name=eval(input(\"Student Name : \")) # it takes string as input only if it is mentioned within quotes,otherwise leads to error!\n",
    "Student_Age=eval(input(\"Age : \"))\n",
    "Student_Gender=eval(input(\"Gender : \"))\n",
    "Student_Height=eval(input(\"Enter your height in centimeters : \"))"
   ]
  },
  {
   "cell_type": "code",
   "execution_count": 162,
   "id": "1fa9890f",
   "metadata": {},
   "outputs": [
    {
     "data": {
      "text/plain": [
       "(str, int, float, str)"
      ]
     },
     "execution_count": 162,
     "metadata": {},
     "output_type": "execute_result"
    }
   ],
   "source": [
    "type(Student_Name),type(Student_Age),type(Student_Height),type(Student_Gender)"
   ]
  },
  {
   "cell_type": "markdown",
   "id": "19544b5c",
   "metadata": {},
   "source": [
    "**Taking multiple values as input() using input and split()**"
   ]
  },
  {
   "cell_type": "code",
   "execution_count": 308,
   "id": "fa720a06",
   "metadata": {},
   "outputs": [
    {
     "name": "stdout",
     "output_type": "stream",
     "text": [
      "Enter three values 10 20 30\n"
     ]
    }
   ],
   "source": [
    "a,b,c=input(\"Enter three values \").split()"
   ]
  },
  {
   "cell_type": "code",
   "execution_count": 313,
   "id": "ea3cc504",
   "metadata": {},
   "outputs": [
    {
     "data": {
      "text/plain": [
       "('10', '20', '30', str, str, str)"
      ]
     },
     "execution_count": 313,
     "metadata": {},
     "output_type": "execute_result"
    }
   ],
   "source": [
    "a,b,c,type(a),type(b),type(c)"
   ]
  },
  {
   "cell_type": "code",
   "execution_count": 316,
   "id": "2de5755d",
   "metadata": {},
   "outputs": [
    {
     "data": {
      "text/plain": [
       "'102030'"
      ]
     },
     "execution_count": 316,
     "metadata": {},
     "output_type": "execute_result"
    }
   ],
   "source": [
    "a+b+c #concatination is done here "
   ]
  },
  {
   "cell_type": "code",
   "execution_count": 318,
   "id": "8a360e55",
   "metadata": {},
   "outputs": [
    {
     "ename": "TypeError",
     "evalue": "unsupported operand type(s) for -: 'str' and 'str'",
     "output_type": "error",
     "traceback": [
      "\u001b[1;31m---------------------------------------------------------------------------\u001b[0m",
      "\u001b[1;31mTypeError\u001b[0m                                 Traceback (most recent call last)",
      "\u001b[1;32mC:\\Users\\DIVYAJ~1\\AppData\\Local\\Temp/ipykernel_277276/2008301748.py\u001b[0m in \u001b[0;36m<module>\u001b[1;34m\u001b[0m\n\u001b[0;32m      1\u001b[0m \u001b[1;31m# if we try to perform operations on a and b it leads to error because the input is take as strings\u001b[0m\u001b[1;33m\u001b[0m\u001b[1;33m\u001b[0m\u001b[0m\n\u001b[1;32m----> 2\u001b[1;33m \u001b[0ma\u001b[0m\u001b[1;33m-\u001b[0m\u001b[0mb\u001b[0m\u001b[1;33m-\u001b[0m\u001b[0mc\u001b[0m\u001b[1;33m,\u001b[0m\u001b[0ma\u001b[0m\u001b[1;33m*\u001b[0m\u001b[0mb\u001b[0m\u001b[1;33m\u001b[0m\u001b[1;33m\u001b[0m\u001b[0m\n\u001b[0m",
      "\u001b[1;31mTypeError\u001b[0m: unsupported operand type(s) for -: 'str' and 'str'"
     ]
    }
   ],
   "source": [
    "# if we try to perform mathematical operations like *.-,/ on a,b and c values it leads to error because the input is take as strings\n",
    "a-b-c,a*b"
   ]
  },
  {
   "cell_type": "raw",
   "id": "518156a9",
   "metadata": {},
   "source": [
    "int(),float(),eval() cannot be used to take multiple inputs "
   ]
  },
  {
   "cell_type": "code",
   "execution_count": 319,
   "id": "205a6ca8",
   "metadata": {},
   "outputs": [
    {
     "name": "stdout",
     "output_type": "stream",
     "text": [
      "Enter three values 1 2 3\n"
     ]
    },
    {
     "ename": "TypeError",
     "evalue": "int() argument must be a string, a bytes-like object or a number, not 'list'",
     "output_type": "error",
     "traceback": [
      "\u001b[1;31m---------------------------------------------------------------------------\u001b[0m",
      "\u001b[1;31mTypeError\u001b[0m                                 Traceback (most recent call last)",
      "\u001b[1;32mC:\\Users\\DIVYAJ~1\\AppData\\Local\\Temp/ipykernel_277276/862890136.py\u001b[0m in \u001b[0;36m<module>\u001b[1;34m\u001b[0m\n\u001b[1;32m----> 1\u001b[1;33m \u001b[0ma\u001b[0m\u001b[1;33m,\u001b[0m\u001b[0mb\u001b[0m\u001b[1;33m,\u001b[0m\u001b[0mc\u001b[0m\u001b[1;33m=\u001b[0m\u001b[0mint\u001b[0m\u001b[1;33m(\u001b[0m\u001b[0minput\u001b[0m\u001b[1;33m(\u001b[0m\u001b[1;34m\"Enter three values \"\u001b[0m\u001b[1;33m)\u001b[0m\u001b[1;33m.\u001b[0m\u001b[0msplit\u001b[0m\u001b[1;33m(\u001b[0m\u001b[1;33m)\u001b[0m\u001b[1;33m)\u001b[0m\u001b[1;33m\u001b[0m\u001b[1;33m\u001b[0m\u001b[0m\n\u001b[0m",
      "\u001b[1;31mTypeError\u001b[0m: int() argument must be a string, a bytes-like object or a number, not 'list'"
     ]
    }
   ],
   "source": [
    "a,b,c=int(input(\"Enter three values \").split()) "
   ]
  },
  {
   "cell_type": "code",
   "execution_count": 311,
   "id": "c8d55b73",
   "metadata": {},
   "outputs": [
    {
     "name": "stdout",
     "output_type": "stream",
     "text": [
      "Enter three values 10 20 30\n"
     ]
    },
    {
     "ename": "TypeError",
     "evalue": "eval() arg 1 must be a string, bytes or code object",
     "output_type": "error",
     "traceback": [
      "\u001b[1;31m---------------------------------------------------------------------------\u001b[0m",
      "\u001b[1;31mTypeError\u001b[0m                                 Traceback (most recent call last)",
      "\u001b[1;32mC:\\Users\\DIVYAJ~1\\AppData\\Local\\Temp/ipykernel_277276/516434128.py\u001b[0m in \u001b[0;36m<module>\u001b[1;34m\u001b[0m\n\u001b[1;32m----> 1\u001b[1;33m \u001b[0ma\u001b[0m\u001b[1;33m,\u001b[0m\u001b[0mb\u001b[0m\u001b[1;33m,\u001b[0m\u001b[0mc\u001b[0m\u001b[1;33m=\u001b[0m\u001b[0meval\u001b[0m\u001b[1;33m(\u001b[0m\u001b[0minput\u001b[0m\u001b[1;33m(\u001b[0m\u001b[1;34m\"Enter three values \"\u001b[0m\u001b[1;33m)\u001b[0m\u001b[1;33m.\u001b[0m\u001b[0msplit\u001b[0m\u001b[1;33m(\u001b[0m\u001b[1;33m)\u001b[0m\u001b[1;33m)\u001b[0m\u001b[1;33m\u001b[0m\u001b[1;33m\u001b[0m\u001b[0m\n\u001b[0m",
      "\u001b[1;31mTypeError\u001b[0m: eval() arg 1 must be a string, bytes or code object"
     ]
    }
   ],
   "source": [
    "a,b,c=eval(input(\"Enter three values \").split())"
   ]
  },
  {
   "cell_type": "raw",
   "id": "eaa54869",
   "metadata": {},
   "source": [
    "Usage of format() in print statement"
   ]
  },
  {
   "cell_type": "code",
   "execution_count": 6,
   "id": "86a5d702",
   "metadata": {},
   "outputs": [
    {
     "name": "stdout",
     "output_type": "stream",
     "text": [
      "Enter two values: 12 45\n",
      "First number is 12 and second number is 45\n",
      "\n"
     ]
    }
   ],
   "source": [
    "a, b = input(\"Enter two values: \").split()\n",
    "print(\"First number is {} and second number is {}\".format(a, b))\n",
    "print()"
   ]
  },
  {
   "cell_type": "code",
   "execution_count": 322,
   "id": "5006dacd",
   "metadata": {},
   "outputs": [
    {
     "name": "stdout",
     "output_type": "stream",
     "text": [
      "Enter two values: 1 2\n",
      "First Number is:  1\n",
      "Second Number is:  2\n",
      "\n"
     ]
    },
    {
     "data": {
      "text/plain": [
       "(None, int, int)"
      ]
     },
     "execution_count": 322,
     "metadata": {},
     "output_type": "execute_result"
    }
   ],
   "source": [
    "x, y = [int(x) for x in input(\"Enter two values: \").split()]\n",
    "print(\"First Number is: \", x)\n",
    "print(\"Second Number is: \", y)\n",
    "print(),type(x),type(y)"
   ]
  },
  {
   "cell_type": "code",
   "execution_count": 323,
   "id": "f8c74c67",
   "metadata": {},
   "outputs": [
    {
     "name": "stdout",
     "output_type": "stream",
     "text": [
      "Enter two values : 23 45\n",
      "p value =  23\n",
      "q value =  23\n",
      "\n"
     ]
    },
    {
     "data": {
      "text/plain": [
       "(None, int, int)"
      ]
     },
     "execution_count": 323,
     "metadata": {},
     "output_type": "execute_result"
    }
   ],
   "source": [
    "p,q=[int(p) for p in input(\"Enter two values : \").split()]\n",
    "print(\"p value = \",p)\n",
    "print(\"q value = \",p)\n",
    "print(),type(p),type(q)"
   ]
  },
  {
   "cell_type": "code",
   "execution_count": 327,
   "id": "ec06b3d9",
   "metadata": {},
   "outputs": [
    {
     "name": "stdout",
     "output_type": "stream",
     "text": [
      "Enter list of values to store in x = 1 100 10000 34 89.99 67.3 7689 0.56\n",
      "[1.0, 100.0, 10000.0, 34.0, 89.99, 67.3, 7689.0, 0.56]\n"
     ]
    },
    {
     "data": {
      "text/plain": [
       "(None, list)"
      ]
     },
     "execution_count": 327,
     "metadata": {},
     "output_type": "execute_result"
    }
   ],
   "source": [
    "x=[float(x) for x in input(\"Enter list of values to store in x = \").split()]\n",
    "print(x),type(x)"
   ]
  },
  {
   "cell_type": "code",
   "execution_count": 329,
   "id": "8d852776",
   "metadata": {},
   "outputs": [
    {
     "name": "stdout",
     "output_type": "stream",
     "text": [
      "Enter list of values to store in x12 78.5 'Divu' 1+2\n",
      "[12, 78.5, 'Divu', 3]\n"
     ]
    },
    {
     "data": {
      "text/plain": [
       "(None, list)"
      ]
     },
     "execution_count": 329,
     "metadata": {},
     "output_type": "execute_result"
    }
   ],
   "source": [
    "x=[eval(x) for x in input(\"Enter list of values to store in x\").split()]\n",
    "print(x),type(x)"
   ]
  },
  {
   "cell_type": "markdown",
   "id": "33c6aa62",
   "metadata": {},
   "source": [
    "# Operators"
   ]
  },
  {
   "cell_type": "markdown",
   "id": "7d5e2bc7",
   "metadata": {},
   "source": [
    "> *Operators are used to perform some mathematical or logical operations!*"
   ]
  },
  {
   "cell_type": "markdown",
   "id": "5952731d",
   "metadata": {},
   "source": [
    "### Python language supports the following types of operators.\n",
    "<ul>\n",
    "<li>Arithmetic Operators</li>\n",
    "<li>Comparison (Relational) Operators</li>\n",
    "<li>Assignment Operators</li>\n",
    "<li>Logical Operators</li>\n",
    "<li>Bitwise Operators</li>\n",
    "<li>Membership Operators</li>\n",
    "<li>Identity Operators</li>\n",
    "<ul>"
   ]
  },
  {
   "cell_type": "markdown",
   "id": "f87a29ad",
   "metadata": {},
   "source": [
    "###### Arithmentic Operators\n",
    "> These operators are used to perform arithmetic operations like addition,subtraction,multiplication,division,etc.\n",
    ">> It includes +,-,* ,/(quotient),** (for exponent), %(modulus-gives remainder), //(floor division-it neglects the decimal point values)"
   ]
  },
  {
   "cell_type": "code",
   "execution_count": 163,
   "id": "d36016a3",
   "metadata": {},
   "outputs": [],
   "source": [
    "a,b,c=10,20,30"
   ]
  },
  {
   "cell_type": "code",
   "execution_count": 164,
   "id": "d196842b",
   "metadata": {},
   "outputs": [
    {
     "data": {
      "text/plain": [
       "60"
      ]
     },
     "execution_count": 164,
     "metadata": {},
     "output_type": "execute_result"
    }
   ],
   "source": [
    "# addition\n",
    "a+b+c"
   ]
  },
  {
   "cell_type": "code",
   "execution_count": 167,
   "id": "70d3e61d",
   "metadata": {},
   "outputs": [
    {
     "data": {
      "text/plain": [
       "-40"
      ]
     },
     "execution_count": 167,
     "metadata": {},
     "output_type": "execute_result"
    }
   ],
   "source": [
    "#subtraction\n",
    "a-b-c"
   ]
  },
  {
   "cell_type": "code",
   "execution_count": 168,
   "id": "74836d55",
   "metadata": {},
   "outputs": [
    {
     "data": {
      "text/plain": [
       "6000"
      ]
     },
     "execution_count": 168,
     "metadata": {},
     "output_type": "execute_result"
    }
   ],
   "source": [
    "#multiplication\n",
    "a*b*c"
   ]
  },
  {
   "cell_type": "code",
   "execution_count": 172,
   "id": "f96b07b8",
   "metadata": {},
   "outputs": [
    {
     "data": {
      "text/plain": [
       "(0.016666666666666666, 5.0, 10.0, 15.0)"
      ]
     },
     "execution_count": 172,
     "metadata": {},
     "output_type": "execute_result"
    }
   ],
   "source": [
    "#Division >>>quotient value\n",
    "a/b/c,a/2,b/2,c/2"
   ]
  },
  {
   "cell_type": "code",
   "execution_count": 174,
   "id": "ab70c02c",
   "metadata": {},
   "outputs": [
    {
     "data": {
      "text/plain": [
       "(0, 5, 10, 15)"
      ]
     },
     "execution_count": 174,
     "metadata": {},
     "output_type": "execute_result"
    }
   ],
   "source": [
    "#Floor division >>>truncates the decimal values\n",
    "a//b//c,a//2,b//2,c//2"
   ]
  },
  {
   "cell_type": "code",
   "execution_count": 177,
   "id": "ec7b38e8",
   "metadata": {},
   "outputs": [
    {
     "data": {
      "text/plain": [
       "(10, 0, 0, 0, 2, 2, 2)"
      ]
     },
     "execution_count": 177,
     "metadata": {},
     "output_type": "execute_result"
    }
   ],
   "source": [
    "#Modulus >>>provides remainder\n",
    "a%b%c,a%2,b%2,c%2,2%a,2%b,2%c"
   ]
  },
  {
   "cell_type": "code",
   "execution_count": 188,
   "id": "03100c78",
   "metadata": {},
   "outputs": [
    {
     "data": {
      "text/plain": [
       "((4, 9, 16), (8, 27, 64))"
      ]
     },
     "execution_count": 188,
     "metadata": {},
     "output_type": "execute_result"
    }
   ],
   "source": [
    "#Exponent\n",
    "squares=2**2,3**2,4**2\n",
    "cubes=2**3,3**3,4**3\n",
    "squares,cubes"
   ]
  },
  {
   "cell_type": "code",
   "execution_count": 189,
   "id": "e7484c11",
   "metadata": {},
   "outputs": [
    {
     "data": {
      "text/plain": [
       "(tuple, tuple)"
      ]
     },
     "execution_count": 189,
     "metadata": {},
     "output_type": "execute_result"
    }
   ],
   "source": [
    "type(squares),type(cubes)"
   ]
  },
  {
   "cell_type": "markdown",
   "id": "9b075906",
   "metadata": {},
   "source": [
    "###### Comparison/Relational Operators\n",
    "> These operators compare the values and  finds the relationship between them.\n",
    ">These operators returns a boolean value .\n",
    ">> It includes >,<,>=,<=,==,{!= (or) <>}"
   ]
  },
  {
   "cell_type": "code",
   "execution_count": 191,
   "id": "daad1f6e",
   "metadata": {},
   "outputs": [
    {
     "ename": "SyntaxError",
     "evalue": "cannot assign to literal (Temp/ipykernel_277276/2602069138.py, line 1)",
     "output_type": "error",
     "traceback": [
      "\u001b[1;36m  File \u001b[1;32m\"C:\\Users\\DIVYAJ~1\\AppData\\Local\\Temp/ipykernel_277276/2602069138.py\"\u001b[1;36m, line \u001b[1;32m1\u001b[0m\n\u001b[1;33m    a=20,b=30,c=45\u001b[0m\n\u001b[1;37m      ^\u001b[0m\n\u001b[1;31mSyntaxError\u001b[0m\u001b[1;31m:\u001b[0m cannot assign to literal\n"
     ]
    }
   ],
   "source": [
    "a=20,b=30,c=45\n",
    "a,b,c"
   ]
  },
  {
   "cell_type": "code",
   "execution_count": 192,
   "id": "db18603d",
   "metadata": {},
   "outputs": [
    {
     "data": {
      "text/plain": [
       "(10, 20, 30)"
      ]
     },
     "execution_count": 192,
     "metadata": {},
     "output_type": "execute_result"
    }
   ],
   "source": [
    "a,b,c=10,20,30\n",
    "a,b,c"
   ]
  },
  {
   "cell_type": "code",
   "execution_count": 194,
   "id": "45f84f77",
   "metadata": {},
   "outputs": [
    {
     "data": {
      "text/plain": [
       "(False, False)"
      ]
     },
     "execution_count": 194,
     "metadata": {},
     "output_type": "execute_result"
    }
   ],
   "source": [
    "#greater than\n",
    "a>b,10>20"
   ]
  },
  {
   "cell_type": "code",
   "execution_count": 196,
   "id": "d735b22b",
   "metadata": {},
   "outputs": [
    {
     "data": {
      "text/plain": [
       "(True, True)"
      ]
     },
     "execution_count": 196,
     "metadata": {},
     "output_type": "execute_result"
    }
   ],
   "source": [
    "#lesser than\n",
    "a<b,10<20"
   ]
  },
  {
   "cell_type": "code",
   "execution_count": 197,
   "id": "d94d9908",
   "metadata": {},
   "outputs": [
    {
     "data": {
      "text/plain": [
       "(False, False)"
      ]
     },
     "execution_count": 197,
     "metadata": {},
     "output_type": "execute_result"
    }
   ],
   "source": [
    "#greater than or equal to\n",
    "a>=b,10>=20"
   ]
  },
  {
   "cell_type": "code",
   "execution_count": 198,
   "id": "c462a8e6",
   "metadata": {},
   "outputs": [
    {
     "data": {
      "text/plain": [
       "(True, True)"
      ]
     },
     "execution_count": 198,
     "metadata": {},
     "output_type": "execute_result"
    }
   ],
   "source": [
    "#Lesser than or equal to\n",
    "a<=b,10<=20"
   ]
  },
  {
   "cell_type": "code",
   "execution_count": 200,
   "id": "9449fbc0",
   "metadata": {},
   "outputs": [
    {
     "data": {
      "text/plain": [
       "(False, False, True)"
      ]
     },
     "execution_count": 200,
     "metadata": {},
     "output_type": "execute_result"
    }
   ],
   "source": [
    "#equal to\n",
    "a==b,10==20,a==10"
   ]
  },
  {
   "cell_type": "code",
   "execution_count": 204,
   "id": "8a5cba26",
   "metadata": {},
   "outputs": [
    {
     "data": {
      "text/plain": [
       "(True, True)"
      ]
     },
     "execution_count": 204,
     "metadata": {},
     "output_type": "execute_result"
    }
   ],
   "source": [
    "#not equal to\n",
    "a!=b,10!=20"
   ]
  },
  {
   "cell_type": "code",
   "execution_count": 205,
   "id": "83e878eb",
   "metadata": {},
   "outputs": [
    {
     "ename": "SyntaxError",
     "evalue": "invalid syntax (Temp/ipykernel_277276/818172447.py, line 1)",
     "output_type": "error",
     "traceback": [
      "\u001b[1;36m  File \u001b[1;32m\"C:\\Users\\DIVYAJ~1\\AppData\\Local\\Temp/ipykernel_277276/818172447.py\"\u001b[1;36m, line \u001b[1;32m1\u001b[0m\n\u001b[1;33m    a<>b\u001b[0m\n\u001b[1;37m     ^\u001b[0m\n\u001b[1;31mSyntaxError\u001b[0m\u001b[1;31m:\u001b[0m invalid syntax\n"
     ]
    }
   ],
   "source": [
    "a<>b # this is valid in online compiler! try in other python environment "
   ]
  },
  {
   "cell_type": "code",
   "execution_count": 213,
   "id": "a666641c",
   "metadata": {},
   "outputs": [
    {
     "name": "stdout",
     "output_type": "stream",
     "text": [
      "a is not equal to b\n"
     ]
    }
   ],
   "source": [
    "if ( a == b ) :\n",
    "   print(\"a is equal to b\")\n",
    "else:\n",
    "   print(\"a is not equal to b\")"
   ]
  },
  {
   "cell_type": "markdown",
   "id": "81a702a1",
   "metadata": {},
   "source": [
    "###### Assignment Operators\n",
    "> These operators are used to assign values to the variables \n",
    ">> It includes =, +=, -=, *=, /=, **=, //=, %="
   ]
  },
  {
   "cell_type": "code",
   "execution_count": 242,
   "id": "77ba04a0",
   "metadata": {},
   "outputs": [
    {
     "data": {
      "text/plain": [
       "(1, 2)"
      ]
     },
     "execution_count": 242,
     "metadata": {},
     "output_type": "execute_result"
    }
   ],
   "source": [
    "a,b=1,2\n",
    "a,b"
   ]
  },
  {
   "cell_type": "code",
   "execution_count": 243,
   "id": "3021e568",
   "metadata": {},
   "outputs": [
    {
     "data": {
      "text/plain": [
       "(2, 2)"
      ]
     },
     "execution_count": 243,
     "metadata": {},
     "output_type": "execute_result"
    }
   ],
   "source": [
    "a=b # value of b is assigned to a\n",
    "a,b"
   ]
  },
  {
   "cell_type": "code",
   "execution_count": 244,
   "id": "f1863bbb",
   "metadata": {},
   "outputs": [
    {
     "data": {
      "text/plain": [
       "(4, 2)"
      ]
     },
     "execution_count": 244,
     "metadata": {},
     "output_type": "execute_result"
    }
   ],
   "source": [
    "a+=b # a=a+b\n",
    "a,b"
   ]
  },
  {
   "cell_type": "code",
   "execution_count": 245,
   "id": "30467cf6",
   "metadata": {},
   "outputs": [
    {
     "data": {
      "text/plain": [
       "(2, 2)"
      ]
     },
     "execution_count": 245,
     "metadata": {},
     "output_type": "execute_result"
    }
   ],
   "source": [
    "a-=b  #a=a-b\n",
    "a,b"
   ]
  },
  {
   "cell_type": "code",
   "execution_count": 246,
   "id": "7b07e322",
   "metadata": {},
   "outputs": [
    {
     "data": {
      "text/plain": [
       "(4, 2)"
      ]
     },
     "execution_count": 246,
     "metadata": {},
     "output_type": "execute_result"
    }
   ],
   "source": [
    "a*=b # a=a*b\n",
    "a,b"
   ]
  },
  {
   "cell_type": "code",
   "execution_count": 247,
   "id": "17a01f0d",
   "metadata": {},
   "outputs": [
    {
     "data": {
      "text/plain": [
       "(2.0, 2)"
      ]
     },
     "execution_count": 247,
     "metadata": {},
     "output_type": "execute_result"
    }
   ],
   "source": [
    "a/=b #a=a/b\n",
    "a,b"
   ]
  },
  {
   "cell_type": "code",
   "execution_count": 248,
   "id": "7ea53317",
   "metadata": {},
   "outputs": [
    {
     "data": {
      "text/plain": [
       "(1.0, 2)"
      ]
     },
     "execution_count": 248,
     "metadata": {},
     "output_type": "execute_result"
    }
   ],
   "source": [
    "a//=b #a=a//b\n",
    "a,b"
   ]
  },
  {
   "cell_type": "code",
   "execution_count": 249,
   "id": "a6569062",
   "metadata": {},
   "outputs": [
    {
     "data": {
      "text/plain": [
       "(1.0, 2)"
      ]
     },
     "execution_count": 249,
     "metadata": {},
     "output_type": "execute_result"
    }
   ],
   "source": [
    "a**=b #a=a**b\n",
    "a,b"
   ]
  },
  {
   "cell_type": "code",
   "execution_count": 250,
   "id": "caf36cf5",
   "metadata": {},
   "outputs": [
    {
     "data": {
      "text/plain": [
       "(1.0, 2)"
      ]
     },
     "execution_count": 250,
     "metadata": {},
     "output_type": "execute_result"
    }
   ],
   "source": [
    "a%=b  #a=a%b\n",
    "a,b"
   ]
  },
  {
   "cell_type": "markdown",
   "id": "fd79300d",
   "metadata": {},
   "source": [
    "##### Bitwise  Operators\n",
    "> These operators perform operations on each bit\n",
    ">> it inclued &(bitwise and),|(bitwise or),^(bitwise xor),>>(bitwise right shift),<<(bitwise left shift),~(1's compliment)"
   ]
  },
  {
   "cell_type": "code",
   "execution_count": 259,
   "id": "2fd42de6",
   "metadata": {},
   "outputs": [
    {
     "data": {
      "text/plain": [
       "(4, 8)"
      ]
     },
     "execution_count": 259,
     "metadata": {},
     "output_type": "execute_result"
    }
   ],
   "source": [
    "a,b=4,8\n",
    "a,b"
   ]
  },
  {
   "cell_type": "code",
   "execution_count": 260,
   "id": "aea354ad",
   "metadata": {},
   "outputs": [
    {
     "data": {
      "text/plain": [
       "0"
      ]
     },
     "execution_count": 260,
     "metadata": {},
     "output_type": "execute_result"
    }
   ],
   "source": [
    "c=a&b\n",
    "c"
   ]
  },
  {
   "cell_type": "code",
   "execution_count": 261,
   "id": "8ba454cd",
   "metadata": {},
   "outputs": [
    {
     "data": {
      "text/plain": [
       "12"
      ]
     },
     "execution_count": 261,
     "metadata": {},
     "output_type": "execute_result"
    }
   ],
   "source": [
    "c=a|b\n",
    "c"
   ]
  },
  {
   "cell_type": "code",
   "execution_count": 262,
   "id": "a4fd8088",
   "metadata": {},
   "outputs": [
    {
     "data": {
      "text/plain": [
       "12"
      ]
     },
     "execution_count": 262,
     "metadata": {},
     "output_type": "execute_result"
    }
   ],
   "source": [
    "c=a^b\n",
    "c"
   ]
  },
  {
   "cell_type": "code",
   "execution_count": 265,
   "id": "8249224a",
   "metadata": {},
   "outputs": [
    {
     "data": {
      "text/plain": [
       "(6, 6)"
      ]
     },
     "execution_count": 265,
     "metadata": {},
     "output_type": "execute_result"
    }
   ],
   "source": [
    "4^2,4|2"
   ]
  },
  {
   "cell_type": "code",
   "execution_count": 266,
   "id": "6cd3bf2e",
   "metadata": {},
   "outputs": [
    {
     "data": {
      "text/plain": [
       "1024"
      ]
     },
     "execution_count": 266,
     "metadata": {},
     "output_type": "execute_result"
    }
   ],
   "source": [
    "c=a<<b\n",
    "c"
   ]
  },
  {
   "cell_type": "code",
   "execution_count": 276,
   "id": "c74ef4fb",
   "metadata": {},
   "outputs": [
    {
     "data": {
      "text/plain": [
       "0"
      ]
     },
     "execution_count": 276,
     "metadata": {},
     "output_type": "execute_result"
    }
   ],
   "source": [
    "c=a>>b\n",
    "c"
   ]
  },
  {
   "cell_type": "code",
   "execution_count": 281,
   "id": "d53525f1",
   "metadata": {},
   "outputs": [
    {
     "data": {
      "text/plain": [
       "-5"
      ]
     },
     "execution_count": 281,
     "metadata": {},
     "output_type": "execute_result"
    }
   ],
   "source": [
    "a=4 # complement of a is generally represented as -(n+1) ,hence -(a+1)=-(4+1)=-5\n",
    "~a"
   ]
  },
  {
   "cell_type": "raw",
   "id": "aa13ff2a",
   "metadata": {},
   "source": [
    "> to find 1's complement for a=4\n",
    "0 1 0 0\n",
    "1 0 1 1 -> 1's compliment\n",
    "-------------------------------\n",
    "1 0 1 1\n",
    "      1\n",
    "-----------------------      \n",
    " 1 1 0 0 -> 2's compliment"
   ]
  },
  {
   "cell_type": "code",
   "execution_count": 282,
   "id": "6343e27e",
   "metadata": {},
   "outputs": [
    {
     "data": {
      "text/plain": [
       "-6"
      ]
     },
     "execution_count": 282,
     "metadata": {},
     "output_type": "execute_result"
    }
   ],
   "source": [
    "a=5\n",
    "~a"
   ]
  },
  {
   "cell_type": "markdown",
   "id": "d9702a0b",
   "metadata": {},
   "source": [
    "##### Logical operators\n",
    "> These operators are used to perform logical operations and return a boolean value\n",
    ">> it includes logical AND (and),logical OR (or) and logical NOT (not)"
   ]
  },
  {
   "cell_type": "code",
   "execution_count": 283,
   "id": "2de87e98",
   "metadata": {},
   "outputs": [
    {
     "data": {
      "text/plain": [
       "(10, 20)"
      ]
     },
     "execution_count": 283,
     "metadata": {},
     "output_type": "execute_result"
    }
   ],
   "source": [
    "a=10\n",
    "b=20\n",
    "a,b"
   ]
  },
  {
   "cell_type": "code",
   "execution_count": 285,
   "id": "d2457000",
   "metadata": {},
   "outputs": [
    {
     "data": {
      "text/plain": [
       "(False, True)"
      ]
     },
     "execution_count": 285,
     "metadata": {},
     "output_type": "execute_result"
    }
   ],
   "source": [
    "# Logical AND\n",
    "a>b and a<b,a<b and b>a"
   ]
  },
  {
   "cell_type": "code",
   "execution_count": 286,
   "id": "cb5ddabb",
   "metadata": {},
   "outputs": [
    {
     "data": {
      "text/plain": [
       "(True, True)"
      ]
     },
     "execution_count": 286,
     "metadata": {},
     "output_type": "execute_result"
    }
   ],
   "source": [
    "#Logical OR\n",
    "a>b or a<b,a<b or b>a"
   ]
  },
  {
   "cell_type": "code",
   "execution_count": 287,
   "id": "3021f2ce",
   "metadata": {},
   "outputs": [
    {
     "data": {
      "text/plain": [
       "(False, True)"
      ]
     },
     "execution_count": 287,
     "metadata": {},
     "output_type": "execute_result"
    }
   ],
   "source": [
    "#Logical NOT\n",
    "not(a<b),not(a>b)"
   ]
  },
  {
   "cell_type": "markdown",
   "id": "969c27b2",
   "metadata": {},
   "source": [
    "##### Membership Operators\n",
    ">Python’s membership operators test for membership in a sequence, such as strings, lists, or tuples.\n",
    ">It returns a boolean value as output\n",
    ">> There are two types in , not in"
   ]
  },
  {
   "cell_type": "code",
   "execution_count": 288,
   "id": "2f21f83c",
   "metadata": {},
   "outputs": [
    {
     "ename": "SyntaxError",
     "evalue": "invalid syntax (Temp/ipykernel_277276/512163282.py, line 1)",
     "output_type": "error",
     "traceback": [
      "\u001b[1;36m  File \u001b[1;32m\"C:\\Users\\DIVYAJ~1\\AppData\\Local\\Temp/ipykernel_277276/512163282.py\"\u001b[1;36m, line \u001b[1;32m1\u001b[0m\n\u001b[1;33m    sequence=1:10\u001b[0m\n\u001b[1;37m              ^\u001b[0m\n\u001b[1;31mSyntaxError\u001b[0m\u001b[1;31m:\u001b[0m invalid syntax\n"
     ]
    }
   ],
   "source": [
    "sequence=1:10"
   ]
  },
  {
   "cell_type": "code",
   "execution_count": 289,
   "id": "ddd0f4eb",
   "metadata": {},
   "outputs": [
    {
     "data": {
      "text/plain": [
       "(1, 2, 3, 4, 5, 6, 7, 8, 9, 10)"
      ]
     },
     "execution_count": 289,
     "metadata": {},
     "output_type": "execute_result"
    }
   ],
   "source": [
    "sequence=1,2,3,4,5,6,7,8,9,10\n",
    "sequence"
   ]
  },
  {
   "cell_type": "code",
   "execution_count": 290,
   "id": "f24c75e3",
   "metadata": {},
   "outputs": [
    {
     "data": {
      "text/plain": [
       "True"
      ]
     },
     "execution_count": 290,
     "metadata": {},
     "output_type": "execute_result"
    }
   ],
   "source": [
    "8 in sequence"
   ]
  },
  {
   "cell_type": "code",
   "execution_count": 291,
   "id": "4f58f8f8",
   "metadata": {},
   "outputs": [
    {
     "data": {
      "text/plain": [
       "True"
      ]
     },
     "execution_count": 291,
     "metadata": {},
     "output_type": "execute_result"
    }
   ],
   "source": [
    "23 not in sequence"
   ]
  },
  {
   "cell_type": "code",
   "execution_count": 292,
   "id": "916ffc5f",
   "metadata": {},
   "outputs": [
    {
     "data": {
      "text/plain": [
       "False"
      ]
     },
     "execution_count": 292,
     "metadata": {},
     "output_type": "execute_result"
    }
   ],
   "source": [
    "23 in sequence"
   ]
  },
  {
   "cell_type": "code",
   "execution_count": 293,
   "id": "3ad80112",
   "metadata": {},
   "outputs": [
    {
     "data": {
      "text/plain": [
       "False"
      ]
     },
     "execution_count": 293,
     "metadata": {},
     "output_type": "execute_result"
    }
   ],
   "source": [
    "1 not in sequence "
   ]
  },
  {
   "cell_type": "markdown",
   "id": "aac4d03a",
   "metadata": {},
   "source": [
    "##### Identity Operators\n",
    "> These operators checks whether two variables holds same value or not and returns the result as a boolean \n",
    ">> These operators include is , is not"
   ]
  },
  {
   "cell_type": "code",
   "execution_count": 296,
   "id": "a2c3a67a",
   "metadata": {},
   "outputs": [],
   "source": [
    "x=y=100"
   ]
  },
  {
   "cell_type": "code",
   "execution_count": 297,
   "id": "682399fa",
   "metadata": {},
   "outputs": [
    {
     "data": {
      "text/plain": [
       "True"
      ]
     },
     "execution_count": 297,
     "metadata": {},
     "output_type": "execute_result"
    }
   ],
   "source": [
    "x is y"
   ]
  },
  {
   "cell_type": "code",
   "execution_count": 298,
   "id": "caad05ca",
   "metadata": {},
   "outputs": [
    {
     "data": {
      "text/plain": [
       "False"
      ]
     },
     "execution_count": 298,
     "metadata": {},
     "output_type": "execute_result"
    }
   ],
   "source": [
    "x is not y"
   ]
  },
  {
   "cell_type": "code",
   "execution_count": 299,
   "id": "6929f621",
   "metadata": {},
   "outputs": [],
   "source": [
    "Name=\"Divya\"\n",
    "Username=\"Divu\""
   ]
  },
  {
   "cell_type": "code",
   "execution_count": 301,
   "id": "33b8c285",
   "metadata": {},
   "outputs": [
    {
     "data": {
      "text/plain": [
       "False"
      ]
     },
     "execution_count": 301,
     "metadata": {},
     "output_type": "execute_result"
    }
   ],
   "source": [
    "Name is Username"
   ]
  },
  {
   "cell_type": "code",
   "execution_count": 302,
   "id": "5ee64b29",
   "metadata": {},
   "outputs": [
    {
     "data": {
      "text/plain": [
       "True"
      ]
     },
     "execution_count": 302,
     "metadata": {},
     "output_type": "execute_result"
    }
   ],
   "source": [
    "Name is not Username "
   ]
  },
  {
   "cell_type": "raw",
   "id": "db48086c",
   "metadata": {},
   "source": [
    "Use >>>> shift+tab <<<< to view documentation"
   ]
  },
  {
   "cell_type": "code",
   "execution_count": null,
   "id": "f0b85b2d",
   "metadata": {},
   "outputs": [],
   "source": [
    "print()"
   ]
  },
  {
   "cell_type": "code",
   "execution_count": 306,
   "id": "c27108b4",
   "metadata": {},
   "outputs": [
    {
     "name": "stdout",
     "output_type": "stream",
     "text": [
      "The--country\n"
     ]
    }
   ],
   "source": [
    "print(\"The\",\"country\",sep=\"--\")"
   ]
  },
  {
   "cell_type": "markdown",
   "id": "34737807",
   "metadata": {},
   "source": [
    "##### Operator precedence"
   ]
  },
  {
   "cell_type": "raw",
   "id": "9669bb7a",
   "metadata": {},
   "source": [
    "{} >>>> Paranthesis\n",
    "** >>>> Exponent\n",
    "/,*,//,% >>>> Division,multiplication,integer division,modulus\n",
    "+,- >>>> Addition, subtraction\n",
    ">,<,>=,<=,==,!= >>>> Relational operators\n",
    "+=,-=,*=,/=,//=,%=,=,**= >>>> Assignment operators\n",
    "and, not, or >>>> Logical operators"
   ]
  },
  {
   "cell_type": "markdown",
   "id": "629b6064",
   "metadata": {},
   "source": [
    "# Few Important core libraries in Python"
   ]
  },
  {
   "cell_type": "raw",
   "id": "545bb39b",
   "metadata": {},
   "source": [
    "Python Library is a collection of functions and subpackages."
   ]
  },
  {
   "cell_type": "markdown",
   "id": "b0b2ba4d",
   "metadata": {},
   "source": [
    "##### numpy(Numerical Python)\n",
    "> _It is the fundamental library in python around which the scientfic computations stack is built.It has many high level mathematical functions for large,multi-dimensional arrays and matrices_"
   ]
  },
  {
   "cell_type": "markdown",
   "id": "3f7874c3",
   "metadata": {},
   "source": [
    "##### pandas\n",
    "> _This library helps to work with labelled and relational data.It is primarily used for data cleaning,data extraction,data processing,data aggregation and visualization.It is like a spreadsheet in Python_ "
   ]
  },
  {
   "cell_type": "markdown",
   "id": "b580f694",
   "metadata": {},
   "source": [
    "##### matplotlib\n",
    "> _This library helps in creating simple and powerful visualizations like line plots,scatter plots,bar charts, and histograms,pie charts,stem plots,contour plots,quiver plots,spectograms,etc.It is easy to apply different formatting styles like title,labels,grids,legends,etc.Creating an image from multiple images is a special feature of this library._"
   ]
  },
  {
   "cell_type": "markdown",
   "id": "b471aec2",
   "metadata": {},
   "source": [
    "##### seaborn\n",
    "> _This library is generally used for creating visualization of statistical models.It includes heatmaps and charts that shows better effects for summarized data._"
   ]
  },
  {
   "cell_type": "markdown",
   "id": "da0d635c",
   "metadata": {},
   "source": [
    "##### scipy(Scientific Python)\n",
    "> _This library contains modules for linear algebra,optimization,statistics,etc.The functions available in the respective modules provide significant powers to the user with high-level commands and classes for statistical calculations related to data._"
   ]
  },
  {
   "cell_type": "markdown",
   "id": "becc59e2",
   "metadata": {},
   "source": [
    "##### statsmodels\n",
    "> _This library enables the user to conduct data exploration,estimate statistical model,perform statistical analysis on the data efficiently_"
   ]
  },
  {
   "cell_type": "markdown",
   "id": "acdf42bc",
   "metadata": {},
   "source": [
    "##### sklearn(Scikit-learn)\n",
    "> _This library is built upon scipy and hence scipy must be installed before installing this library.This library provides a range of supervised and unsupervised machine learning algorithms like clustering,cross-validation,datasets,dimensionality reduction,feature extraction,feature selection,parameter tuning,manifold learning,generalized linear models,discriminate analysis,Naive-Bayes,lazy methods,neural networks,support vector machines,decision trees,etc._"
   ]
  },
  {
   "cell_type": "markdown",
   "id": "be24f6ba",
   "metadata": {},
   "source": [
    "##### nltk(Natural language toolkit)\n",
    "> _The nltk library is used for common tasks associated with Natural language processing.The functionality of nltk allows a lot of operations such as text tagging,classification,tokenizing,name entities identification,buliding corpus,stemming,semantic reasoning,etc. All these building blocks allows for building research systems for complex tasks like sentiment analytics,text analytics,summarization etc._"
   ]
  },
  {
   "cell_type": "markdown",
   "id": "cb1a7b72",
   "metadata": {},
   "source": [
    "##### keras\n",
    "> _Keras is a library meant for deep learning and high-level neural networks.It runs on top of TensorFlow,CNTK,or Theano.It allows easy and fast prototyping with its important features of modularity and extensibilty.It supports both convolutional networks and reccurent networks.It also runs on GPU for processing of large data._"
   ]
  },
  {
   "cell_type": "raw",
   "id": "68e578d5",
   "metadata": {},
   "source": [
    "To install any library use the below command \n",
    "pip install library_name\n",
    "\n",
    "pip(preferred installer program) is a package-management system written in Python used to install and manage software packages"
   ]
  }
 ],
 "metadata": {
  "kernelspec": {
   "display_name": "Python 3 (ipykernel)",
   "language": "python",
   "name": "python3"
  },
  "language_info": {
   "codemirror_mode": {
    "name": "ipython",
    "version": 3
   },
   "file_extension": ".py",
   "mimetype": "text/x-python",
   "name": "python",
   "nbconvert_exporter": "python",
   "pygments_lexer": "ipython3",
   "version": "3.9.7"
  }
 },
 "nbformat": 4,
 "nbformat_minor": 5
}
