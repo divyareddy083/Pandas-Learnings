{
 "cells": [
  {
   "cell_type": "markdown",
   "id": "f5a37ee3",
   "metadata": {},
   "source": [
    "# Numpy Library"
   ]
  },
  {
   "cell_type": "markdown",
   "id": "57bc5f14",
   "metadata": {},
   "source": [
    "## Introduction :\n",
    "\n",
    "><li>Numpy is a Python library.</li>\n",
    "><li>Numpy is short for \"Numerical Python\".</li>\n",
    "><li>Numpy is used for working with arrays.</li>\n",
    "><li>An array is a data structure that contains a group of elements of the same data type,such as integer or string.Arrays are generally used to organize data for easy sorting and searching.</li>\n",
    "><li>It also has functions for working in domain of linear algebra, fourier transform, and matrices.</li>\n",
    "><li>NumPy was created in 2005 by Travis Oliphant. It is an open source project and you can use it freely.</li>\n",
    "><li>Arrays can be created using numpy library or using array module.</li>\n",
    "\n",
    "## Advantages :\n",
    "\n",
    "><li>In Python we have lists that serve the purpose of arrays, but they are slow to process.</li>\n",
    "><li>Numpy aims to provide an array object that is up to 50x faster than traditional Python lists.</li>\n",
    "><li>The array object in Numpy is called \"ndarray\", it provides a lot of supporting functions that make working with ndarray very easy.</li>\n",
    "><li>Arrays are very frequently used in data science, where speed and resources are very important</li>"
   ]
  },
  {
   "cell_type": "markdown",
   "id": "bf0b00b5",
   "metadata": {},
   "source": [
    "## Creating an Array\n",
    "> An array can be created using the **array()** function of **numpy library**.\n",
    "> An array can also be created from an existing array using **copy()** and **view()** command."
   ]
  },
  {
   "cell_type": "code",
   "execution_count": 2,
   "id": "9e7c4d69",
   "metadata": {},
   "outputs": [],
   "source": [
    "import numpy #importing numpy library"
   ]
  },
  {
   "cell_type": "code",
   "execution_count": 3,
   "id": "cb803939",
   "metadata": {},
   "outputs": [
    {
     "name": "stdout",
     "output_type": "stream",
     "text": [
      "[1 2 3 4 5] <class 'numpy.ndarray'>\n"
     ]
    }
   ],
   "source": [
    "#Creating an array of integers\n",
    "array1=numpy.array([1,2,3,4,5],int)\n",
    "print(array1,type(array1))"
   ]
  },
  {
   "cell_type": "code",
   "execution_count": 4,
   "id": "26b39d42",
   "metadata": {},
   "outputs": [
    {
     "name": "stdout",
     "output_type": "stream",
     "text": [
      "['a' 'b' 'c' 'd' 'e'] <class 'numpy.ndarray'>\n"
     ]
    }
   ],
   "source": [
    "#Creating an array of characters\n",
    "array2=numpy.array(['a','b','c','d','e'])\n",
    "print(array2,type(array2))"
   ]
  },
  {
   "cell_type": "code",
   "execution_count": 5,
   "id": "65c71d8b",
   "metadata": {},
   "outputs": [
    {
     "name": "stdout",
     "output_type": "stream",
     "text": [
      "['apple' 'orange' 'grapes' 'kiwi' 'mango'] <class 'numpy.ndarray'>\n"
     ]
    }
   ],
   "source": [
    "#Creating an array of strings\n",
    "array3=numpy.array(['apple','orange','grapes','kiwi','mango'],str)\n",
    "print(array3,type(array3))"
   ]
  },
  {
   "cell_type": "code",
   "execution_count": 6,
   "id": "a6f25e68",
   "metadata": {},
   "outputs": [
    {
     "name": "stdout",
     "output_type": "stream",
     "text": [
      "[0.125 0.5   1.15  1.5   2.15  2.5  ] <class 'numpy.ndarray'>\n"
     ]
    }
   ],
   "source": [
    "#Creating an array of floats\n",
    "array4=numpy.array([0.125,0.5,1.15,1.5,2.15,2.5],dtype=float)\n",
    "print(array4,type(array4))"
   ]
  },
  {
   "cell_type": "markdown",
   "id": "061b603c",
   "metadata": {},
   "source": [
    "##### Difference Between Copy and View!\n",
    "\n",
    ">The main difference between a copy and a view of an array is that the **copy is a new array**, and the **view is just a view of the original array**.\n",
    "\n",
    ">The **copy owns the data and any changes made to the copy will not affect original array**, and any changes made to the original array will not affect the copy.\n",
    "\n",
    ">The **view does not own the data and any changes made to the view will affect the original array**, and any changes made to the original array will affect the view."
   ]
  },
  {
   "cell_type": "markdown",
   "id": "05a6a808",
   "metadata": {},
   "source": [
    "###### Using view() to create a new array from an existing array"
   ]
  },
  {
   "cell_type": "code",
   "execution_count": 7,
   "id": "9fb8b501",
   "metadata": {},
   "outputs": [
    {
     "name": "stdout",
     "output_type": "stream",
     "text": [
      "[0.125 0.5   1.15  1.5   2.15  2.5  ] <class 'numpy.ndarray'>\n"
     ]
    }
   ],
   "source": [
    "array5=array4.view()\n",
    "print(array5,type(array5))"
   ]
  },
  {
   "cell_type": "markdown",
   "id": "94dff41f",
   "metadata": {},
   "source": [
    "###### Using copy() to create a new array from an existing array"
   ]
  },
  {
   "cell_type": "code",
   "execution_count": 8,
   "id": "8921eddb",
   "metadata": {},
   "outputs": [
    {
     "name": "stdout",
     "output_type": "stream",
     "text": [
      "['apple' 'orange' 'grapes' 'kiwi' 'mango'] <class 'numpy.ndarray'>\n"
     ]
    }
   ],
   "source": [
    "array6=array3.copy()\n",
    "print(array6,type(array6))"
   ]
  },
  {
   "cell_type": "markdown",
   "id": "a5fc665d",
   "metadata": {},
   "source": [
    "##### Why is Numpy Faster than Lists?\n",
    ">> Numpy arrays are **stored at one continuous place in memory** unlike lists, so processes can access and manipulate them very efficiently.This behavior is called **locality of reference** in computer science.This is the main reason why Numpy is faster than lists. Also it is optimized to work with latest CPU architectures. "
   ]
  },
  {
   "cell_type": "code",
   "execution_count": 9,
   "id": "3976b893",
   "metadata": {},
   "outputs": [],
   "source": [
    "# Numpy is usually imported under the \"np\" alias.\n",
    "# alias: In Python alias are an alternate name for referring to the same thing\n",
    "import numpy as np"
   ]
  },
  {
   "cell_type": "code",
   "execution_count": 10,
   "id": "5e031b09",
   "metadata": {},
   "outputs": [
    {
     "name": "stdout",
     "output_type": "stream",
     "text": [
      "[1 2 3 4 5] <class 'numpy.ndarray'>\n"
     ]
    }
   ],
   "source": [
    "#Creating an array of integers\n",
    "array1=np.array([1,2,3,4,5],int)\n",
    "print(array1,type(array1))"
   ]
  },
  {
   "cell_type": "code",
   "execution_count": 11,
   "id": "1816657f",
   "metadata": {},
   "outputs": [
    {
     "name": "stdout",
     "output_type": "stream",
     "text": [
      "1.20.3\n"
     ]
    }
   ],
   "source": [
    "##Checking Numpy Version\n",
    "##The version string is stored under \"__version__\" attribute.\n",
    "\n",
    "print(np.__version__)"
   ]
  },
  {
   "cell_type": "markdown",
   "id": "caf22503",
   "metadata": {},
   "source": [
    "## Dimensions in Arrays\n",
    ">A dimension in arrays is one level of array depth (nested arrays : are arrays that have arrays as their elements).\n",
    "\n",
    ">**ndim :** Numpy Arrays provides the ndim attribute that returns an integer that tells us how many dimensions does the array have."
   ]
  },
  {
   "cell_type": "markdown",
   "id": "b924bc7e",
   "metadata": {},
   "source": [
    "#### 0-D Arrays\n",
    "> 0-D arrays or Scalars, are the elements in an array. Each value in an array is a 0-D array."
   ]
  },
  {
   "cell_type": "code",
   "execution_count": 12,
   "id": "6e4e8861",
   "metadata": {},
   "outputs": [
    {
     "name": "stdout",
     "output_type": "stream",
     "text": [
      "arr1= 100 \n",
      "Dimensions= 0 \n",
      "Type= <class 'numpy.ndarray'>\n"
     ]
    }
   ],
   "source": [
    "# Creating a 0D array\n",
    "arr1=np.array(100)\n",
    "print(\"arr1=\",arr1,\"\\nDimensions=\",arr1.ndim,\"\\nType=\",type(arr1))"
   ]
  },
  {
   "cell_type": "markdown",
   "id": "487025b4",
   "metadata": {},
   "source": [
    "#### 1-D Arrays\n",
    "> An array that has **0-D arrays as its elements** is called **uni-dimensional or 1-D array**.\n",
    "> A **1-D array** is an array of elements of similar data type starting from index **0** and ending at **n+1**"
   ]
  },
  {
   "cell_type": "code",
   "execution_count": 13,
   "id": "ecddc877",
   "metadata": {},
   "outputs": [
    {
     "name": "stdout",
     "output_type": "stream",
     "text": [
      "arr2= [1 2 3 4 5] \n",
      "Dimensions= 1 \n",
      "Type= <class 'numpy.ndarray'>\n"
     ]
    }
   ],
   "source": [
    "# Creating a 1D array\n",
    "arr2=np.array((1,2,3,4,5),int)\n",
    "print(\"arr2=\",arr2,\"\\nDimensions=\",arr2.ndim,\"\\nType=\",type(arr2))"
   ]
  },
  {
   "cell_type": "markdown",
   "id": "e4b1a889",
   "metadata": {},
   "source": [
    "#### 2-D Arrays\n",
    ">An array that has **1-D arrays as its elements** is called a 2-D array.These are often used to represent **matrix or 2nd order tensors**.\n",
    "\n",
    ">Numpy has a whole sub module dedicated towards matrix operations called **numpy.mat**"
   ]
  },
  {
   "cell_type": "code",
   "execution_count": 14,
   "id": "72d749c6",
   "metadata": {},
   "outputs": [
    {
     "name": "stdout",
     "output_type": "stream",
     "text": [
      "arr3=\n",
      " [[ 1  2  3  4  5  6]\n",
      " [ 7  8  9 10 11 12]] \n",
      "Dimensions= 2 \n",
      "Type= <class 'numpy.ndarray'>\n"
     ]
    }
   ],
   "source": [
    "# Creating a 2D array containing two arrays \n",
    "arr3 = np.array([[1,2,3,4,5,6],[7,8,9,10,11,12]],int)\n",
    "print(\"arr3=\\n\",arr3,\"\\nDimensions=\",arr3.ndim,\"\\nType=\",type(arr3))"
   ]
  },
  {
   "cell_type": "markdown",
   "id": "39b8b321",
   "metadata": {},
   "source": [
    "#### 3-D Arrays\n",
    ">An array that has **2-D arrays(matrices) as its elements** is called 3-D array.\n",
    ">These are often used to represent a **3rd order tensor**."
   ]
  },
  {
   "cell_type": "code",
   "execution_count": 15,
   "id": "a98443b5",
   "metadata": {},
   "outputs": [
    {
     "name": "stdout",
     "output_type": "stream",
     "text": [
      "arr4=\n",
      " [[[1 2 3]\n",
      "  [4 5 6]]\n",
      "\n",
      " [[1 2 3]\n",
      "  [4 5 6]]] \n",
      "Dimensions= 3 \n",
      "Type= <class 'numpy.ndarray'>\n"
     ]
    }
   ],
   "source": [
    "#Creating a 3-D array with two 2-D arrays\n",
    "arr4 = np.array([[[1, 2, 3], [4, 5, 6]], [[1, 2, 3], [4, 5, 6]]])\n",
    "print(\"arr4=\\n\",arr4,\"\\nDimensions=\",arr4.ndim,\"\\nType=\",type(arr4))"
   ]
  },
  {
   "cell_type": "markdown",
   "id": "e730e819",
   "metadata": {},
   "source": [
    "#### Arrays having higher dimensions\n",
    "> we can define the arrays with higher dimensions using **ndmin** argument."
   ]
  },
  {
   "cell_type": "code",
   "execution_count": 16,
   "id": "e13bf709",
   "metadata": {},
   "outputs": [
    {
     "name": "stdout",
     "output_type": "stream",
     "text": [
      "arr5=\n",
      " [[[[[1 2 3 4]]]]] \n",
      "Dimensions= 5 \n",
      "Type= <class 'numpy.ndarray'>\n"
     ]
    }
   ],
   "source": [
    "# Creating a 5D array \n",
    "arr5 = np.array([1, 2, 3,4], ndmin=5)\n",
    "print(\"arr5=\\n\",arr5,\"\\nDimensions=\",arr5.ndim,\"\\nType=\",type(arr5))\n",
    "\n",
    "#In this array the innermost dimension (5th dim) has 4 elements, \n",
    "#the 4th dim has 1 element that is the vector, \n",
    "#the 3rd dim has 1 element that is the matrix with the vector, \n",
    "#the 2nd dim has 1 element that is 3D array and \n",
    "#1st dim has 1 element that is a 4D array."
   ]
  },
  {
   "cell_type": "markdown",
   "id": "025edf9c",
   "metadata": {},
   "source": [
    "## Numpy Array Indexing\n",
    "\n",
    "><li>Array indexing is the same as accessing an array element.</li>\n",
    "><li>You can access an array element by referring to its index number.</li>\n",
    "><li>The index in Numpy arrays start with 0,which means that the first element has index 0, and the second has index 1 etc.</li>"
   ]
  },
  {
   "cell_type": "code",
   "execution_count": 17,
   "id": "cc548e3f",
   "metadata": {},
   "outputs": [
    {
     "data": {
      "text/plain": [
       "array([1, 2, 3, 4, 5])"
      ]
     },
     "execution_count": 17,
     "metadata": {},
     "output_type": "execute_result"
    }
   ],
   "source": [
    "arr2"
   ]
  },
  {
   "cell_type": "code",
   "execution_count": 18,
   "id": "e543d533",
   "metadata": {},
   "outputs": [
    {
     "data": {
      "text/plain": [
       "(1, 2, 5, 1)"
      ]
     },
     "execution_count": 18,
     "metadata": {},
     "output_type": "execute_result"
    }
   ],
   "source": [
    "# accessing the elements of arrays using indexes\n",
    "arr2[0],arr2[1],arr2[-1],arr2[-5]"
   ]
  },
  {
   "cell_type": "code",
   "execution_count": 19,
   "id": "69e6a4a7",
   "metadata": {},
   "outputs": [
    {
     "data": {
      "text/plain": [
       "(7, 1, 12)"
      ]
     },
     "execution_count": 19,
     "metadata": {},
     "output_type": "execute_result"
    }
   ],
   "source": [
    "#performing some arithmetic operations \n",
    "arr2[3]+arr2[-3],arr2[3]-arr2[-3],arr2[3]*arr2[-3]"
   ]
  },
  {
   "cell_type": "markdown",
   "id": "75da3da5",
   "metadata": {},
   "source": [
    "##### Accessing 2-D Arrays\n",
    ">To access elements from 2-D arrays we can use comma separated integers representing the dimension and the index of the element.\n",
    "\n",
    ">Think of 2-D arrays like a table with rows and columns, where the **row represents the dimension** and the **index represents the column**."
   ]
  },
  {
   "cell_type": "code",
   "execution_count": 20,
   "id": "470cfa77",
   "metadata": {},
   "outputs": [
    {
     "data": {
      "text/plain": [
       "array([[ 1,  2,  3,  4,  5,  6],\n",
       "       [ 7,  8,  9, 10, 11, 12]])"
      ]
     },
     "execution_count": 20,
     "metadata": {},
     "output_type": "execute_result"
    }
   ],
   "source": [
    "arr3"
   ]
  },
  {
   "cell_type": "code",
   "execution_count": 21,
   "id": "82b206fc",
   "metadata": {},
   "outputs": [
    {
     "data": {
      "text/plain": [
       "9"
      ]
     },
     "execution_count": 21,
     "metadata": {},
     "output_type": "execute_result"
    }
   ],
   "source": [
    "arr3[1,2] #1->dimension.2->index position of the element you wanna access in the dimension"
   ]
  },
  {
   "cell_type": "code",
   "execution_count": 22,
   "id": "93950e1d",
   "metadata": {},
   "outputs": [
    {
     "name": "stdout",
     "output_type": "stream",
     "text": [
      "6\n",
      "11\n"
     ]
    }
   ],
   "source": [
    "print(arr3[0,5])\n",
    "print(arr3[1,4])"
   ]
  },
  {
   "cell_type": "markdown",
   "id": "3c3fa732",
   "metadata": {},
   "source": [
    "##### Access 3-D Arrays\n",
    "> To access elements from 3-D arrays we can use comma separated integers representing the dimensions and the index of the element."
   ]
  },
  {
   "cell_type": "code",
   "execution_count": 23,
   "id": "2213f8a4",
   "metadata": {},
   "outputs": [
    {
     "name": "stdout",
     "output_type": "stream",
     "text": [
      "[[[ 1  2  3]\n",
      "  [ 4  5  6]]\n",
      "\n",
      " [[ 7  8  9]\n",
      "  [10 11 12]]]\n",
      "\n",
      "Dimensions= 3\n"
     ]
    }
   ],
   "source": [
    "arr = np.array([[[1, 2, 3], [4, 5, 6]], [[7, 8, 9], [10, 11, 12]]])\n",
    "print(arr)\n",
    "print()\n",
    "print(\"Dimensions=\",arr.ndim)"
   ]
  },
  {
   "cell_type": "code",
   "execution_count": 24,
   "id": "cf0f4923",
   "metadata": {},
   "outputs": [
    {
     "data": {
      "text/plain": [
       "6"
      ]
     },
     "execution_count": 24,
     "metadata": {},
     "output_type": "execute_result"
    }
   ],
   "source": [
    "arr[0,1,2] # 0->dim,1->dim,3rd value"
   ]
  },
  {
   "cell_type": "code",
   "execution_count": 25,
   "id": "04f0effb",
   "metadata": {},
   "outputs": [
    {
     "name": "stdout",
     "output_type": "stream",
     "text": [
      "1\n",
      "6\n",
      "7\n",
      "11\n"
     ]
    }
   ],
   "source": [
    "print(arr[0,0,0])\n",
    "print(arr[0,1,2])\n",
    "print(arr[1,0,0])\n",
    "print(arr[1,1,1])"
   ]
  },
  {
   "cell_type": "markdown",
   "id": "5d2d6c90",
   "metadata": {},
   "source": [
    "* * *"
   ]
  },
  {
   "cell_type": "code",
   "execution_count": 26,
   "id": "90d4ac14",
   "metadata": {},
   "outputs": [
    {
     "data": {
      "text/plain": [
       "array([[[[[1, 2, 3, 4]]]]])"
      ]
     },
     "execution_count": 26,
     "metadata": {},
     "output_type": "execute_result"
    }
   ],
   "source": [
    "arr5"
   ]
  },
  {
   "cell_type": "code",
   "execution_count": 27,
   "id": "59a197f7",
   "metadata": {},
   "outputs": [
    {
     "name": "stdout",
     "output_type": "stream",
     "text": [
      "[[[[1 2 3 4]]]]\n",
      "[[[1 2 3 4]]]\n",
      "[[1 2 3 4]]\n",
      "[1 2 3 4]\n",
      "1\n"
     ]
    }
   ],
   "source": [
    "print(arr5[0])\n",
    "print(arr5[0,0])\n",
    "print(arr5[0,0,0])\n",
    "print(arr5[0,0,0,0])\n",
    "print(arr5[0,0,0,0,0])"
   ]
  },
  {
   "cell_type": "markdown",
   "id": "e528479e",
   "metadata": {},
   "source": [
    "##### -ve indexing"
   ]
  },
  {
   "cell_type": "code",
   "execution_count": 33,
   "id": "20ec02e7",
   "metadata": {},
   "outputs": [
    {
     "name": "stdout",
     "output_type": "stream",
     "text": [
      "4\n"
     ]
    }
   ],
   "source": [
    "arr2\n",
    "print(arr2[-2])"
   ]
  },
  {
   "cell_type": "code",
   "execution_count": 35,
   "id": "465a915f",
   "metadata": {},
   "outputs": [
    {
     "name": "stdout",
     "output_type": "stream",
     "text": [
      "10\n"
     ]
    }
   ],
   "source": [
    "arr3\n",
    "print(arr3[-1,-3])"
   ]
  },
  {
   "cell_type": "markdown",
   "id": "f7104999",
   "metadata": {},
   "source": [
    "## Numpy arrays Slicing\n",
    "><li>Slicing in python means taking elements from one given index to another given index.</li>\n",
    "><li>We pass slice instead of index like this: [start:end].</li>\n",
    "><li>We can also define the step, like this: [start:end:step].</li>\n",
    "><li>If we don't pass start its considered 0.</li>\n",
    "><li>If we don't pass end its considered length of array in that dimension.</li>\n",
    "><li>If we don't pass step its considered 1.</li>"
   ]
  },
  {
   "cell_type": "markdown",
   "id": "c1cc56f5",
   "metadata": {},
   "source": [
    "##### Slicing in 1-D arrays"
   ]
  },
  {
   "cell_type": "code",
   "execution_count": 61,
   "id": "44156d86",
   "metadata": {},
   "outputs": [
    {
     "data": {
      "text/plain": [
       "(array([1, 2, 3, 4, 5, 6, 7, 8]), numpy.ndarray)"
      ]
     },
     "execution_count": 61,
     "metadata": {},
     "output_type": "execute_result"
    }
   ],
   "source": [
    "arr=np.array([1,2,3,4,5,6,7,8],int)\n",
    "arr,type(arr)"
   ]
  },
  {
   "cell_type": "code",
   "execution_count": 62,
   "id": "03d37912",
   "metadata": {},
   "outputs": [
    {
     "name": "stdout",
     "output_type": "stream",
     "text": [
      "[2 3 4]\n",
      "[2 3 4 5 6 7 8]\n",
      "[1 2 3 4]\n",
      "[1 3 5 7]\n",
      "[2 3 4 5 6 7 8]\n",
      "[1 2 3 4 5 6]\n",
      "[1 3 5 7]\n"
     ]
    }
   ],
   "source": [
    "print(arr[1:4])\n",
    "print(arr[1:])\n",
    "print(arr[:4])\n",
    "print(arr[0:9:2])#using step=2\n",
    "print(arr[1::])\n",
    "print(arr[:6:])\n",
    "print(arr[::2])"
   ]
  },
  {
   "cell_type": "code",
   "execution_count": 63,
   "id": "52dbb993",
   "metadata": {},
   "outputs": [
    {
     "name": "stdout",
     "output_type": "stream",
     "text": [
      "[]\n",
      "[4 5 6]\n",
      "[7 5]\n"
     ]
    }
   ],
   "source": [
    "# -ve slicing\n",
    "print(arr[-2:-5])# this gives empty list\n",
    "print(arr[-5:-2])\n",
    "print(arr[-2:-5:-2])"
   ]
  },
  {
   "cell_type": "markdown",
   "id": "bcae7ebc",
   "metadata": {},
   "source": [
    "##### Slicing in 2-D arrays"
   ]
  },
  {
   "cell_type": "code",
   "execution_count": 64,
   "id": "23a74f4a",
   "metadata": {},
   "outputs": [
    {
     "data": {
      "text/plain": [
       "array([[ 1,  2,  3,  4,  5],\n",
       "       [ 6,  7,  8,  9, 10]])"
      ]
     },
     "execution_count": 64,
     "metadata": {},
     "output_type": "execute_result"
    }
   ],
   "source": [
    "arr = np.array([[1, 2, 3, 4, 5], [6, 7, 8, 9, 10]])\n",
    "arr"
   ]
  },
  {
   "cell_type": "code",
   "execution_count": 65,
   "id": "22e4e895",
   "metadata": {},
   "outputs": [
    {
     "name": "stdout",
     "output_type": "stream",
     "text": [
      "[1 2 3]\n",
      "[7 8]\n",
      "[ 6  8 10]\n",
      "[1 3 5]\n",
      "[1 2 3 4 5]\n",
      "[6]\n",
      "[1 3 5]\n",
      "[2 3 4 5]\n",
      "[1 2 3 4 5]\n"
     ]
    }
   ],
   "source": [
    "print(arr[0,0:3])\n",
    "print(arr[1,1:3])\n",
    "print(arr[1,0:5:2])\n",
    "print(arr[0,0:5:2])\n",
    "print(arr[0,0::])\n",
    "print(arr[1,::5])\n",
    "print(arr[0,:6:2])\n",
    "print(arr[0,1:6:])\n",
    "print(arr[0,:6:])"
   ]
  },
  {
   "cell_type": "markdown",
   "id": "44ffebb6",
   "metadata": {},
   "source": [
    "## Functions for 1-D Arrays\n",
    "\n",
    "> In comparison to the array created by array module ,numpy arrays has access to many other **mathematical ,trignometric,statistical,logarithmic,and exponential functions**."
   ]
  },
  {
   "cell_type": "code",
   "execution_count": 69,
   "id": "9e11397d",
   "metadata": {},
   "outputs": [
    {
     "data": {
      "text/plain": [
       "(array([10, 18, 15, 12, 13, 19, 16,  6, 16, 16, 16, 12, 11,  3, 10, 16,  9,\n",
       "         1, 18,  5]),\n",
       " numpy.ndarray)"
      ]
     },
     "execution_count": 69,
     "metadata": {},
     "output_type": "execute_result"
    }
   ],
   "source": [
    "arr=numpy.array([10,18,15,12,13,19,16,6,16,16,16,12,11,3,10,16,9,1,18,5],int)\n",
    "arr,type(arr)"
   ]
  },
  {
   "cell_type": "markdown",
   "id": "a0d0d2db",
   "metadata": {},
   "source": [
    "##### Modifying the array elements"
   ]
  },
  {
   "cell_type": "code",
   "execution_count": 70,
   "id": "1c22611a",
   "metadata": {},
   "outputs": [
    {
     "name": "stdout",
     "output_type": "stream",
     "text": [
      "[ 7 18 15 12 13 19 16  6 16 16 16 12 11  3 10 16  9  1 18  5]\n"
     ]
    }
   ],
   "source": [
    "arr[0]=7\n",
    "print(arr)"
   ]
  },
  {
   "cell_type": "markdown",
   "id": "4140b2b2",
   "metadata": {},
   "source": [
    "###### Determining the characteristics of the array"
   ]
  },
  {
   "cell_type": "code",
   "execution_count": 71,
   "id": "ca597c3b",
   "metadata": {},
   "outputs": [
    {
     "data": {
      "text/plain": [
       "20"
      ]
     },
     "execution_count": 71,
     "metadata": {},
     "output_type": "execute_result"
    }
   ],
   "source": [
    "#The size of the array\n",
    "arr.size"
   ]
  },
  {
   "cell_type": "code",
   "execution_count": 72,
   "id": "8d3a20de",
   "metadata": {},
   "outputs": [
    {
     "data": {
      "text/plain": [
       "dtype('int32')"
      ]
     },
     "execution_count": 72,
     "metadata": {},
     "output_type": "execute_result"
    }
   ],
   "source": [
    "#datatype of the elements in the array\n",
    "arr.dtype"
   ]
  },
  {
   "cell_type": "markdown",
   "id": "1288db89",
   "metadata": {},
   "source": [
    "###### Functions returning one single numeric output"
   ]
  },
  {
   "cell_type": "code",
   "execution_count": 73,
   "id": "3e14e791",
   "metadata": {},
   "outputs": [
    {
     "data": {
      "text/plain": [
       "11.95"
      ]
     },
     "execution_count": 73,
     "metadata": {},
     "output_type": "execute_result"
    }
   ],
   "source": [
    "#determining the mean\n",
    "np.mean(arr)"
   ]
  },
  {
   "cell_type": "code",
   "execution_count": 74,
   "id": "911e8785",
   "metadata": {},
   "outputs": [
    {
     "data": {
      "text/plain": [
       "12.5"
      ]
     },
     "execution_count": 74,
     "metadata": {},
     "output_type": "execute_result"
    }
   ],
   "source": [
    "#determining the median\n",
    "np.median(arr)"
   ]
  },
  {
   "cell_type": "code",
   "execution_count": 76,
   "id": "dbb8bc14",
   "metadata": {},
   "outputs": [
    {
     "data": {
      "text/plain": [
       "1"
      ]
     },
     "execution_count": 76,
     "metadata": {},
     "output_type": "execute_result"
    }
   ],
   "source": [
    "#determining the min value in the array\n",
    "np.min(arr)"
   ]
  },
  {
   "cell_type": "code",
   "execution_count": 77,
   "id": "42191268",
   "metadata": {},
   "outputs": [
    {
     "data": {
      "text/plain": [
       "19"
      ]
     },
     "execution_count": 77,
     "metadata": {},
     "output_type": "execute_result"
    }
   ],
   "source": [
    "#determining the max value in the array\n",
    "np.max(arr)"
   ]
  },
  {
   "cell_type": "code",
   "execution_count": 78,
   "id": "4bc1d183",
   "metadata": {},
   "outputs": [
    {
     "data": {
      "text/plain": [
       "239"
      ]
     },
     "execution_count": 78,
     "metadata": {},
     "output_type": "execute_result"
    }
   ],
   "source": [
    "#determining the sum of all values in the array\n",
    "np.sum(arr)"
   ]
  },
  {
   "cell_type": "code",
   "execution_count": 79,
   "id": "b65b2840",
   "metadata": {},
   "outputs": [
    {
     "data": {
      "text/plain": [
       "1342177280"
      ]
     },
     "execution_count": 79,
     "metadata": {},
     "output_type": "execute_result"
    }
   ],
   "source": [
    "#determining the product of all values in the array\n",
    "np.prod(arr)"
   ]
  },
  {
   "cell_type": "code",
   "execution_count": 80,
   "id": "423b0303",
   "metadata": {},
   "outputs": [
    {
     "data": {
      "text/plain": [
       "array(28.26052632)"
      ]
     },
     "execution_count": 80,
     "metadata": {},
     "output_type": "execute_result"
    }
   ],
   "source": [
    "#determining the covariance of all values in the array\n",
    "np.cov(arr)"
   ]
  },
  {
   "cell_type": "markdown",
   "id": "942d8405",
   "metadata": {},
   "source": [
    "##### What is covariance?\n",
    "> Covariance is a measure of relationship between 2 random variables.The covariance indicates the **relationship between the 2 variables** and helps to know if the 2 variables vary together.\n",
    "$$ Or $$\n",
    "> Covariance provides the measure of strength of correlation between two variables or more set of variables.\n",
    ">> <li>if Cov(Xi,Xj)=0 then variables are uncorrelated</li>\n",
    ">> <li>if Cov(Xi,Xj)>0 then variables are  positively correlated</li>\n",
    ">> <li>if Cov(Xi,Xj)<0 then variables are  negatively correlated</li>\n",
    "\n",
    "##### Covariance Formula\n",
    "\n",
    "##### covariance formula for population : \n",
    "\n",
    "$$Cov(X,Y)={\\frac{\\sum(X_{i}-\\bar{X})(Y_{i}-\\bar{Y})}n}$$\n",
    "\n",
    "##### covariance formula for sample :\n",
    "\n",
    "$$Cov(X,Y)={\\frac{\\sum(X_{i}-\\bar{X})(Y_{i}-\\bar{Y})}{n-1}}$$\n",
    "\n",
    "$$Where,$$\n",
    "$$ X_{i} \\ is \\ the \\ values \\ of \\ the \\ X-variable$$\n",
    "$$ Y_{i} \\ is \\ the \\ values \\ of \\ the \\ Y-variable$$\n",
    "$$ \\bar{X} \\ is \\ the \\ mean \\ of \\ the \\ X-variable$$\n",
    "$$ \\bar{Y} \\ is \\ the \\ mean \\ of \\ the \\ Y-variable$$\n",
    "$$ n \\ is \\ the \\ number \\ of \\ data \\ points$$\n",
    "\n",
    "##### Relationship between correlation co-efficient and covariance is expressed as :\n",
    "$${\\frac{Cov(X,Y)}{\\sigma_{X}\\sigma_{Y}}}$$\n",
    "\n",
    "\n",
    "$$Where,$$\n",
    "$$ Cov(X,Y) \\ is \\ the \\ covariance \\ between \\ X \\ and \\ Y$$\n",
    "$$ \\sigma_{X} and \\sigma_{y} \\ are \\ the \\ standard \\ deviations \\ of \\ X \\ and \\ Y$$\n",
    "\n",
    "##### Positive covariance:\n",
    "> The two given variables tend to move in the **same direction**.\n",
    "\n",
    "##### Negative covariance:\n",
    "> The two given variables tend to move in the **inverse direction**."
   ]
  },
  {
   "cell_type": "code",
   "execution_count": 81,
   "id": "44580557",
   "metadata": {},
   "outputs": [
    {
     "data": {
      "text/plain": [
       "26.847499999999997"
      ]
     },
     "execution_count": 81,
     "metadata": {},
     "output_type": "execute_result"
    }
   ],
   "source": [
    "#determining the variance of all values in the array\n",
    "np.var(arr)"
   ]
  },
  {
   "cell_type": "code",
   "execution_count": 82,
   "id": "813f5d83",
   "metadata": {},
   "outputs": [
    {
     "data": {
      "text/plain": [
       "5.181457323958193"
      ]
     },
     "execution_count": 82,
     "metadata": {},
     "output_type": "execute_result"
    }
   ],
   "source": [
    "#determining the standard deviation of all values in the array\n",
    "np.std(arr)"
   ]
  },
  {
   "cell_type": "markdown",
   "id": "d55496ca",
   "metadata": {},
   "source": [
    "##### Mathematical functions returns an array output"
   ]
  },
  {
   "cell_type": "code",
   "execution_count": 91,
   "id": "2939dad5",
   "metadata": {},
   "outputs": [
    {
     "name": "stdout",
     "output_type": "stream",
     "text": [
      "Before sorting = \n",
      " [ 7 18 15 12 13 19 16  6 16 16 16 12 11  3 10 16  9  1 18  5]\n",
      "After sorting=\n",
      " [ 1  3  5  6  7  9 10 11 12 12 13 15 16 16 16 16 16 18 18 19]\n"
     ]
    }
   ],
   "source": [
    "# Sorting the element of the array\n",
    "print(\"Before sorting = \\n\",arr)\n",
    "print(\"After sorting=\\n\",np.sort(arr))"
   ]
  },
  {
   "cell_type": "code",
   "execution_count": 93,
   "id": "40cc1213",
   "metadata": {},
   "outputs": [
    {
     "data": {
      "text/plain": [
       "array([ 49, 324, 225, 144, 169, 361, 256,  36, 256, 256, 256, 144, 121,\n",
       "         9, 100, 256,  81,   1, 324,  25], dtype=int32)"
      ]
     },
     "execution_count": 93,
     "metadata": {},
     "output_type": "execute_result"
    }
   ],
   "source": [
    "# finding the power of all the elements in a array\n",
    "np.power(arr,2) #power(array,power_value)"
   ]
  },
  {
   "cell_type": "code",
   "execution_count": 94,
   "id": "98bd33e8",
   "metadata": {},
   "outputs": [
    {
     "data": {
      "text/plain": [
       "array([2.64575131, 4.24264069, 3.87298335, 3.46410162, 3.60555128,\n",
       "       4.35889894, 4.        , 2.44948974, 4.        , 4.        ,\n",
       "       4.        , 3.46410162, 3.31662479, 1.73205081, 3.16227766,\n",
       "       4.        , 3.        , 1.        , 4.24264069, 2.23606798])"
      ]
     },
     "execution_count": 94,
     "metadata": {},
     "output_type": "execute_result"
    }
   ],
   "source": [
    "# finding the square root of all the elements in a array\n",
    "np.sqrt(arr) "
   ]
  },
  {
   "cell_type": "code",
   "execution_count": 96,
   "id": "2c11252f",
   "metadata": {},
   "outputs": [
    {
     "data": {
      "text/plain": [
       "array([ 1,  3,  6,  3,  8,  9, 10])"
      ]
     },
     "execution_count": 96,
     "metadata": {},
     "output_type": "execute_result"
    }
   ],
   "source": [
    "# returns the absolute value of all the elements in array\n",
    "a1=np.array([1,-3,6,-3,8,-9,-10])\n",
    "np.abs(a1)"
   ]
  },
  {
   "cell_type": "markdown",
   "id": "de6f39c0",
   "metadata": {},
   "source": [
    "##### Trignometric functions also return an array output"
   ]
  },
  {
   "cell_type": "code",
   "execution_count": 97,
   "id": "24e21ecb",
   "metadata": {},
   "outputs": [
    {
     "data": {
      "text/plain": [
       "array([ 0.6569866 , -0.75098725,  0.65028784, -0.53657292,  0.42016704,\n",
       "        0.14987721, -0.28790332, -0.2794155 , -0.28790332, -0.28790332,\n",
       "       -0.28790332, -0.53657292, -0.99999021,  0.14112001, -0.54402111,\n",
       "       -0.28790332,  0.41211849,  0.84147098, -0.75098725, -0.95892427])"
      ]
     },
     "execution_count": 97,
     "metadata": {},
     "output_type": "execute_result"
    }
   ],
   "source": [
    "np.sin(arr) #finding sine values of all the elements of array"
   ]
  },
  {
   "cell_type": "code",
   "execution_count": 98,
   "id": "78f52ac7",
   "metadata": {},
   "outputs": [
    {
     "data": {
      "text/plain": [
       "array([ 0.75390225,  0.66031671, -0.75968791,  0.84385396,  0.90744678,\n",
       "        0.98870462, -0.95765948,  0.96017029, -0.95765948, -0.95765948,\n",
       "       -0.95765948,  0.84385396,  0.0044257 , -0.9899925 , -0.83907153,\n",
       "       -0.95765948, -0.91113026,  0.54030231,  0.66031671,  0.28366219])"
      ]
     },
     "execution_count": 98,
     "metadata": {},
     "output_type": "execute_result"
    }
   ],
   "source": [
    "np.cos(arr) #finding cosine values of all the elements of array"
   ]
  },
  {
   "cell_type": "code",
   "execution_count": 99,
   "id": "85f0cb13",
   "metadata": {},
   "outputs": [
    {
     "data": {
      "text/plain": [
       "array([ 8.71447983e-01, -1.13731371e+00, -8.55993401e-01, -6.35859929e-01,\n",
       "        4.63021133e-01,  1.51589471e-01,  3.00632242e-01, -2.91006191e-01,\n",
       "        3.00632242e-01,  3.00632242e-01,  3.00632242e-01, -6.35859929e-01,\n",
       "       -2.25950846e+02, -1.42546543e-01,  6.48360827e-01,  3.00632242e-01,\n",
       "       -4.52315659e-01,  1.55740772e+00, -1.13731371e+00, -3.38051501e+00])"
      ]
     },
     "execution_count": 99,
     "metadata": {},
     "output_type": "execute_result"
    }
   ],
   "source": [
    "np.tan(arr) #finding tangent values of all the elements of array"
   ]
  },
  {
   "cell_type": "markdown",
   "id": "5d733732",
   "metadata": {},
   "source": [
    "##### Logarithmic functions also returns an array output"
   ]
  },
  {
   "cell_type": "code",
   "execution_count": 101,
   "id": "e2858b2a",
   "metadata": {},
   "outputs": [
    {
     "data": {
      "text/plain": [
       "array([1.94591015, 2.89037176, 2.7080502 , 2.48490665, 2.56494936,\n",
       "       2.94443898, 2.77258872, 1.79175947, 2.77258872, 2.77258872,\n",
       "       2.77258872, 2.48490665, 2.39789527, 1.09861229, 2.30258509,\n",
       "       2.77258872, 2.19722458, 0.        , 2.89037176, 1.60943791])"
      ]
     },
     "execution_count": 101,
     "metadata": {},
     "output_type": "execute_result"
    }
   ],
   "source": [
    "np.log(arr) #finding log values of all the elements of array"
   ]
  },
  {
   "cell_type": "code",
   "execution_count": 102,
   "id": "77e87e4d",
   "metadata": {},
   "outputs": [
    {
     "data": {
      "text/plain": [
       "array([0.84509804, 1.25527251, 1.17609126, 1.07918125, 1.11394335,\n",
       "       1.2787536 , 1.20411998, 0.77815125, 1.20411998, 1.20411998,\n",
       "       1.20411998, 1.07918125, 1.04139269, 0.47712125, 1.        ,\n",
       "       1.20411998, 0.95424251, 0.        , 1.25527251, 0.69897   ])"
      ]
     },
     "execution_count": 102,
     "metadata": {},
     "output_type": "execute_result"
    }
   ],
   "source": [
    "#finding log base 10 values of all the elements of array\n",
    "np.log10(arr)"
   ]
  },
  {
   "cell_type": "code",
   "execution_count": 103,
   "id": "45847818",
   "metadata": {},
   "outputs": [
    {
     "data": {
      "text/plain": [
       "array([1.09663316e+03, 6.56599691e+07, 3.26901737e+06, 1.62754791e+05,\n",
       "       4.42413392e+05, 1.78482301e+08, 8.88611052e+06, 4.03428793e+02,\n",
       "       8.88611052e+06, 8.88611052e+06, 8.88611052e+06, 1.62754791e+05,\n",
       "       5.98741417e+04, 2.00855369e+01, 2.20264658e+04, 8.88611052e+06,\n",
       "       8.10308393e+03, 2.71828183e+00, 6.56599691e+07, 1.48413159e+02])"
      ]
     },
     "execution_count": 103,
     "metadata": {},
     "output_type": "execute_result"
    }
   ],
   "source": [
    "#finding exponential values of all the elements of array\n",
    "np.exp(arr)"
   ]
  },
  {
   "cell_type": "markdown",
   "id": "de4d80a3",
   "metadata": {},
   "source": [
    "###### Mathematical operations on 1-D array"
   ]
  },
  {
   "cell_type": "code",
   "execution_count": 104,
   "id": "71799213",
   "metadata": {},
   "outputs": [
    {
     "data": {
      "text/plain": [
       "array([ 7, 18, 15, 12, 13, 19, 16,  6, 16, 16, 16, 12, 11,  3, 10, 16,  9,\n",
       "        1, 18,  5])"
      ]
     },
     "execution_count": 104,
     "metadata": {},
     "output_type": "execute_result"
    }
   ],
   "source": [
    "arr"
   ]
  },
  {
   "cell_type": "code",
   "execution_count": 106,
   "id": "75851abe",
   "metadata": {},
   "outputs": [
    {
     "name": "stdout",
     "output_type": "stream",
     "text": [
      "Addition operation=\n",
      " [ 9 20 17 14 15 21 18  8 18 18 18 14 13  5 12 18 11  3 20  7]\n",
      "Subtraction operation=\n",
      " [ 6 17 14 11 12 18 15  5 15 15 15 11 10  2  9 15  8  0 17  4]\n",
      "Multiplication operation=\n",
      " [14 36 30 24 26 38 32 12 32 32 32 24 22  6 20 32 18  2 36 10]\n",
      "Division operation=\n",
      " [3.5 9.  7.5 6.  6.5 9.5 8.  3.  8.  8.  8.  6.  5.5 1.5 5.  8.  4.5 0.5\n",
      " 9.  2.5]\n",
      "Floor Division operation=\n",
      " [3 9 7 6 6 9 8 3 8 8 8 6 5 1 5 8 4 0 9 2]\n",
      "Modulus operation=\n",
      " [1 0 1 0 1 1 0 0 0 0 0 0 1 1 0 0 1 1 0 1]\n"
     ]
    }
   ],
   "source": [
    "print(\"Addition operation=\\n\",arr+2)\n",
    "print(\"Subtraction operation=\\n\",arr-1)\n",
    "print(\"Multiplication operation=\\n\",arr*2)\n",
    "print(\"Division operation=\\n\",arr/2)\n",
    "print(\"Floor Division operation=\\n\",arr//2)\n",
    "print(\"Modulus operation=\\n\",arr%2)"
   ]
  },
  {
   "cell_type": "markdown",
   "id": "7ca0394d",
   "metadata": {},
   "source": [
    "##### Program using multiple arrays  to perform mathematical operations"
   ]
  },
  {
   "cell_type": "code",
   "execution_count": 108,
   "id": "53077979",
   "metadata": {},
   "outputs": [
    {
     "name": "stdout",
     "output_type": "stream",
     "text": [
      "[1 2 3 4 5]\n",
      "[ 6  7  8  9 10]\n"
     ]
    }
   ],
   "source": [
    "arr1=np.array([1,2,3,4,5])\n",
    "arr2=np.array([6,7,8,9,10])\n",
    "print(arr1)\n",
    "print(arr2)"
   ]
  },
  {
   "cell_type": "code",
   "execution_count": 109,
   "id": "bd6447f6",
   "metadata": {},
   "outputs": [
    {
     "name": "stdout",
     "output_type": "stream",
     "text": [
      "Addition operation=\n",
      " [ 7  9 11 13 15]\n",
      "Subtraction operation=\n",
      " [-5 -5 -5 -5 -5]\n",
      "Multiplication operation=\n",
      " [ 6 14 24 36 50]\n",
      "Division operation=\n",
      " [0.16666667 0.28571429 0.375      0.44444444 0.5       ]\n",
      "Floor Division operation=\n",
      " [0 0 0 0 0]\n",
      "Modulus operation=\n",
      " [1 2 3 4 5]\n"
     ]
    }
   ],
   "source": [
    "print(\"Addition operation=\\n\",arr1+arr2)\n",
    "print(\"Subtraction operation=\\n\",arr1-arr2)\n",
    "print(\"Multiplication operation=\\n\",arr1*arr2)\n",
    "print(\"Division operation=\\n\",arr1/arr2)\n",
    "print(\"Floor Division operation=\\n\",arr1//arr2)\n",
    "print(\"Modulus operation=\\n\",arr1%arr2)"
   ]
  },
  {
   "cell_type": "markdown",
   "id": "9f1c03be",
   "metadata": {},
   "source": [
    "##### Program using multiple arrays  to perform Relational operations"
   ]
  },
  {
   "cell_type": "code",
   "execution_count": 111,
   "id": "ef05f02e",
   "metadata": {},
   "outputs": [
    {
     "data": {
      "text/plain": [
       "array([False, False, False, False, False])"
      ]
     },
     "execution_count": 111,
     "metadata": {},
     "output_type": "execute_result"
    }
   ],
   "source": [
    "arr1==arr2"
   ]
  },
  {
   "cell_type": "code",
   "execution_count": 112,
   "id": "29c821a4",
   "metadata": {},
   "outputs": [
    {
     "data": {
      "text/plain": [
       "array([ True,  True,  True,  True,  True])"
      ]
     },
     "execution_count": 112,
     "metadata": {},
     "output_type": "execute_result"
    }
   ],
   "source": [
    "arr1!=arr2"
   ]
  },
  {
   "cell_type": "code",
   "execution_count": 113,
   "id": "66271d7b",
   "metadata": {},
   "outputs": [
    {
     "data": {
      "text/plain": [
       "array([False, False, False, False, False])"
      ]
     },
     "execution_count": 113,
     "metadata": {},
     "output_type": "execute_result"
    }
   ],
   "source": [
    "arr1>arr2"
   ]
  },
  {
   "cell_type": "code",
   "execution_count": 114,
   "id": "abdb6b73",
   "metadata": {},
   "outputs": [
    {
     "data": {
      "text/plain": [
       "array([ True,  True,  True,  True,  True])"
      ]
     },
     "execution_count": 114,
     "metadata": {},
     "output_type": "execute_result"
    }
   ],
   "source": [
    "arr1<arr2"
   ]
  },
  {
   "cell_type": "code",
   "execution_count": 115,
   "id": "7f54794b",
   "metadata": {},
   "outputs": [
    {
     "data": {
      "text/plain": [
       "array([False, False, False, False, False])"
      ]
     },
     "execution_count": 115,
     "metadata": {},
     "output_type": "execute_result"
    }
   ],
   "source": [
    "arr1>=arr2"
   ]
  },
  {
   "cell_type": "code",
   "execution_count": 116,
   "id": "16247767",
   "metadata": {},
   "outputs": [
    {
     "data": {
      "text/plain": [
       "array([ True,  True,  True,  True,  True])"
      ]
     },
     "execution_count": 116,
     "metadata": {},
     "output_type": "execute_result"
    }
   ],
   "source": [
    "arr1<=arr2"
   ]
  },
  {
   "cell_type": "markdown",
   "id": "e023a3b0",
   "metadata": {},
   "source": [
    "## Multidimensional Arrays\n",
    "> The simplest form of multidimensional arrays are 2D arrays.A 2D array as **rows and columns**.It can also be considered as **list of 1D arrays**.A 2D array has size [m][n],where m is rows and n is columns"
   ]
  },
  {
   "cell_type": "markdown",
   "id": "ab355da5",
   "metadata": {},
   "source": [
    "### Creating Multidimensional Arrays\n",
    "\n",
    "> A Multidimensional array can be created using **array(),reshape(),matrix(),Zeros(),ones()** function.\n",
    "\n",
    ">> A **2D array** is represented using [] for rows and columns and both the [] are inside the main [].\n",
    "\n",
    ">> The **array()** function uses [] outside all elements to denote one row of the array.\n",
    "\n",
    ">> The **matrix()** function uses semicolon (;) to separate a row from the other.\n",
    "\n",
    ">> The **reshape()** function converts the 1D array into multidimensional array on the basis of specified arugment for rows and columns.\n",
    "\n",
    ">> The **zeros() and ones()** function create multidimensional array of specified dimensions and fill them with zeros and ones, respectively."
   ]
  },
  {
   "cell_type": "code",
   "execution_count": 123,
   "id": "c2262cd0",
   "metadata": {},
   "outputs": [
    {
     "name": "stdout",
     "output_type": "stream",
     "text": [
      "2D array using array function :\n",
      " [[10 20 30 40]\n",
      " [50 60 70 80]]\n",
      "\n",
      "Dimensions= 2\n"
     ]
    }
   ],
   "source": [
    "# Creating 2D array using array()\n",
    "array1=np.array([[10,20,30,40],[50,60,70,80]])\n",
    "print(\"2D array using array function :\\n\",array1)\n",
    "print(\"\\nDimensions=\",np.ndim(array1))"
   ]
  },
  {
   "cell_type": "code",
   "execution_count": 125,
   "id": "1453ab9e",
   "metadata": {},
   "outputs": [
    {
     "name": "stdout",
     "output_type": "stream",
     "text": [
      "2D array using matrix function :\n",
      " [[1 2]\n",
      " [3 4]\n",
      " [5 6]]\n",
      "\n",
      "Dimensions= 2\n"
     ]
    }
   ],
   "source": [
    "# Creating 2D array using matrix()\n",
    "array2=np.matrix('1 2;3 4;5 6')\n",
    "print(\"2D array using matrix function :\\n\",array2)\n",
    "print(\"\\nDimensions=\",np.ndim(array2))"
   ]
  },
  {
   "cell_type": "code",
   "execution_count": 136,
   "id": "c67e9541",
   "metadata": {},
   "outputs": [
    {
     "name": "stdout",
     "output_type": "stream",
     "text": [
      "2D array using reshape function :\n",
      " [[10 20]\n",
      " [30 40]\n",
      " [50 60]]\n",
      "\n",
      "Dimensions= 2\n"
     ]
    }
   ],
   "source": [
    "# Creating 2D array using reshape()\n",
    "array3=np.array([10,20,30,40,50,60])\n",
    "array3=np.reshape(array3,(3,2)) # (2,3) indicates (rows and columns )\n",
    "print(\"2D array using reshape function :\\n\",array3)\n",
    "print(\"\\nDimensions=\",np.ndim(array3))"
   ]
  },
  {
   "cell_type": "code",
   "execution_count": 129,
   "id": "9b2a5c1d",
   "metadata": {},
   "outputs": [
    {
     "name": "stdout",
     "output_type": "stream",
     "text": [
      "2D array using zeros function :\n",
      " [[0. 0.]\n",
      " [0. 0.]\n",
      " [0. 0.]\n",
      " [0. 0.]]\n",
      "\n",
      "Dimensions= 2\n"
     ]
    }
   ],
   "source": [
    "# Creating 2D array using zeros()\n",
    "array4=np.zeros((4,2))\n",
    "print(\"2D array using zeros function :\\n\",array4)\n",
    "print(\"\\nDimensions=\",np.ndim(array4))"
   ]
  },
  {
   "cell_type": "code",
   "execution_count": 130,
   "id": "93d0c98e",
   "metadata": {},
   "outputs": [
    {
     "name": "stdout",
     "output_type": "stream",
     "text": [
      "2D array using zeros function :\n",
      " [[1. 1. 1.]\n",
      " [1. 1. 1.]\n",
      " [1. 1. 1.]]\n",
      "\n",
      "Dimensions= 2\n"
     ]
    }
   ],
   "source": [
    "# Creating 2D array using ones()\n",
    "array5=np.ones((3,3))\n",
    "print(\"2D array using zeros function :\\n\",array5)\n",
    "print(\"\\nDimensions=\",np.ndim(array5))"
   ]
  },
  {
   "cell_type": "markdown",
   "id": "4cc44a01",
   "metadata": {},
   "source": [
    "### Accessing elements in Multi-Dimensional arrays using Indexing and slicing"
   ]
  },
  {
   "cell_type": "code",
   "execution_count": 143,
   "id": "95f2cc94",
   "metadata": {},
   "outputs": [
    {
     "name": "stdout",
     "output_type": "stream",
     "text": [
      "[[10 20 30 40]\n",
      " [50 60 70 80]]\n"
     ]
    }
   ],
   "source": [
    "print(array1)\n"
   ]
  },
  {
   "cell_type": "code",
   "execution_count": 142,
   "id": "d230ea3c",
   "metadata": {},
   "outputs": [
    {
     "name": "stdout",
     "output_type": "stream",
     "text": [
      "10\n",
      "30\n",
      "40\n",
      "60\n",
      "70\n",
      "80\n"
     ]
    }
   ],
   "source": [
    "#Indexing\n",
    "print(array1[0][0])\n",
    "print(array1[0][2])\n",
    "print(array1[0][3])\n",
    "print(array1[1][1])\n",
    "print(array1[1][2])\n",
    "print(array1[1][3])"
   ]
  },
  {
   "cell_type": "code",
   "execution_count": 144,
   "id": "18bd415c",
   "metadata": {},
   "outputs": [
    {
     "data": {
      "text/plain": [
       "array([[10, 12, 14, 16, 18],\n",
       "       [20, 22, 24, 26, 28],\n",
       "       [30, 32, 34, 36, 38],\n",
       "       [40, 42, 44, 46, 48]])"
      ]
     },
     "execution_count": 144,
     "metadata": {},
     "output_type": "execute_result"
    }
   ],
   "source": [
    "arr=np.reshape(range(10,50,2),(4,5))\n",
    "arr"
   ]
  },
  {
   "cell_type": "code",
   "execution_count": 152,
   "id": "7167e0fd",
   "metadata": {},
   "outputs": [
    {
     "name": "stdout",
     "output_type": "stream",
     "text": [
      "[[10 12 14 16 18]\n",
      " [20 22 24 26 28]\n",
      " [30 32 34 36 38]\n",
      " [40 42 44 46 48]]\n",
      "\n",
      "[[10 12 14 16 18]\n",
      " [20 22 24 26 28]]\n",
      "\n",
      "[30 32 34 36 38]\n",
      "\n",
      "[[10 12]\n",
      " [20 22]]\n",
      "\n",
      "[22 24 26]\n"
     ]
    }
   ],
   "source": [
    "# Slicing\n",
    "print(arr[:,:]) #displaying all elements\n",
    "print()\n",
    "print(arr[0:2,]) #displayint 1st 2 rows \n",
    "print()\n",
    "print(arr[2,]) #displaying only 2 row\n",
    "print()\n",
    "print(arr[0:2,0:2]) #displaying elements of 1st 2rows and 2 columns\n",
    "print()\n",
    "print(arr[1,1:4]) #displaying only 1st row 3rd,4th, and 5th column value"
   ]
  },
  {
   "cell_type": "markdown",
   "id": "fd6b6046",
   "metadata": {},
   "source": [
    "### Functions on multidimensional arrays"
   ]
  },
  {
   "cell_type": "code",
   "execution_count": 154,
   "id": "73de973f",
   "metadata": {},
   "outputs": [
    {
     "data": {
      "text/plain": [
       "matrix([[ 1,  2,  3],\n",
       "        [ 4,  5,  6],\n",
       "        [ 7,  8,  9],\n",
       "        [10, 11, 12]])"
      ]
     },
     "execution_count": 154,
     "metadata": {},
     "output_type": "execute_result"
    }
   ],
   "source": [
    "arr=np.matrix('1 2 3;4 5 6;7 8 9;10 11 12')\n",
    "arr"
   ]
  },
  {
   "cell_type": "code",
   "execution_count": 155,
   "id": "ca04cd40",
   "metadata": {},
   "outputs": [
    {
     "data": {
      "text/plain": [
       "matrix([[ 1,  4,  7, 10],\n",
       "        [ 2,  5,  8, 11],\n",
       "        [ 3,  6,  9, 12]])"
      ]
     },
     "execution_count": 155,
     "metadata": {},
     "output_type": "execute_result"
    }
   ],
   "source": [
    "# transpose()-> gives the transpose of a matrix\n",
    "arr.transpose()"
   ]
  },
  {
   "cell_type": "raw",
   "id": "7678f457",
   "metadata": {},
   "source": [
    "Transpose of a matrix:\n",
    "\n",
    "The transpose of a matrix is found by interchanging its rows into columns or columns into rows.\n",
    "If “A” is the given matrix, then the transpose of the matrix is represented by A' or AT."
   ]
  },
  {
   "cell_type": "code",
   "execution_count": 156,
   "id": "27025a4e",
   "metadata": {},
   "outputs": [
    {
     "data": {
      "text/plain": [
       "2"
      ]
     },
     "execution_count": 156,
     "metadata": {},
     "output_type": "execute_result"
    }
   ],
   "source": [
    "# ndim functions gives the dimensions of the array\n",
    "arr.ndim"
   ]
  },
  {
   "cell_type": "code",
   "execution_count": 157,
   "id": "ef140b96",
   "metadata": {},
   "outputs": [
    {
     "data": {
      "text/plain": [
       "(4, 3)"
      ]
     },
     "execution_count": 157,
     "metadata": {},
     "output_type": "execute_result"
    }
   ],
   "source": [
    "# The shape determines the shape of the array\n",
    "arr.shape"
   ]
  },
  {
   "cell_type": "code",
   "execution_count": 161,
   "id": "7d211ae0",
   "metadata": {},
   "outputs": [
    {
     "name": "stdout",
     "output_type": "stream",
     "text": [
      "a= [[ 1  2  3  4  5  6  7  8  9 10 11 12]]\n",
      "2\n"
     ]
    }
   ],
   "source": [
    "# flatten() flattens matrix and converts into 1D \n",
    "a=arr.flatten()\n",
    "print(\"a=\",a)\n",
    "print(a.ndim)"
   ]
  },
  {
   "cell_type": "code",
   "execution_count": 179,
   "id": "242b3e37",
   "metadata": {},
   "outputs": [
    {
     "data": {
      "text/plain": [
       "matrix([[ 3,  1,  2],\n",
       "        [ 7,  9,  8],\n",
       "        [ 6,  5,  4],\n",
       "        [11, 12, 10]])"
      ]
     },
     "execution_count": 179,
     "metadata": {},
     "output_type": "execute_result"
    }
   ],
   "source": [
    "arr=np.matrix('3 1 2;7 9 8;6 5 4;11 12 10')\n",
    "arr"
   ]
  },
  {
   "cell_type": "code",
   "execution_count": 180,
   "id": "59e43a4f",
   "metadata": {},
   "outputs": [
    {
     "data": {
      "text/plain": [
       "matrix([[ 1,  2,  3],\n",
       "        [ 7,  8,  9],\n",
       "        [ 4,  5,  6],\n",
       "        [10, 11, 12]])"
      ]
     },
     "execution_count": 180,
     "metadata": {},
     "output_type": "execute_result"
    }
   ],
   "source": [
    "# sort() with axis=1(default) sorts the matrix on row basis\n",
    "np.sort(arr,axis=1)"
   ]
  },
  {
   "cell_type": "code",
   "execution_count": 181,
   "id": "719a996a",
   "metadata": {},
   "outputs": [
    {
     "data": {
      "text/plain": [
       "matrix([[ 3,  1,  2],\n",
       "        [ 6,  5,  4],\n",
       "        [ 7,  9,  8],\n",
       "        [11, 12, 10]])"
      ]
     },
     "execution_count": 181,
     "metadata": {},
     "output_type": "execute_result"
    }
   ],
   "source": [
    "# sort() with axis=0(default) sorts the matrix on column basis\n",
    "np.sort(arr,axis=0)"
   ]
  },
  {
   "cell_type": "code",
   "execution_count": 187,
   "id": "a347a1ba",
   "metadata": {},
   "outputs": [
    {
     "data": {
      "text/plain": [
       "array([3, 9, 4])"
      ]
     },
     "execution_count": 187,
     "metadata": {},
     "output_type": "execute_result"
    }
   ],
   "source": [
    "# the diagonal() function helps to determine the diagonal elements\n",
    "np.diagonal(arr)"
   ]
  },
  {
   "cell_type": "markdown",
   "id": "026d086c",
   "metadata": {},
   "source": [
    "##### Mathematical operations on Multidimensional arrays"
   ]
  },
  {
   "cell_type": "code",
   "execution_count": 205,
   "id": "819c39ff",
   "metadata": {},
   "outputs": [
    {
     "name": "stdout",
     "output_type": "stream",
     "text": [
      "[[ 1  2  3]\n",
      " [13 14 15]\n",
      " [ 7  8  9]]\n",
      "\n",
      "[[10 11 12]\n",
      " [13 14 15]\n",
      " [ 4  5  6]]\n"
     ]
    }
   ],
   "source": [
    "arr1=np.matrix('1 2 3;13 14 15;7 8 9')\n",
    "arr2=np.matrix('10 11 12;13 14 15;4 5 6')\n",
    "print(arr1)\n",
    "print()\n",
    "print(arr2)"
   ]
  },
  {
   "cell_type": "code",
   "execution_count": 206,
   "id": "cfd61c92",
   "metadata": {},
   "outputs": [
    {
     "data": {
      "text/plain": [
       "matrix([[11, 13, 15],\n",
       "        [26, 28, 30],\n",
       "        [11, 13, 15]])"
      ]
     },
     "execution_count": 206,
     "metadata": {},
     "output_type": "execute_result"
    }
   ],
   "source": [
    "arr1+arr2"
   ]
  },
  {
   "cell_type": "code",
   "execution_count": 207,
   "id": "4b2e4598",
   "metadata": {},
   "outputs": [
    {
     "data": {
      "text/plain": [
       "matrix([[-9, -9, -9],\n",
       "        [ 0,  0,  0],\n",
       "        [ 3,  3,  3]])"
      ]
     },
     "execution_count": 207,
     "metadata": {},
     "output_type": "execute_result"
    }
   ],
   "source": [
    "arr1-arr2"
   ]
  },
  {
   "cell_type": "code",
   "execution_count": 208,
   "id": "c19b1060",
   "metadata": {},
   "outputs": [
    {
     "data": {
      "text/plain": [
       "matrix([[ 48,  54,  60],\n",
       "        [372, 414, 456],\n",
       "        [210, 234, 258]])"
      ]
     },
     "execution_count": 208,
     "metadata": {},
     "output_type": "execute_result"
    }
   ],
   "source": [
    "arr1*arr2"
   ]
  },
  {
   "cell_type": "code",
   "execution_count": 209,
   "id": "d548a19c",
   "metadata": {},
   "outputs": [
    {
     "name": "stdout",
     "output_type": "stream",
     "text": [
      "[[0.1        0.18181818 0.25      ]\n",
      " [1.         1.         1.        ]\n",
      " [1.75       1.6        1.5       ]]\n",
      "\n",
      " [[0 0 0]\n",
      " [1 1 1]\n",
      " [1 1 1]]\n"
     ]
    }
   ],
   "source": [
    "print(arr1/arr2)#only element wise matrix  division is possible \n",
    "print(\"\\n\",arr1//arr2 )"
   ]
  },
  {
   "cell_type": "raw",
   "id": "c292692f",
   "metadata": {},
   "source": [
    "#matrix division is not possible \n",
    "\n",
    "suppose A,B are non zero matrices such that AB=0.If we divide B by A we get A=0/B=0 which is a contradiction"
   ]
  },
  {
   "cell_type": "code",
   "execution_count": 210,
   "id": "1ac4e20c",
   "metadata": {},
   "outputs": [
    {
     "name": "stdout",
     "output_type": "stream",
     "text": [
      "[[1 2 3]\n",
      " [0 0 0]\n",
      " [3 3 3]]\n"
     ]
    }
   ],
   "source": [
    "print(arr1%arr2)"
   ]
  },
  {
   "cell_type": "markdown",
   "id": "16d93df8",
   "metadata": {},
   "source": [
    "##### Relational operations on multi-dimensional arrays\n"
   ]
  },
  {
   "cell_type": "code",
   "execution_count": 211,
   "id": "c3728a6d",
   "metadata": {},
   "outputs": [
    {
     "data": {
      "text/plain": [
       "matrix([[False, False, False],\n",
       "        [ True,  True,  True],\n",
       "        [False, False, False]])"
      ]
     },
     "execution_count": 211,
     "metadata": {},
     "output_type": "execute_result"
    }
   ],
   "source": [
    "arr1==arr2"
   ]
  },
  {
   "cell_type": "code",
   "execution_count": 212,
   "id": "156fdb17",
   "metadata": {},
   "outputs": [
    {
     "data": {
      "text/plain": [
       "matrix([[ True,  True,  True],\n",
       "        [False, False, False],\n",
       "        [ True,  True,  True]])"
      ]
     },
     "execution_count": 212,
     "metadata": {},
     "output_type": "execute_result"
    }
   ],
   "source": [
    "arr1!=arr2"
   ]
  },
  {
   "cell_type": "code",
   "execution_count": 214,
   "id": "3f00b42e",
   "metadata": {},
   "outputs": [
    {
     "data": {
      "text/plain": [
       "matrix([[False, False, False],\n",
       "        [False, False, False],\n",
       "        [ True,  True,  True]])"
      ]
     },
     "execution_count": 214,
     "metadata": {},
     "output_type": "execute_result"
    }
   ],
   "source": [
    "arr1>arr2"
   ]
  },
  {
   "cell_type": "code",
   "execution_count": 215,
   "id": "d380151b",
   "metadata": {},
   "outputs": [
    {
     "data": {
      "text/plain": [
       "matrix([[ True,  True,  True],\n",
       "        [False, False, False],\n",
       "        [False, False, False]])"
      ]
     },
     "execution_count": 215,
     "metadata": {},
     "output_type": "execute_result"
    }
   ],
   "source": [
    "arr1<arr2"
   ]
  },
  {
   "cell_type": "code",
   "execution_count": 216,
   "id": "5adda80e",
   "metadata": {},
   "outputs": [
    {
     "data": {
      "text/plain": [
       "matrix([[False, False, False],\n",
       "        [ True,  True,  True],\n",
       "        [ True,  True,  True]])"
      ]
     },
     "execution_count": 216,
     "metadata": {},
     "output_type": "execute_result"
    }
   ],
   "source": [
    "arr1>=arr2"
   ]
  },
  {
   "cell_type": "code",
   "execution_count": 217,
   "id": "30981529",
   "metadata": {},
   "outputs": [
    {
     "data": {
      "text/plain": [
       "matrix([[ True,  True,  True],\n",
       "        [ True,  True,  True],\n",
       "        [False, False, False]])"
      ]
     },
     "execution_count": 217,
     "metadata": {},
     "output_type": "execute_result"
    }
   ],
   "source": [
    "arr1<=arr2"
   ]
  },
  {
   "cell_type": "markdown",
   "id": "348fc500",
   "metadata": {},
   "source": [
    "* * *"
   ]
  },
  {
   "cell_type": "markdown",
   "id": "8a8de0cd",
   "metadata": {},
   "source": [
    "##### linspace()\n",
    "> The linspace() function is a tool in numpy for **creating numeric sequence**.It is used to create an **evenly spread sequence in a specified range**.\n",
    "<code>Syntax:\n",
    "    numpy.linspace(start,stop,num=50,endpoint=True,retstep=False,dtype=None)</code>\n",
    "   "
   ]
  },
  {
   "cell_type": "code",
   "execution_count": 238,
   "id": "715f9010",
   "metadata": {},
   "outputs": [
    {
     "data": {
      "text/plain": [
       "array([ 0.        ,  1.11111111,  2.22222222,  3.33333333,  4.44444444,\n",
       "        5.55555556,  6.66666667,  7.77777778,  8.88888889, 10.        ])"
      ]
     },
     "execution_count": 238,
     "metadata": {},
     "output_type": "execute_result"
    }
   ],
   "source": [
    "a=np.linspace(0,10,10)\n",
    "a"
   ]
  },
  {
   "cell_type": "markdown",
   "id": "a892b01c",
   "metadata": {},
   "source": [
    "* * *"
   ]
  },
  {
   "cell_type": "markdown",
   "id": "2755859a",
   "metadata": {},
   "source": [
    "### Array operations"
   ]
  },
  {
   "cell_type": "code",
   "execution_count": 239,
   "id": "4ef3e970",
   "metadata": {},
   "outputs": [
    {
     "data": {
      "text/plain": [
       "matrix([[1, 2, 3],\n",
       "        [4, 5, 6],\n",
       "        [7, 8, 9]])"
      ]
     },
     "execution_count": 239,
     "metadata": {},
     "output_type": "execute_result"
    }
   ],
   "source": [
    "matrix1=np.matrix('1 2 3;4 5 6;7 8 9')\n",
    "matrix1"
   ]
  },
  {
   "cell_type": "code",
   "execution_count": 240,
   "id": "55a65a92",
   "metadata": {},
   "outputs": [
    {
     "data": {
      "text/plain": [
       "matrix([[ 3.15251974e+15, -6.30503948e+15,  3.15251974e+15],\n",
       "        [-6.30503948e+15,  1.26100790e+16, -6.30503948e+15],\n",
       "        [ 3.15251974e+15, -6.30503948e+15,  3.15251974e+15]])"
      ]
     },
     "execution_count": 240,
     "metadata": {},
     "output_type": "execute_result"
    }
   ],
   "source": [
    "np.linalg.inv(matrix1) # to find the inverse of the matrix"
   ]
  },
  {
   "cell_type": "markdown",
   "id": "58170d80",
   "metadata": {},
   "source": [
    "### Good to know!\n",
    "\n",
    ">**Inverse of a matrix :**\n",
    ">>Inverse of Matrix for a matrix A is denoted by A<sup>-1</sup>. The inverse of a 2 × 2 matrix can be calculated using a simple formula. Further, to find the inverse of a 3 × 3 matrix, we need to know about the determinant and adjoint of the matrix. \n",
    "\n",
    "###### The inverse matrix formula for a matrix A is given as,\n",
    "$$A^{-1}= {\\frac{adj(A)}{|A|}} |A|≠ 0 \\ where \\ A \\ is \\ a \\ square \\ matrix $$\n",
    "\n",
    ">**NOTE:** For inverse of a matrix to exist:\n",
    "><li>The given matrix should be a square matrix.</li>\n",
    "><li>The determinant of the matrix should not be equal to zero</li>\n",
    "\n",
    ">**Singular Matrix :** A matrix having a determinant value of zero is referred to as a singular matrix. For a singular matrix A, |A| = 0. The inverse of a singular matrix does not exist.\n",
    "\n",
    ">**Non-Singular Matrix :** A matrix whose determinant value is not equal to zero is referred to as a non-singular matrix. For a non-singular matrix |A| ≠ 0. A non-singular matrix is called an invertible matrix since its inverse can be calculated.\n",
    "\n",
    ">**Minor :** The minor is defined for every element of a matrix. The minor of a particular element is the determinant obtained after eliminating the row and column containing this element.\n",
    "\n",
    "> **Cofactor :** The cofactor of an element is calculated by multiplying the minor with -1 to the exponent of the sum of the row and column elements in order representation of that element.\n",
    "\n",
    "$$ cofactor=a_{ij}=(-1)^{(i + j)} * minor \\ of \\ a_{ij}$$\n",
    "\n",
    "> **Determinant:** The determinant of a matrix is the single unique value representation of a matrix. The determinant of the matrix can be calculated with reference to any row or column of the given matrix. The determinant of the matrix is equal to the summation of the product of the elements and its cofactors, of a particular row or column of the matrix.\n"
   ]
  },
  {
   "cell_type": "code",
   "execution_count": 241,
   "id": "d54cdabc",
   "metadata": {},
   "outputs": [
    {
     "data": {
      "text/plain": [
       "-9.51619735392994e-16"
      ]
     },
     "execution_count": 241,
     "metadata": {},
     "output_type": "execute_result"
    }
   ],
   "source": [
    "np.linalg.det(matrix1)   # to find the determinant of the matrix "
   ]
  },
  {
   "cell_type": "code",
   "execution_count": 243,
   "id": "88e43dd7",
   "metadata": {},
   "outputs": [
    {
     "data": {
      "text/plain": [
       "matrix([[7, 8, 9],\n",
       "        [4, 5, 6],\n",
       "        [1, 2, 3]])"
      ]
     },
     "execution_count": 243,
     "metadata": {},
     "output_type": "execute_result"
    }
   ],
   "source": [
    "np.flipud(matrix1) # flips the matrix upside down"
   ]
  },
  {
   "cell_type": "code",
   "execution_count": 244,
   "id": "055e2dee",
   "metadata": {},
   "outputs": [
    {
     "data": {
      "text/plain": [
       "matrix([[7, 5, 3]])"
      ]
     },
     "execution_count": 244,
     "metadata": {},
     "output_type": "execute_result"
    }
   ],
   "source": [
    "np.flipud(matrix1).diagonal()  # fetching the diagonal elements after flipping the matrix"
   ]
  },
  {
   "cell_type": "code",
   "execution_count": 246,
   "id": "a5387f61",
   "metadata": {},
   "outputs": [
    {
     "data": {
      "text/plain": [
       "matrix([[3, 2, 1],\n",
       "        [6, 5, 4],\n",
       "        [9, 8, 7]])"
      ]
     },
     "execution_count": 246,
     "metadata": {},
     "output_type": "execute_result"
    }
   ],
   "source": [
    "np.fliplr(matrix1) # flips the matrix left-to-right "
   ]
  },
  {
   "cell_type": "code",
   "execution_count": 247,
   "id": "f1444029",
   "metadata": {},
   "outputs": [
    {
     "data": {
      "text/plain": [
       "matrix([[15]])"
      ]
     },
     "execution_count": 247,
     "metadata": {},
     "output_type": "execute_result"
    }
   ],
   "source": [
    "matrix1.trace()  # gives the sum of the main diagonal elements!!"
   ]
  },
  {
   "cell_type": "code",
   "execution_count": 248,
   "id": "d997169f",
   "metadata": {},
   "outputs": [
    {
     "data": {
      "text/plain": [
       "matrix([[1, 4, 7],\n",
       "        [2, 5, 8],\n",
       "        [3, 6, 9]])"
      ]
     },
     "execution_count": 248,
     "metadata": {},
     "output_type": "execute_result"
    }
   ],
   "source": [
    "matrix1.T   # matrix transpose (convert the rows into columns)"
   ]
  },
  {
   "cell_type": "code",
   "execution_count": 249,
   "id": "02a4775d",
   "metadata": {},
   "outputs": [
    {
     "data": {
      "text/plain": [
       "2"
      ]
     },
     "execution_count": 249,
     "metadata": {},
     "output_type": "execute_result"
    }
   ],
   "source": [
    "np.linalg.matrix_rank(matrix1)  # matrix has 3 columns, BUT the rank is 2\n",
    "# (there are only 2 independent cols)\n",
    "# clearly tells us that one of the columns represented as some functions of one of the other column."
   ]
  },
  {
   "cell_type": "code",
   "execution_count": 250,
   "id": "f4592802",
   "metadata": {},
   "outputs": [],
   "source": [
    "eig_values, eig_vectors = np.linalg.eig(matrix1)"
   ]
  },
  {
   "cell_type": "code",
   "execution_count": 251,
   "id": "ecfe3fb9",
   "metadata": {},
   "outputs": [
    {
     "data": {
      "text/plain": [
       "array([ 1.61168440e+01, -1.11684397e+00, -3.38433605e-16])"
      ]
     },
     "execution_count": 251,
     "metadata": {},
     "output_type": "execute_result"
    }
   ],
   "source": [
    "eig_values"
   ]
  },
  {
   "cell_type": "code",
   "execution_count": 252,
   "id": "df157e1a",
   "metadata": {},
   "outputs": [
    {
     "data": {
      "text/plain": [
       "matrix([[-0.23197069, -0.78583024,  0.40824829],\n",
       "        [-0.52532209, -0.08675134, -0.81649658],\n",
       "        [-0.8186735 ,  0.61232756,  0.40824829]])"
      ]
     },
     "execution_count": 252,
     "metadata": {},
     "output_type": "execute_result"
    }
   ],
   "source": [
    "eig_vectors "
   ]
  },
  {
   "cell_type": "code",
   "execution_count": 253,
   "id": "6a47d7a6",
   "metadata": {},
   "outputs": [
    {
     "data": {
      "text/plain": [
       "array([[1, 0, 0],\n",
       "       [0, 3, 0],\n",
       "       [0, 0, 6]])"
      ]
     },
     "execution_count": 253,
     "metadata": {},
     "output_type": "execute_result"
    }
   ],
   "source": [
    "v = [1,3,6]\n",
    "np.diag(v)   # creates a DIAGONAL Matrix (only the main diag elelments are NON-ZERO)"
   ]
  },
  {
   "cell_type": "code",
   "execution_count": 254,
   "id": "a2f7a8ee",
   "metadata": {},
   "outputs": [
    {
     "data": {
      "text/plain": [
       "array([[1., 0., 0., 0.],\n",
       "       [0., 1., 0., 0.],\n",
       "       [0., 0., 1., 0.],\n",
       "       [0., 0., 0., 1.]])"
      ]
     },
     "execution_count": 254,
     "metadata": {},
     "output_type": "execute_result"
    }
   ],
   "source": [
    "np.eye(4)  # special case of a diagonal matrix (non-zero elements are one!!)"
   ]
  },
  {
   "cell_type": "code",
   "execution_count": 255,
   "id": "0ff13cd4",
   "metadata": {},
   "outputs": [
    {
     "data": {
      "text/plain": [
       "array([1.        , 1.25992105, 1.58740105, 2.        , 2.5198421 ,\n",
       "       3.1748021 , 4.        , 5.0396842 , 6.34960421, 8.        ])"
      ]
     },
     "execution_count": 255,
     "metadata": {},
     "output_type": "execute_result"
    }
   ],
   "source": [
    "np.logspace(0, 3, 10, base=2) "
   ]
  },
  {
   "cell_type": "code",
   "execution_count": null,
   "id": "02119bb8",
   "metadata": {},
   "outputs": [],
   "source": []
  },
  {
   "cell_type": "code",
   "execution_count": null,
   "id": "13cfe910",
   "metadata": {},
   "outputs": [],
   "source": []
  },
  {
   "cell_type": "code",
   "execution_count": null,
   "id": "f408a8c9",
   "metadata": {},
   "outputs": [],
   "source": []
  },
  {
   "cell_type": "code",
   "execution_count": null,
   "id": "7ccab301",
   "metadata": {},
   "outputs": [],
   "source": []
  },
  {
   "cell_type": "code",
   "execution_count": null,
   "id": "b37217ba",
   "metadata": {},
   "outputs": [],
   "source": []
  },
  {
   "cell_type": "code",
   "execution_count": null,
   "id": "eb349f8b",
   "metadata": {},
   "outputs": [],
   "source": []
  }
 ],
 "metadata": {
  "kernelspec": {
   "display_name": "Python 3 (ipykernel)",
   "language": "python",
   "name": "python3"
  },
  "language_info": {
   "codemirror_mode": {
    "name": "ipython",
    "version": 3
   },
   "file_extension": ".py",
   "mimetype": "text/x-python",
   "name": "python",
   "nbconvert_exporter": "python",
   "pygments_lexer": "ipython3",
   "version": "3.9.7"
  }
 },
 "nbformat": 4,
 "nbformat_minor": 5
}
