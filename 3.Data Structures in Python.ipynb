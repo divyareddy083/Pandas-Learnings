{
 "cells": [
  {
   "cell_type": "markdown",
   "id": "cd6fbe83",
   "metadata": {},
   "source": [
    "# Data Structures\n",
    "\n",
    ">Python has **4** basic **inbuilt** data structures namely **Lists,Dictionary,Tuple, and set**.\n",
    "\n",
    ">Apart from then there are many **primitive data structures(like int,float,string,etc.,)**"
   ]
  },
  {
   "cell_type": "markdown",
   "id": "aaaf0f2e",
   "metadata": {},
   "source": [
    "* * *"
   ]
  },
  {
   "cell_type": "markdown",
   "id": "18609588",
   "metadata": {},
   "source": [
    "## Strings in Python\n",
    "\n",
    "> A string is a sequence of characters.It can be declared in Python using single/double/trible quotes.\n",
    ">> Strings are **Immutable** i.e.,they cannot be changed"
   ]
  },
  {
   "cell_type": "code",
   "execution_count": 16,
   "id": "4426a4dc",
   "metadata": {},
   "outputs": [
    {
     "name": "stdout",
     "output_type": "stream",
     "text": [
      "Welcome to the world of Python Programming\n"
     ]
    },
    {
     "data": {
      "text/plain": [
       "str"
      ]
     },
     "execution_count": 16,
     "metadata": {},
     "output_type": "execute_result"
    }
   ],
   "source": [
    " # Assiging string to a variable\n",
    "s1=\"Welcome to the world of Python Programming\"\n",
    "print(s1)\n",
    "type(s1)"
   ]
  },
  {
   "cell_type": "markdown",
   "id": "77a7ec3b",
   "metadata": {},
   "source": [
    "* * *"
   ]
  },
  {
   "cell_type": "markdown",
   "id": "ade22c14",
   "metadata": {},
   "source": [
    "## Lists in Python\n",
    "\n",
    ">A list is a **collection of objects** and basically represents an ordered sequence of data.It is similar to string which is a **collection of characters**.They are just like the arrays declared in other programming language ,but the most powerful thing is that list need not to be always **homogeneous**.\n",
    "\n",
    ">A single list may contain **strings,integers,as well as objects**.They can also be used in implementing **stacks and queues**\n",
    "\n",
    ">Lists are **mutable** i.e.,they can be changed.\n",
    ">Lists are **indexable, iterable, sortable**(list is sortable ONLY IF it contains objects of the SAME datatype.)"
   ]
  },
  {
   "cell_type": "markdown",
   "id": "0e74b680",
   "metadata": {},
   "source": [
    "### Creating a List\n",
    "> A list is created by using **square brackets([])** and like any other variable ,a list variable must be assigned before it is used.Each element/object in the list is separed using **comma(,)**."
   ]
  },
  {
   "cell_type": "code",
   "execution_count": 15,
   "id": "78ebbb98",
   "metadata": {},
   "outputs": [
    {
     "name": "stdout",
     "output_type": "stream",
     "text": [
      "[1, 2, 3, 4, 5, 6, 7, 8, 9, 10]\n"
     ]
    },
    {
     "data": {
      "text/plain": [
       "list"
      ]
     },
     "execution_count": 15,
     "metadata": {},
     "output_type": "execute_result"
    }
   ],
   "source": [
    "#Creating a simple list to store values from 1 to 10\n",
    "L1=[1,2,3,4,5,6,7,8,9,10]\n",
    "print(L1)\n",
    "type(L1)"
   ]
  },
  {
   "cell_type": "code",
   "execution_count": 11,
   "id": "171cbe21",
   "metadata": {},
   "outputs": [
    {
     "name": "stdout",
     "output_type": "stream",
     "text": [
      "Please enter 5 decimal numbers: \n",
      "Enter number 1: 1\n",
      "Enter number 2: 2\n",
      "Enter number 3: 3\n",
      "Enter number 4: 4\n",
      "Enter number 5: 5\n",
      "The numbers entered are: \n",
      "1.0 2.0 3.0 4.0 5.0 \n",
      "The sum of numbers is: 15.0\n"
     ]
    }
   ],
   "source": [
    "#Program to add numbers using list.\n",
    "\n",
    "print(\"Please enter 5 decimal numbers: \")\n",
    "total=0\n",
    "\n",
    "#Creating an empty list.\n",
    "firstlist=[]\n",
    "\n",
    "#using for loop to take input of numbers and storing in the above empty list\n",
    "for i in range(0,5): # range() is used to produce a regular sequence of integers!\n",
    "    value=float(input(\"Enter number \"+str(i+1)+\": \"))\n",
    "    firstlist+=[value]\n",
    "    total+=value\n",
    "    \n",
    "#Displaying the numbers using for loop\n",
    "print(\"The numbers entered are: \")\n",
    "for num in firstlist:\n",
    "    print(num,end=\" \")\n",
    "    \n",
    "#Displaying the sum of all elements of a list.\n",
    "print()\n",
    "print(\"The sum of numbers is:\",total)"
   ]
  },
  {
   "cell_type": "markdown",
   "id": "d3e14783",
   "metadata": {},
   "source": [
    "##### Program to create list using list() and range()"
   ]
  },
  {
   "cell_type": "code",
   "execution_count": 27,
   "id": "7b657f7a",
   "metadata": {},
   "outputs": [
    {
     "name": "stdout",
     "output_type": "stream",
     "text": [
      "First list:\n",
      " [1, 2, 3, 4, 5, 6, 7, 8, 9, 10]\n",
      "Second list:\n",
      " [-3, -2, -1, 0, 1, 2, 3]\n",
      "Third list:\n",
      " [20, 18, 16, 14, 12, 10]\n",
      "Fourth list:\n",
      " [0, 2, 4, 6, 8, 10]\n"
     ]
    }
   ],
   "source": [
    "# Creating a list of +ve integers with default interval.\n",
    "list1=list(range(1,11))\n",
    "print(\"First list:\\n\",list1)\n",
    "\n",
    "# Creating a list of -ve to +ve integers with default interval\n",
    "list2=list(range(-3,4))\n",
    "print(\"Second list:\\n\",list2)\n",
    "\n",
    "# Creating a list of numbers in descending order with specified intervals\n",
    "list3=list(range(20,9,-2))\n",
    "print(\"Third list:\\n\",list3)\n",
    "\n",
    "# Creating a list of numbers in ascending order with specified intervals\n",
    "list4=list(range(0,11,2))\n",
    "print(\"Fourth list:\\n\",list4)\n"
   ]
  },
  {
   "cell_type": "markdown",
   "id": "1df07a25",
   "metadata": {},
   "source": [
    "##### List concatenation"
   ]
  },
  {
   "cell_type": "code",
   "execution_count": 29,
   "id": "838f81cf",
   "metadata": {},
   "outputs": [
    {
     "name": "stdout",
     "output_type": "stream",
     "text": [
      "The class of list5 is  <class 'list'>\n",
      "The class of list6 is  <class 'list'>\n",
      "The new list is =  [1, 2, 3, 4, 5, 6, 7, 8, 9, 10]\n",
      "The class of list7 is  <class 'list'>\n"
     ]
    }
   ],
   "source": [
    "# Program showing list concatenation\n",
    "\n",
    "list5=[1,2,3,4,5]\n",
    "list6=[6,7,8,9,10]\n",
    "print(\"The class of list5 is \",type(list5))\n",
    "print(\"The class of list6 is \",type(list6))\n",
    "\n",
    "#Concatenating above to lists into a single list\n",
    "list7=list5+list6\n",
    "print(\"The new list is = \",list7)\n",
    "print(\"The class of list7 is \",type(list7))"
   ]
  },
  {
   "cell_type": "markdown",
   "id": "87f1f0ea",
   "metadata": {},
   "source": [
    "### Accessing list elements\n",
    "\n",
    "> The list elements can be acessed by using **square brackets with its proper index**.\n",
    "> <code>list_name[index or order subscript]</code> \n",
    "> if a list as **n** elements its first element is accessed using **list_name[0]** and last element is accessed using **list_name[n-1]**\n",
    "\n",
    "> The list elements can be accessed using the concept of **Indexing and Slicing**."
   ]
  },
  {
   "cell_type": "code",
   "execution_count": 37,
   "id": "d83cf8f9",
   "metadata": {},
   "outputs": [
    {
     "name": "stdout",
     "output_type": "stream",
     "text": [
      "The elements present in the list are: 11\n",
      "The elements present in the list are: 12\n",
      "The elements present in the list are: 13\n",
      "The elements present in the list are: 14\n",
      "The elements present in the list are: 15\n",
      "---------------Using Negative indexing--------------\n",
      "The elements present in the list are: 15\n",
      "The elements present in the list are: 14\n",
      "The elements present in the list are: 13\n",
      "The elements present in the list are: 12\n",
      "The elements present in the list are: 11\n"
     ]
    }
   ],
   "source": [
    "# Program for accessing list elements \n",
    "list8=[11,12,13,14,15]\n",
    "\n",
    "#Using fo loop to display all elements in the list\n",
    "for num in range(0,5):\n",
    "    print('The elements present in the list are:',list8[num])\n",
    "    \n",
    "#using for loop and -ve indexing to display elements in list\n",
    "print(\"---------------Using Negative indexing--------------\")\n",
    "for val in range(-1,-6,-1):\n",
    "    print('The elements present in the list are:',list8[val])"
   ]
  },
  {
   "cell_type": "code",
   "execution_count": 46,
   "id": "289a1647",
   "metadata": {},
   "outputs": [
    {
     "name": "stdout",
     "output_type": "stream",
     "text": [
      "15 11\n",
      "15 11\n"
     ]
    }
   ],
   "source": [
    "#Positive indexing\n",
    "print(list8[4],list8[0])\n",
    "#negative indexing\n",
    "print(list8[-1],list8[-5])"
   ]
  },
  {
   "cell_type": "code",
   "execution_count": 58,
   "id": "ec07a465",
   "metadata": {},
   "outputs": [
    {
     "name": "stdout",
     "output_type": "stream",
     "text": [
      "The element 1 is:  a12.56\n",
      "The element 2 is:  -367\n",
      "The element 3 is:  ['India', 'USA', 'UK', 'China']\n",
      "The element 4 is:  countries\n",
      "List item of nested list is: India\n",
      "List item of nested list is: USA\n",
      "List item of nested list is: UK\n",
      "List item of nested list is: China\n"
     ]
    }
   ],
   "source": [
    "# Program for accessing elements in a heterogeneous list\n",
    "list9=['a12.56',-367,[\"India\",\"USA\",\"UK\",\"China\"],\"countries\"]\n",
    "\n",
    "# using for loop display all elements of the loop\n",
    "for val in range(0,4):\n",
    "    print(\"The element\",val+1,\"is: \",list9[val])\n",
    "    \n",
    "#accessing individual item of a nested list.\n",
    "for x in range(0,4):\n",
    "    print(\"List item of nested list is:\",list9[2][x])"
   ]
  },
  {
   "cell_type": "code",
   "execution_count": 60,
   "id": "78bfeb20",
   "metadata": {},
   "outputs": [
    {
     "ename": "IndexError",
     "evalue": "list index out of range",
     "output_type": "error",
     "traceback": [
      "\u001b[1;31m---------------------------------------------------------------------------\u001b[0m",
      "\u001b[1;31mIndexError\u001b[0m                                Traceback (most recent call last)",
      "\u001b[1;32mC:\\Users\\DIVYAJ~1\\AppData\\Local\\Temp/ipykernel_291108/3211331989.py\u001b[0m in \u001b[0;36m<module>\u001b[1;34m\u001b[0m\n\u001b[0;32m      1\u001b[0m \u001b[1;31m# Accessing element which is out of bounds leads to an error!!\u001b[0m\u001b[1;33m\u001b[0m\u001b[1;33m\u001b[0m\u001b[0m\n\u001b[0;32m      2\u001b[0m \u001b[1;33m\u001b[0m\u001b[0m\n\u001b[1;32m----> 3\u001b[1;33m \u001b[0mprint\u001b[0m\u001b[1;33m(\u001b[0m\u001b[0mlist9\u001b[0m\u001b[1;33m[\u001b[0m\u001b[1;36m5\u001b[0m\u001b[1;33m]\u001b[0m\u001b[1;33m)\u001b[0m\u001b[1;33m\u001b[0m\u001b[1;33m\u001b[0m\u001b[0m\n\u001b[0m",
      "\u001b[1;31mIndexError\u001b[0m: list index out of range"
     ]
    }
   ],
   "source": [
    "# Accessing element which is out of bounds leads to an error!!\n",
    "\n",
    "print(list9[5])"
   ]
  },
  {
   "cell_type": "markdown",
   "id": "ac1cc656",
   "metadata": {},
   "source": [
    "##### Slicing"
   ]
  },
  {
   "cell_type": "code",
   "execution_count": 62,
   "id": "4d17b5fd",
   "metadata": {},
   "outputs": [
    {
     "name": "stdout",
     "output_type": "stream",
     "text": [
      "Elements from 3rd index to 6th index:  [300, 400, 500]\n",
      "Elements starting from negative index not shown:  []\n",
      "Elements starting from 1st to 5th index:  [0, 100, 200, 300, 400]\n",
      "Elements starting from 5th index to the last index:  [500, 600, 700, 800, 900, 1000]\n",
      "Elements from 6th index to till the largest index:  [600, 700, 800, 900, 1000]\n",
      "Elements from higher starting index and lower ending index []\n"
     ]
    }
   ],
   "source": [
    "#Program for showing the use of list slicing\n",
    "\n",
    "list10=[0,100,200,300,400,500,600,700,800,900,1000]\n",
    "\n",
    "#Elements between the starting and ending index are displayed.\n",
    "print(\"Elements from 3rd index to 6th index: \",list10[3:6])\n",
    "\n",
    "#An empty list is returned if user enters a negative value for index\n",
    "print(\"Elements starting from negative index not shown: \",list10[-3:6])\n",
    "\n",
    "#The start value defaults to 0 ,if the beginning argument is missing\n",
    "print(\"Elements starting from 1st to 5th index: \",list10[:5])\n",
    "\n",
    "#The end value is missing ,it defaults to the length of the list.\n",
    "print(\"Elements starting from 5th index to the last index: \",list10[5:])\n",
    "\n",
    "#If the end value is greater than length of list is considered length of list.\n",
    "print('Elements from 6th index to till the largest index: ',list10[6:12])\n",
    "\n",
    "#if the starting value is greater than ending value,it returns a empty list!\n",
    "print(\"Elements from higher starting index and lower ending index\",list10[4:0])"
   ]
  },
  {
   "cell_type": "markdown",
   "id": "3c61af61",
   "metadata": {},
   "source": [
    "##### List modification"
   ]
  },
  {
   "cell_type": "code",
   "execution_count": 65,
   "id": "59565f3f",
   "metadata": {},
   "outputs": [
    {
     "name": "stdout",
     "output_type": "stream",
     "text": [
      "The original list is:  [0, 0.5, 1, 1.5, 2, 2.8, 3, 3.5, 4, 4.23, 5]\n",
      "The modified list is: [0, 0.5, 1, 1.5, 2, 2.5, 3, 3.5, 4, 4.5, 5]\n"
     ]
    }
   ],
   "source": [
    "# Program modifying the existing elements in a list\n",
    "list11=[0,0.5,1,1.5,2,2.8,3,3.5,4,4.23,5]\n",
    "print('The original list is: ',list11)\n",
    "list11[5]=2.5\n",
    "list11[9]=4.5\n",
    "print('The modified list is:',list11)"
   ]
  },
  {
   "cell_type": "code",
   "execution_count": 84,
   "id": "edcede68",
   "metadata": {},
   "outputs": [
    {
     "name": "stdout",
     "output_type": "stream",
     "text": [
      "Original list=  [[12, 24], 'PYTHON', 36, 48, 60, 'C']\n",
      "The list after replacing the values =  [[12, 24], 'PYTHON', 'A', 'B', 'C', 'D']\n",
      "The elements of the list after inserting multiple values at 1st index=  [[12, 24], 'Java', 'C', 'C++', 'PYTHON', 'A', 'B', 'C', 'D']\n",
      "List after deleting some elements from the list=  [[12, 24], 'A', 'B', 'C', 'D']\n"
     ]
    }
   ],
   "source": [
    "# program for adding,removing and modifying list items using slicing \n",
    "\n",
    "list12=[[12,24],\"PYTHON\",36,48,60,\"C\"]\n",
    "print(\"Original list= \",list12)\n",
    "\n",
    "#Replacing the desired list values\n",
    "list12[2:6]=[\"A\",\"B\",\"C\",\"D\"]\n",
    "print(\"The list after replacing the values = \",list12)\n",
    "\n",
    "#inserting multiple items in 1st index\n",
    "list12[1:1]=[\"Java\",\"C\",\"C++\"]\n",
    "print(\"The elements of the list after inserting multiple values at 1st index= \",list12)\n",
    "\n",
    "#Deleting some elements from the list\n",
    "list12[1:5]=[]\n",
    "print(\"List after deleting some elements from the list= \",list12)"
   ]
  },
  {
   "cell_type": "markdown",
   "id": "649e306d",
   "metadata": {},
   "source": [
    "### Functions for List\n",
    "> There are many in-built functions for lists in python like **insert(),copy(),len(),count(),index(),max(),min(),remove(),append(),sort(),sum(),etc.**"
   ]
  },
  {
   "cell_type": "code",
   "execution_count": 134,
   "id": "7596f55a",
   "metadata": {},
   "outputs": [
    {
     "name": "stdout",
     "output_type": "stream",
     "text": [
      "[1, 1, 2, 2, 3, 3, 3, 4, 4, 4, 4, 5, 5, 5, 5, 5, 6, 6, 6, 6, 6, 6, 7, 7, 7, 7, 7, 7, 7, 8, 8, 8, 8, 8, 8, 8, 8, 9, 10]\n"
     ]
    }
   ],
   "source": [
    "# Program to demonstrate functions on lists \n",
    "\n",
    "mylist=[1,1,2,2,3,3,3,4,4,4,4,5,5,5,5,5,6,6,6,6,6,6,7,7,7,7,7,7,7,8,8,8,8,8,8,8,8,9,10]\n",
    "print(mylist)"
   ]
  },
  {
   "cell_type": "code",
   "execution_count": 135,
   "id": "691e46af",
   "metadata": {},
   "outputs": [
    {
     "name": "stdout",
     "output_type": "stream",
     "text": [
      "The maximum value in the list is=  10\n",
      "The minimum value in the list is=  1\n",
      "The length of the list is=  39\n"
     ]
    }
   ],
   "source": [
    "# max() determines the maximum value in the list\n",
    "print(\"The maximum value in the list is= \",max(mylist))\n",
    "\n",
    "# min() determines the minimum value in the list\n",
    "print(\"The minimum value in the list is= \",min(mylist))\n",
    "\n",
    "# len() determines the length of the list\n",
    "print(\"The length of the list is= \",len(mylist))"
   ]
  },
  {
   "cell_type": "code",
   "execution_count": 136,
   "id": "ee9c2512",
   "metadata": {},
   "outputs": [
    {
     "name": "stdout",
     "output_type": "stream",
     "text": [
      "[1, 1, 2, 2, 3, 3, 3, 4, 4, 4, 4, 5, 5, 5, 5, 5, 6, 6, 6, 6, 6, 6, 7, 7, 7, 7, 7, 7, 7, 8, 8, 8, 8, 8, 8, 8, 8, 9, 10]\n",
      "\n",
      "Number of times 9 occured in the list 1\n"
     ]
    }
   ],
   "source": [
    "# count() returns number of times given element appears in the list\n",
    "print(mylist)\n",
    "print()\n",
    "print(\"Number of times 9 occured in the list\",mylist.count(9))"
   ]
  },
  {
   "cell_type": "code",
   "execution_count": 137,
   "id": "90cd3729",
   "metadata": {},
   "outputs": [
    {
     "name": "stdout",
     "output_type": "stream",
     "text": [
      "[1, 1, 2, 2, 3, 3, 3, 4, 4, 4, 4, 5, 5, 5, 5, 5, 6, 6, 6, 6, 6, 6, 7, 7, 7, 7, 7, 7, 7, 8, 8, 8, 8, 8, 8, 8, 8, 9, 10]\n",
      "\n",
      "The first position of 5 in list is=  11\n"
     ]
    }
   ],
   "source": [
    "# index() returns the lowest index of an element in the list\n",
    "# it produces the error if the element not present in the list and does not modify the list\n",
    "print(mylist)\n",
    "print()\n",
    "print(\"The first position of 5 in list is= \",mylist.index(5))"
   ]
  },
  {
   "cell_type": "code",
   "execution_count": 138,
   "id": "3b75533c",
   "metadata": {},
   "outputs": [
    {
     "name": "stdout",
     "output_type": "stream",
     "text": [
      "[1, 1, 2, 2, 3, 3, 3, 4, 4, 4, 4, 5, 5, 5, 5, 5, 6, 6, 6, 6, 6, 6, 7, 7, 7, 7, 7, 7, 7, 8, 8, 8, 8, 8, 8, 8, 8, 9, 10]\n",
      "\n",
      "The new list after removing an element from the list:\n",
      " [1, 1, 2, 3, 3, 3, 4, 4, 4, 4, 5, 5, 5, 5, 5, 6, 6, 6, 6, 6, 6, 7, 7, 7, 7, 7, 7, 7, 8, 8, 8, 8, 8, 8, 8, 8, 9, 10]\n"
     ]
    }
   ],
   "source": [
    "# remove() removes 1st occurence of element from the list\n",
    "# produces error if element not found and modifies the list\n",
    "print(mylist)\n",
    "print()\n",
    "mylist.remove(2)\n",
    "print(\"The new list after removing an element from the list:\\n\",mylist)"
   ]
  },
  {
   "cell_type": "code",
   "execution_count": 139,
   "id": "4e103c78",
   "metadata": {},
   "outputs": [
    {
     "name": "stdout",
     "output_type": "stream",
     "text": [
      "[1, 1, 2, 3, 3, 3, 4, 4, 4, 4, 5, 5, 5, 5, 5, 6, 6, 6, 6, 6, 6, 7, 7, 7, 7, 7, 7, 7, 8, 8, 8, 8, 8, 8, 8, 8, 9, 10]\n",
      "\n",
      "The new list after appending elements to the list=\n",
      " [1, 1, 2, 3, 3, 3, 4, 4, 4, 4, 5, 5, 5, 5, 5, 6, 6, 6, 6, 6, 6, 7, 7, 7, 7, 7, 7, 7, 8, 8, 8, 8, 8, 8, 8, 8, 9, 10, 11]\n"
     ]
    }
   ],
   "source": [
    "# append() adds new elements to the end of the list,Modifies the list\n",
    "print(mylist)\n",
    "print()\n",
    "mylist.append(11) #append() takes only 1 argument at a time\n",
    "print(\"The new list after appending elements to the list=\\n\",mylist)"
   ]
  },
  {
   "cell_type": "code",
   "execution_count": 140,
   "id": "23bbbdca",
   "metadata": {},
   "outputs": [
    {
     "name": "stdout",
     "output_type": "stream",
     "text": [
      "[1, 1, 2, 3, 3, 3, 4, 4, 4, 4, 5, 5, 5, 5, 5, 6, 6, 6, 6, 6, 6, 7, 7, 7, 7, 7, 7, 7, 8, 8, 8, 8, 8, 8, 8, 8, 9, 10, 11]\n",
      "\n",
      "The new list after inserting an element to the list:\n",
      " [1, 1, 18, 2, 3, 3, 3, 4, 4, 4, 4, 5, 5, 5, 5, 5, 6, 6, 6, 6, 6, 6, 7, 7, 7, 7, 7, 7, 7, 8, 8, 8, 8, 8, 8, 8, 8, 9, 10, 11]\n",
      "\n",
      "The length of the new list= 40\n"
     ]
    }
   ],
   "source": [
    "# insert() inserts new element before the element at a given index\n",
    "# increases the length of the list by 1 and modifies the list\n",
    "print(mylist)\n",
    "print()\n",
    "mylist.insert(2,18)\n",
    "print(\"The new list after inserting an element to the list:\\n\",mylist)\n",
    "print()\n",
    "print(\"The length of the new list=\",len(mylist))"
   ]
  },
  {
   "cell_type": "code",
   "execution_count": 141,
   "id": "0df831e1",
   "metadata": {},
   "outputs": [
    {
     "name": "stdout",
     "output_type": "stream",
     "text": [
      "[1, 1, 18, 2, 3, 3, 3, 4, 4, 4, 4, 5, 5, 5, 5, 5, 6, 6, 6, 6, 6, 6, 7, 7, 7, 7, 7, 7, 7, 8, 8, 8, 8, 8, 8, 8, 8, 9, 10, 11]\n",
      "The 6th element of the list= 4\n",
      "The last element of the list= 11\n"
     ]
    }
   ],
   "source": [
    "# pop() returns elements at specified index.\n",
    "#if argument is not mention the function returns the last element\n",
    "print(mylist)\n",
    "print(\"The 6th element of the list=\",mylist.pop(7))\n",
    "print('The last element of the list=',mylist.pop())"
   ]
  },
  {
   "cell_type": "code",
   "execution_count": 148,
   "id": "42581d13",
   "metadata": {},
   "outputs": [
    {
     "name": "stdout",
     "output_type": "stream",
     "text": [
      "[1, 1, 2, 3, 3, 3, 4, 4, 4, 5, 5, 5, 5, 5, 6, 6, 6, 6, 6, 6, 7, 7, 7, 7, 7, 7, 7, 8, 8, 8, 8, 8, 8, 8, 8, 9, 10, 18]\n",
      "Reversed list=\n",
      " [18, 10, 9, 8, 8, 8, 8, 8, 8, 8, 8, 7, 7, 7, 7, 7, 7, 7, 6, 6, 6, 6, 6, 6, 5, 5, 5, 5, 5, 4, 4, 4, 3, 3, 3, 2, 1, 1]\n"
     ]
    }
   ],
   "source": [
    "# reverse() physically reverses the elements in the list\n",
    "print(mylist)\n",
    "mylist.reverse()\n",
    "print(\"Reversed list=\\n\",mylist)"
   ]
  },
  {
   "cell_type": "code",
   "execution_count": 149,
   "id": "adb50442",
   "metadata": {},
   "outputs": [
    {
     "name": "stdout",
     "output_type": "stream",
     "text": [
      "[18, 10, 9, 8, 8, 8, 8, 8, 8, 8, 8, 7, 7, 7, 7, 7, 7, 7, 6, 6, 6, 6, 6, 6, 5, 5, 5, 5, 5, 4, 4, 4, 3, 3, 3, 2, 1, 1]\n",
      "The sorted list=\n",
      " [1, 1, 2, 3, 3, 3, 4, 4, 4, 5, 5, 5, 5, 5, 6, 6, 6, 6, 6, 6, 7, 7, 7, 7, 7, 7, 7, 8, 8, 8, 8, 8, 8, 8, 8, 9, 10, 18]\n"
     ]
    }
   ],
   "source": [
    "# sorted() sorts the elements in the list in ascending order\n",
    "print(mylist)\n",
    "print(\"The sorted list=\\n\",sorted(mylist))"
   ]
  },
  {
   "cell_type": "code",
   "execution_count": 150,
   "id": "61c4ec5a",
   "metadata": {},
   "outputs": [
    {
     "name": "stdout",
     "output_type": "stream",
     "text": [
      "[18, 10, 9, 8, 8, 8, 8, 8, 8, 8, 8, 7, 7, 7, 7, 7, 7, 7, 6, 6, 6, 6, 6, 6, 5, 5, 5, 5, 5, 4, 4, 4, 3, 3, 3, 2, 1, 1]\n",
      "The sorted list=\n",
      " [1, 1, 2, 3, 3, 3, 4, 4, 4, 5, 5, 5, 5, 5, 6, 6, 6, 6, 6, 6, 7, 7, 7, 7, 7, 7, 7, 8, 8, 8, 8, 8, 8, 8, 8, 9, 10, 18]\n"
     ]
    }
   ],
   "source": [
    "# sort() sorts the elemets of the list in ascending order\n",
    "print(mylist)\n",
    "mylist.sort()\n",
    "print('The sorted list=\\n',mylist)"
   ]
  },
  {
   "cell_type": "code",
   "execution_count": 152,
   "id": "ed0b9a7f",
   "metadata": {},
   "outputs": [
    {
     "name": "stdout",
     "output_type": "stream",
     "text": [
      "[1, 1, 2, 3, 3, 3, 4, 4, 4, 5, 5, 5, 5, 5, 6, 6, 6, 6, 6, 6, 7, 7, 7, 7, 7, 7, 7, 8, 8, 8, 8, 8, 8, 8, 8, 9, 10, 18]\n"
     ]
    }
   ],
   "source": [
    "# copy() creates a new list similar to original list\n",
    "mylist2=mylist.copy()\n",
    "print(mylist2)"
   ]
  },
  {
   "cell_type": "code",
   "execution_count": 155,
   "id": "27b07b36",
   "metadata": {},
   "outputs": [
    {
     "name": "stdout",
     "output_type": "stream",
     "text": [
      "The extended list=\n",
      " [1, 2, 3, 4, 5, 6, 7, 8]\n"
     ]
    }
   ],
   "source": [
    "# extend() helps to to add a list to the existing list\n",
    "mylist3=[1,2,3,4,5]\n",
    "mylist4=list([6,7,8])\n",
    "mylist3.extend(mylist4)\n",
    "print(\"The extended list=\\n\",mylist3)"
   ]
  },
  {
   "cell_type": "code",
   "execution_count": 156,
   "id": "874d0cc3",
   "metadata": {},
   "outputs": [
    {
     "name": "stdout",
     "output_type": "stream",
     "text": [
      "The list after clearing all the elements is: []\n"
     ]
    }
   ],
   "source": [
    "# clear() helps to delete all elements in the list\n",
    "mylist3.clear()\n",
    "print(\"The list after clearing all the elements is:\",mylist3)"
   ]
  },
  {
   "cell_type": "markdown",
   "id": "f0aee895",
   "metadata": {},
   "source": [
    "##### Repeating elements using \"*\" operator"
   ]
  },
  {
   "cell_type": "code",
   "execution_count": 186,
   "id": "0e38a1f3",
   "metadata": {},
   "outputs": [
    {
     "name": "stdout",
     "output_type": "stream",
     "text": [
      "Repeatition of list elements: [1, 2, 3, 4, 1, 2, 3, 4]\n"
     ]
    }
   ],
   "source": [
    "# Program for repeating elements using \"*\" operator \n",
    "\n",
    "#Repeating a list directly in the print statement\n",
    "print(\"Repeatition of list elements:\",[1,2,3,4]*2)"
   ]
  },
  {
   "cell_type": "code",
   "execution_count": 190,
   "id": "1354e4c0",
   "metadata": {},
   "outputs": [
    {
     "name": "stdout",
     "output_type": "stream",
     "text": [
      "Repeating mylist 3 times [100, 200, 300, 100, 200, 300, 100, 200, 300]\n"
     ]
    }
   ],
   "source": [
    "#Repeating the list by specifying list name \n",
    "mylist5=[100,200,300]\n",
    "print(\"Repeating mylist 3 times\",mylist5*3)"
   ]
  },
  {
   "cell_type": "code",
   "execution_count": 191,
   "id": "93dfccca",
   "metadata": {},
   "outputs": [
    {
     "name": "stdout",
     "output_type": "stream",
     "text": [
      "newlist= [100, 200, 300, 100, 200, 300]\n"
     ]
    }
   ],
   "source": [
    "#Repeating a list before using the print statement\n",
    "newlist=mylist5*2\n",
    "print(\"newlist=\",newlist)"
   ]
  },
  {
   "cell_type": "code",
   "execution_count": 198,
   "id": "79135ad5",
   "metadata": {},
   "outputs": [
    {
     "data": {
      "text/plain": [
       "[300, 30, 56, 98, 56, 34, 21]"
      ]
     },
     "execution_count": 198,
     "metadata": {},
     "output_type": "execute_result"
    }
   ],
   "source": [
    "mylist6=[300,30,56,98,56,34,21]\n",
    "mylist6"
   ]
  },
  {
   "cell_type": "code",
   "execution_count": 205,
   "id": "ede86c26",
   "metadata": {},
   "outputs": [
    {
     "data": {
      "text/plain": [
       "[]"
      ]
     },
     "execution_count": 205,
     "metadata": {},
     "output_type": "execute_result"
    }
   ],
   "source": [
    "mylist6*0"
   ]
  },
  {
   "cell_type": "markdown",
   "id": "2540214c",
   "metadata": {},
   "source": [
    "##### Determing the existence of an element using in operator"
   ]
  },
  {
   "cell_type": "code",
   "execution_count": 193,
   "id": "06710c1f",
   "metadata": {},
   "outputs": [
    {
     "data": {
      "text/plain": [
       "[2, 4, 6, 8, 10, 12, 14, 16, 18, 20]"
      ]
     },
     "execution_count": 193,
     "metadata": {},
     "output_type": "execute_result"
    }
   ],
   "source": [
    "my_list=list(range(2,22,2))\n",
    "my_list"
   ]
  },
  {
   "cell_type": "code",
   "execution_count": 194,
   "id": "f5223353",
   "metadata": {},
   "outputs": [
    {
     "data": {
      "text/plain": [
       "True"
      ]
     },
     "execution_count": 194,
     "metadata": {},
     "output_type": "execute_result"
    }
   ],
   "source": [
    "18 in my_list"
   ]
  },
  {
   "cell_type": "code",
   "execution_count": 195,
   "id": "ed5f3730",
   "metadata": {},
   "outputs": [
    {
     "data": {
      "text/plain": [
       "False"
      ]
     },
     "execution_count": 195,
     "metadata": {},
     "output_type": "execute_result"
    }
   ],
   "source": [
    "90 in my_list"
   ]
  },
  {
   "cell_type": "code",
   "execution_count": 196,
   "id": "d341835c",
   "metadata": {},
   "outputs": [
    {
     "data": {
      "text/plain": [
       "True"
      ]
     },
     "execution_count": 196,
     "metadata": {},
     "output_type": "execute_result"
    }
   ],
   "source": [
    "1 not in my_list"
   ]
  },
  {
   "cell_type": "code",
   "execution_count": 197,
   "id": "366758fd",
   "metadata": {},
   "outputs": [
    {
     "data": {
      "text/plain": [
       "False"
      ]
     },
     "execution_count": 197,
     "metadata": {},
     "output_type": "execute_result"
    }
   ],
   "source": [
    "10 not in my_list"
   ]
  },
  {
   "cell_type": "markdown",
   "id": "957e2905",
   "metadata": {},
   "source": [
    "### Programing with List"
   ]
  },
  {
   "cell_type": "code",
   "execution_count": 212,
   "id": "9150d8fc",
   "metadata": {},
   "outputs": [
    {
     "name": "stdout",
     "output_type": "stream",
     "text": [
      "The elements are:\n",
      " 102,108,114,126,132,138,144,156,162,168,174,186,192,198\n"
     ]
    }
   ],
   "source": [
    "# Program to print numbers between 100 and 200 separated by comma\n",
    "# The number should be divisible by 6 but are not a multiple of 5\n",
    "\n",
    "numlist=[]\n",
    "for i in range(100,201):\n",
    "    if(i%6==0) and (i%5!=0):\n",
    "        numlist.append(str(i))\n",
    "print(\"The elements are:\\n\",\",\".join(numlist))"
   ]
  },
  {
   "cell_type": "code",
   "execution_count": 215,
   "id": "c9bdfbd6",
   "metadata": {},
   "outputs": [
    {
     "name": "stdout",
     "output_type": "stream",
     "text": [
      "Enter the total number of observations: 10\n",
      "Enter the value: 10\n",
      "Enter the value: 9\n",
      "Enter the value: 8\n",
      "Enter the value: 7\n",
      "Enter the value: 6\n",
      "Enter the value: 5\n",
      "Enter the value: 4\n",
      "Enter the value: 3\n",
      "Enter the value: 2\n",
      "Enter the value: 1\n",
      "**********\n",
      "*********\n",
      "********\n",
      "*******\n",
      "******\n",
      "*****\n",
      "****\n",
      "***\n",
      "**\n",
      "*\n"
     ]
    }
   ],
   "source": [
    "# Program to print horizontal chart according to the numbers in list\n",
    "\n",
    "datalist=[]\n",
    "num=int(input(\"Enter the total number of observations: \"))\n",
    "\n",
    "#for loop for enetering values \n",
    "for i in range(1,num+1):\n",
    "    val=int(input(\"Enter the value: \"))\n",
    "    datalist.append(val)\n",
    "    \n",
    "#another for loop for printing asterisk\n",
    "\n",
    "for j in range(len(datalist)):\n",
    "    print(datalist[j]*'*')"
   ]
  },
  {
   "cell_type": "code",
   "execution_count": 217,
   "id": "edb2f1e9",
   "metadata": {},
   "outputs": [
    {
     "name": "stdout",
     "output_type": "stream",
     "text": [
      "Enter the number of products: 5\n",
      "Enter the value : 1000\n",
      "Enter the value : 90\n",
      "Enter the value : 500\n",
      "Enter the value : 200\n",
      "Enter the value : 53\n",
      "newlist= [1000, 500, 200]\n"
     ]
    }
   ],
   "source": [
    "# Program to fectch elements which are greater than 100 from a list\n",
    "\n",
    "amountlist=[]\n",
    "newlist=[]\n",
    "num=int(input(\"Enter the number of products: \"))\n",
    "\n",
    "#Adding numbers to the existing list\n",
    "for i in range(1,num+1):\n",
    "    val=int(input('Enter the value : '))\n",
    "    amountlist.append(val)\n",
    "    \n",
    "#Adding numbers>100 to the new list\n",
    "for j in range(len(amountlist)):\n",
    "    if amountlist[j]>100:\n",
    "        newlist.append(amountlist[j])\n",
    "        \n",
    "print(\"newlist=\",newlist)"
   ]
  },
  {
   "cell_type": "code",
   "execution_count": 228,
   "id": "97a9473b",
   "metadata": {},
   "outputs": [
    {
     "name": "stdout",
     "output_type": "stream",
     "text": [
      "The elements are :\n",
      " 200,202,204,206,208,220,222,224,226,228,240,242,244,246,248\n"
     ]
    }
   ],
   "source": [
    "# Program to determine numbers between 151 and 250 with each digit as even number\n",
    "\n",
    "values=[]\n",
    "for num in range(151,251):\n",
    "    s=str(num) #the num is first converted to string because we want to access each digit using the concept of indexing\n",
    "    if(int(s[0])%2==0) and (int(s[1])%2==0) and (int(s[2])%2==0): #now each digit is converted to int using int()\n",
    "                             values.append(s)\n",
    "print(\"The elements are :\\n\",\",\".join(values))            "
   ]
  },
  {
   "cell_type": "code",
   "execution_count": 233,
   "id": "93c4fd9e",
   "metadata": {},
   "outputs": [
    {
     "name": "stdout",
     "output_type": "stream",
     "text": [
      "The elements are :\n",
      " 2000,2002,2004,2006,2008,2020,2022,2024,2026,2028,2040,2042,2044,2046,2048,2060,2062,2064,2066,2068,2080,2082,2084,2086,2088\n"
     ]
    }
   ],
   "source": [
    "# Program to determine numbers between 2000 and 2100 with each digit as even number\n",
    "\n",
    "values=[]\n",
    "for num in range(2000,2101):\n",
    "    s=str(num) #the num is first converted to string because we want to access each digit using the concept of indexing\n",
    "    if(int(s[0])%2==0) and (int(s[1])%2==0) and (int(s[2])%2==0) and (int(s[3])%2==0): #now each digit is converted to int using int()\n",
    "                             values.append(s)\n",
    "print(\"The elements are :\\n\",\",\".join(values))    "
   ]
  },
  {
   "cell_type": "code",
   "execution_count": 235,
   "id": "28376d03",
   "metadata": {},
   "outputs": [
    {
     "name": "stdout",
     "output_type": "stream",
     "text": [
      "Enter the number of countries: 5\n",
      "Enter the name of the country: India\n",
      "Enter the name of the country: USA\n",
      "Enter the name of the country: UK\n",
      "Enter the name of the country: Russia\n",
      "Enter the name of the country: South Africa\n",
      "The sorted order is:  India,Russia,South Africa,UK,USA\n"
     ]
    }
   ],
   "source": [
    "# Program to sort multiple strings\n",
    "\n",
    "namelist=[]\n",
    "num=int(input(\"Enter the number of countries: \"))\n",
    "\n",
    "#Adding elements to the list using for loop\n",
    "for i in range(1,num+1):\n",
    "    name=input(\"Enter the name of the country: \")\n",
    "    namelist.append(name)\n",
    "    \n",
    "#sorting and displaying the newlist outside the for loop\n",
    "namelist.sort()\n",
    "print(\"The sorted order is: \",\",\".join(namelist))"
   ]
  },
  {
   "cell_type": "code",
   "execution_count": 236,
   "id": "2ee0b158",
   "metadata": {},
   "outputs": [
    {
     "name": "stdout",
     "output_type": "stream",
     "text": [
      "Enter the starting number: 1\n",
      "Enter the ending number: 10\n",
      "[2, 4, 6, 8]\n"
     ]
    }
   ],
   "source": [
    "# Program to print even numbers in a range in the form of a list\n",
    "\n",
    "valueslist=[]\n",
    "start=int(input(\"Enter the starting number: \"))\n",
    "end=int(input(\"Enter the ending number: \"))\n",
    "\n",
    "#Adding elements to the list\n",
    "for i in range(start,end):\n",
    "    if i%2==0:\n",
    "        valueslist.append(i)\n",
    "\n",
    "print(valueslist)\n",
    "        "
   ]
  },
  {
   "cell_type": "code",
   "execution_count": 241,
   "id": "bcd2707e",
   "metadata": {},
   "outputs": [
    {
     "name": "stdout",
     "output_type": "stream",
     "text": [
      "Enter the day: Sunday\n",
      "Enter the hours: 23\n",
      "Enter the minutes: 5\n",
      "IST Time:  Monday 4 : 35\n"
     ]
    }
   ],
   "source": [
    "# Program to convert GMT(Greenwich mean time) to IST(Indian standard time)\n",
    "\n",
    "# Note: IST is 5hours,30min ahead of GMT\n",
    "\n",
    "day=input(\"Enter the day: \")\n",
    "hours=int(input(\"Enter the hours: \"))\n",
    "minute=int(input(\"Enter the minutes: \"))\n",
    "\n",
    "#Creating a list of days \n",
    "daylist=['Sunday','Monday','Tuesday','Wednesday','Thursday','Friday','Saturday']\n",
    "\n",
    "#Creating a while loop to determine the index of the day in the list\n",
    "i=0\n",
    "flag=False\n",
    "while flag==False:\n",
    "    if day==daylist[i]:\n",
    "        idx=i\n",
    "        flag=True\n",
    "    i=i+1\n",
    "    \n",
    "# Adding 30 minutes to existing minutes\n",
    "newminute=minute+30\n",
    "extrahr=0\n",
    "if(newminute>=60):\n",
    "    extrahr=1\n",
    "    newminute=newminute-60\n",
    "    \n",
    "#Adding 5 hours to existing hours\n",
    "newhours=hours+extrahr+5\n",
    "if(newhours>24):\n",
    "    newday=daylist[idx+i]\n",
    "    newhours=newhours-24\n",
    "else:\n",
    "    newday=day\n",
    "print(\"IST Time: \",newday,newhours,\":\",newminute)"
   ]
  },
  {
   "cell_type": "code",
   "execution_count": 243,
   "id": "e7add950",
   "metadata": {},
   "outputs": [
    {
     "name": "stdout",
     "output_type": "stream",
     "text": [
      "Enter the number of list elements: 5\n",
      "Enter list item: India\n",
      "Enter list item: USA\n",
      "Enter list item: UK\n",
      "Enter list item: China\n",
      "Enter list item: Russia\n",
      "Original list is: \n",
      " ['India', 'USA', 'UK', 'China', 'Russia']\n",
      "Enter number of places to shift: 3\n",
      "Shifted new list is:\n",
      " ['UK', 'China', 'Russia', 'India', 'USA']\n"
     ]
    }
   ],
   "source": [
    "# Program to do cyclic shift of list elements\n",
    "userlist=[]\n",
    "newuserlist=[]\n",
    "\n",
    "#Creating lists\n",
    "num=int(input(\"Enter the number of list elements: \"))\n",
    "for i in range(0,num):\n",
    "    value=input(\"Enter list item: \")\n",
    "    userlist.append(value)\n",
    "    newuserlist.append(\" \")\n",
    "print(\"Original list is: \\n\",userlist)\n",
    "\n",
    "#Creating new list by shifting the list by a number\n",
    "shift=int(input(\"Enter number of places to shift: \"))\n",
    "for i in range(0,num):\n",
    "    if(i+shift)>=num:\n",
    "        newuserlist[i-shift+1]=userlist[i]\n",
    "    else:\n",
    "        newuserlist[i+shift]=userlist[i]\n",
    "print(\"Shifted new list is:\\n\",newuserlist)"
   ]
  },
  {
   "cell_type": "code",
   "execution_count": 249,
   "id": "f045e923",
   "metadata": {},
   "outputs": [
    {
     "name": "stdout",
     "output_type": "stream",
     "text": [
      "Enter the number: 6\n",
      "The factors are:  [1, 2, 3]\n",
      "It is a perfect number\n"
     ]
    }
   ],
   "source": [
    "# Program to determine whether the number is perfect number.\n",
    "\n",
    "num=int(input(\"Enter the number: \"))\n",
    "sum=1\n",
    "factor_list=[1]\n",
    "\n",
    "# Creating a list of all factors\n",
    "for i in range(2,num):\n",
    "    if num%i==0:\n",
    "        factor_list.append(i)\n",
    "        sum=sum+i\n",
    "print(\"The factors are: \",factor_list)\n",
    "\n",
    "# Checking the condition for perfect number\n",
    "if sum==num:\n",
    "    print(\"It is a perfect number\")\n",
    "else:\n",
    "    print(\"It is not a perfect number\")"
   ]
  },
  {
   "cell_type": "raw",
   "id": "ab078250",
   "metadata": {},
   "source": [
    "Note:\n",
    "Perfect number: A number is said to be perfect number if it is equal to its sum of its good factors\n",
    "Example : 6--> The factors of 6 are 1,2,3-> 1+2+3=6"
   ]
  },
  {
   "cell_type": "code",
   "execution_count": 252,
   "id": "5eb336cc",
   "metadata": {},
   "outputs": [
    {
     "name": "stdout",
     "output_type": "stream",
     "text": [
      "Enter the number:1234\n",
      "The number 12 is not a prime number\n",
      "The number  23 is a prime number\n",
      "The number 34 is not a prime number\n",
      "Total number of two digit prime numbers are:  1\n"
     ]
    }
   ],
   "source": [
    "# Program to determine number of 2 digit prime numbers from a number.\n",
    "num=[]\n",
    "ans=0\n",
    "number=int(input(\"Enter the number:\"));\n",
    "\n",
    "#Creating a list of all digits of the number.\n",
    "while(number>0):\n",
    "    value=number%10\n",
    "    num.append(value)\n",
    "    number=number//10\n",
    "    \n",
    "#Creating number from 2 adjacent digits.\n",
    "for i in range(len(num)-1,0,-1):\n",
    "    flag=False\n",
    "    newnum=num[i]*10+num[i-1]\n",
    "    \n",
    "    #Determine whether the number is prime or not \n",
    "    for j in range(2,(newnum//2)):\n",
    "        if (newnum%j==0):\n",
    "            flag=True\n",
    "            \n",
    "    #Displaying the result\n",
    "    if(flag==False):\n",
    "        print(\"The number \",newnum,\"is a prime number\")\n",
    "        ans=ans+1\n",
    "    else:\n",
    "        print(\"The number\",newnum,\"is not a prime number\")\n",
    "        \n",
    "#Determining total number of prime numbers\n",
    "print(\"Total number of two digit prime numbers are: \",ans)"
   ]
  },
  {
   "cell_type": "markdown",
   "id": "4d929d98",
   "metadata": {},
   "source": [
    "# Tuples\n",
    "\n",
    "> A tuple is a **collection objects separated by comma insdie the paranthesis**.Tuples are represented by **parantheses{()}**.The sequence of values stored in a tuple can be of **any type**,and they are indexed by integers.\n",
    "\n",
    "> In real-world scenario ,tuples are generally used to **store data that do not require any modifications**,but we need to do only **retrieval of data**.\n",
    "\n",
    ">Tuples are **immutable, indexable, iterables, sortable**(there is no built-in method for sorting)\n",
    "\n",
    ">Tuples are used as **reference lists** they are  **read-only lists**."
   ]
  },
  {
   "cell_type": "markdown",
   "id": "c158a73b",
   "metadata": {},
   "source": [
    "### Creating a Tuple\n",
    "\n",
    "> A tuple in python is generally created using **tuple()** function or by writing **elements separated by comma inside paranthesis**. An **empty tuple** is creating using **empty paranthesis {()}**.Paranthesis are **optional**,they are usually used for better understanding."
   ]
  },
  {
   "cell_type": "markdown",
   "id": "aa706fe3",
   "metadata": {},
   "source": [
    "##### Creating tuples using different ways "
   ]
  },
  {
   "cell_type": "code",
   "execution_count": 253,
   "id": "56eb33f6",
   "metadata": {},
   "outputs": [
    {
     "name": "stdout",
     "output_type": "stream",
     "text": [
      "<class 'tuple'>\n",
      "An empty tuple is :  ()\n"
     ]
    }
   ],
   "source": [
    "#Creating an empty tuple\n",
    "mytuple1=()\n",
    "print(type(mytuple1))\n",
    "print(\"An empty tuple is : \",mytuple1)"
   ]
  },
  {
   "cell_type": "code",
   "execution_count": 257,
   "id": "76cb08e0",
   "metadata": {},
   "outputs": [
    {
     "name": "stdout",
     "output_type": "stream",
     "text": [
      "A tuple with single element is: (12,)\n"
     ]
    }
   ],
   "source": [
    "#Creating a one element tuple by adding a comma at the last\n",
    "mytuple2=(12,)\n",
    "print(\"A tuple with single element is:\",mytuple2)"
   ]
  },
  {
   "cell_type": "code",
   "execution_count": 258,
   "id": "4313e9d9",
   "metadata": {},
   "outputs": [
    {
     "name": "stdout",
     "output_type": "stream",
     "text": [
      "A tuple with multiple elements:  (1, 2, 3, 4, 5, 6)\n"
     ]
    }
   ],
   "source": [
    "# Creating a tuple with multiple elements\n",
    "mytuple3=(1,2,3,4,5,6)\n",
    "print('A tuple with multiple elements: ',mytuple3)"
   ]
  },
  {
   "cell_type": "markdown",
   "id": "e9224dca",
   "metadata": {},
   "source": [
    "##### Creating a tuple using tuple() and range()"
   ]
  },
  {
   "cell_type": "code",
   "execution_count": 260,
   "id": "3bbb2d56",
   "metadata": {},
   "outputs": [
    {
     "name": "stdout",
     "output_type": "stream",
     "text": [
      "Tuple created using tuple() and range() functions:\n",
      "  (0, 5, 10, 15, 20, 25, 30, 35, 40, 45, 50, 55, 60, 65, 70, 75, 80, 85, 90, 95)\n"
     ]
    }
   ],
   "source": [
    "mytuple4=tuple(range(0,100,5))\n",
    "print(\"Tuple created using tuple() and range() functions:\\n \",mytuple4)"
   ]
  },
  {
   "cell_type": "markdown",
   "id": "bb30fe40",
   "metadata": {},
   "source": [
    "##### Creating a tuple from a list"
   ]
  },
  {
   "cell_type": "code",
   "execution_count": 261,
   "id": "aeb518b0",
   "metadata": {},
   "outputs": [
    {
     "name": "stdout",
     "output_type": "stream",
     "text": [
      "Tuple created using list: (1, 10, 20, 30, 40, 50)\n"
     ]
    }
   ],
   "source": [
    "my_list=[1,10,20,30,40,50]\n",
    "mytuple5=tuple(my_list)\n",
    "print(\"Tuple created using list:\",mytuple5)"
   ]
  },
  {
   "cell_type": "markdown",
   "id": "28336ff6",
   "metadata": {},
   "source": [
    "##### Concatenation of tuples"
   ]
  },
  {
   "cell_type": "code",
   "execution_count": 263,
   "id": "e6826f1d",
   "metadata": {},
   "outputs": [
    {
     "name": "stdout",
     "output_type": "stream",
     "text": [
      "The new tuple created by concatenation is=\n",
      " (1, 10, 20, 30, 40, 50, 0, 5, 10, 15, 20, 25, 30, 35, 40, 45, 50, 55, 60, 65, 70, 75, 80, 85, 90, 95)\n"
     ]
    }
   ],
   "source": [
    "# concatenation of tuples to create a new tuple\n",
    "mytuple6=mytuple5+mytuple4\n",
    "print(\"The new tuple created by concatenation is=\\n\",mytuple6)"
   ]
  },
  {
   "cell_type": "markdown",
   "id": "18aa3ff8",
   "metadata": {},
   "source": [
    "### Accessing Tuple elements\n",
    "\n",
    "> The elements of tuples are also accessed using the concept of **Indexing and Slicing**.Like in lists **square brackets** are used for accessing index elements in tuples"
   ]
  },
  {
   "cell_type": "code",
   "execution_count": 269,
   "id": "44bddcbd",
   "metadata": {},
   "outputs": [
    {
     "name": "stdout",
     "output_type": "stream",
     "text": [
      "(12, 24, 36, 'A', 'B', 'C', (-1, -2, -3, -4), ('Apple', 'Orange'), '2a34', -145.87, 105.45)\n"
     ]
    }
   ],
   "source": [
    "# Program to access elements in a heterogeneous list\n",
    "\n",
    "my_tuple=(12,24,36,\"A\",\"B\",\"C\",(-1,-2,-3,-4),(\"Apple\",\"Orange\"),\"2a34\",-145.87,105.45)\n",
    "print(my_tuple)"
   ]
  },
  {
   "cell_type": "code",
   "execution_count": 270,
   "id": "fe26f947",
   "metadata": {},
   "outputs": [
    {
     "name": "stdout",
     "output_type": "stream",
     "text": [
      "The 1st 4 elements of my_tuple are:  12\n",
      "The 1st 4 elements of my_tuple are:  24\n",
      "The 1st 4 elements of my_tuple are:  36\n",
      "The 1st 4 elements of my_tuple are:  A\n"
     ]
    }
   ],
   "source": [
    "# using for loop to display 1st 4 elements of my_tuple\n",
    "for i in range(0,4):\n",
    "    print(\"The 1st 4 elements of my_tuple are: \",my_tuple[i])"
   ]
  },
  {
   "cell_type": "code",
   "execution_count": 281,
   "id": "91a298f7",
   "metadata": {},
   "outputs": [
    {
     "name": "stdout",
     "output_type": "stream",
     "text": [
      "my_tuple[6][0]= -1 \n",
      "my_tuple[-1]= 105.45 \n",
      "my_tuple[-4][-2]= Apple \n",
      "my_tuple[6][3]= -4\n"
     ]
    }
   ],
   "source": [
    "# Accessing individual elements from a nested tuple \n",
    "print(\"my_tuple[6][0]=\",my_tuple[6][0],\"\\nmy_tuple[-1]=\",my_tuple[-1],\"\\nmy_tuple[-4][-2]=\",my_tuple[-4][-2],\"\\nmy_tuple[6][3]=\",my_tuple[6][3])"
   ]
  },
  {
   "cell_type": "markdown",
   "id": "bfb0df21",
   "metadata": {},
   "source": [
    "##### Indexing and Slicing in Tuples"
   ]
  },
  {
   "cell_type": "code",
   "execution_count": 282,
   "id": "e87b0c95",
   "metadata": {},
   "outputs": [
    {
     "data": {
      "text/plain": [
       "(12, 24, 36)"
      ]
     },
     "execution_count": 282,
     "metadata": {},
     "output_type": "execute_result"
    }
   ],
   "source": [
    "my_tuple[0:3] # the elements from 0th position to 2nd position"
   ]
  },
  {
   "cell_type": "code",
   "execution_count": 284,
   "id": "b9fd518f",
   "metadata": {},
   "outputs": [
    {
     "name": "stdout",
     "output_type": "stream",
     "text": [
      "my_tuple[0:]= (12, 24, 36, 'A', 'B', 'C', (-1, -2, -3, -4), ('Apple', 'Orange'), '2a34', -145.87, 105.45)\n"
     ]
    }
   ],
   "source": [
    "print(\"my_tuple[0:]=\",my_tuple[0:]) #prints all the elements"
   ]
  },
  {
   "cell_type": "code",
   "execution_count": 285,
   "id": "a8323fd0",
   "metadata": {},
   "outputs": [
    {
     "name": "stdout",
     "output_type": "stream",
     "text": [
      "my_tuple[5:25]= ('C', (-1, -2, -3, -4), ('Apple', 'Orange'), '2a34', -145.87, 105.45)\n"
     ]
    }
   ],
   "source": [
    "print(\"my_tuple[5:25]=\",my_tuple[5:25]) #prints all the elements from 5th position to the end of the tuple"
   ]
  },
  {
   "cell_type": "code",
   "execution_count": 288,
   "id": "b73a725e",
   "metadata": {},
   "outputs": [
    {
     "name": "stdout",
     "output_type": "stream",
     "text": [
      "my_tuple[6:8]= ((-1, -2, -3, -4), ('Apple', 'Orange'))\n"
     ]
    }
   ],
   "source": [
    "print(\"my_tuple[6:8]=\",my_tuple[6:8]) #prints all the elements from 6th position to 7th position"
   ]
  },
  {
   "cell_type": "code",
   "execution_count": 289,
   "id": "2648a14f",
   "metadata": {},
   "outputs": [
    {
     "name": "stdout",
     "output_type": "stream",
     "text": [
      "my_tuple[-3:2]= ()\n"
     ]
    }
   ],
   "source": [
    "print(\"my_tuple[-3:2]=\",my_tuple[-3:2]) #negative indexing gives a empty tuple"
   ]
  },
  {
   "cell_type": "code",
   "execution_count": 290,
   "id": "4bc11e6e",
   "metadata": {},
   "outputs": [
    {
     "name": "stdout",
     "output_type": "stream",
     "text": [
      "my_tuple[-2:-5]= ()\n"
     ]
    }
   ],
   "source": [
    "print(\"my_tuple[-2:-5]=\",my_tuple[-2:-5]) #negative indexing gives a empty tuple"
   ]
  },
  {
   "cell_type": "code",
   "execution_count": 294,
   "id": "2f2ecb9f",
   "metadata": {},
   "outputs": [
    {
     "data": {
      "text/plain": [
       "()"
      ]
     },
     "execution_count": 294,
     "metadata": {},
     "output_type": "execute_result"
    }
   ],
   "source": [
    "#starting at higher index and ending in lower index leads to\n",
    "my_tuple[4:1] # leads to empty list"
   ]
  },
  {
   "cell_type": "code",
   "execution_count": 291,
   "id": "38f62cfa",
   "metadata": {},
   "outputs": [
    {
     "name": "stdout",
     "output_type": "stream",
     "text": [
      "my_tuple[:5]= (12, 24, 36, 'A', 'B')\n"
     ]
    }
   ],
   "source": [
    "print(\"my_tuple[:5]=\",my_tuple[:5]) #by default it considers staring position as 0"
   ]
  },
  {
   "cell_type": "code",
   "execution_count": 292,
   "id": "2f615947",
   "metadata": {},
   "outputs": [
    {
     "name": "stdout",
     "output_type": "stream",
     "text": [
      "my_tuple[8:]= ('2a34', -145.87, 105.45)\n"
     ]
    }
   ],
   "source": [
    "print(\"my_tuple[8:]=\",my_tuple[8:]) #by default it considers last element as the ending position if it all not mentioned while indexing"
   ]
  },
  {
   "cell_type": "markdown",
   "id": "f737ee93",
   "metadata": {},
   "source": [
    "### Functions for Tuples\n",
    "\n",
    ">The main difference between tuples and lists are that **tuples cannot be modified unlike lists**.\n",
    ">We can perform all functions on tuples that are discussed in lists except the functions which are used for modifications\n",
    ">> Functions used in tuples are **sum(),min(),max(),len(),count(),index(),sorted(),etc.**."
   ]
  },
  {
   "cell_type": "code",
   "execution_count": 297,
   "id": "1333da95",
   "metadata": {},
   "outputs": [
    {
     "name": "stdout",
     "output_type": "stream",
     "text": [
      "(12, 24, 36, 'A', 'B', 'C', (-1, -2, -3, -4), ('Apple', 'Orange'), '2a34', -145.87, 105.45)\n"
     ]
    }
   ],
   "source": [
    "print(my_tuple)"
   ]
  },
  {
   "cell_type": "code",
   "execution_count": 301,
   "id": "998e8735",
   "metadata": {},
   "outputs": [
    {
     "data": {
      "text/plain": [
       "11"
      ]
     },
     "execution_count": 301,
     "metadata": {},
     "output_type": "execute_result"
    }
   ],
   "source": [
    "len(my_tuple)"
   ]
  },
  {
   "cell_type": "code",
   "execution_count": 302,
   "id": "5e4b834c",
   "metadata": {},
   "outputs": [
    {
     "name": "stdout",
     "output_type": "stream",
     "text": [
      "(1, 12, 63, 4, 4, 4, 5, 66, 78, 90, 88, 91, 90, 144, 100, 198, 100)\n"
     ]
    }
   ],
   "source": [
    "my_tuple1=(1,12,63,4,4,4,5,66,78,90,88,91,90,144,100,198,100)\n",
    "print(my_tuple1)"
   ]
  },
  {
   "cell_type": "code",
   "execution_count": 303,
   "id": "77e01226",
   "metadata": {},
   "outputs": [
    {
     "data": {
      "text/plain": [
       "17"
      ]
     },
     "execution_count": 303,
     "metadata": {},
     "output_type": "execute_result"
    }
   ],
   "source": [
    "len(my_tuple1)"
   ]
  },
  {
   "cell_type": "code",
   "execution_count": 306,
   "id": "59a4f6c1",
   "metadata": {},
   "outputs": [
    {
     "data": {
      "text/plain": [
       "1"
      ]
     },
     "execution_count": 306,
     "metadata": {},
     "output_type": "execute_result"
    }
   ],
   "source": [
    "min(my_tuple1)"
   ]
  },
  {
   "cell_type": "code",
   "execution_count": 307,
   "id": "05a7832a",
   "metadata": {},
   "outputs": [
    {
     "data": {
      "text/plain": [
       "198"
      ]
     },
     "execution_count": 307,
     "metadata": {},
     "output_type": "execute_result"
    }
   ],
   "source": [
    "max(my_tuple1)"
   ]
  },
  {
   "cell_type": "code",
   "execution_count": 310,
   "id": "f961af55",
   "metadata": {},
   "outputs": [
    {
     "data": {
      "text/plain": [
       "[1, 4, 4, 4, 5, 12, 63, 66, 78, 88, 90, 90, 91, 100, 100, 144, 198]"
      ]
     },
     "execution_count": 310,
     "metadata": {},
     "output_type": "execute_result"
    }
   ],
   "source": [
    "sorted(my_tuple1)"
   ]
  },
  {
   "cell_type": "code",
   "execution_count": 312,
   "id": "771714c6",
   "metadata": {},
   "outputs": [
    {
     "data": {
      "text/plain": [
       "(3, 2, 1)"
      ]
     },
     "execution_count": 312,
     "metadata": {},
     "output_type": "execute_result"
    }
   ],
   "source": [
    "my_tuple1.count(4),my_tuple1.count(100),my_tuple1.count(66)"
   ]
  },
  {
   "cell_type": "code",
   "execution_count": 313,
   "id": "d88f0340",
   "metadata": {},
   "outputs": [
    {
     "data": {
      "text/plain": [
       "3"
      ]
     },
     "execution_count": 313,
     "metadata": {},
     "output_type": "execute_result"
    }
   ],
   "source": [
    "my_tuple1.index(4)"
   ]
  },
  {
   "cell_type": "code",
   "execution_count": 328,
   "id": "41897b5d",
   "metadata": {},
   "outputs": [
    {
     "data": {
      "text/plain": [
       "1138"
      ]
     },
     "execution_count": 328,
     "metadata": {},
     "output_type": "execute_result"
    }
   ],
   "source": [
    "sum(my_tuple1)"
   ]
  },
  {
   "cell_type": "code",
   "execution_count": 326,
   "id": "ecfaca4e",
   "metadata": {},
   "outputs": [
    {
     "name": "stdout",
     "output_type": "stream",
     "text": [
      "Variable      Type        Data/Info\n",
      "-----------------------------------\n",
      "L1            list        n=10\n",
      "L2            list        n=0\n",
      "L3            list        n=0\n",
      "a             NoneType    None\n",
      "amountlist    list        n=5\n",
      "ans           int         1\n",
      "datalist      list        n=10\n",
      "day           str         Sunday\n",
      "daylist       list        n=7\n",
      "end           int         10\n",
      "entries       float       12.56\n",
      "extrahr       int         0\n",
      "factor_list   list        n=3\n",
      "firstlist     list        n=5\n",
      "flag          bool        True\n",
      "hours         int         23\n",
      "i             int         3\n",
      "idx           int         0\n",
      "j             int         16\n",
      "list1         list        n=10\n",
      "list10        list        n=11\n",
      "list11        list        n=11\n",
      "list12        list        n=5\n",
      "list2         list        n=7\n",
      "list3         list        n=6\n",
      "list4         list        n=6\n",
      "list5         list        n=5\n",
      "list6         list        n=5\n",
      "list7         list        n=10\n",
      "list8         list        n=5\n",
      "list9         list        n=4\n",
      "minute        int         5\n",
      "my_list       list        n=6\n",
      "my_tuple      tuple       n=11\n",
      "my_tuple1     tuple       n=17\n",
      "mylist        list        n=38\n",
      "mylist2       list        n=38\n",
      "mylist3       list        n=0\n",
      "mylist4       list        n=3\n",
      "mylist5       list        n=3\n",
      "mylist6       list        n=7\n",
      "mytuple1      tuple       n=0\n",
      "mytuple2      tuple       n=1\n",
      "mytuple3      tuple       n=6\n",
      "mytuple4      tuple       n=20\n",
      "mytuple5      tuple       n=6\n",
      "mytuple6      tuple       n=26\n",
      "name          str         South Africa\n",
      "namelist      list        n=5\n",
      "newday        str         Monday\n",
      "newhours      int         4\n",
      "newlist       list        n=3\n",
      "newminute     int         35\n",
      "newnum        int         34\n",
      "newuserlist   list        n=5\n",
      "num           list        n=4\n",
      "number        int         0\n",
      "numlist       list        n=14\n",
      "s             str         2100\n",
      "s1            str         Welcome to the world of Python Programming\n",
      "shift         int         3\n",
      "start         int         1\n",
      "total         float       15.0\n",
      "tuple2        tuple       n=3\n",
      "userlist      list        n=5\n",
      "val           int         53\n",
      "value         int         1\n",
      "values        list        n=25\n",
      "valueslist    list        n=4\n",
      "x             int         3\n"
     ]
    }
   ],
   "source": [
    "whos #gives info of the stored data!!"
   ]
  },
  {
   "cell_type": "markdown",
   "id": "236e9fac",
   "metadata": {},
   "source": [
    "##### Program for repetition(\"*\") and determining existence(\"in\") in tuple"
   ]
  },
  {
   "cell_type": "code",
   "execution_count": 1,
   "id": "001b42cb",
   "metadata": {},
   "outputs": [
    {
     "name": "stdout",
     "output_type": "stream",
     "text": [
      "Repetition of tuple:\n",
      " (1, 2, 3, 4, 1, 2, 3, 4, 1, 2, 3, 4)\n"
     ]
    }
   ],
   "source": [
    "# Creating a repeating tuple directly in the print statement\n",
    "print(\"Repetition of tuple:\\n\",(1,2,3,4)*3)"
   ]
  },
  {
   "cell_type": "code",
   "execution_count": 2,
   "id": "22075e09",
   "metadata": {},
   "outputs": [
    {
     "name": "stdout",
     "output_type": "stream",
     "text": [
      "Repeatition of tuple elements:  (10, 20, 30, 56, 78, 10, 20, 30, 56, 78)\n"
     ]
    }
   ],
   "source": [
    "# Creating a tuple and reptiting the tuple in the print statement\n",
    "T1=(10,20,30,56,78)\n",
    "print(\"Repeatition of tuple elements: \",T1*2)"
   ]
  },
  {
   "cell_type": "code",
   "execution_count": 5,
   "id": "52e4398a",
   "metadata": {},
   "outputs": [
    {
     "name": "stdout",
     "output_type": "stream",
     "text": [
      "T2= (10, 20, 30, 56, 78, 10, 20, 30, 56, 78, 10, 20, 30, 56, 78, 10, 20, 30, 56, 78)\n"
     ]
    }
   ],
   "source": [
    "#Repeating the tuple and then using the print statement to print\n",
    "T2=T1*4\n",
    "print(\"T2=\",T2)"
   ]
  },
  {
   "cell_type": "code",
   "execution_count": 6,
   "id": "0c93c6ad",
   "metadata": {},
   "outputs": [
    {
     "data": {
      "text/plain": [
       "False"
      ]
     },
     "execution_count": 6,
     "metadata": {},
     "output_type": "execute_result"
    }
   ],
   "source": [
    "# using \"in\" to determine whether the element present in the list or not \n",
    "\n",
    "100 in T2"
   ]
  },
  {
   "cell_type": "code",
   "execution_count": 7,
   "id": "089bfb1d",
   "metadata": {},
   "outputs": [
    {
     "data": {
      "text/plain": [
       "True"
      ]
     },
     "execution_count": 7,
     "metadata": {},
     "output_type": "execute_result"
    }
   ],
   "source": [
    "10 in T1"
   ]
  },
  {
   "cell_type": "markdown",
   "id": "289bc2d1",
   "metadata": {},
   "source": [
    "### Programming with Tuple"
   ]
  },
  {
   "cell_type": "code",
   "execution_count": 17,
   "id": "71b3e2ca",
   "metadata": {},
   "outputs": [
    {
     "name": "stdout",
     "output_type": "stream",
     "text": [
      "The minimum element in the tuple is = 1\n",
      "The minimum element is= 1\n"
     ]
    }
   ],
   "source": [
    "# Program to determine minimum element from a tuple \n",
    "\n",
    "Tuple_1=(12,41,1,23,78,90,45,81,23)\n",
    "print(\"The minimum element in the tuple is =\",min(Tuple_1))\n",
    "\n",
    "#Or\n",
    "\n",
    "minimum=Tuple_1[0]\n",
    "#Executing a for loop to determine minimum element\n",
    "for k in range(len(Tuple_1)):\n",
    "    if Tuple_1[k]<minimum:\n",
    "        minimum=Tuple_1[k]\n",
    "        \n",
    "print(\"The minimum element is=\",minimum)"
   ]
  },
  {
   "cell_type": "code",
   "execution_count": 19,
   "id": "34cb9008",
   "metadata": {},
   "outputs": [
    {
     "name": "stdout",
     "output_type": "stream",
     "text": [
      "The maximum element is= 90\n"
     ]
    }
   ],
   "source": [
    "maximum=Tuple_1[0]\n",
    "#Executing a for loop to determine minimum element\n",
    "for k in range(len(Tuple_1)):\n",
    "    if Tuple_1[k]>maximum:\n",
    "        maximum=Tuple_1[k]\n",
    "        \n",
    "print(\"The maximum element is=\",maximum)"
   ]
  },
  {
   "cell_type": "code",
   "execution_count": 20,
   "id": "b22b9c3c",
   "metadata": {},
   "outputs": [
    {
     "name": "stdout",
     "output_type": "stream",
     "text": [
      "Both the tuples have the common name as C\n",
      "Both the tuples have the common name as C++\n"
     ]
    }
   ],
   "source": [
    "# Program to compare two tuples\n",
    "\n",
    "tuple1=(\"C\",\"C++\",\"Java\",\"Python\")\n",
    "tuple2=(\"C\",\"C++\",\"c#\")\n",
    "\n",
    "for i in tuple1:\n",
    "    for j in tuple2:\n",
    "        if i==j:\n",
    "            print(\"Both the tuples have the common name as\",i)"
   ]
  },
  {
   "cell_type": "code",
   "execution_count": 25,
   "id": "c282ea4d",
   "metadata": {},
   "outputs": [
    {
     "name": "stdout",
     "output_type": "stream",
     "text": [
      "Both the tuples have 3 as common value\n",
      "Both the tuples have 7 as common value\n"
     ]
    }
   ],
   "source": [
    "t1=(1,3,5,7,9)\n",
    "t2=(2,4,3,6,0,7)\n",
    "\n",
    "for i in t1:\n",
    "    for j in t2:\n",
    "        if i==j:\n",
    "            print(\"Both the tuples have\",i,\"as common value\")"
   ]
  },
  {
   "cell_type": "markdown",
   "id": "74be56d1",
   "metadata": {},
   "source": [
    "# Dictionary\n",
    "\n",
    "> A unique data structure which is not available in other programming language but available in Python is called a Dictionary.It is cosidered as **king of data structures** in Python because it is the only standard mapping type.\n",
    "\n",
    "> A dictionary has a **group of elements which are arranged in the form of key-value pair**.Thus,there are three special objects for dictionary: **keys,values,and items**.These objects provide a different view of the dictionary entries and they change when the dictionary changes.In dictionary,the first element is considered as **\"key\"** and the following element is taken as its **value**.A dictionary basically **maps keys to values**.\n",
    "\n",
    "> It is important to note here that **keys should be hashable objects**,while **values can be arbitrary**.It is also important to note here that **keys of a dictionary should be unique**.\n",
    "\n",
    ">Dictionaries are **mutable, indexable, iterables, non-sortable**(because they are NOT indexable).They are unordered collection of key-value pairs... the keys are unique."
   ]
  },
  {
   "cell_type": "markdown",
   "id": "d3b39acd",
   "metadata": {},
   "source": [
    "### Creating a Dictionary\n",
    "> Dictionary is created and represented using **curly braces{}**.The **dict()** function is also used to create a dictionary"
   ]
  },
  {
   "cell_type": "markdown",
   "id": "e69c007e",
   "metadata": {},
   "source": [
    "##### Program to create dictionary in 5 different ways "
   ]
  },
  {
   "cell_type": "code",
   "execution_count": 2,
   "id": "19cf70d8",
   "metadata": {},
   "outputs": [
    {
     "name": "stdout",
     "output_type": "stream",
     "text": [
      "Creating dictionary through first approach (Using dict()):\n",
      " {'Country': 'India', 'Capital': 'New Delhi'}\n"
     ]
    }
   ],
   "source": [
    "#Creating dictionary through first approach\n",
    "\n",
    "mydict1=dict({'Country':'India','Capital':'New Delhi'})\n",
    "print(\"Creating dictionary through first approach (Using dict()):\\n\",mydict1)"
   ]
  },
  {
   "cell_type": "code",
   "execution_count": 3,
   "id": "86b3243e",
   "metadata": {},
   "outputs": [
    {
     "name": "stdout",
     "output_type": "stream",
     "text": [
      "Creating dictionary through second approach:\n",
      " {'Country': 'India', 'Capital': 'New Delhi'}\n"
     ]
    }
   ],
   "source": [
    "#Creating dictionary through second approach\n",
    "\n",
    "mydict2={'Country':'India','Capital':'New Delhi'}\n",
    "print(\"Creating dictionary through second approach:\\n\",mydict2)"
   ]
  },
  {
   "cell_type": "code",
   "execution_count": 5,
   "id": "e67e036c",
   "metadata": {},
   "outputs": [
    {
     "name": "stdout",
     "output_type": "stream",
     "text": [
      "Creating dictionary through third approach (Using dict()):\n",
      " {'Country': 'India', 'Capital': 'New Delhi'}\n"
     ]
    }
   ],
   "source": [
    "#Creating dictionary through third approach\n",
    "\n",
    "mydict3=dict(Country='India',Capital='New Delhi')\n",
    "print(\"Creating dictionary through third approach (Using dict()):\\n\",mydict3)"
   ]
  },
  {
   "cell_type": "code",
   "execution_count": 6,
   "id": "d172d60e",
   "metadata": {},
   "outputs": [
    {
     "name": "stdout",
     "output_type": "stream",
     "text": [
      "Creating dictionary through first approach (Using dict()):\n",
      " {'Country': 'India', 'Capital': 'New Delhi'}\n"
     ]
    }
   ],
   "source": [
    "#Creating dictionary through fourth approach\n",
    "\n",
    "mydict4=dict([('Country','India'),('Capital','New Delhi')])\n",
    "print(\"Creating dictionary through first approach (Using dict()):\\n\",mydict4)"
   ]
  },
  {
   "cell_type": "code",
   "execution_count": 8,
   "id": "201a64ca",
   "metadata": {},
   "outputs": [
    {
     "name": "stdout",
     "output_type": "stream",
     "text": [
      "Creating dictionary through fifth approach (Using dict() and zip()):\n",
      " {'Country': 'India', 'Capital': 'New Delhi'}\n"
     ]
    }
   ],
   "source": [
    "#Creating dictionary through fifth approach\n",
    "\n",
    "mydict5=dict(zip(['Country','Capital'],['India','New Delhi']))\n",
    "print(\"Creating dictionary through fifth approach (Using dict() and zip()):\\n\",mydict5)"
   ]
  },
  {
   "cell_type": "code",
   "execution_count": 9,
   "id": "a84a5b96",
   "metadata": {},
   "outputs": [
    {
     "name": "stdout",
     "output_type": "stream",
     "text": [
      "Does all the ways create the same dictionary: True\n"
     ]
    }
   ],
   "source": [
    "# Determine whether all five names create the same dictionary\n",
    "print(\"Does all the ways create the same dictionary:\",mydict1==mydict2==mydict3==mydict4==mydict5)"
   ]
  },
  {
   "cell_type": "code",
   "execution_count": 10,
   "id": "a2aa9b7f",
   "metadata": {},
   "outputs": [
    {
     "data": {
      "text/plain": [
       "dict"
      ]
     },
     "execution_count": 10,
     "metadata": {},
     "output_type": "execute_result"
    }
   ],
   "source": [
    "type(mydict1)"
   ]
  },
  {
   "cell_type": "code",
   "execution_count": 3,
   "id": "11ae12f2",
   "metadata": {},
   "outputs": [
    {
     "data": {
      "text/plain": [
       "{'P': 0, 'Y': 1, 'T': 2, 'H': 3, 'O': 4, 'N': 5}"
      ]
     },
     "execution_count": 3,
     "metadata": {},
     "output_type": "execute_result"
    }
   ],
   "source": [
    "# program to create a dictionary using range() function\n",
    "mydict6=dict(zip('PYTHON',range(6)))\n",
    "mydict6"
   ]
  },
  {
   "cell_type": "raw",
   "id": "e7e1fdc4",
   "metadata": {},
   "source": [
    "NOTE: Dictionary is an exclusive data type available only in Python and has an extensive use for data analytics when mapping is required"
   ]
  },
  {
   "cell_type": "markdown",
   "id": "cdf352b0",
   "metadata": {},
   "source": [
    "### Accessing Dictionary Elements\n",
    "> Unlike list and tuple,indexing and slicing cannot be used to access elements of a dictionary.The **items()** function returns all the **key-vaue pairs** in the dictionary,the **keys()** function returns **all the keys** in the dictionary,and the **values()** function returns **all the values** in the dictionary."
   ]
  },
  {
   "cell_type": "markdown",
   "id": "b34615e5",
   "metadata": {},
   "source": [
    "##### Program for accessing dictionary elements"
   ]
  },
  {
   "cell_type": "code",
   "execution_count": 56,
   "id": "9dd20d80",
   "metadata": {},
   "outputs": [
    {
     "data": {
      "text/plain": [
       "{'Author': 'William Shakespeare',\n",
       " 'Book': 'Renaissance Man',\n",
       " 'Publisher': 'Edward Blount'}"
      ]
     },
     "execution_count": 56,
     "metadata": {},
     "output_type": "execute_result"
    }
   ],
   "source": [
    "book_dict={'Author':'William Shakespeare','Book':'Renaissance Man','Publisher':'Edward Blount'}\n",
    "book_dict"
   ]
  },
  {
   "cell_type": "code",
   "execution_count": 42,
   "id": "b107bce7",
   "metadata": {},
   "outputs": [
    {
     "data": {
      "text/plain": [
       "dict_keys(['Author', 'Book', 'Publisher'])"
      ]
     },
     "execution_count": 42,
     "metadata": {},
     "output_type": "execute_result"
    }
   ],
   "source": [
    "#Displaying keys alone in the dictionary\n",
    "book_dict.keys()"
   ]
  },
  {
   "cell_type": "code",
   "execution_count": 26,
   "id": "bdcde9a9",
   "metadata": {},
   "outputs": [
    {
     "data": {
      "text/plain": [
       "dict_values(['William Shakespeare', 'Renaissance Man', 'Edward Blount'])"
      ]
     },
     "execution_count": 26,
     "metadata": {},
     "output_type": "execute_result"
    }
   ],
   "source": [
    "#Displaying values alone in the dictionary\n",
    "book_dict.values()"
   ]
  },
  {
   "cell_type": "code",
   "execution_count": 43,
   "id": "30f034c5",
   "metadata": {},
   "outputs": [
    {
     "data": {
      "text/plain": [
       "dict_items([('Author', 'William Shakespeare'), ('Book', 'Renaissance Man'), ('Publisher', 'Edward Blount')])"
      ]
     },
     "execution_count": 43,
     "metadata": {},
     "output_type": "execute_result"
    }
   ],
   "source": [
    "#Displaying key-value pairs in the dictionary\n",
    "book_dict.items()"
   ]
  },
  {
   "cell_type": "code",
   "execution_count": 44,
   "id": "ba3b1c70",
   "metadata": {},
   "outputs": [
    {
     "name": "stdout",
     "output_type": "stream",
     "text": [
      "William Shakespeare\n",
      "Renaissance Man\n",
      "Edward Blount\n"
     ]
    }
   ],
   "source": [
    "#Displaying the values w.r.t specified key\n",
    "print(book_dict['Author'],book_dict['Book'],book_dict['Publisher'],sep='\\n')"
   ]
  },
  {
   "cell_type": "code",
   "execution_count": 45,
   "id": "64354b15",
   "metadata": {},
   "outputs": [
    {
     "ename": "KeyError",
     "evalue": "'Willian shakespeare'",
     "output_type": "error",
     "traceback": [
      "\u001b[1;31m---------------------------------------------------------------------------\u001b[0m",
      "\u001b[1;31mKeyError\u001b[0m                                  Traceback (most recent call last)",
      "\u001b[1;32mC:\\Users\\DIVYAJ~1\\AppData\\Local\\Temp/ipykernel_294516/1847113386.py\u001b[0m in \u001b[0;36m<module>\u001b[1;34m\u001b[0m\n\u001b[0;32m      1\u001b[0m \u001b[1;31m# cannot access using values details!\u001b[0m\u001b[1;33m\u001b[0m\u001b[1;33m\u001b[0m\u001b[0m\n\u001b[1;32m----> 2\u001b[1;33m \u001b[0mbook_dict\u001b[0m\u001b[1;33m[\u001b[0m\u001b[1;34m'Willian shakespeare'\u001b[0m\u001b[1;33m]\u001b[0m\u001b[1;33m\u001b[0m\u001b[1;33m\u001b[0m\u001b[0m\n\u001b[0m",
      "\u001b[1;31mKeyError\u001b[0m: 'Willian shakespeare'"
     ]
    }
   ],
   "source": [
    "# cannot access using values details!\n",
    "book_dict['Willian shakespeare']"
   ]
  },
  {
   "cell_type": "markdown",
   "id": "98965a9b",
   "metadata": {},
   "source": [
    "### Functions for Dictionary\n",
    "\n",
    ">We can add new key-value pair using different ways in a dictonary in Python.It is also possible to modify the existing values of keys \n",
    ">The list of functions available for Dictionary are **len(),clear(),pop(),get(),sorted(),copy(),etc."
   ]
  },
  {
   "cell_type": "markdown",
   "id": "03bd07eb",
   "metadata": {},
   "source": [
    "##### Program for using functions for dictionary"
   ]
  },
  {
   "cell_type": "code",
   "execution_count": 57,
   "id": "b3909a6f",
   "metadata": {},
   "outputs": [
    {
     "data": {
      "text/plain": [
       "{'Author': 'William Shakespeare',\n",
       " 'Book': 'Renaissance Man',\n",
       " 'Publisher': 'Edward Blount',\n",
       " 'Language': 'Early Modern English'}"
      ]
     },
     "execution_count": 57,
     "metadata": {},
     "output_type": "execute_result"
    }
   ],
   "source": [
    "#Adding of new key-value pair to dictionary using 1st approach\n",
    "book_dict['Language']='Early Modern English'\n",
    "book_dict"
   ]
  },
  {
   "cell_type": "code",
   "execution_count": 58,
   "id": "91dd4779",
   "metadata": {},
   "outputs": [
    {
     "data": {
      "text/plain": [
       "{'Author': 'William Shakespeare',\n",
       " 'Book': 'Renaissance Man',\n",
       " 'Publisher': 'Edward Blount',\n",
       " 'Language': 'Early Modern English',\n",
       " 'Genre': 'English Renaissance theatre'}"
      ]
     },
     "execution_count": 58,
     "metadata": {},
     "output_type": "execute_result"
    }
   ],
   "source": [
    "#Adding of new key-value pair to dictionary using 2nd approach\n",
    "book_dict.update({'Genre':'English Renaissance theatre'})\n",
    "book_dict"
   ]
  },
  {
   "cell_type": "code",
   "execution_count": 71,
   "id": "41ef87b6",
   "metadata": {},
   "outputs": [
    {
     "data": {
      "text/plain": [
       "{'Author': 'William Shakespeare',\n",
       " 'Book': 'Renaissance Man',\n",
       " 'Publisher': 'Thriftbooks',\n",
       " 'Language': 'Early Modern English',\n",
       " 'Genre': 'English Renaissance theatre',\n",
       " 'Nick Name': 'Bard of Avon'}"
      ]
     },
     "execution_count": 71,
     "metadata": {},
     "output_type": "execute_result"
    }
   ],
   "source": [
    "#Adding of new key-value pair to dictionary using 3rd approach\n",
    "book_dict.setdefault('Nick Name','Bard of Avon')\n",
    "book_dict"
   ]
  },
  {
   "cell_type": "markdown",
   "id": "b84a8a92",
   "metadata": {},
   "source": [
    "##### Modification"
   ]
  },
  {
   "cell_type": "code",
   "execution_count": 72,
   "id": "769c56b1",
   "metadata": {},
   "outputs": [
    {
     "data": {
      "text/plain": [
       "{'Author': 'William Shakespeare',\n",
       " 'Book': 'Renaissance Man',\n",
       " 'Publisher': 'Thriftbooks',\n",
       " 'Language': 'Early Modern English',\n",
       " 'Genre': 'English Renaissance theatre',\n",
       " 'Nick Name': 'Bard of Avon'}"
      ]
     },
     "execution_count": 72,
     "metadata": {},
     "output_type": "execute_result"
    }
   ],
   "source": [
    "#Modification in value of the key named \"Publisher\"\n",
    "book_dict['Publisher']=\"Thriftbooks\"\n",
    "book_dict"
   ]
  },
  {
   "cell_type": "code",
   "execution_count": 73,
   "id": "9f395178",
   "metadata": {},
   "outputs": [
    {
     "data": {
      "text/plain": [
       "'William Shakespeare'"
      ]
     },
     "execution_count": 73,
     "metadata": {},
     "output_type": "execute_result"
    }
   ],
   "source": [
    "book_dict.get('Author') # get() is used to fetch the value of a specified key"
   ]
  },
  {
   "cell_type": "code",
   "execution_count": 74,
   "id": "d819dd95",
   "metadata": {},
   "outputs": [
    {
     "data": {
      "text/plain": [
       "6"
      ]
     },
     "execution_count": 74,
     "metadata": {},
     "output_type": "execute_result"
    }
   ],
   "source": [
    "len(book_dict)"
   ]
  },
  {
   "cell_type": "code",
   "execution_count": 75,
   "id": "4914466f",
   "metadata": {},
   "outputs": [
    {
     "data": {
      "text/plain": [
       "['Author', 'Book', 'Genre', 'Language', 'Nick Name', 'Publisher']"
      ]
     },
     "execution_count": 75,
     "metadata": {},
     "output_type": "execute_result"
    }
   ],
   "source": [
    "sorted(book_dict) #sorted() sorts keys in alphabetical order"
   ]
  },
  {
   "cell_type": "code",
   "execution_count": 76,
   "id": "00ce0a44",
   "metadata": {},
   "outputs": [
    {
     "data": {
      "text/plain": [
       "'Bard of Avon'"
      ]
     },
     "execution_count": 76,
     "metadata": {},
     "output_type": "execute_result"
    }
   ],
   "source": [
    "book_dict.pop('Nick Name') #pop() is used to remove a particular key"
   ]
  },
  {
   "cell_type": "code",
   "execution_count": 77,
   "id": "4839a6e1",
   "metadata": {},
   "outputs": [
    {
     "data": {
      "text/plain": [
       "{'Author': 'William Shakespeare',\n",
       " 'Book': 'Renaissance Man',\n",
       " 'Publisher': 'Thriftbooks',\n",
       " 'Language': 'Early Modern English',\n",
       " 'Genre': 'English Renaissance theatre'}"
      ]
     },
     "execution_count": 77,
     "metadata": {},
     "output_type": "execute_result"
    }
   ],
   "source": [
    "#copy() is used to copy a dictionary in another dictionary\n",
    "New_book_dict=book_dict.copy()\n",
    "New_book_dict"
   ]
  },
  {
   "cell_type": "code",
   "execution_count": 80,
   "id": "e973913e",
   "metadata": {},
   "outputs": [
    {
     "data": {
      "text/plain": [
       "(True, False)"
      ]
     },
     "execution_count": 80,
     "metadata": {},
     "output_type": "execute_result"
    }
   ],
   "source": [
    "# in is used to determine the presence of a particular key in the dictionary\n",
    "'Book' in book_dict,'Nick Name' in book_dict"
   ]
  },
  {
   "cell_type": "code",
   "execution_count": 81,
   "id": "fe5d3986",
   "metadata": {},
   "outputs": [],
   "source": [
    "#clear() is used to clear all the data in the dictionary\n",
    "New_book_dict.clear()"
   ]
  },
  {
   "cell_type": "code",
   "execution_count": 82,
   "id": "a229822f",
   "metadata": {},
   "outputs": [
    {
     "data": {
      "text/plain": [
       "{}"
      ]
     },
     "execution_count": 82,
     "metadata": {},
     "output_type": "execute_result"
    }
   ],
   "source": [
    "New_book_dict # it gives an empty dictionary which means all the key-value pairs in the dictionary are deleted !"
   ]
  },
  {
   "cell_type": "markdown",
   "id": "6b9db5f7",
   "metadata": {},
   "source": [
    "### Programming in Dictionary"
   ]
  },
  {
   "cell_type": "code",
   "execution_count": 91,
   "id": "7a40ceb4",
   "metadata": {},
   "outputs": [
    {
     "name": "stdout",
     "output_type": "stream",
     "text": [
      "Enter the last number5\n",
      "{0: 0, 1: 1, 2: 4, 3: 9, 4: 16, 5: 25}\n"
     ]
    }
   ],
   "source": [
    "# Program to create a dictionary for a number and its square\n",
    "\n",
    "mydict=dict()\n",
    "end=int(input(\"Enter the last number\"))\n",
    "\n",
    "#Adding elements to the dictionary using for loop\n",
    "for i in range(0,end+1):\n",
    "    mydict[i]=i*i\n",
    "    \n",
    "#Displaying the dictionary outside the loop\n",
    "print(mydict)"
   ]
  },
  {
   "cell_type": "code",
   "execution_count": 93,
   "id": "d2c0b04f",
   "metadata": {},
   "outputs": [
    {
     "name": "stdout",
     "output_type": "stream",
     "text": [
      "The details of the product are:\n",
      " dict_items([('Pen', 5), ('Pencil', 10), ('Eraser', 2), ('Scale', 5), ('Sharpner', 5), ('Book', 100)])\n",
      "The total amount for all the products is= 127\n"
     ]
    }
   ],
   "source": [
    "# Program to determine total amount for all the available products in the dictionary\n",
    "\n",
    "products={'Pen':5,'Pencil':10,'Eraser':2,'Scale':5,'Sharpner':5,'Book':100}\n",
    "\n",
    "print(\"The details of the product are:\\n\",products.items())\n",
    "print(\"The total amount for all the products is=\",sum(products.values()))"
   ]
  },
  {
   "cell_type": "code",
   "execution_count": 96,
   "id": "1eb6f6f8",
   "metadata": {},
   "outputs": [
    {
     "name": "stdout",
     "output_type": "stream",
     "text": [
      "Enter the string containing upper and lower case letters:Python is a beautiful Programming Language!\n",
      "Total number of upper case letters= 3\n",
      "Total number of lower case letters= 34\n"
     ]
    }
   ],
   "source": [
    "# Program to determine number of upper and lower case letters in sentence\n",
    "mydict={'upper':0,'lower':0}\n",
    "mystring=input(\"Enter the string containing upper and lower case letters:\")\n",
    "\n",
    "for x in mystring:\n",
    "    if x.isupper():\n",
    "        mydict['upper']+=1\n",
    "    elif x.islower():\n",
    "         mydict['lower']+=1\n",
    "    else:\n",
    "        pass\n",
    "    \n",
    "print(\"Total number of upper case letters=\",mydict['upper'])\n",
    "print(\"Total number of lower case letters=\",mydict['lower'])\n",
    "        "
   ]
  },
  {
   "cell_type": "code",
   "execution_count": 100,
   "id": "5f0d6ce5",
   "metadata": {},
   "outputs": [
    {
     "data": {
      "text/plain": [
       "True"
      ]
     },
     "execution_count": 100,
     "metadata": {},
     "output_type": "execute_result"
    }
   ],
   "source": [
    "'python'.islower() #islower() is used to check whether the string is in lower case"
   ]
  },
  {
   "cell_type": "code",
   "execution_count": 101,
   "id": "bb5816c1",
   "metadata": {},
   "outputs": [
    {
     "data": {
      "text/plain": [
       "True"
      ]
     },
     "execution_count": 101,
     "metadata": {},
     "output_type": "execute_result"
    }
   ],
   "source": [
    "'PYTHON'.isupper() #isupper() is used to check whether the string is in upper case"
   ]
  },
  {
   "cell_type": "code",
   "execution_count": 105,
   "id": "4a1ea3bc",
   "metadata": {},
   "outputs": [
    {
     "name": "stdout",
     "output_type": "stream",
     "text": [
      "Enter the Alpanumeric string: Python 3\n",
      "Total number of numbers in the string are: 1\n",
      "Total number of letters in the string are: 6\n"
     ]
    }
   ],
   "source": [
    "# Program to calculate the number of letters and numbers in a string\n",
    "mystring=input(\"Enter the Alpanumeric string: \")\n",
    "mydict1={\"numbers\":0,'letters':0}\n",
    "\n",
    "for x in mystring:\n",
    "    if x.isdigit():\n",
    "        mydict1['numbers']+=1\n",
    "    elif x.isalpha():\n",
    "        mydict1['letters']+=1\n",
    "    else:\n",
    "        pass\n",
    "    \n",
    "print(\"Total number of numbers in the string are:\",mydict1['numbers'])\n",
    "print(\"Total number of letters in the string are:\",mydict1['letters'])"
   ]
  },
  {
   "cell_type": "code",
   "execution_count": 106,
   "id": "3f7e4cf8",
   "metadata": {},
   "outputs": [
    {
     "name": "stdout",
     "output_type": "stream",
     "text": [
      "Enter the word of your wish:Python\n",
      "Enter the word of your wish:is\n",
      "Enter the word of your wish:a\n",
      "Enter the word of your wish:Lovely\n",
      "Enter the word of your wish:Programming\n",
      "Enter the word of your wish:Language\n",
      "Enter the word of your wish:stop\n",
      "The number of words is:  6\n",
      "The length of all words is:  dict_items([(1, 6), (2, 2), (3, 1), (4, 6), (5, 11), (6, 8)])\n",
      "The maximum length is= 11\n"
     ]
    }
   ],
   "source": [
    "# Finding the total number of words and the longest word\n",
    "count=0\n",
    "word=\" \"\n",
    "dict_words={}\n",
    "\n",
    "#Prompting the user to enter the words,for ending enter stop\n",
    "while(word!=\"stop\"):\n",
    "    word=input(\"Enter the word of your wish:\")\n",
    "    if (word!='stop'):\n",
    "        count=count+1\n",
    "        #Adding the words to the dictionary\n",
    "        dict_words[count]=len(word)\n",
    "        \n",
    "#Displaying the result\n",
    "print(\"The number of words is: \",count)\n",
    "print(\"The length of all words is: \",dict_words.items())\n",
    "print(\"The maximum length is=\",max(dict_words.values()))\n"
   ]
  },
  {
   "cell_type": "code",
   "execution_count": 107,
   "id": "fdce6bdd",
   "metadata": {},
   "outputs": [
    {
     "name": "stdout",
     "output_type": "stream",
     "text": [
      "The dictonary items are dict_items([('Wipro', 5000), ('CapeGemini', 7000), ('TCS', 8000), ('Accenture', 2000), ('IBM', 1500), ('Amazon', 25000)])\n",
      "Ascending order of names of organisation\n",
      "The share price of Wipro is =  5000\n",
      "The share price of TCS is =  8000\n",
      "The share price of IBM is =  1500\n",
      "The share price of CapeGemini is =  7000\n",
      "The share price of Amazon is =  25000\n",
      "The share price of Accenture is =  2000\n"
     ]
    }
   ],
   "source": [
    "# program to sort dictionary items by values\n",
    "\n",
    "organisation={'Wipro':5000,'CapeGemini':7000,'TCS':8000,'Accenture':2000,'IBM':1500,'Amazon':25000}\n",
    "print(\"The dictonary items are\",organisation.items())\n",
    "\n",
    "#Sorting in ascending order\n",
    "print(\"Ascending order of names of organisation\")\n",
    "for key,value in sorted(organisation.items(),reverse=True):\n",
    "    print(\"The share price of\",key,\"is = \",value)"
   ]
  },
  {
   "cell_type": "markdown",
   "id": "93b806c9",
   "metadata": {},
   "source": [
    "# Set\n",
    "\n",
    ">In python,set is an **unordered collection of data type that is iterable,mutable and has no duplicate elements**.\n",
    "In short set is a **unordered collection of UNIQUE items/objects**.\n",
    "The order of elements in a set is undefined though it may consist of various elements.\n",
    "\n",
    ">The major advantage of using a set,as opposed to list,is that it has a **highly optimized method for checking whether a specific element is contained in the set**\n",
    "\n",
    ">Set is **mutable, non-indexable, iterables, non-sortable**(because they are NOT indexable)"
   ]
  },
  {
   "cell_type": "markdown",
   "id": "d4f17fcb",
   "metadata": {},
   "source": [
    "### Creating sets\n",
    "> Sets are written using **Curly braces** each element separated by **comma**.\n",
    "> Sets are also created using **set() constructor**,but it should consist only **1 element**."
   ]
  },
  {
   "cell_type": "code",
   "execution_count": 118,
   "id": "22ca90e3",
   "metadata": {},
   "outputs": [
    {
     "data": {
      "text/plain": [
       "{'Apple', 'Grapes', 'Orange', 'Pineapple'}"
      ]
     },
     "execution_count": 118,
     "metadata": {},
     "output_type": "execute_result"
    }
   ],
   "source": [
    "set1={'Apple','Orange','Grapes','Pineapple'}\n",
    "set1"
   ]
  },
  {
   "cell_type": "code",
   "execution_count": 119,
   "id": "bb677f31",
   "metadata": {},
   "outputs": [
    {
     "data": {
      "text/plain": [
       "set"
      ]
     },
     "execution_count": 119,
     "metadata": {},
     "output_type": "execute_result"
    }
   ],
   "source": [
    "type(set1)"
   ]
  },
  {
   "cell_type": "code",
   "execution_count": 121,
   "id": "f851549e",
   "metadata": {},
   "outputs": [
    {
     "data": {
      "text/plain": [
       "{'Apple', 'Grapes', 'Orange', 'Pineapple'}"
      ]
     },
     "execution_count": 121,
     "metadata": {},
     "output_type": "execute_result"
    }
   ],
   "source": [
    "#Sets cannot have duplicate values \n",
    "set1={'Apple','Orange','Grapes','Pineapple','Orange','Grapes'}\n",
    "set1"
   ]
  },
  {
   "cell_type": "code",
   "execution_count": 122,
   "id": "637f6039",
   "metadata": {},
   "outputs": [
    {
     "name": "stdout",
     "output_type": "stream",
     "text": [
      "showing a blank set -->> set()\n"
     ]
    }
   ],
   "source": [
    "#Creating a empty set\n",
    "set2=set()\n",
    "print(\"showing a empty set -->>\",set2)"
   ]
  },
  {
   "cell_type": "code",
   "execution_count": 123,
   "id": "77b566a5",
   "metadata": {},
   "outputs": [
    {
     "ename": "TypeError",
     "evalue": "set expected at most 1 argument, got 4",
     "output_type": "error",
     "traceback": [
      "\u001b[1;31m---------------------------------------------------------------------------\u001b[0m",
      "\u001b[1;31mTypeError\u001b[0m                                 Traceback (most recent call last)",
      "\u001b[1;32mC:\\Users\\DIVYAJ~1\\AppData\\Local\\Temp/ipykernel_294516/2071898000.py\u001b[0m in \u001b[0;36m<module>\u001b[1;34m\u001b[0m\n\u001b[1;32m----> 1\u001b[1;33m \u001b[0mset3\u001b[0m\u001b[1;33m=\u001b[0m\u001b[0mset\u001b[0m\u001b[1;33m(\u001b[0m\u001b[1;34m\"Python\"\u001b[0m\u001b[1;33m,\u001b[0m\u001b[1;34m\"is\"\u001b[0m\u001b[1;33m,\u001b[0m\u001b[1;34m\"a\"\u001b[0m\u001b[1;33m,\u001b[0m\u001b[1;34m\"programming language\"\u001b[0m\u001b[1;33m)\u001b[0m\u001b[1;33m\u001b[0m\u001b[1;33m\u001b[0m\u001b[0m\n\u001b[0m\u001b[0;32m      2\u001b[0m \u001b[0mset3\u001b[0m\u001b[1;33m\u001b[0m\u001b[1;33m\u001b[0m\u001b[0m\n",
      "\u001b[1;31mTypeError\u001b[0m: set expected at most 1 argument, got 4"
     ]
    }
   ],
   "source": [
    "#set should consists of only one element\n",
    "set3=set(\"Python\",\"is\",\"a\",\"programming language\")\n",
    "set3"
   ]
  },
  {
   "cell_type": "code",
   "execution_count": 125,
   "id": "596067bd",
   "metadata": {},
   "outputs": [
    {
     "name": "stdout",
     "output_type": "stream",
     "text": [
      "{'i', 'u', 'e', 'P', 'p', 'l', 't', 'y', 'h', 's', 'r', 'a', 'm', ' ', 'n', 'o', 'g'}\n"
     ]
    }
   ],
   "source": [
    "set3=set(\"Python is a programming language\")\n",
    "print(set3)"
   ]
  },
  {
   "cell_type": "code",
   "execution_count": 126,
   "id": "abd6ee40",
   "metadata": {},
   "outputs": [
    {
     "data": {
      "text/plain": [
       "{'Python', 'a', 'is', 'language', 'programming'}"
      ]
     },
     "execution_count": 126,
     "metadata": {},
     "output_type": "execute_result"
    }
   ],
   "source": [
    "# we can create a set with the use of lists\n",
    "\n",
    "set4=set([\"Python\",\"is\",\"a\",\"programming\",\"language\"])\n",
    "set4"
   ]
  },
  {
   "cell_type": "code",
   "execution_count": 127,
   "id": "03ec9adb",
   "metadata": {},
   "outputs": [
    {
     "data": {
      "text/plain": [
       "set"
      ]
     },
     "execution_count": 127,
     "metadata": {},
     "output_type": "execute_result"
    }
   ],
   "source": [
    "type(set4)"
   ]
  },
  {
   "cell_type": "code",
   "execution_count": 129,
   "id": "755e46bf",
   "metadata": {},
   "outputs": [
    {
     "data": {
      "text/plain": [
       "{1, 2, 3, 4, 5, 6, 7, 8, 9, 10}"
      ]
     },
     "execution_count": 129,
     "metadata": {},
     "output_type": "execute_result"
    }
   ],
   "source": [
    "# Creating a set with list of numbers \n",
    "set5=set([1,2,3,4,5,6,7,8,9,10])\n",
    "set5"
   ]
  },
  {
   "cell_type": "code",
   "execution_count": 132,
   "id": "c5e5b002",
   "metadata": {},
   "outputs": [
    {
     "name": "stdout",
     "output_type": "stream",
     "text": [
      "<class 'set'>\n"
     ]
    },
    {
     "data": {
      "text/plain": [
       "({\"'language'\", 3, 'Python', True, 'is', 'programming'}, None)"
      ]
     },
     "execution_count": 132,
     "metadata": {},
     "output_type": "execute_result"
    }
   ],
   "source": [
    "#Creating a set with mixed type of elements\n",
    "\n",
    "set6={\"Python\",3,\"is\",True,'programming',\"'language'\"}\n",
    "set6,print(type(set6))"
   ]
  },
  {
   "cell_type": "markdown",
   "id": "99b23c1c",
   "metadata": {},
   "source": [
    "### Accessing elements in sets\n",
    "\n",
    ">You **cannot access items in a set by referring to an index or a key**.\n",
    "\n",
    ">But you can **loop through the set items** using a **for loop**, or ask if a **specified value** is present in a set, by using the **in** keyword."
   ]
  },
  {
   "cell_type": "code",
   "execution_count": 134,
   "id": "bf7c8f20",
   "metadata": {},
   "outputs": [
    {
     "name": "stdout",
     "output_type": "stream",
     "text": [
      "{'Pineapple', 'Grapes', 'Apple', 'Orange'}\n",
      "Pineapple\n",
      "Grapes\n",
      "Apple\n",
      "Orange\n"
     ]
    }
   ],
   "source": [
    "print(set1)\n",
    "#One can access the elements through looping in this way\n",
    "for i in set1:\n",
    "    print(i)"
   ]
  },
  {
   "cell_type": "code",
   "execution_count": 135,
   "id": "732b52b0",
   "metadata": {},
   "outputs": [
    {
     "data": {
      "text/plain": [
       "True"
      ]
     },
     "execution_count": 135,
     "metadata": {},
     "output_type": "execute_result"
    }
   ],
   "source": [
    "\"Pineapple\" in set1 #we can check whether an element is present in set or not using \"in\" keyword"
   ]
  },
  {
   "cell_type": "markdown",
   "id": "0f35a9e5",
   "metadata": {},
   "source": [
    "##### Adding items to the set\n",
    ">Once a set is created, you **cannot change** its items, but you can **add new items**.To **add one item** to a set use the **add()** method."
   ]
  },
  {
   "cell_type": "code",
   "execution_count": 136,
   "id": "22eb351a",
   "metadata": {},
   "outputs": [
    {
     "data": {
      "text/plain": [
       "{'Apple', 'Grapes', 'Orange', 'Pineapple', 'strawberry'}"
      ]
     },
     "execution_count": 136,
     "metadata": {},
     "output_type": "execute_result"
    }
   ],
   "source": [
    "set1.add(\"strawberry\")\n",
    "set1"
   ]
  },
  {
   "cell_type": "code",
   "execution_count": 138,
   "id": "b6e29a10",
   "metadata": {},
   "outputs": [
    {
     "ename": "TypeError",
     "evalue": "set.add() takes exactly one argument (2 given)",
     "output_type": "error",
     "traceback": [
      "\u001b[1;31m---------------------------------------------------------------------------\u001b[0m",
      "\u001b[1;31mTypeError\u001b[0m                                 Traceback (most recent call last)",
      "\u001b[1;32mC:\\Users\\DIVYAJ~1\\AppData\\Local\\Temp/ipykernel_294516/1558332707.py\u001b[0m in \u001b[0;36m<module>\u001b[1;34m\u001b[0m\n\u001b[1;32m----> 1\u001b[1;33m \u001b[0mset1\u001b[0m\u001b[1;33m.\u001b[0m\u001b[0madd\u001b[0m\u001b[1;33m(\u001b[0m\u001b[1;34m\"blackberry\"\u001b[0m\u001b[1;33m,\u001b[0m\u001b[1;34m\"blueberry\"\u001b[0m\u001b[1;33m)\u001b[0m\u001b[1;33m\u001b[0m\u001b[1;33m\u001b[0m\u001b[0m\n\u001b[0m\u001b[0;32m      2\u001b[0m \u001b[0mset1\u001b[0m \u001b[1;31m# add() can take only 1 item at a time\u001b[0m\u001b[1;33m\u001b[0m\u001b[1;33m\u001b[0m\u001b[0m\n",
      "\u001b[1;31mTypeError\u001b[0m: set.add() takes exactly one argument (2 given)"
     ]
    }
   ],
   "source": [
    "set1.add(\"blackberry\",\"blueberry\")\n",
    "set1 # add() can take only 1 item at a time"
   ]
  },
  {
   "cell_type": "markdown",
   "id": "1217e3eb",
   "metadata": {},
   "source": [
    "##### To add items from another set into the current set, use the **update()** method."
   ]
  },
  {
   "cell_type": "code",
   "execution_count": 143,
   "id": "d5c73ad3",
   "metadata": {},
   "outputs": [
    {
     "name": "stdout",
     "output_type": "stream",
     "text": [
      "{'Grapes', 'Orange', 'Apple', 'Pineapple', 'Jackfruit', 'strawberry', 'Papaya', 'Dragonfruit'}\n"
     ]
    }
   ],
   "source": [
    "set_1={'Papaya','Jackfruit','Dragonfruit'}\n",
    "set1.update(set_1)\n",
    "print(set1)"
   ]
  },
  {
   "cell_type": "markdown",
   "id": "b56a9093",
   "metadata": {},
   "source": [
    "##### Add Any Iterable\n",
    "> The object in the update() method does not have to be a set, it can be any iterable object **(tuples, lists, dictionaries etc.)**."
   ]
  },
  {
   "cell_type": "code",
   "execution_count": 144,
   "id": "13f7d176",
   "metadata": {},
   "outputs": [
    {
     "name": "stdout",
     "output_type": "stream",
     "text": [
      "{'Potato', 'Carrot', 'Cucumber', 'Raddish', 'Beetroot', 'Brinjal', 'Drumstick'}\n"
     ]
    }
   ],
   "source": [
    "set_2={\"Potato\",\"Cucumber\",\"Raddish\",\"Drumstick\"}\n",
    "set_3=[\"Brinjal\",\"Carrot\",\"Beetroot\"]\n",
    "set_2.update(set_3)\n",
    "print(set_2)"
   ]
  },
  {
   "cell_type": "code",
   "execution_count": 145,
   "id": "e3efadf6",
   "metadata": {},
   "outputs": [
    {
     "ename": "AttributeError",
     "evalue": "'list' object has no attribute 'update'",
     "output_type": "error",
     "traceback": [
      "\u001b[1;31m---------------------------------------------------------------------------\u001b[0m",
      "\u001b[1;31mAttributeError\u001b[0m                            Traceback (most recent call last)",
      "\u001b[1;32mC:\\Users\\DIVYAJ~1\\AppData\\Local\\Temp/ipykernel_294516/1202251065.py\u001b[0m in \u001b[0;36m<module>\u001b[1;34m\u001b[0m\n\u001b[1;32m----> 1\u001b[1;33m \u001b[0mset_3\u001b[0m\u001b[1;33m.\u001b[0m\u001b[0mupdate\u001b[0m\u001b[1;33m(\u001b[0m\u001b[0mset_2\u001b[0m\u001b[1;33m)\u001b[0m\u001b[1;33m\u001b[0m\u001b[1;33m\u001b[0m\u001b[0m\n\u001b[0m",
      "\u001b[1;31mAttributeError\u001b[0m: 'list' object has no attribute 'update'"
     ]
    }
   ],
   "source": [
    "set_3.update(set_2) # vicevarsa is not possible since list does not have any method called \"update()\""
   ]
  },
  {
   "cell_type": "markdown",
   "id": "571236e2",
   "metadata": {},
   "source": [
    "##### Removing items from sets.\n",
    ">To remove an item in a set, use the **remove()**, or the **discard()** method."
   ]
  },
  {
   "cell_type": "code",
   "execution_count": 148,
   "id": "59933d0f",
   "metadata": {},
   "outputs": [
    {
     "name": "stdout",
     "output_type": "stream",
     "text": [
      "{'Grapes', 'Orange', 'Apple', 'Pineapple', 'Jackfruit', 'strawberry', 'Papaya', 'Dragonfruit'}\n"
     ]
    }
   ],
   "source": [
    "print(set1)"
   ]
  },
  {
   "cell_type": "code",
   "execution_count": 149,
   "id": "33544049",
   "metadata": {},
   "outputs": [
    {
     "name": "stdout",
     "output_type": "stream",
     "text": [
      "{'Grapes', 'Orange', 'Apple', 'Pineapple', 'Jackfruit', 'strawberry', 'Papaya'}\n"
     ]
    }
   ],
   "source": [
    "set1.remove(\"Dragonfruit\")\n",
    "print(set1)"
   ]
  },
  {
   "cell_type": "code",
   "execution_count": 150,
   "id": "1ab31139",
   "metadata": {},
   "outputs": [
    {
     "ename": "TypeError",
     "evalue": "set.remove() takes exactly one argument (2 given)",
     "output_type": "error",
     "traceback": [
      "\u001b[1;31m---------------------------------------------------------------------------\u001b[0m",
      "\u001b[1;31mTypeError\u001b[0m                                 Traceback (most recent call last)",
      "\u001b[1;32mC:\\Users\\DIVYAJ~1\\AppData\\Local\\Temp/ipykernel_294516/2249881226.py\u001b[0m in \u001b[0;36m<module>\u001b[1;34m\u001b[0m\n\u001b[1;32m----> 1\u001b[1;33m \u001b[0mset1\u001b[0m\u001b[1;33m.\u001b[0m\u001b[0mremove\u001b[0m\u001b[1;33m(\u001b[0m\u001b[1;34m\"strawberry\"\u001b[0m\u001b[1;33m,\u001b[0m\u001b[1;34m\"Papaya\"\u001b[0m\u001b[1;33m)\u001b[0m\u001b[1;33m\u001b[0m\u001b[1;33m\u001b[0m\u001b[0m\n\u001b[0m\u001b[0;32m      2\u001b[0m \u001b[0mprint\u001b[0m\u001b[1;33m(\u001b[0m\u001b[0mset1\u001b[0m\u001b[1;33m)\u001b[0m\u001b[1;33m\u001b[0m\u001b[1;33m\u001b[0m\u001b[0m\n",
      "\u001b[1;31mTypeError\u001b[0m: set.remove() takes exactly one argument (2 given)"
     ]
    }
   ],
   "source": [
    "set1.remove(\"strawberry\",\"Papaya\")\n",
    "print(set1) #remove can delete only 1 item at a time"
   ]
  },
  {
   "cell_type": "code",
   "execution_count": 157,
   "id": "ea26e6e8",
   "metadata": {},
   "outputs": [
    {
     "ename": "KeyError",
     "evalue": "'Avacado'",
     "output_type": "error",
     "traceback": [
      "\u001b[1;31m---------------------------------------------------------------------------\u001b[0m",
      "\u001b[1;31mKeyError\u001b[0m                                  Traceback (most recent call last)",
      "\u001b[1;32mC:\\Users\\DIVYAJ~1\\AppData\\Local\\Temp/ipykernel_294516/4094020610.py\u001b[0m in \u001b[0;36m<module>\u001b[1;34m\u001b[0m\n\u001b[1;32m----> 1\u001b[1;33m \u001b[0mset1\u001b[0m\u001b[1;33m.\u001b[0m\u001b[0mremove\u001b[0m\u001b[1;33m(\u001b[0m\u001b[1;34m\"Avacado\"\u001b[0m\u001b[1;33m)\u001b[0m \u001b[1;31m# removing an element which is not present in the set will raise an error\u001b[0m\u001b[1;33m\u001b[0m\u001b[1;33m\u001b[0m\u001b[0m\n\u001b[0m\u001b[0;32m      2\u001b[0m \u001b[0mprint\u001b[0m\u001b[1;33m(\u001b[0m\u001b[0mset1\u001b[0m\u001b[1;33m)\u001b[0m\u001b[1;33m\u001b[0m\u001b[1;33m\u001b[0m\u001b[0m\n",
      "\u001b[1;31mKeyError\u001b[0m: 'Avacado'"
     ]
    }
   ],
   "source": [
    "set1.remove(\"Avacado\") # removing an element which is not present in the set will raise an error\n",
    "print(set1)"
   ]
  },
  {
   "cell_type": "code",
   "execution_count": 152,
   "id": "53ea2f66",
   "metadata": {},
   "outputs": [
    {
     "name": "stdout",
     "output_type": "stream",
     "text": [
      "{'Grapes', 'Orange', 'Apple', 'Pineapple', 'Jackfruit', 'strawberry'}\n"
     ]
    }
   ],
   "source": [
    "set1.discard(\"Papaya\")\n",
    "print(set1)"
   ]
  },
  {
   "cell_type": "code",
   "execution_count": 153,
   "id": "6ab8dad7",
   "metadata": {},
   "outputs": [
    {
     "ename": "TypeError",
     "evalue": "set.discard() takes exactly one argument (2 given)",
     "output_type": "error",
     "traceback": [
      "\u001b[1;31m---------------------------------------------------------------------------\u001b[0m",
      "\u001b[1;31mTypeError\u001b[0m                                 Traceback (most recent call last)",
      "\u001b[1;32mC:\\Users\\DIVYAJ~1\\AppData\\Local\\Temp/ipykernel_294516/1441282831.py\u001b[0m in \u001b[0;36m<module>\u001b[1;34m\u001b[0m\n\u001b[1;32m----> 1\u001b[1;33m \u001b[0mset1\u001b[0m\u001b[1;33m.\u001b[0m\u001b[0mdiscard\u001b[0m\u001b[1;33m(\u001b[0m\u001b[1;34m\"strawberry\"\u001b[0m\u001b[1;33m,\u001b[0m\u001b[1;34m\"Jackfruit\"\u001b[0m\u001b[1;33m)\u001b[0m\u001b[1;33m\u001b[0m\u001b[1;33m\u001b[0m\u001b[0m\n\u001b[0m\u001b[0;32m      2\u001b[0m \u001b[0mprint\u001b[0m\u001b[1;33m(\u001b[0m\u001b[0mset1\u001b[0m\u001b[1;33m)\u001b[0m\u001b[1;33m\u001b[0m\u001b[1;33m\u001b[0m\u001b[0m\n",
      "\u001b[1;31mTypeError\u001b[0m: set.discard() takes exactly one argument (2 given)"
     ]
    }
   ],
   "source": [
    "set1.discard(\"strawberry\",\"Jackfruit\")\n",
    "print(set1) # discard also eliminates only 1 item at a time"
   ]
  },
  {
   "cell_type": "code",
   "execution_count": 156,
   "id": "4013cb0f",
   "metadata": {},
   "outputs": [
    {
     "name": "stdout",
     "output_type": "stream",
     "text": [
      "{'Grapes', 'Orange', 'Apple', 'Pineapple', 'Jackfruit', 'strawberry'}\n"
     ]
    }
   ],
   "source": [
    "set1.discard(\"Avacado\") # removing an element which is not present in the set will not raise an error,it will simply display the set as output\n",
    "print(set1)"
   ]
  },
  {
   "cell_type": "raw",
   "id": "fb1d1ce0",
   "metadata": {},
   "source": [
    "You can also use the pop() method to remove an item, but this method will remove the last item. Remember that sets are unordered, so you will not know what item that gets removed.\n",
    "\n",
    "The return value of the pop() method is the removed item."
   ]
  },
  {
   "cell_type": "code",
   "execution_count": 158,
   "id": "ab3b7110",
   "metadata": {},
   "outputs": [
    {
     "data": {
      "text/plain": [
       "'Grapes'"
      ]
     },
     "execution_count": 158,
     "metadata": {},
     "output_type": "execute_result"
    }
   ],
   "source": [
    "set1.pop() # this not recommended to use since we will not get to know which item is deleted !"
   ]
  },
  {
   "cell_type": "code",
   "execution_count": 159,
   "id": "55874e17",
   "metadata": {},
   "outputs": [
    {
     "name": "stdout",
     "output_type": "stream",
     "text": [
      "set()\n"
     ]
    }
   ],
   "source": [
    "# clear() is used delete all the elements from the set\n",
    "set1.clear()\n",
    "print(set1) #this results in empty set"
   ]
  },
  {
   "cell_type": "markdown",
   "id": "7b2fbafa",
   "metadata": {},
   "source": [
    "**del** keyword deletes the set completely"
   ]
  },
  {
   "cell_type": "code",
   "execution_count": 160,
   "id": "f14a3a03",
   "metadata": {},
   "outputs": [
    {
     "data": {
      "text/plain": [
       "{0, 1, 2, 3, 3.1444, 'Apple', 'Orange'}"
      ]
     },
     "execution_count": 160,
     "metadata": {},
     "output_type": "execute_result"
    }
   ],
   "source": [
    "set1={1,2,3,True,\"Apple\",\"Orange\",3.1444,0}\n",
    "set1"
   ]
  },
  {
   "cell_type": "code",
   "execution_count": 161,
   "id": "39175edd",
   "metadata": {},
   "outputs": [],
   "source": [
    "del set1"
   ]
  },
  {
   "cell_type": "code",
   "execution_count": 162,
   "id": "d6580b0e",
   "metadata": {},
   "outputs": [
    {
     "ename": "NameError",
     "evalue": "name 'set1' is not defined",
     "output_type": "error",
     "traceback": [
      "\u001b[1;31m---------------------------------------------------------------------------\u001b[0m",
      "\u001b[1;31mNameError\u001b[0m                                 Traceback (most recent call last)",
      "\u001b[1;32mC:\\Users\\DIVYAJ~1\\AppData\\Local\\Temp/ipykernel_294516/2600084190.py\u001b[0m in \u001b[0;36m<module>\u001b[1;34m\u001b[0m\n\u001b[1;32m----> 1\u001b[1;33m \u001b[0mprint\u001b[0m\u001b[1;33m(\u001b[0m\u001b[0mset1\u001b[0m\u001b[1;33m)\u001b[0m\u001b[1;33m\u001b[0m\u001b[1;33m\u001b[0m\u001b[0m\n\u001b[0m",
      "\u001b[1;31mNameError\u001b[0m: name 'set1' is not defined"
     ]
    }
   ],
   "source": [
    "print(set1)"
   ]
  },
  {
   "cell_type": "markdown",
   "id": "fe872985",
   "metadata": {},
   "source": [
    "### Operations using two sets "
   ]
  },
  {
   "cell_type": "markdown",
   "id": "7a6f7e56",
   "metadata": {},
   "source": [
    "##### Union() and update()\n",
    "\n",
    ">There are several ways to join two or more sets in Python.\n",
    ">> **union()** method returns a **new set** containing all items from both sets, or the **update()** method that **inserts all** the items from one set into another.Both union() and update() **excludes the duplicates**."
   ]
  },
  {
   "cell_type": "code",
   "execution_count": 174,
   "id": "ad3104c2",
   "metadata": {},
   "outputs": [
    {
     "name": "stdout",
     "output_type": "stream",
     "text": [
      "set1= {'f', 'a', 'e', 'b', 'c', 'd'} \n",
      "set2= {1, 2, 3, 4, 5, 6}\n"
     ]
    }
   ],
   "source": [
    "set1={'a','b','c','d','e','f'}\n",
    "set2={1,2,3,4,5,6}\n",
    "print(\"set1=\",set1,\"\\nset2=\",set2)"
   ]
  },
  {
   "cell_type": "code",
   "execution_count": 175,
   "id": "2d7bc290",
   "metadata": {},
   "outputs": [
    {
     "name": "stdout",
     "output_type": "stream",
     "text": [
      "{'f', 1, 2, 3, 'e', 4, 5, 6, 'a', 'b', 'c', 'd'}\n"
     ]
    }
   ],
   "source": [
    "# union() is used to join 2 sets\n",
    "set3=set1.union(set2)\n",
    "print(set3)"
   ]
  },
  {
   "cell_type": "code",
   "execution_count": 178,
   "id": "ef76c148",
   "metadata": {},
   "outputs": [
    {
     "name": "stdout",
     "output_type": "stream",
     "text": [
      "{'f', 1, 2, 3, 'e', 4, 5, 6, 'a', 'b', 'c', 'd'}\n"
     ]
    }
   ],
   "source": [
    "# update methods updates all the elements in set2 to set1\n",
    "set1.update(set2)\n",
    "print(set1)"
   ]
  },
  {
   "cell_type": "code",
   "execution_count": 179,
   "id": "6b50ea62",
   "metadata": {},
   "outputs": [
    {
     "name": "stdout",
     "output_type": "stream",
     "text": [
      "None\n"
     ]
    }
   ],
   "source": [
    "set3=set1.update(set2)\n",
    "print(set3) # this means only set1 is updated ,it will not store any items in set3 "
   ]
  },
  {
   "cell_type": "code",
   "execution_count": 185,
   "id": "0905456d",
   "metadata": {},
   "outputs": [
    {
     "name": "stdout",
     "output_type": "stream",
     "text": [
      "{1, 2, 'Grapes', 'Mango', 'Orange', 'Apple', 'a', 'b', 'c'}\n"
     ]
    }
   ],
   "source": [
    "# joining more than 2 sets\n",
    "\n",
    "set4={1,2}\n",
    "set5={'a','b','c'}\n",
    "set6={'Apple','Orange','Mango','Grapes'}\n",
    "set7=set4.union(set5,set6)\n",
    "print(set7)"
   ]
  },
  {
   "cell_type": "code",
   "execution_count": 186,
   "id": "be7c966d",
   "metadata": {},
   "outputs": [
    {
     "name": "stdout",
     "output_type": "stream",
     "text": [
      "{False, 1, 2, 'Grapes', 100, 'Mango', 'Orange', 200, 'Apple', 300, 'a', 'b', 'c'}\n"
     ]
    }
   ],
   "source": [
    "set8={100,100,200,300,True,True,False} # The repeated values in the set are excluded by union()\n",
    "set9=set7.union(set8)\n",
    "print(set9)"
   ]
  },
  {
   "cell_type": "code",
   "execution_count": 187,
   "id": "3b58689f",
   "metadata": {},
   "outputs": [
    {
     "name": "stdout",
     "output_type": "stream",
     "text": [
      "{False, 1, 2, 'Grapes', 100, 'Mango', 'Orange', 200, 'Apple', 300, 'a', 'b', 'c'}\n"
     ]
    }
   ],
   "source": [
    "set9.update(set8) # The repeated values in the set are excluded by update()\n",
    "print(set9)"
   ]
  },
  {
   "cell_type": "markdown",
   "id": "d27b190c",
   "metadata": {},
   "source": [
    "##### intersection()\n",
    "> The **intersection()** method will return a new set, that only contains the items that are **present in both sets**."
   ]
  },
  {
   "cell_type": "code",
   "execution_count": 207,
   "id": "80c467c9",
   "metadata": {},
   "outputs": [
    {
     "name": "stdout",
     "output_type": "stream",
     "text": [
      "{2, 4, 6, 8, 10}\n"
     ]
    }
   ],
   "source": [
    "set10={1,2,3,4,5,6,7,8,9,10}\n",
    "set11={2,4,6,8,10}\n",
    "set12=set10.intersection(set11)\n",
    "print(set12)"
   ]
  },
  {
   "cell_type": "markdown",
   "id": "90b5e5fd",
   "metadata": {},
   "source": [
    "##### Keep ONLY the Duplicates\n",
    "> The **intersection_update()** method will keep only the items that are **present in both sets**."
   ]
  },
  {
   "cell_type": "code",
   "execution_count": 204,
   "id": "c34a3500",
   "metadata": {},
   "outputs": [
    {
     "name": "stdout",
     "output_type": "stream",
     "text": [
      "{2, 4, 6, 8, 10}\n"
     ]
    }
   ],
   "source": [
    "set10.intersection_update(set11)\n",
    "print(set10)"
   ]
  },
  {
   "cell_type": "markdown",
   "id": "2a657ee0",
   "metadata": {},
   "source": [
    "##### Keep All, But NOT the Duplicates\n",
    ">The **symmetric_difference_update()** method will keep only the elements that are **NOT present in both sets**.\n",
    "\n",
    ">The **symmetric_difference()** method will return **a new set**, that contains only the elements that are **NOT present in both sets**."
   ]
  },
  {
   "cell_type": "code",
   "execution_count": 211,
   "id": "9e5a0888",
   "metadata": {},
   "outputs": [
    {
     "name": "stdout",
     "output_type": "stream",
     "text": [
      "{1, 3, 5, 6, 8, 10}\n"
     ]
    }
   ],
   "source": [
    "set13={1,2,3,4,5}\n",
    "set14={2,4,6,8,10}\n",
    "set13.symmetric_difference_update(set14) #this function only updates the set\n",
    "print(set13)"
   ]
  },
  {
   "cell_type": "code",
   "execution_count": 213,
   "id": "63cfe6e9",
   "metadata": {},
   "outputs": [
    {
     "name": "stdout",
     "output_type": "stream",
     "text": [
      "{1, 3, 5, 6, 8, 10}\n"
     ]
    }
   ],
   "source": [
    "set13={1,2,3,4,5}\n",
    "set14={2,4,6,8,10}\n",
    "set15=set13.symmetric_difference(set14) #this function updates the set and stores the updated set in another function\n",
    "print(set15)"
   ]
  },
  {
   "cell_type": "markdown",
   "id": "d4e78b85",
   "metadata": {},
   "source": [
    "# List of Set Methods\n",
    "<ul>Python has a set of built-in methods that you can use on sets:\n",
    "<li>add() -->> Adds an element to the set.</li>\n",
    "<li>clear()\t-->> Removes all the elements from the set.</li>\n",
    "<li>copy()-->> Returns a copy of the set.</li>\n",
    "<li>difference()-->Returns a set containing the difference between two or more sets.</li>\n",
    "<li>difference_update()-->>Removes the items in this set that are also included in another, specified set.</li>\n",
    "<li>discard()-->> Remove the specified item.</li>\n",
    "<li>intersection()-->> Returns a set, that is the intersection of two other sets.</li>\n",
    "<li>intersection_update( ) -->>Removes the items in this set that are not present in other, specified set(s).</li>\n",
    "<li>isdisjoint() -->>\tReturns whether two sets have a intersection or not.</li>\n",
    "<li>issubset() -->>\tReturns whether another set contains this set or not.</li>\n",
    "<li>issuperset() -->>\tReturns whether this set contains another set or not.</li>\n",
    "<li>pop() -->>\tRemoves an element from the set.</li>\n",
    "<li>remove() -->>\tRemoves the specified element.</li>\n",
    "<li>symmetric_difference() -->>\tReturns a set with the symmetric differences of two sets.</li>\n",
    "<li>symmetric_difference_update() -->>\tinserts the symmetric differences from this set and another.</li>\n",
    "<li>union() -->> Return a set containing the union of sets.</li>\n",
    "<li>update() -->> update the set with the union of this set and others.</li></ul>"
   ]
  },
  {
   "cell_type": "code",
   "execution_count": 224,
   "id": "650fb0cd",
   "metadata": {},
   "outputs": [
    {
     "name": "stdout",
     "output_type": "stream",
     "text": [
      "{1, 2, 3, 4, 5}\n",
      "{2, 4, 6, 8, 10}\n"
     ]
    }
   ],
   "source": [
    "myset1={1,2,3,4,5}\n",
    "myset2={2,4,6,8,10}\n",
    "print(myset1,myset2,sep=\"\\n\")"
   ]
  },
  {
   "cell_type": "code",
   "execution_count": 225,
   "id": "4f316cd9",
   "metadata": {},
   "outputs": [
    {
     "data": {
      "text/plain": [
       "{1, 2, 3, 4, 5}"
      ]
     },
     "execution_count": 225,
     "metadata": {},
     "output_type": "execute_result"
    }
   ],
   "source": [
    "myset3=myset1.copy()\n",
    "myset3"
   ]
  },
  {
   "cell_type": "code",
   "execution_count": 226,
   "id": "c6750eb2",
   "metadata": {},
   "outputs": [
    {
     "data": {
      "text/plain": [
       "{1, 3, 5}"
      ]
     },
     "execution_count": 226,
     "metadata": {},
     "output_type": "execute_result"
    }
   ],
   "source": [
    "myset4=myset1.difference(myset2)\n",
    "myset4"
   ]
  },
  {
   "cell_type": "code",
   "execution_count": 227,
   "id": "6d4d2bca",
   "metadata": {},
   "outputs": [
    {
     "data": {
      "text/plain": [
       "{1, 3, 5}"
      ]
     },
     "execution_count": 227,
     "metadata": {},
     "output_type": "execute_result"
    }
   ],
   "source": [
    "myset1.difference_update(myset2)\n",
    "myset1"
   ]
  },
  {
   "cell_type": "code",
   "execution_count": 229,
   "id": "3963d3f6",
   "metadata": {},
   "outputs": [
    {
     "name": "stdout",
     "output_type": "stream",
     "text": [
      "{3, 5}\n"
     ]
    }
   ],
   "source": [
    "myset1.discard(1)\n",
    "print(myset1)"
   ]
  },
  {
   "cell_type": "code",
   "execution_count": 236,
   "id": "259aac76",
   "metadata": {},
   "outputs": [
    {
     "name": "stdout",
     "output_type": "stream",
     "text": [
      "True\n",
      "False\n"
     ]
    }
   ],
   "source": [
    " # isdisjoint() - Two sets are said to be disjoint sets if they have no elements in common\n",
    "s1={1,2,3,4,5}\n",
    "s2={6,12,18,24}\n",
    "s3={3,6,9,12,15}\n",
    "print(s1.isdisjoint(s2)) #this gives true because there are no elements in common in sets s1 and s2\n",
    "print(s2.isdisjoint(s3)) #this gives false because there are elements in common in sets s2 and 3"
   ]
  },
  {
   "cell_type": "code",
   "execution_count": 245,
   "id": "e5e4e3ca",
   "metadata": {},
   "outputs": [
    {
     "name": "stdout",
     "output_type": "stream",
     "text": [
      "A is a subset of B?  False\n",
      "B is a subset of A?  True\n",
      "B is a superset of A False\n",
      "A is a superset of B True\n"
     ]
    }
   ],
   "source": [
    "#issubset()- set A is a subset of B if all the elements of A are also elements of B,Then B is a superset of A\n",
    "A={1,2,3,4,5}\n",
    "B={2,4}\n",
    "print(\"A is a subset of B? \",A.issubset(B)) #because all the elements of A are not the elements of B\n",
    "print(\"B is a subset of A? \",B.issubset(A)) #because all the elements of B are the elements of A\n",
    "print(\"B is a superset of A\",B.issuperset(A)) #because A is not a subset of B\n",
    "print(\"A is a superset of B\",A.issuperset(B)) #because B is a subset of A"
   ]
  },
  {
   "cell_type": "code",
   "execution_count": 246,
   "id": "e11c9561",
   "metadata": {},
   "outputs": [
    {
     "name": "stdout",
     "output_type": "stream",
     "text": [
      "{1, 2, 3, 4}\n"
     ]
    }
   ],
   "source": [
    "A.remove(5) # it is used to delete a single element from the set\n",
    "print(A)"
   ]
  },
  {
   "cell_type": "markdown",
   "id": "ebe33e84",
   "metadata": {},
   "source": [
    "* * *"
   ]
  },
  {
   "cell_type": "markdown",
   "id": "28d204f5",
   "metadata": {},
   "source": [
    "# Python Arrays\n",
    "\n",
    ">Python does not have built-in support for Arrays, but Python Lists can be used instead.\n",
    "\n",
    ">Let's see how to use **LISTS as ARRAYS**, however, to work with arrays in Python you will have to import a library, like the **numpy library**"
   ]
  },
  {
   "cell_type": "markdown",
   "id": "a84642f1",
   "metadata": {},
   "source": [
    "### Creating an Array"
   ]
  },
  {
   "cell_type": "code",
   "execution_count": 1,
   "id": "a5632cf8",
   "metadata": {},
   "outputs": [
    {
     "name": "stdout",
     "output_type": "stream",
     "text": [
      "['Lion', 'Tiger', 'Elephant', 'Fox', 'Zebra']\n",
      "<class 'list'>\n"
     ]
    }
   ],
   "source": [
    "#creating an arrays of animal names\n",
    "animals=[\"Lion\",\"Tiger\",\"Elephant\",\"Fox\",\"Zebra\"]\n",
    "print(animals)"
   ]
  },
  {
   "cell_type": "code",
   "execution_count": 5,
   "id": "2263eadd",
   "metadata": {},
   "outputs": [
    {
     "data": {
      "text/plain": [
       "5"
      ]
     },
     "execution_count": 5,
     "metadata": {},
     "output_type": "execute_result"
    }
   ],
   "source": [
    "len(animals) #The length of an array is always one more than the highest array index."
   ]
  },
  {
   "cell_type": "markdown",
   "id": "460cd418",
   "metadata": {},
   "source": [
    "### Accessing array elements"
   ]
  },
  {
   "cell_type": "code",
   "execution_count": 3,
   "id": "3af10290",
   "metadata": {},
   "outputs": [
    {
     "data": {
      "text/plain": [
       "'Fox'"
      ]
     },
     "execution_count": 3,
     "metadata": {},
     "output_type": "execute_result"
    }
   ],
   "source": [
    "animals[3]"
   ]
  },
  {
   "cell_type": "code",
   "execution_count": 4,
   "id": "eec46fb4",
   "metadata": {},
   "outputs": [
    {
     "data": {
      "text/plain": [
       "'Lion'"
      ]
     },
     "execution_count": 4,
     "metadata": {},
     "output_type": "execute_result"
    }
   ],
   "source": [
    "animals[0]"
   ]
  },
  {
   "cell_type": "markdown",
   "id": "aac44f53",
   "metadata": {},
   "source": [
    "### Arrays\n",
    ">Arrays are used to **store multiple values** in one single variable\n",
    "\n",
    ">Python Arrays are used when you need to use **many variables** which are of the **same type**.These are used especially when you have to process the **data dynamically**.Python arrays are much **faster** than lists\n",
    "\n",
    "><code>Syntax:\n",
    ">arrayName=array.array(type code for data type,[array,items])</code> \n",
    "\n",
    "<li>Identifier: specify a name like usually, you do for variables</li>\n",
    "<li>Module: Python has a special module for creating array in Python, called “array” – you must import it before using it</li>\n",
    "<li>Method: the array module has a method for initializing the array. It takes two arguments, type code, and elements.</li>\n",
    "<li>Type Code: specify the data type using the type codes available (see list below)</li>\n",
    "<li>Elements: specify the array elements within the square brackets, for example [130,450,103]</li>"
   ]
  },
  {
   "cell_type": "markdown",
   "id": "fc917d02",
   "metadata": {},
   "source": [
    "##### Creating array in python using the above syntax"
   ]
  },
  {
   "cell_type": "code",
   "execution_count": 6,
   "id": "9dc7db57",
   "metadata": {},
   "outputs": [
    {
     "name": "stdout",
     "output_type": "stream",
     "text": [
      "array('d', [0.5, 1.0, 1.5, 2.0, 2.5, 3.0])\n"
     ]
    }
   ],
   "source": [
    "import array as myarray #array should be imported before creating an array\n",
    "array1=myarray.array('d',[0.5,1.0,1.5,2.0,2.5,3.0]) # 'd' is a type code indicating the elements of array are double values!\n",
    "print(array1)"
   ]
  },
  {
   "cell_type": "code",
   "execution_count": 7,
   "id": "965e16d7",
   "metadata": {},
   "outputs": [
    {
     "data": {
      "text/plain": [
       "array.array"
      ]
     },
     "execution_count": 7,
     "metadata": {},
     "output_type": "execute_result"
    }
   ],
   "source": [
    "type(array1)"
   ]
  },
  {
   "cell_type": "markdown",
   "id": "d25ee2fa",
   "metadata": {},
   "source": [
    "##### To access array item use []"
   ]
  },
  {
   "cell_type": "code",
   "execution_count": 10,
   "id": "e6306b05",
   "metadata": {},
   "outputs": [
    {
     "name": "stdout",
     "output_type": "stream",
     "text": [
      "0.5 <class 'float'>\n"
     ]
    }
   ],
   "source": [
    "print(array1[0],type(array1[0])) #the array index starts with 0,the last element can be accessed using -1"
   ]
  },
  {
   "cell_type": "code",
   "execution_count": 13,
   "id": "23f58500",
   "metadata": {},
   "outputs": [
    {
     "name": "stdout",
     "output_type": "stream",
     "text": [
      "array('i', [2, 4, 6, 8, 10])\n"
     ]
    }
   ],
   "source": [
    "array2=myarray.array('i',[2,4,6,8,10]) # 'i' indicates interger type!\n",
    "print(array2)"
   ]
  },
  {
   "cell_type": "markdown",
   "id": "36d47403",
   "metadata": {},
   "source": [
    "##### slicing in arrays"
   ]
  },
  {
   "cell_type": "code",
   "execution_count": 15,
   "id": "112137d2",
   "metadata": {},
   "outputs": [
    {
     "name": "stdout",
     "output_type": "stream",
     "text": [
      "array('i', [4, 6])\n"
     ]
    }
   ],
   "source": [
    "print(array2[1:3])"
   ]
  },
  {
   "cell_type": "code",
   "execution_count": 20,
   "id": "26879c84",
   "metadata": {},
   "outputs": [
    {
     "name": "stdout",
     "output_type": "stream",
     "text": [
      "array('d')\n"
     ]
    }
   ],
   "source": [
    "print(array1[-1:-3])#slicing is not possible using -ve indexing"
   ]
  },
  {
   "cell_type": "code",
   "execution_count": 23,
   "id": "f0b0a01d",
   "metadata": {},
   "outputs": [
    {
     "name": "stdout",
     "output_type": "stream",
     "text": [
      "1.0\n"
     ]
    }
   ],
   "source": [
    "print(array1[-5]) #you can access single element using slicing!"
   ]
  },
  {
   "cell_type": "markdown",
   "id": "7687b9a9",
   "metadata": {},
   "source": [
    "##### inserting in arrays\n",
    "\n",
    "<code>Syntax:\n",
    "    array.Name.insert(index,value)</code>"
   ]
  },
  {
   "cell_type": "code",
   "execution_count": 24,
   "id": "65f19aa4",
   "metadata": {},
   "outputs": [
    {
     "name": "stdout",
     "output_type": "stream",
     "text": [
      "array('i', [2, 4, 6, 8, 10, 12])\n"
     ]
    }
   ],
   "source": [
    "array2.insert(5,12)\n",
    "print(array2)"
   ]
  },
  {
   "cell_type": "markdown",
   "id": "e0d83453",
   "metadata": {},
   "source": [
    "##### Arrays are mutable ,hence modification is possible"
   ]
  },
  {
   "cell_type": "code",
   "execution_count": 25,
   "id": "5c06b6c4",
   "metadata": {},
   "outputs": [
    {
     "name": "stdout",
     "output_type": "stream",
     "text": [
      "array('i', [1, 4, 6, 8, 10, 12])\n"
     ]
    }
   ],
   "source": [
    "array2[0]=1\n",
    "print(array2)"
   ]
  },
  {
   "cell_type": "markdown",
   "id": "681bbe05",
   "metadata": {},
   "source": [
    "##### Concatenating 2 or more arrays using \"+\" operator"
   ]
  },
  {
   "cell_type": "code",
   "execution_count": 33,
   "id": "78210b2f",
   "metadata": {},
   "outputs": [
    {
     "name": "stdout",
     "output_type": "stream",
     "text": [
      "array('i', [1, 2, 3, 4, 5, 6, 7, 8, 9, 10])\n"
     ]
    }
   ],
   "source": [
    "a1=myarray.array('i',[1,2,3,4,5])\n",
    "a2=myarray.array('i',[6,7,8,9,10])\n",
    "a3=a1+a2\n",
    "print(a3)"
   ]
  },
  {
   "cell_type": "markdown",
   "id": "dba3a7ae",
   "metadata": {},
   "source": [
    "##### Deletion in arrays"
   ]
  },
  {
   "cell_type": "code",
   "execution_count": 34,
   "id": "ffe40385",
   "metadata": {},
   "outputs": [
    {
     "name": "stdout",
     "output_type": "stream",
     "text": [
      "array('i', [1, 2, 3, 4, 5, 6, 7, 8, 9])\n"
     ]
    }
   ],
   "source": [
    "a3.pop(9) # pop(index) #element at index 9 is removed from a3\n",
    "print(a3) "
   ]
  },
  {
   "cell_type": "code",
   "execution_count": 35,
   "id": "4088c378",
   "metadata": {},
   "outputs": [
    {
     "name": "stdout",
     "output_type": "stream",
     "text": [
      "array('i', [1, 2, 3, 4, 5, 6, 7, 8])\n"
     ]
    }
   ],
   "source": [
    "del a3[8] #element at index 8 is deleted from the array\n",
    "print(a3)"
   ]
  },
  {
   "cell_type": "code",
   "execution_count": 36,
   "id": "2612100f",
   "metadata": {},
   "outputs": [
    {
     "ename": "NameError",
     "evalue": "name 'a3' is not defined",
     "output_type": "error",
     "traceback": [
      "\u001b[1;31m---------------------------------------------------------------------------\u001b[0m",
      "\u001b[1;31mNameError\u001b[0m                                 Traceback (most recent call last)",
      "\u001b[1;32mC:\\Users\\DIVYAJ~1\\AppData\\Local\\Temp/ipykernel_288704/992336643.py\u001b[0m in \u001b[0;36m<module>\u001b[1;34m\u001b[0m\n\u001b[0;32m      1\u001b[0m \u001b[1;32mdel\u001b[0m \u001b[0ma3\u001b[0m\u001b[1;33m\u001b[0m\u001b[1;33m\u001b[0m\u001b[0m\n\u001b[1;32m----> 2\u001b[1;33m \u001b[0mprint\u001b[0m\u001b[1;33m(\u001b[0m\u001b[0ma3\u001b[0m\u001b[1;33m)\u001b[0m \u001b[1;31m# entire array is deleted\u001b[0m\u001b[1;33m\u001b[0m\u001b[1;33m\u001b[0m\u001b[0m\n\u001b[0m",
      "\u001b[1;31mNameError\u001b[0m: name 'a3' is not defined"
     ]
    }
   ],
   "source": [
    "del a3\n",
    "print(a3) # entire array is deleted"
   ]
  },
  {
   "cell_type": "code",
   "execution_count": 37,
   "id": "aaea5e6f",
   "metadata": {},
   "outputs": [
    {
     "name": "stdout",
     "output_type": "stream",
     "text": [
      "array('i', [1, 2, 3, 4])\n"
     ]
    }
   ],
   "source": [
    "a1.remove(5) # remove(value)\n",
    "print(a1)"
   ]
  },
  {
   "cell_type": "markdown",
   "id": "5882f2a7",
   "metadata": {},
   "source": [
    "##### to get the index of particular element"
   ]
  },
  {
   "cell_type": "code",
   "execution_count": 38,
   "id": "7a9f374d",
   "metadata": {},
   "outputs": [
    {
     "data": {
      "text/plain": [
       "3"
      ]
     },
     "execution_count": 38,
     "metadata": {},
     "output_type": "execute_result"
    }
   ],
   "source": [
    "a1.index(4) #index(value)"
   ]
  },
  {
   "cell_type": "markdown",
   "id": "cd86cc8d",
   "metadata": {},
   "source": [
    "##### Reversing an array"
   ]
  },
  {
   "cell_type": "code",
   "execution_count": 41,
   "id": "5687f0a2",
   "metadata": {},
   "outputs": [
    {
     "name": "stdout",
     "output_type": "stream",
     "text": [
      "a2 before= array('i', [6, 7, 8, 9, 10])\n",
      "a2 after reversing= array('i', [10, 9, 8, 7, 6])\n"
     ]
    }
   ],
   "source": [
    "print(\"a2 before=\",a2)\n",
    "a2.reverse()\n",
    "print(\"a2 after reversing=\",a2)"
   ]
  },
  {
   "cell_type": "markdown",
   "id": "31873d3f",
   "metadata": {},
   "source": [
    "##### count(value)"
   ]
  },
  {
   "cell_type": "code",
   "execution_count": 44,
   "id": "5ceac7ec",
   "metadata": {},
   "outputs": [
    {
     "data": {
      "text/plain": [
       "1"
      ]
     },
     "execution_count": 44,
     "metadata": {},
     "output_type": "execute_result"
    }
   ],
   "source": [
    "a2.count(8) # gives the number of times a value occured "
   ]
  }
 ],
 "metadata": {
  "kernelspec": {
   "display_name": "Python 3 (ipykernel)",
   "language": "python",
   "name": "python3"
  },
  "language_info": {
   "codemirror_mode": {
    "name": "ipython",
    "version": 3
   },
   "file_extension": ".py",
   "mimetype": "text/x-python",
   "name": "python",
   "nbconvert_exporter": "python",
   "pygments_lexer": "ipython3",
   "version": "3.9.7"
  }
 },
 "nbformat": 4,
 "nbformat_minor": 5
}
