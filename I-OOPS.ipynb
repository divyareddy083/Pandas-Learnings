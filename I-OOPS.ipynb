{
 "cells": [
  {
   "cell_type": "markdown",
   "id": "4c00fd0f",
   "metadata": {},
   "source": [
    "### OOPS : Object-Oriented Programming"
   ]
  },
  {
   "cell_type": "markdown",
   "id": "0d0059c5",
   "metadata": {},
   "source": [
    "**class :** A class is a code template for creating objects / A class is like a object creator or a blueprint for creating objects\n",
    "\n",
    "**object :** Instance of a class is called object\n",
    "\n",
    "**Example :**\n",
    "<img src=\"https://nonlineardata.com/wp-content/uploads/2020/11/Car_Class.png\" height=400 width=400>"
   ]
  },
  {
   "cell_type": "code",
   "execution_count": 1,
   "id": "8b03cfcd",
   "metadata": {},
   "outputs": [],
   "source": [
    "class car:\n",
    "    pass"
   ]
  },
  {
   "cell_type": "code",
   "execution_count": 2,
   "id": "07de9811",
   "metadata": {},
   "outputs": [],
   "source": [
    "audi=car()"
   ]
  },
  {
   "cell_type": "code",
   "execution_count": 3,
   "id": "1db8fdd1",
   "metadata": {},
   "outputs": [],
   "source": [
    "audi.milage='100kmph'\n",
    "audi.year=1995\n",
    "audi.color='blue'\n",
    "audi.price=30000"
   ]
  },
  {
   "cell_type": "code",
   "execution_count": 4,
   "id": "f8cfb7c8",
   "metadata": {},
   "outputs": [
    {
     "data": {
      "text/plain": [
       "30000"
      ]
     },
     "execution_count": 4,
     "metadata": {},
     "output_type": "execute_result"
    }
   ],
   "source": [
    "audi.price"
   ]
  },
  {
   "cell_type": "code",
   "execution_count": 5,
   "id": "585ede28",
   "metadata": {},
   "outputs": [],
   "source": [
    "nano=car()"
   ]
  },
  {
   "cell_type": "code",
   "execution_count": 6,
   "id": "18dcbb0b",
   "metadata": {},
   "outputs": [],
   "source": [
    "nano.milage='100kmph'\n",
    "nano.year=1995\n",
    "nano.color='blue'\n",
    "nano.price=30000\n",
    "nano.model='xyz'"
   ]
  },
  {
   "cell_type": "code",
   "execution_count": 7,
   "id": "80cf2a4d",
   "metadata": {},
   "outputs": [
    {
     "name": "stdout",
     "output_type": "stream",
     "text": [
      "100kmph 100kmph\n"
     ]
    }
   ],
   "source": [
    "print(nano.milage,audi.milage)"
   ]
  },
  {
   "cell_type": "markdown",
   "id": "401a0c5d",
   "metadata": {},
   "source": [
    "_**The above way of writing is a bad practice of programming**_"
   ]
  },
  {
   "cell_type": "code",
   "execution_count": 27,
   "id": "ea669100",
   "metadata": {},
   "outputs": [],
   "source": [
    "class car:                                      # we have created class car\n",
    "    def __init__(self,milage,year,make,model):  # init is built in function used to initiaize the data \n",
    "                                                # init function is a provider to pass the data to the class\n",
    "        self.milage=milage                      # here self is a class variable,self is a pointer to itself\n",
    "        self.year=year\n",
    "        self.make=make\n",
    "        self.model=model\n",
    "    \n",
    "    def age(self,current_year):\n",
    "        return current_year-self.year\n",
    "    \n",
    "    def milageOfcar(self):\n",
    "        print(\"The milage of the car\",self.milage)\n",
    "        \n",
    "    def __str__(c):     #str is  a inbuilt fuction used to print any string message when any of the objects are called  \n",
    "        return \"this is my car class i have created\""
   ]
  },
  {
   "cell_type": "code",
   "execution_count": 28,
   "id": "a6a3bca1",
   "metadata": {},
   "outputs": [],
   "source": [
    "nano1=car('10kmph',2001,34654,'nanoxyz')\n",
    "audi1=car('15kmph',2011,34604,'audixyz')\n",
    "Toyota=car('9kmph',1996,39854,'toyotaxyz')"
   ]
  },
  {
   "cell_type": "code",
   "execution_count": 29,
   "id": "992adc92",
   "metadata": {},
   "outputs": [
    {
     "data": {
      "text/plain": [
       "2001"
      ]
     },
     "execution_count": 29,
     "metadata": {},
     "output_type": "execute_result"
    }
   ],
   "source": [
    "nano1.year"
   ]
  },
  {
   "cell_type": "code",
   "execution_count": 30,
   "id": "11d2e46d",
   "metadata": {},
   "outputs": [
    {
     "data": {
      "text/plain": [
       "26"
      ]
     },
     "execution_count": 30,
     "metadata": {},
     "output_type": "execute_result"
    }
   ],
   "source": [
    "Toyota.age(2022)"
   ]
  },
  {
   "cell_type": "code",
   "execution_count": 31,
   "id": "5f6af704",
   "metadata": {},
   "outputs": [
    {
     "name": "stdout",
     "output_type": "stream",
     "text": [
      "The milage of the car 15kmph\n"
     ]
    }
   ],
   "source": [
    "audi1.milageOfcar()"
   ]
  },
  {
   "cell_type": "code",
   "execution_count": 26,
   "id": "b79fb4cb",
   "metadata": {},
   "outputs": [
    {
     "data": {
      "text/plain": [
       "<__main__.car at 0x1fd632917c0>"
      ]
     },
     "execution_count": 26,
     "metadata": {},
     "output_type": "execute_result"
    }
   ],
   "source": [
    "audi1 "
   ]
  },
  {
   "cell_type": "code",
   "execution_count": 33,
   "id": "71b4ce7f",
   "metadata": {},
   "outputs": [
    {
     "name": "stdout",
     "output_type": "stream",
     "text": [
      "this is my car class i have created\n"
     ]
    }
   ],
   "source": [
    "print(audi1)"
   ]
  },
  {
   "cell_type": "code",
   "execution_count": 67,
   "id": "3ca61260",
   "metadata": {},
   "outputs": [],
   "source": [
    "class student:\n",
    "    \n",
    "    def __init__(self,name,rollno,joining_date,current_topic):\n",
    "        self.name=name\n",
    "        self.rollno=rollno\n",
    "        self.joining_date=joining_date\n",
    "        self.current_topic=current_topic\n",
    "        \n",
    "    def name_parsing(self):\n",
    "        if type(self.name)==list:\n",
    "            for i in self.name:\n",
    "                print(\"Name of the student is \",i)\n",
    "        else:\n",
    "            print(\"The provided name is not in the form of list\")\n",
    "        \n",
    "        \n",
    "    def crt_topic(self):\n",
    "        print(\"Current topic discussed in my class is \",self.current_topic)\n",
    "    \n",
    "    def str_rollno(self):\n",
    "        if type(self.rollno)==str:\n",
    "            print(\"Do nothing\")\n",
    "        else:\n",
    "            return str(self.rollno)\n",
    "        \n",
    "    def duration(self,current_date):\n",
    "        print(\"Duration of student in my class is \",current_date-self.joining_date)\n",
    "        \n",
    "    def __str__(self):\n",
    "        return \"This is student class which consists some of the data about the student\"\n",
    "        "
   ]
  },
  {
   "cell_type": "code",
   "execution_count": 61,
   "id": "176add18",
   "metadata": {},
   "outputs": [],
   "source": [
    "Divu=student('Divu',1234455,2022,'OOPS')"
   ]
  },
  {
   "cell_type": "code",
   "execution_count": 62,
   "id": "fd5a6107",
   "metadata": {},
   "outputs": [
    {
     "data": {
      "text/plain": [
       "'Divu'"
      ]
     },
     "execution_count": 62,
     "metadata": {},
     "output_type": "execute_result"
    }
   ],
   "source": [
    "Divu.name"
   ]
  },
  {
   "cell_type": "code",
   "execution_count": 63,
   "id": "8d6a1386",
   "metadata": {},
   "outputs": [
    {
     "data": {
      "text/plain": [
       "'1234455'"
      ]
     },
     "execution_count": 63,
     "metadata": {},
     "output_type": "execute_result"
    }
   ],
   "source": [
    "Divu.str_rollno()"
   ]
  },
  {
   "cell_type": "code",
   "execution_count": 64,
   "id": "533b6a5b",
   "metadata": {},
   "outputs": [
    {
     "name": "stdout",
     "output_type": "stream",
     "text": [
      "Duration of student in my class is  0\n"
     ]
    }
   ],
   "source": [
    "Divu.duration(2022)"
   ]
  },
  {
   "cell_type": "code",
   "execution_count": 65,
   "id": "d0c1ca7a",
   "metadata": {},
   "outputs": [
    {
     "name": "stdout",
     "output_type": "stream",
     "text": [
      "This is student class which consists some of the data about the student\n"
     ]
    }
   ],
   "source": [
    "print(Divu)"
   ]
  },
  {
   "cell_type": "code",
   "execution_count": 68,
   "id": "83c2ec02",
   "metadata": {},
   "outputs": [],
   "source": [
    "student_record=student(['Sindhu','Sudha','Neela','Jay'],[123,456,789,1011],2022,'OOPS') #we can even provide list of values"
   ]
  },
  {
   "cell_type": "code",
   "execution_count": 69,
   "id": "5e1f1c83",
   "metadata": {},
   "outputs": [
    {
     "name": "stdout",
     "output_type": "stream",
     "text": [
      "Name of the student is  Sindhu\n",
      "Name of the student is  Sudha\n",
      "Name of the student is  Neela\n",
      "Name of the student is  Jay\n"
     ]
    }
   ],
   "source": [
    "student_record.name_parsing()"
   ]
  },
  {
   "cell_type": "markdown",
   "id": "5c4bf8a0",
   "metadata": {},
   "source": [
    "### Task\n",
    "1. Create class data\n",
    "2. Create 4 class variables,file_name,file_type,date,size\n",
    "3. Create a fuction file_open(Create the file and write something in it )\n",
    "4. Create fuction to read the file \n",
    "5. Create another funtion file_append() ,which will append new data in same file and show"
   ]
  },
  {
   "cell_type": "code",
   "execution_count": 99,
   "id": "12616a06",
   "metadata": {},
   "outputs": [],
   "source": [
    "class Data:\n",
    "    def __init__(self,file_name,file_type,date,size):\n",
    "        try:\n",
    "            self.file_name=file_name\n",
    "            self.file_type=file_type\n",
    "            self.date=date\n",
    "            self.size=size\n",
    "        except exception as e:\n",
    "            print(\"The error is \",e)\n",
    "                    \n",
    "    def file_open(self):\n",
    "        try:\n",
    "            f=open(self.file_name,'w')\n",
    "            f.write('Sometimes easiest things takes alot of time to learn')\n",
    "            f.close()\n",
    "        except exception as e:\n",
    "            print(\"The error is \",e)\n",
    "        \n",
    "    def file_read(self):\n",
    "        try:\n",
    "            f=open(self.file_name,'r')\n",
    "            f.seek(0)\n",
    "            print(f.read())\n",
    "            f.close()\n",
    "        except exception as e:\n",
    "            print(\"The error is \",e)\n",
    "        \n",
    "    def file_append(self):\n",
    "        try:\n",
    "            f=open(self.file_name,'a')\n",
    "            f.writelines(\" I will be able to do append some of the lines to the existing file \")\n",
    "            f.close()\n",
    "            f=open(self.file_name,'r')\n",
    "            f.seek(0)\n",
    "            print(f.read())\n",
    "            f.close()\n",
    "        except exception as e:\n",
    "            print(\"The error is \",e)\n",
    "        "
   ]
  },
  {
   "cell_type": "code",
   "execution_count": 100,
   "id": "b9360a7f",
   "metadata": {},
   "outputs": [
    {
     "name": "stdout",
     "output_type": "stream",
     "text": [
      "file1.txt\n",
      "Sometimes easiest things takes alot of time to learn\n",
      "Sometimes easiest things takes alot of time to learn I will be able to do append some of the lines to the existing file \n"
     ]
    }
   ],
   "source": [
    "file1=Data('file1.txt','textfile','05-06-2022','1.7mb')\n",
    "print(file1.file_name)\n",
    "file1.file_open()\n",
    "file1.file_read()\n",
    "file1.file_append()"
   ]
  },
  {
   "cell_type": "markdown",
   "id": "cd7e0c82",
   "metadata": {},
   "source": [
    "#### Abstraction"
   ]
  },
  {
   "cell_type": "raw",
   "id": "43343e83",
   "metadata": {},
   "source": [
    "public : can be accessed inside and outside of the function Eg: name\n",
    "protected : like public member,but they shouldn't be directly accessed from outside Eg: _name\n",
    "private : can't be seen and accessed from outside"
   ]
  },
  {
   "cell_type": "markdown",
   "id": "fabe0583",
   "metadata": {},
   "source": [
    "### public"
   ]
  },
  {
   "cell_type": "code",
   "execution_count": 1,
   "id": "7fcba221",
   "metadata": {},
   "outputs": [],
   "source": [
    "class test:\n",
    "    def __init__(self,a,b,c,d):\n",
    "        self.a=a\n",
    "        self.b=b\n",
    "        self.c=c\n",
    "        self.d=d\n",
    "    def test_custom(self,e):\n",
    "        return e-self.a"
   ]
  },
  {
   "cell_type": "code",
   "execution_count": 2,
   "id": "c2cdb804",
   "metadata": {},
   "outputs": [],
   "source": [
    "val=test(2,4,6,8)"
   ]
  },
  {
   "cell_type": "code",
   "execution_count": 7,
   "id": "80650f53",
   "metadata": {},
   "outputs": [
    {
     "data": {
      "text/plain": [
       "(2, 4, 6)"
      ]
     },
     "execution_count": 7,
     "metadata": {},
     "output_type": "execute_result"
    }
   ],
   "source": [
    "val.a,val.b,val.c"
   ]
  },
  {
   "cell_type": "code",
   "execution_count": 9,
   "id": "9298aaad",
   "metadata": {},
   "outputs": [
    {
     "data": {
      "text/plain": [
       "-1"
      ]
     },
     "execution_count": 9,
     "metadata": {},
     "output_type": "execute_result"
    }
   ],
   "source": [
    "val.test_custom(1)"
   ]
  },
  {
   "cell_type": "markdown",
   "id": "eddf7b06",
   "metadata": {},
   "source": [
    "### protected"
   ]
  },
  {
   "cell_type": "code",
   "execution_count": 38,
   "id": "0fe79d22",
   "metadata": {},
   "outputs": [],
   "source": [
    "class test:\n",
    "    def __init__(self,a,b,c,d):\n",
    "        self._a=a\n",
    "        self.b=b\n",
    "        self.c=c\n",
    "        self.d=d\n",
    "    def test_custom(self,e):\n",
    "        return e-self._a"
   ]
  },
  {
   "cell_type": "code",
   "execution_count": 14,
   "id": "033c4bb5",
   "metadata": {},
   "outputs": [],
   "source": [
    "val=test(2,4,6,8)"
   ]
  },
  {
   "cell_type": "code",
   "execution_count": 12,
   "id": "d3b75b10",
   "metadata": {},
   "outputs": [
    {
     "ename": "AttributeError",
     "evalue": "'test' object has no attribute 'a'",
     "output_type": "error",
     "traceback": [
      "\u001b[1;31m---------------------------------------------------------------------------\u001b[0m",
      "\u001b[1;31mAttributeError\u001b[0m                            Traceback (most recent call last)",
      "Input \u001b[1;32mIn [12]\u001b[0m, in \u001b[0;36m<cell line: 1>\u001b[1;34m()\u001b[0m\n\u001b[1;32m----> 1\u001b[0m \u001b[43mval\u001b[49m\u001b[38;5;241;43m.\u001b[39;49m\u001b[43mtest_custom\u001b[49m\u001b[43m(\u001b[49m\u001b[38;5;241;43m1\u001b[39;49m\u001b[43m)\u001b[49m\n",
      "Input \u001b[1;32mIn [10]\u001b[0m, in \u001b[0;36mtest.test_custom\u001b[1;34m(self, e)\u001b[0m\n\u001b[0;32m      7\u001b[0m \u001b[38;5;28;01mdef\u001b[39;00m \u001b[38;5;21mtest_custom\u001b[39m(\u001b[38;5;28mself\u001b[39m,e):\n\u001b[1;32m----> 8\u001b[0m     \u001b[38;5;28;01mreturn\u001b[39;00m e\u001b[38;5;241m-\u001b[39m\u001b[38;5;28;43mself\u001b[39;49m\u001b[38;5;241;43m.\u001b[39;49m\u001b[43ma\u001b[49m\n",
      "\u001b[1;31mAttributeError\u001b[0m: 'test' object has no attribute 'a'"
     ]
    }
   ],
   "source": [
    "val.test_custom(1)"
   ]
  },
  {
   "cell_type": "code",
   "execution_count": 15,
   "id": "f01d4346",
   "metadata": {},
   "outputs": [
    {
     "data": {
      "text/plain": [
       "-1"
      ]
     },
     "execution_count": 15,
     "metadata": {},
     "output_type": "execute_result"
    }
   ],
   "source": [
    "val.test_custom(1)"
   ]
  },
  {
   "cell_type": "code",
   "execution_count": 39,
   "id": "ff845464",
   "metadata": {},
   "outputs": [
    {
     "data": {
      "text/plain": [
       "2"
      ]
     },
     "execution_count": 39,
     "metadata": {},
     "output_type": "execute_result"
    }
   ],
   "source": [
    "val._test__a"
   ]
  },
  {
   "cell_type": "markdown",
   "id": "5cca416d",
   "metadata": {},
   "source": [
    "### private"
   ]
  },
  {
   "cell_type": "code",
   "execution_count": 52,
   "id": "5be6e7ce",
   "metadata": {},
   "outputs": [],
   "source": [
    "class test:\n",
    "    def __init__(self,a,b,c,d):\n",
    "        self.__a=a\n",
    "        self.b=b\n",
    "        self.c=c\n",
    "        self.d=d\n",
    "    def test_custom(self,e):\n",
    "        return e-self.__a\n",
    "    def __str__(self):\n",
    "        return \"This is a class test which consists of 4 variables a,b,c,d\""
   ]
  },
  {
   "cell_type": "code",
   "execution_count": 54,
   "id": "dc26fa4b",
   "metadata": {},
   "outputs": [],
   "source": [
    "val=test(2,4,6,8)"
   ]
  },
  {
   "cell_type": "code",
   "execution_count": 43,
   "id": "85104a15",
   "metadata": {},
   "outputs": [
    {
     "data": {
      "text/plain": [
       "2"
      ]
     },
     "execution_count": 43,
     "metadata": {},
     "output_type": "execute_result"
    }
   ],
   "source": [
    "val._test__a"
   ]
  },
  {
   "cell_type": "code",
   "execution_count": 55,
   "id": "8f460d66",
   "metadata": {},
   "outputs": [
    {
     "name": "stdout",
     "output_type": "stream",
     "text": [
      "This is a class test which consists of 4 variables a,b,c,d\n"
     ]
    }
   ],
   "source": [
    "print(val)"
   ]
  },
  {
   "cell_type": "markdown",
   "id": "7b7d8ad4",
   "metadata": {},
   "source": [
    "### Inheritance"
   ]
  },
  {
   "cell_type": "code",
   "execution_count": 58,
   "id": "b5415c02",
   "metadata": {},
   "outputs": [],
   "source": [
    "class test1(test):  #here test1--> is a child class, test---> is a parent class\n",
    "    def __init__(self,j,*args): # here self is a pointer to access the arguments\n",
    "        super(test1,self).__init__(*args) #here super of test1 means we are calling the parent class test\n",
    "        self.j=j                           #super() is used to give access to methods or properties of a parent /sibling class\n",
    "                                            #super return an object that represent the parent class"
   ]
  },
  {
   "cell_type": "code",
   "execution_count": 66,
   "id": "cf19eb9f",
   "metadata": {},
   "outputs": [],
   "source": [
    "val=test1(2,6,4,8,10)"
   ]
  },
  {
   "cell_type": "code",
   "execution_count": 67,
   "id": "e8c7ff75",
   "metadata": {},
   "outputs": [
    {
     "data": {
      "text/plain": [
       "5"
      ]
     },
     "execution_count": 67,
     "metadata": {},
     "output_type": "execute_result"
    }
   ],
   "source": [
    "val.test_custom(11)"
   ]
  },
  {
   "cell_type": "code",
   "execution_count": 69,
   "id": "0e159d5a",
   "metadata": {},
   "outputs": [
    {
     "data": {
      "text/plain": [
       "6"
      ]
     },
     "execution_count": 69,
     "metadata": {},
     "output_type": "execute_result"
    }
   ],
   "source": [
    "val._test__a"
   ]
  },
  {
   "cell_type": "code",
   "execution_count": 70,
   "id": "6b5f5deb",
   "metadata": {},
   "outputs": [
    {
     "data": {
      "text/plain": [
       "4"
      ]
     },
     "execution_count": 70,
     "metadata": {},
     "output_type": "execute_result"
    }
   ],
   "source": [
    "val.b"
   ]
  },
  {
   "cell_type": "code",
   "execution_count": 71,
   "id": "8762d31d",
   "metadata": {},
   "outputs": [
    {
     "data": {
      "text/plain": [
       "2"
      ]
     },
     "execution_count": 71,
     "metadata": {},
     "output_type": "execute_result"
    }
   ],
   "source": [
    "val.j"
   ]
  },
  {
   "cell_type": "code",
   "execution_count": null,
   "id": "2714a4a4",
   "metadata": {},
   "outputs": [],
   "source": [
    "## try to class test,test1 and inherit in test2"
   ]
  },
  {
   "cell_type": "code",
   "execution_count": 85,
   "id": "c675c1ac",
   "metadata": {},
   "outputs": [
    {
     "name": "stdout",
     "output_type": "stream",
     "text": [
      "test class\n",
      "test1 class\n"
     ]
    }
   ],
   "source": [
    "#this is a wrong implementation of inheritence because we can call the other classes without passsing the arguments too\n",
    "\n",
    "class test:\n",
    "    def a(self):\n",
    "        print(\"test class\")\n",
    "class test1:\n",
    "    def a(self):\n",
    "        print(\"test1 class\")\n",
    "class test2(test,test1):\n",
    "    t=test()\n",
    "    t.a()\n",
    "    t1=test1()\n",
    "    t1.a()\n",
    "\n",
    "    \n",
    "t2=test2()  "
   ]
  },
  {
   "cell_type": "code",
   "execution_count": 86,
   "id": "a4b13c6c",
   "metadata": {},
   "outputs": [
    {
     "name": "stdout",
     "output_type": "stream",
     "text": [
      "test class\n",
      "test1 class\n"
     ]
    }
   ],
   "source": [
    "class test:\n",
    "    def a(self):\n",
    "        print(\"test class\")\n",
    "class test1:\n",
    "    def a(self):\n",
    "        print(\"test1 class\")\n",
    "class test2():\n",
    "    t=test()\n",
    "    t.a()\n",
    "    t1=test1()\n",
    "    t1.a()\n",
    "\n",
    "    \n",
    "t2=test2()  "
   ]
  },
  {
   "cell_type": "code",
   "execution_count": 87,
   "id": "eb1d5615",
   "metadata": {},
   "outputs": [],
   "source": [
    "#Correct way of implementing inheritance\n",
    "\n",
    "class test:\n",
    "    def a(self):\n",
    "        print(\"The function from test classs\")\n",
    "class test1:\n",
    "    def a(self):\n",
    "        print(\"The function from test1 classs\")\n",
    "class test2(test,test1):\n",
    "    def b(self):\n",
    "        test.a(self)\n",
    "        test1.a(self)"
   ]
  },
  {
   "cell_type": "code",
   "execution_count": 92,
   "id": "e1cf1c57",
   "metadata": {},
   "outputs": [
    {
     "name": "stdout",
     "output_type": "stream",
     "text": [
      "The function from test classs\n",
      "The function from test1 classs\n"
     ]
    }
   ],
   "source": [
    "t=test2()\n",
    "t.b()"
   ]
  },
  {
   "cell_type": "code",
   "execution_count": null,
   "id": "6a6dc45f",
   "metadata": {},
   "outputs": [],
   "source": [
    "#### Multiple inheritance is possible in python"
   ]
  },
  {
   "cell_type": "code",
   "execution_count": 116,
   "id": "f5b564c5",
   "metadata": {},
   "outputs": [],
   "source": [
    "class college:\n",
    "    name='SBMJC'\n",
    "    place='KGF'\n",
    "class Departments:\n",
    "    no_of_departments=5\n",
    "class student(college,Departments): #when we have funcs or var in same name then it prioritises college 1st and \n",
    "                                       #dept class next\n",
    "    def __init__(self):\n",
    "        print('{} is the name of the college and it has {} departments which is situated in {}'\n",
    "              .format(self.name,self.no_of_departments,self.place))"
   ]
  },
  {
   "cell_type": "code",
   "execution_count": 117,
   "id": "3cacb9fd",
   "metadata": {},
   "outputs": [
    {
     "name": "stdout",
     "output_type": "stream",
     "text": [
      "SBMJC is the name of the college and it has 5 departments which is situated in KGF\n"
     ]
    }
   ],
   "source": [
    "obj=student()"
   ]
  },
  {
   "cell_type": "code",
   "execution_count": 118,
   "id": "e014517b",
   "metadata": {},
   "outputs": [],
   "source": [
    "class college:\n",
    "    name='SBMJC'\n",
    "    place='KGF'\n",
    "class Departments:\n",
    "    no_of_departments=5\n",
    "    place='Kolar gold fields'\n",
    "class student(Departments,college): #when we have funcs or var in same name then it prioritises college 1st and \n",
    "                                       #dept class next\n",
    "    def __init__(self):\n",
    "        print('{} is the name of the college and it has {} departments which is situated in {}'\n",
    "              .format(self.name,self.no_of_departments,self.place))"
   ]
  },
  {
   "cell_type": "code",
   "execution_count": 119,
   "id": "015c0cb9",
   "metadata": {},
   "outputs": [
    {
     "name": "stdout",
     "output_type": "stream",
     "text": [
      "SBMJC is the name of the college and it has 5 departments which is situated in Kolar gold fields\n"
     ]
    }
   ],
   "source": [
    "obj=student()"
   ]
  },
  {
   "cell_type": "markdown",
   "id": "81a1deb3",
   "metadata": {},
   "source": [
    "### multi-label inheritance"
   ]
  },
  {
   "cell_type": "code",
   "execution_count": 120,
   "id": "6647dee3",
   "metadata": {},
   "outputs": [],
   "source": [
    "class college:\n",
    "    name='SBMJC'\n",
    "    place='KGF'\n",
    "class Departments(college):\n",
    "    no_of_departments=5\n",
    "class student(Departments): \n",
    "    def __init__(self):\n",
    "        print('{} is the name of the college and it has {} departments which is situated in {}'\n",
    "              .format(self.name,self.no_of_departments,self.place))"
   ]
  },
  {
   "cell_type": "code",
   "execution_count": 121,
   "id": "05907b6f",
   "metadata": {},
   "outputs": [
    {
     "name": "stdout",
     "output_type": "stream",
     "text": [
      "SBMJC is the name of the college and it has 5 departments which is situated in KGF\n"
     ]
    }
   ],
   "source": [
    "obj=student()"
   ]
  },
  {
   "cell_type": "code",
   "execution_count": null,
   "id": "ba444f39",
   "metadata": {},
   "outputs": [],
   "source": []
  },
  {
   "cell_type": "code",
   "execution_count": null,
   "id": "f42e4039",
   "metadata": {},
   "outputs": [],
   "source": []
  },
  {
   "cell_type": "code",
   "execution_count": null,
   "id": "4c2cf0b5",
   "metadata": {},
   "outputs": [],
   "source": []
  },
  {
   "cell_type": "code",
   "execution_count": null,
   "id": "a14b5cb1",
   "metadata": {},
   "outputs": [],
   "source": []
  },
  {
   "cell_type": "code",
   "execution_count": null,
   "id": "450d339a",
   "metadata": {},
   "outputs": [],
   "source": []
  },
  {
   "cell_type": "code",
   "execution_count": null,
   "id": "e392b6c4",
   "metadata": {},
   "outputs": [],
   "source": []
  },
  {
   "cell_type": "code",
   "execution_count": null,
   "id": "775c9fd4",
   "metadata": {},
   "outputs": [],
   "source": []
  },
  {
   "cell_type": "code",
   "execution_count": null,
   "id": "1a93e864",
   "metadata": {},
   "outputs": [],
   "source": []
  },
  {
   "cell_type": "code",
   "execution_count": null,
   "id": "9861d051",
   "metadata": {},
   "outputs": [],
   "source": []
  },
  {
   "cell_type": "code",
   "execution_count": null,
   "id": "91ab42aa",
   "metadata": {},
   "outputs": [],
   "source": []
  },
  {
   "cell_type": "code",
   "execution_count": null,
   "id": "285bfb52",
   "metadata": {},
   "outputs": [],
   "source": []
  },
  {
   "cell_type": "code",
   "execution_count": null,
   "id": "2cfd9707",
   "metadata": {},
   "outputs": [],
   "source": []
  },
  {
   "cell_type": "code",
   "execution_count": null,
   "id": "035d32e1",
   "metadata": {},
   "outputs": [],
   "source": []
  }
 ],
 "metadata": {
  "kernelspec": {
   "display_name": "Python 3 (ipykernel)",
   "language": "python",
   "name": "python3"
  },
  "language_info": {
   "codemirror_mode": {
    "name": "ipython",
    "version": 3
   },
   "file_extension": ".py",
   "mimetype": "text/x-python",
   "name": "python",
   "nbconvert_exporter": "python",
   "pygments_lexer": "ipython3",
   "version": "3.9.12"
  }
 },
 "nbformat": 4,
 "nbformat_minor": 5
}
