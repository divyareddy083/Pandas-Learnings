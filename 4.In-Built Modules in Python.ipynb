{
 "cells": [
  {
   "cell_type": "markdown",
   "id": "6f6b3394",
   "metadata": {},
   "source": [
    "# In-built modules in Python"
   ]
  },
  {
   "cell_type": "markdown",
   "id": "c33d5ce7",
   "metadata": {},
   "source": [
    "> Python has a lot of in-built modules containing specific functions that can be directly used in programming.some of the commonly used modules include\n",
    "><li>sys module</li>\n",
    "    ><li>math module</li>\n",
    "        ><li>collections module</li>\n",
    "            ><li>array module</li>\n",
    "                ><li>string module</li>\n",
    "                ><li>random module</li>\n",
    "                    ><li>statistics module</li>\n",
    "                        ><li>\"re\" module</li>\n",
    "                            ><li>Time module</li>\n",
    "                                ><li>Datetime module</li>\n",
    "                                    ><li>\"os\" module</li>                        "
   ]
  },
  {
   "cell_type": "markdown",
   "id": "6d12fbfe",
   "metadata": {},
   "source": [
    "# Math Module\n",
    "> The math module includes basic **mathematical,logical and trignometric functions**.\n",
    "\n",
    "> The different **mathematical** functions include **fabs(),power(),factorial(),floor(),ceil(),sqrt()**,etc.\n",
    "\n",
    "> The different **logarithmic** functions include **log(),log10()**,etc.\n",
    "\n",
    "> The different **trignometric** functions include **sin(),cos(),tan()**,etc."
   ]
  },
  {
   "cell_type": "markdown",
   "id": "04c2f69d",
   "metadata": {},
   "source": [
    "### Importing math module "
   ]
  },
  {
   "cell_type": "code",
   "execution_count": 2,
   "id": "e1a42687",
   "metadata": {},
   "outputs": [],
   "source": [
    "import math #importing math module >> imports all the functions present in the math module"
   ]
  },
  {
   "cell_type": "code",
   "execution_count": 4,
   "id": "a61402a8",
   "metadata": {},
   "outputs": [
    {
     "data": {
      "text/plain": [
       "3"
      ]
     },
     "execution_count": 4,
     "metadata": {},
     "output_type": "execute_result"
    }
   ],
   "source": [
    "math.floor(3.14)"
   ]
  },
  {
   "cell_type": "code",
   "execution_count": 6,
   "id": "8ceff79a",
   "metadata": {},
   "outputs": [
    {
     "data": {
      "text/plain": [
       "4"
      ]
     },
     "execution_count": 6,
     "metadata": {},
     "output_type": "execute_result"
    }
   ],
   "source": [
    "math.ceil(3.14)"
   ]
  },
  {
   "cell_type": "code",
   "execution_count": 9,
   "id": "05638715",
   "metadata": {},
   "outputs": [
    {
     "data": {
      "text/plain": [
       "8.0"
      ]
     },
     "execution_count": 9,
     "metadata": {},
     "output_type": "execute_result"
    }
   ],
   "source": [
    "math.pow(2,3)"
   ]
  },
  {
   "cell_type": "code",
   "execution_count": 10,
   "id": "fe59f438",
   "metadata": {},
   "outputs": [
    {
     "data": {
      "text/plain": [
       "120"
      ]
     },
     "execution_count": 10,
     "metadata": {},
     "output_type": "execute_result"
    }
   ],
   "source": [
    "math.factorial(5)"
   ]
  },
  {
   "cell_type": "code",
   "execution_count": 11,
   "id": "8131abbe",
   "metadata": {},
   "outputs": [
    {
     "data": {
      "text/plain": [
       "2.0"
      ]
     },
     "execution_count": 11,
     "metadata": {},
     "output_type": "execute_result"
    }
   ],
   "source": [
    "math.sqrt(4)"
   ]
  },
  {
   "cell_type": "code",
   "execution_count": 12,
   "id": "ae7f3fe6",
   "metadata": {},
   "outputs": [
    {
     "data": {
      "text/plain": [
       "34.0"
      ]
     },
     "execution_count": 12,
     "metadata": {},
     "output_type": "execute_result"
    }
   ],
   "source": [
    "math.fabs(-34) #returns absolute valuen of a number"
   ]
  },
  {
   "cell_type": "code",
   "execution_count": 18,
   "id": "f542370d",
   "metadata": {},
   "outputs": [
    {
     "data": {
      "text/plain": [
       "0.0"
      ]
     },
     "execution_count": 18,
     "metadata": {},
     "output_type": "execute_result"
    }
   ],
   "source": [
    "math.sin(0)"
   ]
  },
  {
   "cell_type": "code",
   "execution_count": 19,
   "id": "6fbe4847",
   "metadata": {},
   "outputs": [
    {
     "data": {
      "text/plain": [
       "1.0"
      ]
     },
     "execution_count": 19,
     "metadata": {},
     "output_type": "execute_result"
    }
   ],
   "source": [
    "math.cos(0)"
   ]
  },
  {
   "cell_type": "code",
   "execution_count": 20,
   "id": "97425e40",
   "metadata": {},
   "outputs": [
    {
     "data": {
      "text/plain": [
       "0.0"
      ]
     },
     "execution_count": 20,
     "metadata": {},
     "output_type": "execute_result"
    }
   ],
   "source": [
    "math.tan(0)"
   ]
  },
  {
   "cell_type": "code",
   "execution_count": 22,
   "id": "85a9d524",
   "metadata": {},
   "outputs": [
    {
     "data": {
      "text/plain": [
       "4.605170185988092"
      ]
     },
     "execution_count": 22,
     "metadata": {},
     "output_type": "execute_result"
    }
   ],
   "source": [
    "math.log(100) #gives log base e value"
   ]
  },
  {
   "cell_type": "code",
   "execution_count": 23,
   "id": "0ca86ace",
   "metadata": {},
   "outputs": [
    {
     "data": {
      "text/plain": [
       "2.0"
      ]
     },
     "execution_count": 23,
     "metadata": {},
     "output_type": "execute_result"
    }
   ],
   "source": [
    "math.log10(100) #gives log base 10 value"
   ]
  },
  {
   "cell_type": "code",
   "execution_count": 25,
   "id": "24715f59",
   "metadata": {},
   "outputs": [
    {
     "data": {
      "text/plain": [
       "7.38905609893065"
      ]
     },
     "execution_count": 25,
     "metadata": {},
     "output_type": "execute_result"
    }
   ],
   "source": [
    "math.exp(2) # give e raised to the power of x value \"e^x\""
   ]
  },
  {
   "cell_type": "code",
   "execution_count": 27,
   "id": "c06386c4",
   "metadata": {},
   "outputs": [
    {
     "data": {
      "text/plain": [
       "3.141592653589793"
      ]
     },
     "execution_count": 27,
     "metadata": {},
     "output_type": "execute_result"
    }
   ],
   "source": [
    "math.radians(180)"
   ]
  },
  {
   "cell_type": "code",
   "execution_count": null,
   "id": "d820e1e6",
   "metadata": {},
   "outputs": [],
   "source": [
    "math.#click tab button in the keyboard to know the list of functions in math module"
   ]
  },
  {
   "cell_type": "markdown",
   "id": "2a43785f",
   "metadata": {},
   "source": [
    "### Importing factorial() from math module "
   ]
  },
  {
   "cell_type": "code",
   "execution_count": 33,
   "id": "36168021",
   "metadata": {},
   "outputs": [],
   "source": [
    "from math import factorial # importing only factorial() from the math module"
   ]
  },
  {
   "cell_type": "code",
   "execution_count": 34,
   "id": "6bd72b8e",
   "metadata": {},
   "outputs": [],
   "source": [
    "num=5"
   ]
  },
  {
   "cell_type": "code",
   "execution_count": 45,
   "id": "7e02b34c",
   "metadata": {},
   "outputs": [
    {
     "data": {
      "text/plain": [
       "720"
      ]
     },
     "execution_count": 45,
     "metadata": {},
     "output_type": "execute_result"
    }
   ],
   "source": [
    "factorial(num)"
   ]
  },
  {
   "cell_type": "code",
   "execution_count": 46,
   "id": "d2857e1f",
   "metadata": {},
   "outputs": [
    {
     "data": {
      "text/plain": [
       "24"
      ]
     },
     "execution_count": 46,
     "metadata": {},
     "output_type": "execute_result"
    }
   ],
   "source": [
    "factorial(4)"
   ]
  },
  {
   "cell_type": "code",
   "execution_count": 47,
   "id": "7163be92",
   "metadata": {},
   "outputs": [
    {
     "data": {
      "text/plain": [
       "120"
      ]
     },
     "execution_count": 47,
     "metadata": {},
     "output_type": "execute_result"
    }
   ],
   "source": [
    "factorial(int('5'))"
   ]
  },
  {
   "cell_type": "code",
   "execution_count": 56,
   "id": "a6b3059d",
   "metadata": {},
   "outputs": [
    {
     "data": {
      "text/plain": [
       "120"
      ]
     },
     "execution_count": 56,
     "metadata": {},
     "output_type": "execute_result"
    }
   ],
   "source": [
    "factorial(2*5-5)"
   ]
  },
  {
   "cell_type": "markdown",
   "id": "fd043225",
   "metadata": {},
   "source": [
    "# Random Module\n",
    "> The random module in Python contains standard functions related to **pseudorandom numbers**.\n",
    "\n",
    "> Some of the important functions include **random(),randrange(),seed()**,etc."
   ]
  },
  {
   "cell_type": "code",
   "execution_count": 57,
   "id": "a15ba3c8",
   "metadata": {},
   "outputs": [],
   "source": [
    "from random import random,randrange,seed #importing multiple function from random module"
   ]
  },
  {
   "cell_type": "code",
   "execution_count": 58,
   "id": "e27914c4",
   "metadata": {},
   "outputs": [
    {
     "data": {
      "text/plain": [
       "0.4694355144073705"
      ]
     },
     "execution_count": 58,
     "metadata": {},
     "output_type": "execute_result"
    }
   ],
   "source": [
    "random() #this function randomly generates any number"
   ]
  },
  {
   "cell_type": "code",
   "execution_count": 59,
   "id": "e6703cd5",
   "metadata": {},
   "outputs": [
    {
     "data": {
      "text/plain": [
       "0.8149595105524439"
      ]
     },
     "execution_count": 59,
     "metadata": {},
     "output_type": "execute_result"
    }
   ],
   "source": [
    "random() # this function always returns a floating-point value"
   ]
  },
  {
   "cell_type": "code",
   "execution_count": 70,
   "id": "0ddc04d7",
   "metadata": {},
   "outputs": [
    {
     "ename": "TypeError",
     "evalue": "Random.random() takes no arguments (2 given)",
     "output_type": "error",
     "traceback": [
      "\u001b[1;31m---------------------------------------------------------------------------\u001b[0m",
      "\u001b[1;31mTypeError\u001b[0m                                 Traceback (most recent call last)",
      "\u001b[1;32mC:\\Users\\DIVYAJ~1\\AppData\\Local\\Temp/ipykernel_293992/78670370.py\u001b[0m in \u001b[0;36m<module>\u001b[1;34m\u001b[0m\n\u001b[1;32m----> 1\u001b[1;33m \u001b[0mrandom\u001b[0m\u001b[1;33m(\u001b[0m\u001b[1;36m1\u001b[0m\u001b[1;33m,\u001b[0m\u001b[1;36m10\u001b[0m\u001b[1;33m)\u001b[0m\u001b[1;33m\u001b[0m\u001b[1;33m\u001b[0m\u001b[0m\n\u001b[0m",
      "\u001b[1;31mTypeError\u001b[0m: Random.random() takes no arguments (2 given)"
     ]
    }
   ],
   "source": [
    "random(1,10) #this function does not take any argument"
   ]
  },
  {
   "cell_type": "code",
   "execution_count": 60,
   "id": "6d57308f",
   "metadata": {},
   "outputs": [
    {
     "name": "stdout",
     "output_type": "stream",
     "text": [
      "678 657 622 677 610 687 684 657 689 662 "
     ]
    }
   ],
   "source": [
    "for i in range(0,10):\n",
    "    print(randrange(600,700),end=\" \") # this function randomly generates any numbers between start num and end num"
   ]
  },
  {
   "cell_type": "code",
   "execution_count": 67,
   "id": "d9312f18",
   "metadata": {},
   "outputs": [
    {
     "data": {
      "text/plain": [
       "4"
      ]
     },
     "execution_count": 67,
     "metadata": {},
     "output_type": "execute_result"
    }
   ],
   "source": [
    "randrange(1,10) #this function returns a integer value"
   ]
  },
  {
   "cell_type": "code",
   "execution_count": 69,
   "id": "46b7c4a6",
   "metadata": {},
   "outputs": [
    {
     "ename": "ValueError",
     "evalue": "non-integer arg 1 for randrange()",
     "output_type": "error",
     "traceback": [
      "\u001b[1;31m---------------------------------------------------------------------------\u001b[0m",
      "\u001b[1;31mValueError\u001b[0m                                Traceback (most recent call last)",
      "\u001b[1;32mC:\\Users\\DIVYAJ~1\\AppData\\Local\\Temp/ipykernel_293992/3580017868.py\u001b[0m in \u001b[0;36m<module>\u001b[1;34m\u001b[0m\n\u001b[1;32m----> 1\u001b[1;33m \u001b[0mrandrange\u001b[0m\u001b[1;33m(\u001b[0m\u001b[1;36m1.5\u001b[0m\u001b[1;33m,\u001b[0m\u001b[1;36m10\u001b[0m\u001b[1;33m)\u001b[0m\u001b[1;33m\u001b[0m\u001b[1;33m\u001b[0m\u001b[0m\n\u001b[0m",
      "\u001b[1;32mD:\\DivyaPython\\lib\\random.py\u001b[0m in \u001b[0;36mrandrange\u001b[1;34m(self, start, stop, step)\u001b[0m\n\u001b[0;32m    300\u001b[0m         \u001b[0mistart\u001b[0m \u001b[1;33m=\u001b[0m \u001b[0mint\u001b[0m\u001b[1;33m(\u001b[0m\u001b[0mstart\u001b[0m\u001b[1;33m)\u001b[0m\u001b[1;33m\u001b[0m\u001b[1;33m\u001b[0m\u001b[0m\n\u001b[0;32m    301\u001b[0m         \u001b[1;32mif\u001b[0m \u001b[0mistart\u001b[0m \u001b[1;33m!=\u001b[0m \u001b[0mstart\u001b[0m\u001b[1;33m:\u001b[0m\u001b[1;33m\u001b[0m\u001b[1;33m\u001b[0m\u001b[0m\n\u001b[1;32m--> 302\u001b[1;33m             \u001b[1;32mraise\u001b[0m \u001b[0mValueError\u001b[0m\u001b[1;33m(\u001b[0m\u001b[1;34m\"non-integer arg 1 for randrange()\"\u001b[0m\u001b[1;33m)\u001b[0m\u001b[1;33m\u001b[0m\u001b[1;33m\u001b[0m\u001b[0m\n\u001b[0m\u001b[0;32m    303\u001b[0m         \u001b[1;32mif\u001b[0m \u001b[0mstop\u001b[0m \u001b[1;32mis\u001b[0m \u001b[1;32mNone\u001b[0m\u001b[1;33m:\u001b[0m\u001b[1;33m\u001b[0m\u001b[1;33m\u001b[0m\u001b[0m\n\u001b[0;32m    304\u001b[0m             \u001b[1;32mif\u001b[0m \u001b[0mistart\u001b[0m \u001b[1;33m>\u001b[0m \u001b[1;36m0\u001b[0m\u001b[1;33m:\u001b[0m\u001b[1;33m\u001b[0m\u001b[1;33m\u001b[0m\u001b[0m\n",
      "\u001b[1;31mValueError\u001b[0m: non-integer arg 1 for randrange()"
     ]
    }
   ],
   "source": [
    "randrange(1.5,10.8) #this function does not take float values"
   ]
  },
  {
   "cell_type": "code",
   "execution_count": 75,
   "id": "578900ad",
   "metadata": {},
   "outputs": [
    {
     "data": {
      "text/plain": [
       "0.1456692551041303"
      ]
     },
     "execution_count": 75,
     "metadata": {},
     "output_type": "execute_result"
    }
   ],
   "source": [
    "# Generating random num after using seed()\n",
    "seed(100)\n",
    "random()"
   ]
  },
  {
   "cell_type": "code",
   "execution_count": 76,
   "id": "5d074638",
   "metadata": {},
   "outputs": [
    {
     "data": {
      "text/plain": [
       "0.1456692551041303"
      ]
     },
     "execution_count": 76,
     "metadata": {},
     "output_type": "execute_result"
    }
   ],
   "source": [
    "seed(100) #if the user passes the seed before executing random() then the o/p doesn't change,\n",
    "#the value remains same for that particular seed even if you execute random()'n' number of times\n",
    "random()"
   ]
  },
  {
   "cell_type": "code",
   "execution_count": 77,
   "id": "cc22d389",
   "metadata": {},
   "outputs": [
    {
     "name": "stdout",
     "output_type": "stream",
     "text": [
      "0.052363598850944326\n",
      "0.2754594638268887\n"
     ]
    }
   ],
   "source": [
    "#lets check for different seeds\n",
    "\n",
    "seed(123)\n",
    "print(random())\n",
    "seed(321)\n",
    "print(random())"
   ]
  },
  {
   "cell_type": "code",
   "execution_count": 79,
   "id": "080ac31d",
   "metadata": {},
   "outputs": [
    {
     "name": "stdout",
     "output_type": "stream",
     "text": [
      "544 613 607 689 721 763 675 540 628 726 685 596 784 700 622 777 539 691 596 738 "
     ]
    }
   ],
   "source": [
    "# creating 20 random numbers between 500 and 800\n",
    "for i in range(0,20):\n",
    "    print(randrange(500,800),end=\" \")"
   ]
  },
  {
   "cell_type": "code",
   "execution_count": 82,
   "id": "8165b20e",
   "metadata": {},
   "outputs": [
    {
     "name": "stdout",
     "output_type": "stream",
     "text": [
      "Two: **\n",
      "Five: *****\n"
     ]
    }
   ],
   "source": [
    "#Roll the dice for 1 times\n",
    "for num in range(0,2):\n",
    "    # Generating random number in the range between 1 and 6\n",
    "    value=randrange(0,6)\n",
    "    #Display the result\n",
    "    if value==1:\n",
    "        print(\"One: *\")\n",
    "    elif value==2:\n",
    "        print(\"Two: **\")\n",
    "    elif value==3:\n",
    "        print(\"Three: ***\")\n",
    "    elif value==4:\n",
    "        print(\"Four: ****\")\n",
    "    elif value==5:\n",
    "        print(\"Five: *****\")\n",
    "    elif value==6:\n",
    "        print(\"Six: ******\")\n",
    "    else:\n",
    "        print(\"Error! sorry for the inconvenience\")\n",
    "        "
   ]
  },
  {
   "cell_type": "markdown",
   "id": "8d2d5d5a",
   "metadata": {},
   "source": [
    "# Statistic Module\n",
    "\n",
    ">In Statistic module,function primarily exists for determining **descriptive statistics**.\n",
    "\n",
    ">Descriptive statistics includes functions for measures of descriptive statistics such as **mean,harmonic_mean,mode,median,standard deviation,variance,etc.**."
   ]
  },
  {
   "cell_type": "markdown",
   "id": "1256dc90",
   "metadata": {},
   "source": [
    "### Population v/s Sample\n",
    "\n",
    "<table>\n",
    "    <tr>\n",
    "        <th>Population</th>\n",
    "        <th>Sample</th>\n",
    "    </tr>\n",
    "    <tr>\n",
    "        <td>Whole group</td>\n",
    "        <td>Part of the group</td>\n",
    "    </tr>\n",
    "    <tr>\n",
    "        <td>Group we want to know about</td>\n",
    "        <td>Group we do know about</td>\n",
    "    </tr>    \n",
    "    <tr>\n",
    "        <td>Characteristics are called parameters</td>\n",
    "        <td>Characteristics are called statistics</td>\n",
    "    </tr> \n",
    "    <tr>\n",
    "        <td>Parameter are generally unknown</td>\n",
    "        <td>Statistics are generally known</td>\n",
    "    </tr> \n",
    "    <tr>\n",
    "        <td>Parameters are fixed</td>\n",
    "        <td>Statistics change with the sample</td>\n",
    "    </tr>     \n",
    "    </table>"
   ]
  },
  {
   "cell_type": "markdown",
   "id": "97575b70",
   "metadata": {},
   "source": [
    "### Descriptive Statistics\n",
    "> **A.Measures of  central Tendency**\n",
    ">> A measure of central tendency is a single value that attempts to **describe a set of data by identifying the central position** within the set of data.It is also called **Measure of central location**\n",
    "> <ol>\n",
    "> <li>Mean : sum of all values/Total number of values.It is often referred as average </li>\n",
    "> <ul><li>Arithmetic Mean(AM) : It is also called as average.</li>\n",
    "    $$Arithmetic \\ mean=\\frac{a+b}{2}$$\n",
    "> <li>Geometric Mean(GM) : It is also called as average factor.</li>\n",
    "    $$Geometric \\ mean={\\sqrt{(a*b)}}$$\n",
    "> <li>Harmonic Mean(HM) : It is also called as average rate. </li></ul>  \n",
    "    $$Harmonic \\ mean=\\frac{(2*a*b)}{(a+b)}=\\frac{GM^2}{AM}$$ \n",
    "> <li>Median : Middle value(when arranged in order) if the data as odd number of values (or) if data has even number of values then (middle_val1+middle_val2)/2 </li>\n",
    "> <li>Mode : Most common value</li>\n",
    "> </ol>\n",
    "\n",
    "> **B.Measures of Variability (or) Dispersion (or) Spread (or) Scatter**\n",
    ">>Variability describes **how far apart data points lie from each other and from the center of a distribution**. Along with measures of central tendency, measures of variability give you descriptive statistics that summarize your data.\n",
    "> <ol>\n",
    "> <li>Range : the difference between the highest and lowest values.Range=Highest_value-Lowest_value</li>\n",
    "> <li>Interquartile range : It is the range of the middle half of a distribution.</li>\n",
    "For any distribution that’s ordered from low to high, the interquartile range contains half of the values. While the first quartile (Q1) contains the first 25% of values, the fourth quartile (Q4) contains the last 25% of values.    \n",
    "The interquartile range is the third quartile (Q3) minus the first quartile (Q1).This gives us the range of the middle half of a data set.\n",
    "(Q2) is the median.\n",
    "> <li>Standard deviation : average distance from the mean</li>\n",
    "> <li>Variance : average of squared distances from the mean</li>\n",
    "> </ol>\n",
    "\n",
    "> **C.Skewness**\n",
    "> <ol>\n",
    "> <li>Postive skew</li>\n",
    "> <li>Normal distribution</li>\n",
    "> <li>Negative skew</li>\n",
    "> </ol>"
   ]
  },
  {
   "cell_type": "code",
   "execution_count": 4,
   "id": "fdc84cf7",
   "metadata": {},
   "outputs": [],
   "source": [
    "import statistics as st #importing statistics module"
   ]
  },
  {
   "cell_type": "code",
   "execution_count": 5,
   "id": "1e337898",
   "metadata": {},
   "outputs": [
    {
     "name": "stdout",
     "output_type": "stream",
     "text": [
      "[182, 259, 340, 245, 157, 217, 436, 432, 216, 392, 194, 375, 397, 166, 365, 394, 281, 131, 449, 462] <class 'list'>\n"
     ]
    }
   ],
   "source": [
    "Data=[182,259,340,245,157,217,436,432,216,392,194,375,397,166,365,394,281,131,449,462]\n",
    "print(Data,type(Data))"
   ]
  },
  {
   "cell_type": "markdown",
   "id": "b1126cba",
   "metadata": {},
   "source": [
    "### Measures of Central Tendency"
   ]
  },
  {
   "cell_type": "code",
   "execution_count": 6,
   "id": "de9dc459",
   "metadata": {},
   "outputs": [
    {
     "name": "stdout",
     "output_type": "stream",
     "text": [
      "Mean/Arithmetic Mean/Average 304.5\n",
      "Geometric Mean= 283.4807742467856\n",
      "Harmonic Mean= 261.87898010800103\n"
     ]
    }
   ],
   "source": [
    "print(\"Mean/Arithmetic Mean/Average\",st.mean(Data)) #mean=sum(Data)/len(Data) \n",
    "print(\"Geometric Mean=\",st.geometric_mean(Data))\n",
    "print(\"Harmonic Mean=\",st.harmonic_mean(Data))"
   ]
  },
  {
   "cell_type": "code",
   "execution_count": 14,
   "id": "cf5614b3",
   "metadata": {},
   "outputs": [
    {
     "name": "stdout",
     "output_type": "stream",
     "text": [
      "Median= 310.5\n",
      "Lower Median in even Data 281\n",
      "Higher Median in even Data 340\n",
      "Median value of grouped data 12.5\n"
     ]
    }
   ],
   "source": [
    "print(\"Median=\",st.median(Data)) #returns the middle value of the data\n",
    "print(\"Lower Median in even Data\",st.median_low(Data)) #returns the low median for even number of observations\n",
    "print(\"Higher Median in even Data\",st.median_high(Data)) #returns the high median for even number of observations\n",
    "print(\"Median value of grouped data\",st.median_grouped(mydata))"
   ]
  },
  {
   "cell_type": "code",
   "execution_count": 8,
   "id": "2ac7beb0",
   "metadata": {},
   "outputs": [
    {
     "name": "stdout",
     "output_type": "stream",
     "text": [
      "5\n",
      "6\n",
      "5.5\n"
     ]
    }
   ],
   "source": [
    "#if list contains even number of data \n",
    "MyData=[1,2,3,4,5,6,7,8,9,10]\n",
    "print(st.median_low(MyData)) \n",
    "print(st.median_high(MyData))\n",
    "print(st.median(MyData)) #(5+6)/2"
   ]
  },
  {
   "cell_type": "code",
   "execution_count": 12,
   "id": "171964e0",
   "metadata": {},
   "outputs": [
    {
     "name": "stdout",
     "output_type": "stream",
     "text": [
      "13\n",
      "13\n",
      "13\n",
      "13.0\n"
     ]
    }
   ],
   "source": [
    "#if list contains odd number of data all these function results in same output\n",
    "mydata=[31,6,9,13,90,1,45]\n",
    "print(st.median_low(mydata))\n",
    "print(st.median_high(mydata))\n",
    "print(st.median(mydata))\n",
    "print(st.median_grouped(mydata)) # returns the median of grouped data,this results in float value as result"
   ]
  },
  {
   "cell_type": "code",
   "execution_count": 13,
   "id": "d3e4cd6e",
   "metadata": {},
   "outputs": [
    {
     "name": "stdout",
     "output_type": "stream",
     "text": [
      "9\n",
      "13\n",
      "11.0\n"
     ]
    }
   ],
   "source": [
    "mydata=[31,6,9,13,2,90,1,45] # if the list has values in unsorted order then the result is quite unpredictable\n",
    "print(st.median_low(mydata))\n",
    "print(st.median_high(mydata))\n",
    "print(st.median(mydata))"
   ]
  },
  {
   "cell_type": "code",
   "execution_count": 23,
   "id": "bca01326",
   "metadata": {},
   "outputs": [
    {
     "name": "stdout",
     "output_type": "stream",
     "text": [
      "Most common value using mode() = 2\n",
      "Most common value using multimode() = [2, 3, 5, 8]\n"
     ]
    }
   ],
   "source": [
    "data=[1,2,3,3,4,5,5,6,2,7,8,8]\n",
    "#mode returns only 1 most repeated value\n",
    "print(\"Most common value using mode() =\",st.mode(data)) #returns the most common value of discrete data\n",
    "#mode returns all repeated values in the give data\n",
    "print(\"Most common value using multimode() =\",st.multimode(data)) "
   ]
  },
  {
   "cell_type": "code",
   "execution_count": 24,
   "id": "e1d9ef5e",
   "metadata": {},
   "outputs": [
    {
     "data": {
      "text/plain": [
       "[8]"
      ]
     },
     "execution_count": 24,
     "metadata": {},
     "output_type": "execute_result"
    }
   ],
   "source": [
    "data=[1,2,3,3,4,5,5,6,2,7,8,8,8,8]#if the list has 1 element which has repeated maximum times then it will result only that value as output\n",
    "st.multimode(data)"
   ]
  },
  {
   "cell_type": "markdown",
   "id": "02ca5ad3",
   "metadata": {},
   "source": [
    "### Measures of spread"
   ]
  },
  {
   "cell_type": "markdown",
   "id": "02c2f587",
   "metadata": {},
   "source": [
    "##### Population standard deviation\n",
    "\n",
    "> The population standard deviation is a parameter, which is a fixed value calculated from every individual in the population.\n",
    "\n",
    "##### Formula:\n",
    "\n",
    "$$\\sigma=\\sqrt{\\frac{\\sum(x_{i}-\\mu)^{2}}{N}}$$\n",
    "\n",
    "$$where,$$\n",
    "$$\\sigma = Population \\ standard \\ deviation$$\n",
    "$$N = the \\ size \\ of \\ the \\ population$$\n",
    "$$x_{i}\t= each \\ value \\ from \\ the \\ population$$\n",
    "$$\\mu = the \\ population \\ mean$$\n",
    "\n",
    "##### Population variance\n",
    "\n",
    "> Population variance σ<sup>2</sup> tells us how data points in a specific population are spread out. It is the average of the distances from each data point in the population to the mean, squared.\n",
    "\n",
    "##### Formula:\n",
    "\n",
    "$$\\sigma^{2}=\\sqrt{\\frac{\\sum(x_{i}-\\bar{x})^{2}}{N}}$$\n",
    "\n",
    "$$where,$$\n",
    "$$\\sigma^{2} = Population \\ variance$$\n",
    "$$x_{i} = the \\ value \\ of \\ the \\ i^{th} \\ element$$\n",
    "$$x_{i}\t= the \\ mean \\ of \\ x$$\n",
    "$$N = the \\ number \\ of \\ elements$$\n"
   ]
  },
  {
   "cell_type": "markdown",
   "id": "23ce9353",
   "metadata": {},
   "source": [
    "##### Sample standard deviation\n",
    "\n",
    "> A sample standard deviation is a **statistic**. This means that it is calculated from **only some of the individuals in a population**. Since the sample standard deviation depends upon the sample, it has **greater variability**. Thus the standard deviation of the sample is **greater** than that of the population.\n",
    "\n",
    "#####  Formula:\n",
    "\n",
    "$$s=\\sqrt{\\frac{\\sum_{i=1}^{N} (x_{i} - \\bar{x})^{2}}{N - 1}}$$\n",
    "\n",
    "$$where,$$\n",
    "$$s=Sample \\ standard \\ deviation$$\n",
    "$$N=the \\ number \\ of \\ observations$$\n",
    "$$x{_i}=the \\ observed \\ values \\ of \\ the \\ sample \\ item$$\n",
    "$$\\bar{x}=the \\ mean \\ value \\ of \\ the \\ observations$$\n",
    "\n",
    "##### Sample variance\n",
    "\n",
    ">**Sample variance s<sup>2</sup>** is a measure of the degree to which the numbers in a list are spread out\n",
    "\n",
    "##### Formula:\n",
    "\n",
    "$$s^{2}=\\sqrt{\\frac{\\sum(x_{i} - \\bar{x})^{2}}{n - 1}}$$\n",
    "\n",
    "$$where,$$\n",
    "$$s^{2} = Sample \\ variance$$\n",
    "$$x_{i} = the \\ value \\ of \\ one \\ observation$$\n",
    "$$\\bar{x} = the \\ mean \\ value \\ of \\ all \\ observations$$\n",
    "$$n = the \\ number \\ of \\ observations$$\n"
   ]
  },
  {
   "cell_type": "code",
   "execution_count": 26,
   "id": "34f72801",
   "metadata": {},
   "outputs": [
    {
     "name": "stdout",
     "output_type": "stream",
     "text": [
      "Population Standard Deviation of the data 107.99467579468906\n"
     ]
    }
   ],
   "source": [
    "# pstdev() returns the population standard deviation of data\n",
    "print(\"Population Standard Deviation of the data\",st.pstdev(Data))"
   ]
  },
  {
   "cell_type": "code",
   "execution_count": 27,
   "id": "9d1e7d35",
   "metadata": {},
   "outputs": [
    {
     "name": "stdout",
     "output_type": "stream",
     "text": [
      "Sample Standard Deviation of the data 110.80019950580557\n"
     ]
    }
   ],
   "source": [
    "# stdev() returns the sample standard deviation of data\n",
    "print(\"Sample Standard Deviation of the data\",st.stdev(Data))"
   ]
  },
  {
   "cell_type": "code",
   "execution_count": 30,
   "id": "bf0e0ca7",
   "metadata": {},
   "outputs": [
    {
     "name": "stdout",
     "output_type": "stream",
     "text": [
      "Population variance of the data 11662.85\n"
     ]
    }
   ],
   "source": [
    "# pvariance() returns the population variance of data\n",
    "print(\"Population variance of the data\",st.pvariance(Data))"
   ]
  },
  {
   "cell_type": "code",
   "execution_count": 29,
   "id": "81dcbc9b",
   "metadata": {},
   "outputs": [
    {
     "name": "stdout",
     "output_type": "stream",
     "text": [
      "Sample variance of the data 12276.684210526315\n"
     ]
    }
   ],
   "source": [
    "# variance() returns the sample variance of data\n",
    "print(\"Sample variance of the data\",st.variance(Data))"
   ]
  },
  {
   "cell_type": "markdown",
   "id": "792bcda7",
   "metadata": {},
   "source": [
    "# Array Module\n",
    "\n",
    "> An array is a **collection of variables of the same type(homogeneous)**.They can store a fixed-size,sequential collection of elements of the same type.\n",
    "\n",
    ">The **array()** function in an array module helps us to create array in Python.An array can be created using type code and a list containing elements\n",
    "\n",
    "<code>Syntax:\n",
    "    array(typecode,[elements])</code>\n",
    "    \n",
    "    where,\n",
    "      1.typecode represents data type of the elements.It can be 'i' for integer,'f' for float,'u' for unicode array\n",
    "      2.elements are enetered in the form of list\n",
    "      "
   ]
  },
  {
   "cell_type": "markdown",
   "id": "246f5fee",
   "metadata": {},
   "source": [
    "### Creating array using array module "
   ]
  },
  {
   "cell_type": "code",
   "execution_count": 32,
   "id": "21f22b6f",
   "metadata": {},
   "outputs": [],
   "source": [
    "import array #importing array module"
   ]
  },
  {
   "cell_type": "code",
   "execution_count": 34,
   "id": "b562b8fc",
   "metadata": {},
   "outputs": [
    {
     "name": "stdout",
     "output_type": "stream",
     "text": [
      "array('i', [1, 2, 3, 4, 5])\n"
     ]
    }
   ],
   "source": [
    "#Creating an integer array\n",
    "array1=array.array('i',[1,2,3,4,5])\n",
    "print(array1)"
   ]
  },
  {
   "cell_type": "code",
   "execution_count": 37,
   "id": "7180ee6f",
   "metadata": {},
   "outputs": [
    {
     "name": "stdout",
     "output_type": "stream",
     "text": [
      "(0, 1)\n",
      "(1, 2)\n",
      "(2, 3)\n",
      "(3, 4)\n",
      "(4, 5)\n"
     ]
    }
   ],
   "source": [
    "# Displaying the elements of above array  with index using for loop\n",
    "for i in enumerate(array1):\n",
    "    print(i)"
   ]
  },
  {
   "cell_type": "code",
   "execution_count": 40,
   "id": "458ef5ab",
   "metadata": {},
   "outputs": [
    {
     "name": "stdout",
     "output_type": "stream",
     "text": [
      "(0, 'a')\n",
      "(1, 'b')\n",
      "(2, 'c')\n",
      "(3, 'd')\n"
     ]
    }
   ],
   "source": [
    "# Creating an unicode array\n",
    "array2=array.array('u',['a','b','c','d'])\n",
    "\n",
    "for i in enumerate(array2):\n",
    "    print(i)"
   ]
  },
  {
   "cell_type": "markdown",
   "id": "248ba202",
   "metadata": {},
   "source": [
    "### indexing and slicing in arrays"
   ]
  },
  {
   "cell_type": "code",
   "execution_count": 42,
   "id": "c3649752",
   "metadata": {},
   "outputs": [
    {
     "name": "stdout",
     "output_type": "stream",
     "text": [
      "array('i', [10, 20, 30, 40, 50, 60, 70, 80, 90, 100]) <class 'array.array'>\n"
     ]
    }
   ],
   "source": [
    "array3=array.array('i',[10,20,30,40,50,60,70,80,90,100])\n",
    "print(array3,type(array3))"
   ]
  },
  {
   "cell_type": "code",
   "execution_count": 43,
   "id": "06d37d09",
   "metadata": {},
   "outputs": [
    {
     "name": "stdout",
     "output_type": "stream",
     "text": [
      "array('i', [20, 30, 40])\n"
     ]
    }
   ],
   "source": [
    "# Extracting elements of array\n",
    "print(array3[1:4])"
   ]
  },
  {
   "cell_type": "code",
   "execution_count": 44,
   "id": "6a1fbb97",
   "metadata": {},
   "outputs": [
    {
     "name": "stdout",
     "output_type": "stream",
     "text": [
      "array('i', [10, 20, 30, 40, 50])\n"
     ]
    }
   ],
   "source": [
    "print(array3[:5]) #displays 1st 5 values"
   ]
  },
  {
   "cell_type": "code",
   "execution_count": 45,
   "id": "bba04da1",
   "metadata": {},
   "outputs": [
    {
     "name": "stdout",
     "output_type": "stream",
     "text": [
      "array('i', [60, 70, 80, 90, 100])\n"
     ]
    }
   ],
   "source": [
    "print(array3[5:]) #displays values from 5th position"
   ]
  },
  {
   "cell_type": "code",
   "execution_count": 46,
   "id": "f1251c61",
   "metadata": {},
   "outputs": [
    {
     "name": "stdout",
     "output_type": "stream",
     "text": [
      "array('i', [70, 80, 90, 100])\n"
     ]
    }
   ],
   "source": [
    "print(array3[-4:]) #displays last 4 elements"
   ]
  },
  {
   "cell_type": "code",
   "execution_count": 47,
   "id": "bd3a30cf",
   "metadata": {},
   "outputs": [
    {
     "name": "stdout",
     "output_type": "stream",
     "text": [
      "array('i', [10, 20, 30, 40, 50, 60])\n"
     ]
    }
   ],
   "source": [
    "print(array3[:-4]) # displays all the elements leaving last 4 elements"
   ]
  },
  {
   "cell_type": "code",
   "execution_count": 49,
   "id": "e407645e",
   "metadata": {},
   "outputs": [
    {
     "name": "stdout",
     "output_type": "stream",
     "text": [
      "array('i', [10, 50, 90])\n"
     ]
    }
   ],
   "source": [
    "print(array3[::4]) # displays elements with step=4"
   ]
  },
  {
   "cell_type": "code",
   "execution_count": 50,
   "id": "7923843d",
   "metadata": {},
   "outputs": [
    {
     "name": "stdout",
     "output_type": "stream",
     "text": [
      "array('i', [30, 40, 50, 60, 70, 80, 90, 100])\n"
     ]
    }
   ],
   "source": [
    "print(array3[2::]) #displays elements leaving first 2 values "
   ]
  },
  {
   "cell_type": "code",
   "execution_count": 52,
   "id": "94e98b17",
   "metadata": {},
   "outputs": [
    {
     "name": "stdout",
     "output_type": "stream",
     "text": [
      "array('i', [10, 20, 30, 40])\n"
     ]
    }
   ],
   "source": [
    "print(array3[:4:]) # displays 1st 4 values"
   ]
  },
  {
   "cell_type": "code",
   "execution_count": 53,
   "id": "ad1b60e0",
   "metadata": {},
   "outputs": [
    {
     "name": "stdout",
     "output_type": "stream",
     "text": [
      "array('i', [20, 70])\n"
     ]
    }
   ],
   "source": [
    "print(array3[1:10:5]) # displaying elements with start=1,end=10, and step=5"
   ]
  },
  {
   "cell_type": "markdown",
   "id": "014191f3",
   "metadata": {},
   "source": [
    "### Modification in arrays"
   ]
  },
  {
   "cell_type": "code",
   "execution_count": 54,
   "id": "a0169241",
   "metadata": {},
   "outputs": [
    {
     "name": "stdout",
     "output_type": "stream",
     "text": [
      "array('i', [10, 15, 30, 40, 50, 60, 70, 80, 90, 100])\n"
     ]
    }
   ],
   "source": [
    "array3[1]=15 #modifying single element\n",
    "print(array3)"
   ]
  },
  {
   "cell_type": "code",
   "execution_count": 55,
   "id": "040a6fac",
   "metadata": {},
   "outputs": [
    {
     "name": "stdout",
     "output_type": "stream",
     "text": [
      "array('i', [10, 15, 20, 25, 30, 35, 70, 80, 90, 100])\n"
     ]
    }
   ],
   "source": [
    "array3[2:6]=array.array('i',[20,25,30,35]) #modifying multiple elements\n",
    "print(array3)"
   ]
  },
  {
   "cell_type": "markdown",
   "id": "5cfb9c07",
   "metadata": {},
   "source": [
    "### Special function on arrays"
   ]
  },
  {
   "cell_type": "code",
   "execution_count": 56,
   "id": "f29a8254",
   "metadata": {},
   "outputs": [
    {
     "data": {
      "text/plain": [
       "10"
      ]
     },
     "execution_count": 56,
     "metadata": {},
     "output_type": "execute_result"
    }
   ],
   "source": [
    "len(array3)"
   ]
  },
  {
   "cell_type": "code",
   "execution_count": 57,
   "id": "55fe169a",
   "metadata": {},
   "outputs": [
    {
     "data": {
      "text/plain": [
       "10"
      ]
     },
     "execution_count": 57,
     "metadata": {},
     "output_type": "execute_result"
    }
   ],
   "source": [
    "min(array3)"
   ]
  },
  {
   "cell_type": "code",
   "execution_count": 58,
   "id": "348547ad",
   "metadata": {},
   "outputs": [
    {
     "data": {
      "text/plain": [
       "100"
      ]
     },
     "execution_count": 58,
     "metadata": {},
     "output_type": "execute_result"
    }
   ],
   "source": [
    "max(array3)"
   ]
  },
  {
   "cell_type": "code",
   "execution_count": 59,
   "id": "ef7c4adf",
   "metadata": {},
   "outputs": [
    {
     "name": "stdout",
     "output_type": "stream",
     "text": [
      "array('i', [10, 15, 20, 25, 30, 35, 70, 80, 90, 100, 110])\n"
     ]
    }
   ],
   "source": [
    "array3.append(110)\n",
    "print(array3)"
   ]
  },
  {
   "cell_type": "code",
   "execution_count": 61,
   "id": "22917d75",
   "metadata": {},
   "outputs": [
    {
     "name": "stdout",
     "output_type": "stream",
     "text": [
      "array('i', [10, 15, 20, 25, 30, 35, 70, 80, 90, 100, 110, 10, 15, 20, 25, 30, 35, 70, 80, 90, 100, 110, 120, 130, 140])\n"
     ]
    }
   ],
   "source": [
    "a=[120,130,140]\n",
    "array3.extend(a)\n",
    "print(array3)"
   ]
  },
  {
   "cell_type": "code",
   "execution_count": 62,
   "id": "d7d9406f",
   "metadata": {},
   "outputs": [
    {
     "name": "stdout",
     "output_type": "stream",
     "text": [
      "array('i', [10, 15, 20, 25, 30, 35, 40, 70, 80, 90, 100, 110, 10, 15, 20, 25, 30, 35, 70, 80, 90, 100, 110, 120, 130, 140])\n"
     ]
    }
   ],
   "source": [
    "array3.insert(6,40)\n",
    "print(array3)"
   ]
  },
  {
   "cell_type": "code",
   "execution_count": 66,
   "id": "5d3a41b5",
   "metadata": {},
   "outputs": [
    {
     "data": {
      "text/plain": [
       "7"
      ]
     },
     "execution_count": 66,
     "metadata": {},
     "output_type": "execute_result"
    }
   ],
   "source": [
    "a1=array.array('i',[1,2,2,2,2,2,2,2,4,5,6])\n",
    "a1.count(2)"
   ]
  },
  {
   "cell_type": "code",
   "execution_count": 67,
   "id": "fec9a979",
   "metadata": {},
   "outputs": [
    {
     "data": {
      "text/plain": [
       "140"
      ]
     },
     "execution_count": 67,
     "metadata": {},
     "output_type": "execute_result"
    }
   ],
   "source": [
    "array3.pop()"
   ]
  },
  {
   "cell_type": "code",
   "execution_count": 68,
   "id": "934e3ca2",
   "metadata": {},
   "outputs": [
    {
     "name": "stdout",
     "output_type": "stream",
     "text": [
      "array('i', [10, 15, 20, 25, 30, 35, 40, 70, 80, 90, 100, 110, 10, 15, 20, 25, 30, 35, 70, 80, 90, 100, 110, 120, 130])\n"
     ]
    }
   ],
   "source": [
    "print(array3)"
   ]
  },
  {
   "cell_type": "markdown",
   "id": "a65c1ab7",
   "metadata": {},
   "source": [
    "To covert array to list use **tolist()**"
   ]
  },
  {
   "cell_type": "code",
   "execution_count": 70,
   "id": "4534af74",
   "metadata": {},
   "outputs": [
    {
     "name": "stdout",
     "output_type": "stream",
     "text": [
      "[10, 15, 20, 25, 30, 35, 40, 70, 80, 90, 100, 110, 10, 15, 20, 25, 30, 35, 70, 80, 90, 100, 110, 120, 130] <class 'list'>\n"
     ]
    }
   ],
   "source": [
    "Coverted_list=array3.tolist()\n",
    "print(Coverted_list,type(Coverted_list))"
   ]
  },
  {
   "cell_type": "code",
   "execution_count": 81,
   "id": "c3d4fa63",
   "metadata": {},
   "outputs": [
    {
     "name": "stdout",
     "output_type": "stream",
     "text": [
      "The List contains 20 elements between 500 and 800:\n",
      " [585, 757, 652, 601, 630, 683, 637, 538, 720, 741, 646, 713, 607, 788, 728, 686, 680, 513, 655, 675]\n",
      "The array contains 20 elements between 500 and 800:\n",
      " array('i', [585, 757, 652, 601, 630, 683, 637, 538, 720, 741, 646, 713, 607, 788, 728, 686, 680, 513, 655, 675])\n",
      "The 6th element is =  683\n"
     ]
    }
   ],
   "source": [
    "# Creating an array of 20 numbers between 500 and 800 and access 6th the element from the last\n",
    "from random import randrange \n",
    "#creating a list\n",
    "List1=[]\n",
    "for i in range(0,20):\n",
    "    value=randrange(500,800)\n",
    "    List1.append(value)\n",
    "print(\"The List contains 20 elements between 500 and 800:\\n\",List1)\n",
    "#creating an array using above list\n",
    "array1=array.array('i',List1)\n",
    "print(\"The array contains 20 elements between 500 and 800:\\n\",array1)\n",
    "#accessing 6th element from the last\n",
    "print(\"The 6th element is = \",array1[-15])"
   ]
  },
  {
   "cell_type": "markdown",
   "id": "a194b46a",
   "metadata": {},
   "source": [
    "# String module\n",
    "\n",
    ">The string module provides information of different **upper and lower case letters along with digits**(they can be decimal,hexadecimal,octal or any format)"
   ]
  },
  {
   "cell_type": "code",
   "execution_count": 84,
   "id": "2b136ed6",
   "metadata": {},
   "outputs": [],
   "source": [
    "import string #importing string module"
   ]
  },
  {
   "cell_type": "code",
   "execution_count": 85,
   "id": "61a6dff6",
   "metadata": {},
   "outputs": [
    {
     "data": {
      "text/plain": [
       "'abcdefghijklmnopqrstuvwxyzABCDEFGHIJKLMNOPQRSTUVWXYZ'"
      ]
     },
     "execution_count": 85,
     "metadata": {},
     "output_type": "execute_result"
    }
   ],
   "source": [
    "#Printing ascii letters both upper and lower case\n",
    "string.ascii_letters"
   ]
  },
  {
   "cell_type": "code",
   "execution_count": 86,
   "id": "ba55b549",
   "metadata": {},
   "outputs": [
    {
     "data": {
      "text/plain": [
       "'abcdefghijklmnopqrstuvwxyz'"
      ]
     },
     "execution_count": 86,
     "metadata": {},
     "output_type": "execute_result"
    }
   ],
   "source": [
    "#Printing ascii letters with lower case\n",
    "string.ascii_lowercase"
   ]
  },
  {
   "cell_type": "code",
   "execution_count": 87,
   "id": "b6a6baa4",
   "metadata": {},
   "outputs": [
    {
     "data": {
      "text/plain": [
       "'ABCDEFGHIJKLMNOPQRSTUVWXYZ'"
      ]
     },
     "execution_count": 87,
     "metadata": {},
     "output_type": "execute_result"
    }
   ],
   "source": [
    "#Printing ascii letters with upper case\n",
    "string.ascii_uppercase"
   ]
  },
  {
   "cell_type": "code",
   "execution_count": 91,
   "id": "47f1b211",
   "metadata": {},
   "outputs": [
    {
     "data": {
      "text/plain": [
       "'0123456789'"
      ]
     },
     "execution_count": 91,
     "metadata": {},
     "output_type": "execute_result"
    }
   ],
   "source": [
    "string.digits #prints digits from 0-9"
   ]
  },
  {
   "cell_type": "code",
   "execution_count": 92,
   "id": "a2ea2a46",
   "metadata": {},
   "outputs": [
    {
     "data": {
      "text/plain": [
       "'0123456789abcdefABCDEF'"
      ]
     },
     "execution_count": 92,
     "metadata": {},
     "output_type": "execute_result"
    }
   ],
   "source": [
    "string.hexdigits #prints all the hexadigits"
   ]
  },
  {
   "cell_type": "code",
   "execution_count": 93,
   "id": "a7ad67bc",
   "metadata": {},
   "outputs": [
    {
     "data": {
      "text/plain": [
       "'01234567'"
      ]
     },
     "execution_count": 93,
     "metadata": {},
     "output_type": "execute_result"
    }
   ],
   "source": [
    "string.octdigits #prints all the octadigts"
   ]
  },
  {
   "cell_type": "code",
   "execution_count": 94,
   "id": "24e47e77",
   "metadata": {},
   "outputs": [
    {
     "data": {
      "text/plain": [
       "'!\"#$%&\\'()*+,-./:;<=>?@[\\\\]^_`{|}~'"
      ]
     },
     "execution_count": 94,
     "metadata": {},
     "output_type": "execute_result"
    }
   ],
   "source": [
    "string.punctuation #prints all the punctuations available"
   ]
  },
  {
   "cell_type": "code",
   "execution_count": 95,
   "id": "24f48380",
   "metadata": {},
   "outputs": [
    {
     "data": {
      "text/plain": [
       "'Python - Programming Language Developed By Guido Van Rossum'"
      ]
     },
     "execution_count": 95,
     "metadata": {},
     "output_type": "execute_result"
    }
   ],
   "source": [
    "string.capwords(\"Python - Programming language developed by Guido van rossum\") #makes all the first letter of words in a setence as capital "
   ]
  },
  {
   "cell_type": "code",
   "execution_count": 96,
   "id": "a39d5485",
   "metadata": {},
   "outputs": [
    {
     "data": {
      "text/plain": [
       "'0123456789abcdefghijklmnopqrstuvwxyzABCDEFGHIJKLMNOPQRSTUVWXYZ!\"#$%&\\'()*+,-./:;<=>?@[\\\\]^_`{|}~ \\t\\n\\r\\x0b\\x0c'"
      ]
     },
     "execution_count": 96,
     "metadata": {},
     "output_type": "execute_result"
    }
   ],
   "source": [
    "string.printable #displays all the printables"
   ]
  },
  {
   "cell_type": "code",
   "execution_count": 113,
   "id": "94ab75e2",
   "metadata": {},
   "outputs": [
    {
     "data": {
      "text/plain": [
       "' \\t\\n\\r\\x0b\\x0c'"
      ]
     },
     "execution_count": 113,
     "metadata": {},
     "output_type": "execute_result"
    }
   ],
   "source": [
    "string.whitespace"
   ]
  },
  {
   "cell_type": "code",
   "execution_count": 129,
   "id": "20f1888e",
   "metadata": {},
   "outputs": [
    {
     "data": {
      "text/plain": [
       "<string.Formatter at 0x3badb8bb80>"
      ]
     },
     "execution_count": 129,
     "metadata": {},
     "output_type": "execute_result"
    }
   ],
   "source": [
    "from string import Formatter\n",
    "Formatter()"
   ]
  },
  {
   "cell_type": "code",
   "execution_count": 132,
   "id": "15126ce0",
   "metadata": {},
   "outputs": [
    {
     "data": {
      "text/plain": [
       "<string.Template at 0x3bab352e50>"
      ]
     },
     "execution_count": 132,
     "metadata": {},
     "output_type": "execute_result"
    }
   ],
   "source": [
    "a=string.Template(\"Python\")\n",
    "a"
   ]
  },
  {
   "cell_type": "markdown",
   "id": "63130144",
   "metadata": {},
   "source": [
    "### Creating string using different approaches"
   ]
  },
  {
   "cell_type": "code",
   "execution_count": 133,
   "id": "c566e993",
   "metadata": {},
   "outputs": [
    {
     "name": "stdout",
     "output_type": "stream",
     "text": [
      "Hello World\n"
     ]
    }
   ],
   "source": [
    "# Creating string using 'single quotes'\n",
    "string1='Hello World'\n",
    "print(string1)"
   ]
  },
  {
   "cell_type": "code",
   "execution_count": 134,
   "id": "d7a6d22d",
   "metadata": {},
   "outputs": [
    {
     "name": "stdout",
     "output_type": "stream",
     "text": [
      "Hello World\n"
     ]
    }
   ],
   "source": [
    "# Creating string using \"Double quotes\" \n",
    "string2=\"Hello World\"\n",
    "print(string2)"
   ]
  },
  {
   "cell_type": "code",
   "execution_count": 137,
   "id": "1a3ac675",
   "metadata": {},
   "outputs": [
    {
     "name": "stdout",
     "output_type": "stream",
     "text": [
      "Hello to the world of Python!\n",
      "Python is easy to read\n",
      "Python is easy to understand.\n"
     ]
    }
   ],
   "source": [
    "# Creating a multiline string using \"\"\" Triple quotes\"\"\"\n",
    "string3=\"\"\"Hello to the world of Python!\n",
    "Python is easy to read\n",
    "Python is easy to understand.\"\"\"\n",
    "print(string3)"
   ]
  },
  {
   "cell_type": "markdown",
   "id": "30e84e5b",
   "metadata": {},
   "source": [
    "##### Concatination of strings"
   ]
  },
  {
   "cell_type": "code",
   "execution_count": 140,
   "id": "82c9b7e7",
   "metadata": {},
   "outputs": [
    {
     "data": {
      "text/plain": [
       "'Hello World Hello World'"
      ]
     },
     "execution_count": 140,
     "metadata": {},
     "output_type": "execute_result"
    }
   ],
   "source": [
    "#Concatenation using \"+\" operator\n",
    "string1+\" \"+string2"
   ]
  },
  {
   "cell_type": "code",
   "execution_count": 147,
   "id": "ad56ed42",
   "metadata": {},
   "outputs": [
    {
     "name": "stdout",
     "output_type": "stream",
     "text": [
      "Python has huge support of libraries\n"
     ]
    }
   ],
   "source": [
    "# Concatination of multiple string present in same line\n",
    "string4='Python ' 'has ' 'huge ' \"support of libraries\"\n",
    "print(string4)"
   ]
  },
  {
   "cell_type": "code",
   "execution_count": 145,
   "id": "cc409824",
   "metadata": {},
   "outputs": [
    {
     "name": "stdout",
     "output_type": "stream",
     "text": [
      "Python has huge support of libraries\n"
     ]
    }
   ],
   "source": [
    "# Concatination of multiple string enclosed within parantheses \"()\"\n",
    "string4=('Python '\n",
    "'has '\n",
    "'huge ' \n",
    "'support of libraries')\n",
    "print(string4)"
   ]
  },
  {
   "cell_type": "markdown",
   "id": "1dba861d",
   "metadata": {},
   "source": [
    "### Accessing string elements,indexing and slicing"
   ]
  },
  {
   "cell_type": "code",
   "execution_count": 148,
   "id": "397a0ac9",
   "metadata": {},
   "outputs": [
    {
     "name": "stdout",
     "output_type": "stream",
     "text": [
      "Python\n"
     ]
    }
   ],
   "source": [
    "string5=\"Python\"\n",
    "print(string5)"
   ]
  },
  {
   "cell_type": "code",
   "execution_count": 150,
   "id": "0c2bbc74",
   "metadata": {},
   "outputs": [
    {
     "name": "stdout",
     "output_type": "stream",
     "text": [
      "The letter P as the index 0\n",
      "The letter y as the index 1\n",
      "The letter t as the index 2\n",
      "The letter h as the index 3\n",
      "The letter o as the index 4\n",
      "The letter n as the index 5\n"
     ]
    }
   ],
   "source": [
    "# usage of enumerate for finding the index\n",
    "for index,letter in enumerate(string5):\n",
    "    print(\"The letter\",letter,\"as the index\",index)"
   ]
  },
  {
   "cell_type": "code",
   "execution_count": 152,
   "id": "dc0ffc47",
   "metadata": {},
   "outputs": [
    {
     "name": "stdout",
     "output_type": "stream",
     "text": [
      "(0, 'P')\n",
      "(1, 'y')\n",
      "(2, 't')\n",
      "(3, 'h')\n",
      "(4, 'o')\n",
      "(5, 'n')\n"
     ]
    }
   ],
   "source": [
    "for i in enumerate(string5):\n",
    "    print(i)"
   ]
  },
  {
   "cell_type": "code",
   "execution_count": 153,
   "id": "c1c2121a",
   "metadata": {},
   "outputs": [
    {
     "data": {
      "text/plain": [
       "'o'"
      ]
     },
     "execution_count": 153,
     "metadata": {},
     "output_type": "execute_result"
    }
   ],
   "source": [
    "string5[4]"
   ]
  },
  {
   "cell_type": "code",
   "execution_count": 155,
   "id": "979a0117",
   "metadata": {},
   "outputs": [
    {
     "data": {
      "text/plain": [
       "'on'"
      ]
     },
     "execution_count": 155,
     "metadata": {},
     "output_type": "execute_result"
    }
   ],
   "source": [
    "string5[4:6]"
   ]
  },
  {
   "cell_type": "code",
   "execution_count": 156,
   "id": "7351082a",
   "metadata": {},
   "outputs": [
    {
     "data": {
      "text/plain": [
       "'n'"
      ]
     },
     "execution_count": 156,
     "metadata": {},
     "output_type": "execute_result"
    }
   ],
   "source": [
    "string5[-1]"
   ]
  },
  {
   "cell_type": "code",
   "execution_count": 158,
   "id": "e5ff575c",
   "metadata": {},
   "outputs": [
    {
     "data": {
      "text/plain": [
       "'hon'"
      ]
     },
     "execution_count": 158,
     "metadata": {},
     "output_type": "execute_result"
    }
   ],
   "source": [
    "string5[-3:]"
   ]
  },
  {
   "cell_type": "code",
   "execution_count": 159,
   "id": "6a9af043",
   "metadata": {},
   "outputs": [
    {
     "data": {
      "text/plain": [
       "'Pyth'"
      ]
     },
     "execution_count": 159,
     "metadata": {},
     "output_type": "execute_result"
    }
   ],
   "source": [
    "string5[:-2]"
   ]
  },
  {
   "cell_type": "code",
   "execution_count": 161,
   "id": "47f6a2f9",
   "metadata": {},
   "outputs": [
    {
     "data": {
      "text/plain": [
       "'yhn'"
      ]
     },
     "execution_count": 161,
     "metadata": {},
     "output_type": "execute_result"
    }
   ],
   "source": [
    "string5[1:6:2]"
   ]
  },
  {
   "cell_type": "code",
   "execution_count": 163,
   "id": "ad55ec6c",
   "metadata": {},
   "outputs": [
    {
     "data": {
      "text/plain": [
       "'Python'"
      ]
     },
     "execution_count": 163,
     "metadata": {},
     "output_type": "execute_result"
    }
   ],
   "source": [
    "string5[0:3]+string5[3:6]"
   ]
  },
  {
   "cell_type": "code",
   "execution_count": 164,
   "id": "b9b1a609",
   "metadata": {},
   "outputs": [
    {
     "data": {
      "text/plain": [
       "'Python'"
      ]
     },
     "execution_count": 164,
     "metadata": {},
     "output_type": "execute_result"
    }
   ],
   "source": [
    "string5[:]"
   ]
  },
  {
   "cell_type": "code",
   "execution_count": 173,
   "id": "bed4d324",
   "metadata": {},
   "outputs": [
    {
     "name": "stdout",
     "output_type": "stream",
     "text": [
      "PTO\n",
      "PT\n",
      "YTHON\n"
     ]
    }
   ],
   "source": [
    "# slicing with offset\n",
    "string5=\"PYTHON\"\n",
    "print(string5[::2])\n",
    "print(string5[0:4:2])\n",
    "print(string5[1::])"
   ]
  },
  {
   "cell_type": "markdown",
   "id": "2cc9976c",
   "metadata": {},
   "source": [
    "### Case conversion functions"
   ]
  },
  {
   "cell_type": "code",
   "execution_count": 174,
   "id": "ee4efb35",
   "metadata": {},
   "outputs": [
    {
     "name": "stdout",
     "output_type": "stream",
     "text": [
      "pYtHoN iS a PrOgRaMmiNg LaNgUaGe\n"
     ]
    }
   ],
   "source": [
    "string6=\"pYtHoN iS a PrOgRaMmiNg LaNgUaGe\"\n",
    "print(string6)"
   ]
  },
  {
   "cell_type": "code",
   "execution_count": 175,
   "id": "224444f7",
   "metadata": {},
   "outputs": [
    {
     "data": {
      "text/plain": [
       "'Python is a programming language'"
      ]
     },
     "execution_count": 175,
     "metadata": {},
     "output_type": "execute_result"
    }
   ],
   "source": [
    "string6.capitalize() #Capitalises the first letter and converts all other letters to lower case"
   ]
  },
  {
   "cell_type": "code",
   "execution_count": 176,
   "id": "6132355c",
   "metadata": {},
   "outputs": [
    {
     "data": {
      "text/plain": [
       "'python is a programming language'"
      ]
     },
     "execution_count": 176,
     "metadata": {},
     "output_type": "execute_result"
    }
   ],
   "source": [
    "string6.lower()"
   ]
  },
  {
   "cell_type": "code",
   "execution_count": 177,
   "id": "85584e7e",
   "metadata": {},
   "outputs": [
    {
     "data": {
      "text/plain": [
       "'PYTHON IS A PROGRAMMING LANGUAGE'"
      ]
     },
     "execution_count": 177,
     "metadata": {},
     "output_type": "execute_result"
    }
   ],
   "source": [
    "string6.upper()"
   ]
  },
  {
   "cell_type": "code",
   "execution_count": 178,
   "id": "bb830fb2",
   "metadata": {},
   "outputs": [
    {
     "data": {
      "text/plain": [
       "'PyThOn Is A pRoGrAmMInG lAnGuAgE'"
      ]
     },
     "execution_count": 178,
     "metadata": {},
     "output_type": "execute_result"
    }
   ],
   "source": [
    "string6.swapcase() #converts all the high caps to low caps and viceversa"
   ]
  },
  {
   "cell_type": "code",
   "execution_count": 179,
   "id": "d58ec21e",
   "metadata": {},
   "outputs": [
    {
     "data": {
      "text/plain": [
       "'python is a programming language'"
      ]
     },
     "execution_count": 179,
     "metadata": {},
     "output_type": "execute_result"
    }
   ],
   "source": [
    "string6.casefold() #returns a lowercase string ,this function is used for \"CASELESS MATCHING\""
   ]
  },
  {
   "cell_type": "markdown",
   "id": "af522f3b",
   "metadata": {},
   "source": [
    "### Alignment and indentation"
   ]
  },
  {
   "cell_type": "code",
   "execution_count": 182,
   "id": "c5153ddd",
   "metadata": {},
   "outputs": [],
   "source": [
    "string7=\"PYTHON\""
   ]
  },
  {
   "cell_type": "code",
   "execution_count": 186,
   "id": "7acc56b6",
   "metadata": {},
   "outputs": [
    {
     "name": "stdout",
     "output_type": "stream",
     "text": [
      "**************PYTHON\n",
      "`````````PYTHON\n",
      "~~~~PYTHON\n"
     ]
    }
   ],
   "source": [
    "# rjust(width,fillcharacter)\n",
    "print(string7.rjust(20,\"*\"))\n",
    "print(string7.rjust(15,\"`\"))\n",
    "print(string7.rjust(10,\"~\"))"
   ]
  },
  {
   "cell_type": "code",
   "execution_count": 187,
   "id": "76101142",
   "metadata": {},
   "outputs": [
    {
     "name": "stdout",
     "output_type": "stream",
     "text": [
      "PYTHON**************\n",
      "PYTHON`````````\n",
      "PYTHON~~~~\n"
     ]
    }
   ],
   "source": [
    "# ljust(width,fillcharacter)\n",
    "print(string7.ljust(20,\"*\"))\n",
    "print(string7.ljust(15,\"`\"))\n",
    "print(string7.ljust(10,\"~\"))"
   ]
  },
  {
   "cell_type": "code",
   "execution_count": 190,
   "id": "b00a177f",
   "metadata": {},
   "outputs": [
    {
     "name": "stdout",
     "output_type": "stream",
     "text": [
      "*******PYTHON*******\n"
     ]
    }
   ],
   "source": [
    "#center(width,optional fill character)\n",
    "print(string7.center(20,\"*\"))"
   ]
  },
  {
   "cell_type": "code",
   "execution_count": 191,
   "id": "42b0897b",
   "metadata": {},
   "outputs": [
    {
     "name": "stdout",
     "output_type": "stream",
     "text": [
      "00000000000000PYTHON\n"
     ]
    }
   ],
   "source": [
    "#zfill(width)->fills zeroes from left for specfied width\n",
    "print(string7.zfill(20))"
   ]
  },
  {
   "cell_type": "markdown",
   "id": "1aa48ce9",
   "metadata": {},
   "source": [
    "### Some other functions in strings"
   ]
  },
  {
   "cell_type": "code",
   "execution_count": 5,
   "id": "fbbead39",
   "metadata": {},
   "outputs": [
    {
     "data": {
      "text/plain": [
       "'Python : It is a Programming Language'"
      ]
     },
     "execution_count": 5,
     "metadata": {},
     "output_type": "execute_result"
    }
   ],
   "source": [
    "string8=\"Python : It is a Programming Language\"\n",
    "string8"
   ]
  },
  {
   "cell_type": "code",
   "execution_count": 9,
   "id": "35ed5ae2",
   "metadata": {},
   "outputs": [
    {
     "data": {
      "text/plain": [
       "['Python ', ' It is a Programming Language']"
      ]
     },
     "execution_count": 9,
     "metadata": {},
     "output_type": "execute_result"
    }
   ],
   "source": [
    "#split(sep=None, maxsplit=-1) it splits the string based on the specified delimeter\n",
    "string8.split(':')"
   ]
  },
  {
   "cell_type": "code",
   "execution_count": 10,
   "id": "6ce90e2b",
   "metadata": {},
   "outputs": [
    {
     "data": {
      "text/plain": [
       "['Python : It is ', ' Progr', 'mming L', 'ngu', 'ge']"
      ]
     },
     "execution_count": 10,
     "metadata": {},
     "output_type": "execute_result"
    }
   ],
   "source": [
    "string8.split('a')"
   ]
  },
  {
   "cell_type": "code",
   "execution_count": 13,
   "id": "4024d194",
   "metadata": {},
   "outputs": [
    {
     "data": {
      "text/plain": [
       "'Python : It is a Programming Language developed by Guido van rossum'"
      ]
     },
     "execution_count": 13,
     "metadata": {},
     "output_type": "execute_result"
    }
   ],
   "source": [
    "#join() joins the strings with the specified string\n",
    "\"e developed by Guido van rossum\".join(string8.split('e'))"
   ]
  },
  {
   "cell_type": "code",
   "execution_count": 14,
   "id": "dc799a62",
   "metadata": {},
   "outputs": [
    {
     "data": {
      "text/plain": [
       "'Pe developed by Guido van rossumye developed by Guido van rossumte developed by Guido van rossumhe developed by Guido van rossumoe developed by Guido van rossumne developed by Guido van rossum e developed by Guido van rossum:e developed by Guido van rossum e developed by Guido van rossumIe developed by Guido van rossumte developed by Guido van rossum e developed by Guido van rossumie developed by Guido van rossumse developed by Guido van rossum e developed by Guido van rossumae developed by Guido van rossum e developed by Guido van rossumPe developed by Guido van rossumre developed by Guido van rossumoe developed by Guido van rossumge developed by Guido van rossumre developed by Guido van rossumae developed by Guido van rossumme developed by Guido van rossumme developed by Guido van rossumie developed by Guido van rossumne developed by Guido van rossumge developed by Guido van rossum e developed by Guido van rossumLe developed by Guido van rossumae developed by Guido van rossumne developed by Guido van rossumge developed by Guido van rossumue developed by Guido van rossumae developed by Guido van rossumge developed by Guido van rossume'"
      ]
     },
     "execution_count": 14,
     "metadata": {},
     "output_type": "execute_result"
    }
   ],
   "source": [
    "\"e developed by Guido van rossum\".join(string8) #if we dont provide the split(), the string itselfs get joined for multiple times"
   ]
  },
  {
   "cell_type": "code",
   "execution_count": 15,
   "id": "7ac8cf85",
   "metadata": {},
   "outputs": [
    {
     "data": {
      "text/plain": [
       "37"
      ]
     },
     "execution_count": 15,
     "metadata": {},
     "output_type": "execute_result"
    }
   ],
   "source": [
    "len(string8)"
   ]
  },
  {
   "cell_type": "code",
   "execution_count": 19,
   "id": "7b5218a7",
   "metadata": {},
   "outputs": [
    {
     "data": {
      "text/plain": [
       "True"
      ]
     },
     "execution_count": 19,
     "metadata": {},
     "output_type": "execute_result"
    }
   ],
   "source": [
    "\"Programming\" in string8"
   ]
  },
  {
   "cell_type": "code",
   "execution_count": 20,
   "id": "7fa6e57d",
   "metadata": {},
   "outputs": [
    {
     "data": {
      "text/plain": [
       "False"
      ]
     },
     "execution_count": 20,
     "metadata": {},
     "output_type": "execute_result"
    }
   ],
   "source": [
    "\"programming\" in string8 #returns false because \"p\" is in caps in string8"
   ]
  },
  {
   "cell_type": "code",
   "execution_count": 22,
   "id": "cf776cf8",
   "metadata": {},
   "outputs": [
    {
     "data": {
      "text/plain": [
       "(True, False)"
      ]
     },
     "execution_count": 22,
     "metadata": {},
     "output_type": "execute_result"
    }
   ],
   "source": [
    "#startwith() returns true if the string starts with specified substring\n",
    "string8.startswith(\"Python\"),string8.startswith(\":\")"
   ]
  },
  {
   "cell_type": "code",
   "execution_count": 27,
   "id": "8e5f269d",
   "metadata": {},
   "outputs": [
    {
     "data": {
      "text/plain": [
       "(True, False)"
      ]
     },
     "execution_count": 27,
     "metadata": {},
     "output_type": "execute_result"
    }
   ],
   "source": [
    "#endswith() returns true if the string ends with specified substring\n",
    "string8.endswith(\"Language\"),string8.startswith(\"e\")"
   ]
  },
  {
   "cell_type": "code",
   "execution_count": 29,
   "id": "eeb8f2ec",
   "metadata": {},
   "outputs": [
    {
     "name": "stdout",
     "output_type": "stream",
     "text": [
      "Python : It is a Programming Language\n",
      "Python : It is an Progranmming Lannguange\n"
     ]
    }
   ],
   "source": [
    "#replace() replaces all 'substring' with new 'strings'\n",
    "print(string8)\n",
    "string9=string8.replace('a',\"an\")\n",
    "print(string9)"
   ]
  },
  {
   "cell_type": "code",
   "execution_count": 34,
   "id": "621b2291",
   "metadata": {},
   "outputs": [
    {
     "data": {
      "text/plain": [
       "(3, 7, 1)"
      ]
     },
     "execution_count": 34,
     "metadata": {},
     "output_type": "execute_result"
    }
   ],
   "source": [
    "#count() counts non-overlapping occurence of specified sunstring\n",
    "string8.count('n'),string9.count('n'),string8.count(\"Programming\")"
   ]
  },
  {
   "cell_type": "code",
   "execution_count": 40,
   "id": "1d326e2c",
   "metadata": {},
   "outputs": [
    {
     "data": {
      "text/plain": [
       "(9, 15, -1)"
      ]
     },
     "execution_count": 40,
     "metadata": {},
     "output_type": "execute_result"
    }
   ],
   "source": [
    "#find() returns index of first occurence of a letter or substring within the string; -1 if not found\n",
    "string8.find('It'),string8.find('a'), string8.find(\"rossum\")# this gives -1 beacuse this substring is not present in the string)"
   ]
  },
  {
   "cell_type": "code",
   "execution_count": 42,
   "id": "cb8680a5",
   "metadata": {},
   "outputs": [
    {
     "data": {
      "text/plain": [
       "(34, -1)"
      ]
     },
     "execution_count": 42,
     "metadata": {},
     "output_type": "execute_result"
    }
   ],
   "source": [
    "#rfind() returns index of last occurence of a letter or substring within the string; -1 if not found\n",
    "string8.rfind('a'),string8.find(\"rossum\")"
   ]
  },
  {
   "cell_type": "code",
   "execution_count": 43,
   "id": "cb254aab",
   "metadata": {},
   "outputs": [
    {
     "data": {
      "text/plain": [
       "15"
      ]
     },
     "execution_count": 43,
     "metadata": {},
     "output_type": "execute_result"
    }
   ],
   "source": [
    "#index() returns index of first occurence of a letter or substring within the string; error if not found\n",
    "string8.index('a')"
   ]
  },
  {
   "cell_type": "code",
   "execution_count": 44,
   "id": "97a2d3be",
   "metadata": {},
   "outputs": [
    {
     "ename": "ValueError",
     "evalue": "substring not found",
     "output_type": "error",
     "traceback": [
      "\u001b[1;31m---------------------------------------------------------------------------\u001b[0m",
      "\u001b[1;31mValueError\u001b[0m                                Traceback (most recent call last)",
      "\u001b[1;32mC:\\Users\\DIVYAJ~1\\AppData\\Local\\Temp/ipykernel_298376/355387806.py\u001b[0m in \u001b[0;36m<module>\u001b[1;34m\u001b[0m\n\u001b[1;32m----> 1\u001b[1;33m \u001b[0mstring8\u001b[0m\u001b[1;33m.\u001b[0m\u001b[0mindex\u001b[0m\u001b[1;33m(\u001b[0m\u001b[1;34m\"rossum\"\u001b[0m\u001b[1;33m)\u001b[0m\u001b[1;33m\u001b[0m\u001b[1;33m\u001b[0m\u001b[0m\n\u001b[0m",
      "\u001b[1;31mValueError\u001b[0m: substring not found"
     ]
    }
   ],
   "source": [
    "string8.index(\"rossum\")"
   ]
  },
  {
   "cell_type": "code",
   "execution_count": 45,
   "id": "93a25934",
   "metadata": {},
   "outputs": [
    {
     "data": {
      "text/plain": [
       "34"
      ]
     },
     "execution_count": 45,
     "metadata": {},
     "output_type": "execute_result"
    }
   ],
   "source": [
    "#rindex() returns index of last occurence of a letter or substring within the string; error if not found\n",
    "string8.rindex('a')"
   ]
  },
  {
   "cell_type": "code",
   "execution_count": 46,
   "id": "5291de43",
   "metadata": {},
   "outputs": [
    {
     "ename": "ValueError",
     "evalue": "substring not found",
     "output_type": "error",
     "traceback": [
      "\u001b[1;31m---------------------------------------------------------------------------\u001b[0m",
      "\u001b[1;31mValueError\u001b[0m                                Traceback (most recent call last)",
      "\u001b[1;32mC:\\Users\\DIVYAJ~1\\AppData\\Local\\Temp/ipykernel_298376/3916236080.py\u001b[0m in \u001b[0;36m<module>\u001b[1;34m\u001b[0m\n\u001b[1;32m----> 1\u001b[1;33m \u001b[0mstring8\u001b[0m\u001b[1;33m.\u001b[0m\u001b[0mindex\u001b[0m\u001b[1;33m(\u001b[0m\u001b[1;34m'z'\u001b[0m\u001b[1;33m)\u001b[0m\u001b[1;33m\u001b[0m\u001b[1;33m\u001b[0m\u001b[0m\n\u001b[0m",
      "\u001b[1;31mValueError\u001b[0m: substring not found"
     ]
    }
   ],
   "source": [
    "string8.index('z')"
   ]
  },
  {
   "cell_type": "markdown",
   "id": "a23cd148",
   "metadata": {},
   "source": [
    "# \"re\" Module\n",
    "\n",
    "> A **regualar expression** is mainly useful for **text processing**.It is a special sequence of characters which helps to match or find other strings using a specialized syntax held in a pattern.Regular expressions are found in \"re\" module in Python.\n",
    "\n",
    "> The most common functions include **findall(),match(),search(),and sub().\n",
    "\n",
    "<code>Syntax:\n",
    "    re.sub(old,new,str)</code>\n",
    "     \n",
    "where,\n",
    "  <li> old signifies the old string that needs to be replaced </li>\n",
    "       <li> new signifies the new string that will be replaces </li>\n",
    "       <li> str specifies the original string in which replacing needs to be done </li>\n",
    "\n",
    "     \n",
    "    \n",
    "<code>re.findall(p,str)\n",
    "    re.match(p,str)\n",
    "    re.search(p,str)</code>\n",
    "    \n",
    "where,\n",
    "      <li> p is a character/group of characters/pattern that needs to be matched</li>\n",
    "      <li> str specifies the original string in which match/search needs to take place</li>"
   ]
  },
  {
   "cell_type": "code",
   "execution_count": 47,
   "id": "a73216cd",
   "metadata": {},
   "outputs": [],
   "source": [
    "import re #importing \"re\" module to use the functions in this module "
   ]
  },
  {
   "cell_type": "code",
   "execution_count": 48,
   "id": "b15607f0",
   "metadata": {},
   "outputs": [
    {
     "name": "stdout",
     "output_type": "stream",
     "text": [
      "Original string =  Hello! Welcome to the world Python!!\n"
     ]
    }
   ],
   "source": [
    "string1=\"Hello! Welcome to the world Python!!\"\n",
    "print(\"Original string = \",string1)"
   ]
  },
  {
   "cell_type": "code",
   "execution_count": 53,
   "id": "6eb9edd9",
   "metadata": {},
   "outputs": [
    {
     "name": "stdout",
     "output_type": "stream",
     "text": [
      "New string =  Enjoy Learning!!! Welcome to the world Python!!\n"
     ]
    }
   ],
   "source": [
    "# Usage of sub(pattern, repl, string, count=0, flags=0)\n",
    "string2=re.sub(\"Hello!\",\"Enjoy Learning!!!\",string1)\n",
    "print(\"New string = \",string2)"
   ]
  },
  {
   "cell_type": "code",
   "execution_count": 55,
   "id": "5fbf5f44",
   "metadata": {},
   "outputs": [
    {
     "name": "stdout",
     "output_type": "stream",
     "text": [
      "<re.Match object; span=(0, 5), match='Hello'>\n",
      "None\n"
     ]
    }
   ],
   "source": [
    "# usage of match()\n",
    "print(re.match(\"Hello\",string1)) #match found returns match object\n",
    "print(re.match(\"Enjoy\",string1)) #gives none since match not found"
   ]
  },
  {
   "cell_type": "code",
   "execution_count": 83,
   "id": "df06b383",
   "metadata": {},
   "outputs": [
    {
     "name": "stdout",
     "output_type": "stream",
     "text": [
      "<re.Match object; span=(0, 5), match='Enjoy'>\n",
      "None\n"
     ]
    }
   ],
   "source": [
    "# usage of search()\n",
    "print(re.search(\"Enjoy\",string2))#search found returns search object\n",
    "print(re.search(\"Hello\",string2)) #gives none since search not found"
   ]
  },
  {
   "cell_type": "code",
   "execution_count": 65,
   "id": "4c3f4d2a",
   "metadata": {},
   "outputs": [
    {
     "name": "stdout",
     "output_type": "stream",
     "text": [
      "['Mr.sudhakar Reddy,Mr.Jayarama Reddy']\n"
     ]
    }
   ],
   "source": [
    "# The \"*\" matches 0 or more occurence of preceding expression.\n",
    "string3=\"Welcome! Mr.sudhakar Reddy,Mr.Jayarama Reddy\"\n",
    "print(re.findall(r\"Mr.*\",string3))"
   ]
  },
  {
   "cell_type": "code",
   "execution_count": 66,
   "id": "26834360",
   "metadata": {},
   "outputs": [
    {
     "name": "stdout",
     "output_type": "stream",
     "text": [
      "['Mr.', 'Mr.']\n"
     ]
    }
   ],
   "source": [
    "# The \"+\" matches 1 or more occurence of preceding expression.\n",
    "string3=\"Welcome! Mr.sudhakar Reddy,Mr.Jayarama Reddy\"\n",
    "print(re.findall(r\"Mr.\",string3))"
   ]
  },
  {
   "cell_type": "code",
   "execution_count": 82,
   "id": "462d32d0",
   "metadata": {},
   "outputs": [
    {
     "name": "stdout",
     "output_type": "stream",
     "text": [
      "['Mr.', 'Mr.']\n"
     ]
    }
   ],
   "source": [
    "# The \"?\" matches 0 or 1 occurence of preceding expression.\n",
    "string3=\"Welcome! Mr.sudhakar Reddy,Mr.Jayarama Reddy\"\n",
    "print(re.findall(r\"Mr.?\",string3))"
   ]
  },
  {
   "cell_type": "code",
   "execution_count": 73,
   "id": "d5991720",
   "metadata": {},
   "outputs": [
    {
     "name": "stdout",
     "output_type": "stream",
     "text": [
      "<re.Match object; span=(9, 44), match='Mr.sudhakar Reddy,Mr.Jayarama Reddy'>\n"
     ]
    }
   ],
   "source": [
    "# The \"*\" searches 0 or more occurence of preceding expression.\n",
    "string3=\"Welcome! Mr.sudhakar Reddy,Mr.Jayarama Reddy\"\n",
    "print(re.search(r\"Mr.*\",string3))"
   ]
  },
  {
   "cell_type": "code",
   "execution_count": 74,
   "id": "8be73e86",
   "metadata": {},
   "outputs": [
    {
     "name": "stdout",
     "output_type": "stream",
     "text": [
      "<re.Match object; span=(9, 12), match='Mr.'>\n"
     ]
    }
   ],
   "source": [
    "# The \"+\" searches 1 or more occurence of preceding expression.\n",
    "string3=\"Welcome! Mr.sudhakar Reddy,Mr.Jayarama Reddy\"\n",
    "print(re.search(r\"Mr.\",string3))"
   ]
  },
  {
   "cell_type": "code",
   "execution_count": 80,
   "id": "32d85e65",
   "metadata": {},
   "outputs": [
    {
     "name": "stdout",
     "output_type": "stream",
     "text": [
      "<re.Match object; span=(9, 12), match='Mr.'>\n"
     ]
    }
   ],
   "source": [
    "# The \"?\" searches 0 or 1 occurence of preceding expression.\n",
    "string3=\"Welcome! Mr.sudhakar Reddy,Mr.Jayarama Reddy\"\n",
    "print(re.search(r\"Mr.?\",string3))"
   ]
  },
  {
   "cell_type": "code",
   "execution_count": 81,
   "id": "2abd8afd",
   "metadata": {},
   "outputs": [
    {
     "name": "stdout",
     "output_type": "stream",
     "text": [
      "<re.Match object; span=(23, 25), match='dd'>\n"
     ]
    }
   ],
   "source": [
    "# The {n} matches n or more occurence of preceding expression.\n",
    "string3=\"Welcome! Mr.sudhakar Reddy,Mr.Jayarama Reddy\"\n",
    "print(re.search(r\"d{2}\",string3))"
   ]
  },
  {
   "cell_type": "code",
   "execution_count": 87,
   "id": "13ba3121",
   "metadata": {},
   "outputs": [
    {
     "name": "stdout",
     "output_type": "stream",
     "text": [
      "<re.Match object; span=(25, 26), match='y'>\n"
     ]
    }
   ],
   "source": [
    "# The {n,m} matches atleast n or atmost m occurence of preceding expression.\n",
    "string3=\"Welcome! Mr.sudhakar Reddy,Mr.Jayarama Reddy\"\n",
    "print(re.search(r\"y{1,2}\",string3))"
   ]
  },
  {
   "cell_type": "code",
   "execution_count": 90,
   "id": "956a3121",
   "metadata": {},
   "outputs": [
    {
     "name": "stdout",
     "output_type": "stream",
     "text": [
      "None\n"
     ]
    }
   ],
   "source": [
    "# The ^ matches beginning of line\n",
    "string3=\"Welcome! Mr.sudhakar Reddy,Mr.Jayarama Reddy\"\n",
    "print(re.search(r\"^Reddy\",string3))"
   ]
  },
  {
   "cell_type": "code",
   "execution_count": 91,
   "id": "a014ab70",
   "metadata": {},
   "outputs": [
    {
     "name": "stdout",
     "output_type": "stream",
     "text": [
      "<re.Match object; span=(39, 44), match='Reddy'>\n"
     ]
    }
   ],
   "source": [
    "# The $ matches end of line\n",
    "string3=\"Welcome! Mr.sudhakar Reddy,Mr.Jayarama Reddy\"\n",
    "print(re.search(r\"Reddy$\",string3))"
   ]
  },
  {
   "cell_type": "code",
   "execution_count": 93,
   "id": "0f0a2b64",
   "metadata": {},
   "outputs": [
    {
     "name": "stdout",
     "output_type": "stream",
     "text": [
      "<re.Match object; span=(21, 22), match='R'>\n"
     ]
    }
   ],
   "source": [
    "# The | matches either of the 2 letters\n",
    "string3=\"Welcome! Mr.sudhakar Reddy,Mr.Jayarama Reddy\"\n",
    "print(re.search(r\"R|P\",string3))"
   ]
  },
  {
   "cell_type": "code",
   "execution_count": 95,
   "id": "094f2045",
   "metadata": {},
   "outputs": [
    {
     "name": "stdout",
     "output_type": "stream",
     "text": [
      "<re.Match object; span=(12, 13), match='S'>\n",
      "['S', 'R', 'J', 'R']\n"
     ]
    }
   ],
   "source": [
    "# The [] helps to match any single character in brackets \n",
    "string3=\"Welcome! Mr.Sudhakar Reddy,Mr.Jayarama Reddy\"\n",
    "print(re.search(r\"[SRJ]\",string3))\n",
    "print(re.findall(r\"[SRJ]\",string3))"
   ]
  },
  {
   "cell_type": "code",
   "execution_count": 102,
   "id": "3d0b3305",
   "metadata": {},
   "outputs": [
    {
     "name": "stdout",
     "output_type": "stream",
     "text": [
      "<re.Match object; span=(0, 1), match='W'>\n",
      "['W', 'M', 'S', 'R', 'M', 'J', 'R']\n",
      "['e', 'l', 'c', 'o', 'm', 'e', 'r', 'u', 'd', 'h', 'a', 'k', 'a', 'r', 'e', 'd', 'd', 'y', 'r', 'a', 'y', 'a', 'r', 'a', 'm', 'a', 'e', 'd', 'd', 'y']\n"
     ]
    }
   ],
   "source": [
    "# range of letters in [] helps to select 1 letter from a specified range \n",
    "string3=\"Welcome! Mr.Sudhakar Reddy,Mr.Jayarama Reddy\"\n",
    "print(re.search(r\"[A-Z]\",string3))\n",
    "print(re.findall(r\"[A-Z]\",string3))\n",
    "print(re.findall(r\"[a-z]\",string3))"
   ]
  },
  {
   "cell_type": "code",
   "execution_count": 103,
   "id": "3d37e464",
   "metadata": {},
   "outputs": [
    {
     "name": "stdout",
     "output_type": "stream",
     "text": [
      "<re.Match object; span=(7, 8), match='!'>\n",
      "['!', ' ', '.', ' ', ',', '.', ' ']\n"
     ]
    }
   ],
   "source": [
    "# The ^ sign in [] matches any character not in brackets\n",
    "print(re.search(r\"[^A-Za-z]\",string3))\n",
    "print(re.findall(r\"[^A-Za-z]\",string3))"
   ]
  },
  {
   "cell_type": "code",
   "execution_count": 110,
   "id": "3bcf8c14",
   "metadata": {},
   "outputs": [
    {
     "name": "stdout",
     "output_type": "stream",
     "text": [
      "<re.Match object; span=(0, 7), match='Welcome'>\n",
      "<re.Match object; span=(0, 8), match='Welcome!'>\n",
      "<re.Match object; span=(0, 8), match='Welcome!'>\n"
     ]
    }
   ],
   "source": [
    "# The \\w matches alphanumeric characters and + matches group\n",
    "string3=\"Welcome! Mr.Sudhakar Reddy,Mr.Jayarama Reddy\"\n",
    "print(re.search(r\"\\w+\",string3))\n",
    "print(re.search(r\"[\\w\\!]+\",string3))\n",
    "print(re.search(r\"\\w+\\!\",string3))"
   ]
  },
  {
   "cell_type": "code",
   "execution_count": 113,
   "id": "6de78d66",
   "metadata": {},
   "outputs": [
    {
     "name": "stdout",
     "output_type": "stream",
     "text": [
      "<re.Match object; span=(7, 9), match='! '>\n",
      "<re.Match object; span=(0, 2), match='We'>\n",
      "<re.Match object; span=(0, 7), match='Welcome'>\n"
     ]
    }
   ],
   "source": [
    "# The \\W matches non-word characters\n",
    "string3=\"Welcome! Mr.Sudhakar Reddy,Mr.Jayarama Reddy\"\n",
    "print(re.search(r\"\\W+\",string3))\n",
    "print(re.search(r\"(W\\w)\",string3))\n",
    "print(re.search(r\"(W\\w+)\",string3))"
   ]
  },
  {
   "cell_type": "code",
   "execution_count": 114,
   "id": "0b640ac4",
   "metadata": {},
   "outputs": [
    {
     "name": "stdout",
     "output_type": "stream",
     "text": [
      "<re.Match object; span=(9, 20), match='Mr.Sudhakar'>\n",
      "['Mr.Sudhakar', 'Mr.Jayarama']\n"
     ]
    }
   ],
   "source": [
    "# The pattern formed by specific letter and alphanumeric characters\n",
    "print(re.search(r\"(Mr.\\w+)\",string3))\n",
    "print(re.findall(r\"(Mr.\\w+)\",string3))"
   ]
  },
  {
   "cell_type": "code",
   "execution_count": 115,
   "id": "5a04f10a",
   "metadata": {},
   "outputs": [
    {
     "name": "stdout",
     "output_type": "stream",
     "text": [
      "<re.Match object; span=(0, 1), match='W'>\n"
     ]
    }
   ],
   "source": [
    "# The . matches any single line character except new line\n",
    "print(re.search(r\"(.)\",string3))"
   ]
  },
  {
   "cell_type": "code",
   "execution_count": 116,
   "id": "d2374b51",
   "metadata": {},
   "outputs": [
    {
     "name": "stdout",
     "output_type": "stream",
     "text": [
      "<re.Match object; span=(4, 6), match='om'>\n"
     ]
    }
   ],
   "source": [
    "# The .m matches new line also\n",
    "print(re.search(r\"(.m)\",string3))"
   ]
  },
  {
   "cell_type": "code",
   "execution_count": 117,
   "id": "1a777f07",
   "metadata": {},
   "outputs": [
    {
     "name": "stdout",
     "output_type": "stream",
     "text": [
      "['Welcome', '', 'Mr', 'Sudhakar', 'Reddy', 'Mr', 'Jayarama', 'Reddy']\n",
      "<re.Match object; span=(9, 12), match='Mr.'>\n"
     ]
    }
   ],
   "source": [
    "# The \\W matches non-word characters with split()\n",
    "string3=\"Welcome! Mr.Sudhakar Reddy,Mr.Jayarama Reddy\"\n",
    "print(re.split(r\"\\W\",string3))\n",
    "print(re.search(r\"Mr.\",string3))"
   ]
  },
  {
   "cell_type": "code",
   "execution_count": 119,
   "id": "0e724340",
   "metadata": {},
   "outputs": [
    {
     "name": "stdout",
     "output_type": "stream",
     "text": [
      "['W']\n",
      "['W', 't', 'P', 'w']\n"
     ]
    }
   ],
   "source": [
    "# Usage of multiline flages through regular expression\n",
    "string4=\"\"\"Welcome\n",
    "to\n",
    "Python\n",
    "world\"\"\"\n",
    "print(re.findall(r\"^\\w\",string4))\n",
    "print(re.findall(r\"^\\w\",string4,re.MULTILINE))"
   ]
  },
  {
   "cell_type": "code",
   "execution_count": 120,
   "id": "841bfe09",
   "metadata": {},
   "outputs": [
    {
     "name": "stdout",
     "output_type": "stream",
     "text": [
      "searching \"France\" in \"India\"......\n",
      "The country is not present in the list\n",
      "searching \"France\" in \"Russia\"......\n",
      "The country is not present in the list\n",
      "searching \"France\" in \"France\"......\n",
      "The country is present in the list\n",
      "searching \"France\" in \"China\"......\n",
      "The country is not present in the list\n",
      "searching \"France\" in \"USA\"......\n",
      "The country is not present in the list\n",
      "searching \"France\" in \"UK\"......\n",
      "The country is not present in the list\n"
     ]
    }
   ],
   "source": [
    "#Use of search() function from regular expressions\n",
    "countrieslist=['India','Russia','France','China','USA','UK']\n",
    "mystring='France'\n",
    "for country in countrieslist:\n",
    "    print('searching \"%s\" in \"%s\"......'%(mystring,country))\n",
    "    if re.search(country,mystring):\n",
    "        print('The country is present in the list')\n",
    "    else:\n",
    "        print('The country is not present in the list')"
   ]
  },
  {
   "cell_type": "code",
   "execution_count": 122,
   "id": "242bb364",
   "metadata": {},
   "outputs": [
    {
     "name": "stdout",
     "output_type": "stream",
     "text": [
      "The correct email addresses in the string are:\n",
      "123@google.com\n",
      "abc.123@hotmail.com\n",
      "abc_123@yahoomail.com\n"
     ]
    }
   ],
   "source": [
    "# Program to print e-mail address from the given strings\n",
    "\n",
    "mystring1='abc-123@google.com,abc.123,abc.123@hotmail.com,abc_123,abc_123@yahoomail.com'\n",
    "emails=re.findall(r'[\\w\\.-_]+@[\\w\\.-_]+',mystring1)\n",
    "print(\"The correct email addresses in the string are:\")\n",
    "for email in emails:\n",
    "    print(email)"
   ]
  },
  {
   "cell_type": "markdown",
   "id": "c7c72c5d",
   "metadata": {},
   "source": [
    "# Time Module\n",
    "\n",
    "> The time module contains **functions related to time**.The common functions of time module include **clock() and sleep()\n",
    "\n",
    "> **clock()**- The clock() function displays the **current time and returns a floating-point number**,representing the number of seconds after the first call to clock.It is generally used in **representing elapsed time in seconds to measure the time for execution of a particular section**.This function is currently unavailable in the time module so make use of **process_time() or perf_counter()** functions instead\n",
    "\n",
    "> **sleep()**-The sleep() function **suspends the program's execution for a specified number of seconds** and hence is generally used for controlling the speed of graphical animations."
   ]
  },
  {
   "cell_type": "markdown",
   "id": "5a6bf4e5",
   "metadata": {},
   "source": [
    "##### clock()"
   ]
  },
  {
   "cell_type": "code",
   "execution_count": 128,
   "id": "965d0746",
   "metadata": {},
   "outputs": [],
   "source": [
    "import time"
   ]
  },
  {
   "cell_type": "code",
   "execution_count": 146,
   "id": "d6f2b5ac",
   "metadata": {},
   "outputs": [
    {
     "name": "stdout",
     "output_type": "stream",
     "text": [
      "Enter your Name,Age, and Country:  Divya,21,India\n",
      "It took you 0.03125 seconds to respond\n"
     ]
    }
   ],
   "source": [
    "#program showing the utility of process_time()\n",
    "\n",
    "print(\"Enter your Name,Age, and Country: \",end=\" \")\n",
    "start_time=time.process_time()\n",
    "information=input()\n",
    "timetaken=time.process_time()-start_time\n",
    "print(\"It took you\",timetaken,\"seconds to respond\")"
   ]
  },
  {
   "cell_type": "code",
   "execution_count": 147,
   "id": "9cff715a",
   "metadata": {},
   "outputs": [
    {
     "data": {
      "text/plain": [
       "'Thu Mar 10 16:29:48 2022'"
      ]
     },
     "execution_count": 147,
     "metadata": {},
     "output_type": "execute_result"
    }
   ],
   "source": [
    "time.ctime() #displaying current time"
   ]
  },
  {
   "cell_type": "markdown",
   "id": "d566e215",
   "metadata": {},
   "source": [
    "##### sleep()"
   ]
  },
  {
   "cell_type": "code",
   "execution_count": 154,
   "id": "0003e395",
   "metadata": {},
   "outputs": [
    {
     "name": "stdout",
     "output_type": "stream",
     "text": [
      "for  40 Time Taken: 0.03125 seconds.\n",
      "for  36 Time Taken: 0.03125 seconds.\n",
      "for  32 Time Taken: 0.03125 seconds.\n",
      "for  28 Time Taken: 0.03125 seconds.\n",
      "for  24 Time Taken: 0.03125 seconds.\n",
      "for  20 Time Taken: 0.03125 seconds.\n",
      "for  16 Time Taken: 0.03125 seconds.\n",
      "for  12 Time Taken: 0.03125 seconds.\n",
      "for  8 Time Taken: 0.03125 seconds.\n",
      "for  4 Time Taken: 0.03125 seconds.\n"
     ]
    }
   ],
   "source": [
    "#program showing the utility of sleep()\n",
    "\n",
    "for count in range(40,1,-4):\n",
    "    start_time=time.perf_counter()\n",
    "    time.sleep(2)\n",
    "    timetake=time.perf_counter()-start_time\n",
    "    print(\"for \",count,\"Time Taken:\",timetaken,\"seconds.\")"
   ]
  },
  {
   "cell_type": "markdown",
   "id": "8ba01fda",
   "metadata": {},
   "source": [
    "# Datetime Module\n",
    "\n",
    ">This module is related to **date and time** and has some functions such as time() and data(),which helps to store time and date in proper format."
   ]
  },
  {
   "cell_type": "code",
   "execution_count": 155,
   "id": "3f3bead3",
   "metadata": {},
   "outputs": [],
   "source": [
    "import datetime #importing datetime module"
   ]
  },
  {
   "cell_type": "code",
   "execution_count": 159,
   "id": "b9da527e",
   "metadata": {},
   "outputs": [
    {
     "name": "stdout",
     "output_type": "stream",
     "text": [
      "Enter your name: Divu\n",
      "Enter your age: 21\n",
      "Hello!! Divu yow will become 100 year old in the year 79\n",
      "Maximum year is: 9999\n",
      "Minmum year is: 1\n",
      "Time is: 13:40:56\n",
      "Date is: 2018-12-10\n"
     ]
    }
   ],
   "source": [
    "#program showing the utility of date() and time()\n",
    "\n",
    "#Displaying year\n",
    "\n",
    "name=input(\"Enter your name: \")\n",
    "age=int(input(\"Enter your age: \"))\n",
    "todaydate=datetime.datetime.now()\n",
    "print(\"Hello!!\",name,\"yow will become 100 year old in the year\",str(int(100-age)))\n",
    "\n",
    "#Use of Date and Time functions\n",
    "\n",
    "print(\"Maximum year is:\",datetime.MAXYEAR)\n",
    "print(\"Minmum year is:\",datetime.MINYEAR)\n",
    "print(\"Time is:\",datetime.time(13,40,56))\n",
    "print(\"Date is:\",datetime.date(2018,12,10))"
   ]
  },
  {
   "cell_type": "markdown",
   "id": "36681d35",
   "metadata": {},
   "source": [
    "# \"os\" Module\n",
    "\n",
    "> The current working directory can be determined by using **getcwd()** function from \"os\" module.We can also change the path of working directory by using the function **chdir()**. "
   ]
  },
  {
   "cell_type": "code",
   "execution_count": 160,
   "id": "9a9ff1d2",
   "metadata": {},
   "outputs": [],
   "source": [
    "import os #importing \"os\" module"
   ]
  },
  {
   "cell_type": "code",
   "execution_count": 161,
   "id": "d0fa5576",
   "metadata": {},
   "outputs": [
    {
     "data": {
      "text/plain": [
       "'C:\\\\Users\\\\Divya J'"
      ]
     },
     "execution_count": 161,
     "metadata": {},
     "output_type": "execute_result"
    }
   ],
   "source": [
    "#Getting the current working directory\n",
    "os.getcwd()"
   ]
  },
  {
   "cell_type": "code",
   "execution_count": 164,
   "id": "b57d6337",
   "metadata": {},
   "outputs": [],
   "source": [
    "os.chdir('D:') #changing the working directory"
   ]
  },
  {
   "cell_type": "code",
   "execution_count": 165,
   "id": "5875d8e4",
   "metadata": {},
   "outputs": [
    {
     "data": {
      "text/plain": [
       "'D:\\\\'"
      ]
     },
     "execution_count": 165,
     "metadata": {},
     "output_type": "execute_result"
    }
   ],
   "source": [
    "os.getcwd()"
   ]
  },
  {
   "cell_type": "code",
   "execution_count": 166,
   "id": "a1bee577",
   "metadata": {},
   "outputs": [],
   "source": [
    "os.chdir('C:\\\\Users\\\\Divya J')"
   ]
  },
  {
   "cell_type": "code",
   "execution_count": 168,
   "id": "ccbfc575",
   "metadata": {},
   "outputs": [
    {
     "data": {
      "text/plain": [
       "'C:\\\\Users\\\\Divya J'"
      ]
     },
     "execution_count": 168,
     "metadata": {},
     "output_type": "execute_result"
    }
   ],
   "source": [
    "os.getcwd()"
   ]
  },
  {
   "cell_type": "markdown",
   "id": "46d236c6",
   "metadata": {},
   "source": [
    "* * *"
   ]
  },
  {
   "cell_type": "markdown",
   "id": "912aed1f",
   "metadata": {},
   "source": [
    "###### sending whatsapp message using python code"
   ]
  },
  {
   "cell_type": "code",
   "execution_count": 4,
   "id": "24a37a79",
   "metadata": {},
   "outputs": [
    {
     "name": "stdout",
     "output_type": "stream",
     "text": [
      "Collecting pywhatkitNote: you may need to restart the kernel to use updated packages.\n",
      "  Downloading pywhatkit-5.3-py3-none-any.whl (15 kB)\n",
      "Collecting pyautogui\n",
      "  Downloading PyAutoGUI-0.9.53.tar.gz (59 kB)\n",
      "Collecting wikipedia\n",
      "  Downloading wikipedia-1.4.0.tar.gz (27 kB)\n",
      "Requirement already satisfied: Pillow in d:\\divyapython\\lib\\site-packages (from pywhatkit) (8.4.0)\n",
      "Requirement already satisfied: requests in d:\\divyapython\\lib\\site-packages (from pywhatkit) (2.26.0)\n",
      "Collecting pymsgbox\n",
      "  Downloading PyMsgBox-1.0.9.tar.gz (18 kB)\n",
      "\n",
      "  Installing build dependencies: started\n",
      "  Installing build dependencies: finished with status 'done'\n",
      "  Getting requirements to build wheel: started\n",
      "  Getting requirements to build wheel: finished with status 'done'\n",
      "    Preparing wheel metadata: started\n",
      "    Preparing wheel metadata: finished with status 'done'\n",
      "Collecting PyTweening>=1.0.1\n",
      "  Downloading pytweening-1.0.4.tar.gz (14 kB)\n",
      "Collecting pyscreeze>=0.1.21\n",
      "  Downloading PyScreeze-0.1.28.tar.gz (25 kB)\n",
      "  Installing build dependencies: started\n",
      "  Installing build dependencies: finished with status 'done'\n",
      "  Getting requirements to build wheel: started\n",
      "  Getting requirements to build wheel: finished with status 'done'\n",
      "    Preparing wheel metadata: started\n",
      "    Preparing wheel metadata: finished with status 'done'\n",
      "Collecting pygetwindow>=0.0.5\n",
      "  Downloading PyGetWindow-0.0.9.tar.gz (9.7 kB)\n",
      "Collecting mouseinfo\n",
      "  Downloading MouseInfo-0.1.3.tar.gz (10 kB)\n",
      "Collecting pyrect\n",
      "  Downloading PyRect-0.1.4.tar.gz (15 kB)\n",
      "Collecting pyperclip\n",
      "  Downloading pyperclip-1.8.2.tar.gz (20 kB)\n",
      "Requirement already satisfied: urllib3<1.27,>=1.21.1 in d:\\divyapython\\lib\\site-packages (from requests->pywhatkit) (1.26.7)\n",
      "Requirement already satisfied: idna<4,>=2.5 in d:\\divyapython\\lib\\site-packages (from requests->pywhatkit) (3.2)\n",
      "Requirement already satisfied: charset-normalizer~=2.0.0 in d:\\divyapython\\lib\\site-packages (from requests->pywhatkit) (2.0.4)\n",
      "Requirement already satisfied: certifi>=2017.4.17 in d:\\divyapython\\lib\\site-packages (from requests->pywhatkit) (2021.10.8)\n",
      "Requirement already satisfied: beautifulsoup4 in d:\\divyapython\\lib\\site-packages (from wikipedia->pywhatkit) (4.10.0)\n",
      "Requirement already satisfied: soupsieve>1.2 in d:\\divyapython\\lib\\site-packages (from beautifulsoup4->wikipedia->pywhatkit) (2.2.1)\n",
      "Building wheels for collected packages: pyautogui, pygetwindow, pyscreeze, PyTweening, mouseinfo, pymsgbox, pyperclip, pyrect, wikipedia\n",
      "  Building wheel for pyautogui (setup.py): started\n",
      "  Building wheel for pyautogui (setup.py): finished with status 'done'\n",
      "  Created wheel for pyautogui: filename=PyAutoGUI-0.9.53-py3-none-any.whl size=36613 sha256=15a7aaeb25bf115dc0e031ab4d03ab27bc81bf73667492ca5f96d1348d540c93\n",
      "  Stored in directory: c:\\users\\divya j\\appdata\\local\\pip\\cache\\wheels\\d8\\97\\e4\\d2edca92a87d3b5fbfb527264750a17b4ba297b9a7cab6e67f\n",
      "  Building wheel for pygetwindow (setup.py): started\n",
      "  Building wheel for pygetwindow (setup.py): finished with status 'done'\n",
      "  Created wheel for pygetwindow: filename=PyGetWindow-0.0.9-py3-none-any.whl size=11080 sha256=30376bc3940ae9322791a2f4fc5138b1c9149eb33e73a67eaacbbe22f11efdbc\n",
      "  Stored in directory: c:\\users\\divya j\\appdata\\local\\pip\\cache\\wheels\\44\\ab\\20\\423c3a444793767e4e41f8377bc902f77bee212e68dcce85a5\n",
      "  Building wheel for pyscreeze (PEP 517): started\n",
      "  Building wheel for pyscreeze (PEP 517): finished with status 'done'\n",
      "  Created wheel for pyscreeze: filename=PyScreeze-0.1.28-py3-none-any.whl size=13021 sha256=c7d67071daf0105bdd2bff7b1e3263344ad6ec4a87bfe4c3aba4940493412bf7\n",
      "  Stored in directory: c:\\users\\divya j\\appdata\\local\\pip\\cache\\wheels\\a2\\5b\\86\\99f1d8fac5d92de0ccb3f0d4ad15e3f4278baf75a9b0f20b93\n",
      "  Building wheel for PyTweening (setup.py): started\n",
      "  Building wheel for PyTweening (setup.py): finished with status 'done'\n",
      "  Created wheel for PyTweening: filename=pytweening-1.0.4-py3-none-any.whl size=5854 sha256=79890365daf0da5ae5df3356e5e7616be1ec0c72742cac75948672e415d9e49f\n",
      "  Stored in directory: c:\\users\\divya j\\appdata\\local\\pip\\cache\\wheels\\a4\\5d\\d2\\ba4c8f82163233ffaadcf383c1e34d7d92635d357d13e7b78d\n",
      "  Building wheel for mouseinfo (setup.py): started\n",
      "  Building wheel for mouseinfo (setup.py): finished with status 'done'\n",
      "  Created wheel for mouseinfo: filename=MouseInfo-0.1.3-py3-none-any.whl size=10906 sha256=b894e56767a492df0170e9f1ced560b9986c41d16b197f3c1cdb850f703b8f96\n",
      "  Stored in directory: c:\\users\\divya j\\appdata\\local\\pip\\cache\\wheels\\61\\73\\b9\\6fb1131ab36e650206e3aa0ad7a68907b41b32ac2d4f75f543\n",
      "  Building wheel for pymsgbox (PEP 517): started\n",
      "  Building wheel for pymsgbox (PEP 517): finished with status 'done'\n",
      "  Created wheel for pymsgbox: filename=PyMsgBox-1.0.9-py3-none-any.whl size=7420 sha256=4b9828c6fabc208b0db6ba436cbf7436ceab3f91454ebbbfbd4cae468866e88e\n",
      "  Stored in directory: c:\\users\\divya j\\appdata\\local\\pip\\cache\\wheels\\7f\\13\\8c\\584c519464297d9637f9cd29fd1dcdf55e2a2cab225c76a2db\n",
      "  Building wheel for pyperclip (setup.py): started\n",
      "  Building wheel for pyperclip (setup.py): finished with status 'done'\n",
      "  Created wheel for pyperclip: filename=pyperclip-1.8.2-py3-none-any.whl size=11136 sha256=c3fbf9d8367eb4b4c62ab76ee26b00f1062c6e6eceb030b9b86be796dab49eea\n",
      "  Stored in directory: c:\\users\\divya j\\appdata\\local\\pip\\cache\\wheels\\0c\\09\\9e\\49e21a6840ef7955b06d47394afef0058f0378c0914e48b8b8\n",
      "  Building wheel for pyrect (setup.py): started\n",
      "  Building wheel for pyrect (setup.py): finished with status 'done'\n",
      "  Created wheel for pyrect: filename=PyRect-0.1.4-py2.py3-none-any.whl size=9547 sha256=822670adec6056953b453eb509852a6c6d641d6dacd5bf2261c330edcd787cdc\n",
      "  Stored in directory: c:\\users\\divya j\\appdata\\local\\pip\\cache\\wheels\\0e\\d4\\c5\\b7f7be24ac0a168fd03d08afcc7c8928ef05cc1e319d1c136b\n",
      "  Building wheel for wikipedia (setup.py): started\n",
      "  Building wheel for wikipedia (setup.py): finished with status 'done'\n",
      "  Created wheel for wikipedia: filename=wikipedia-1.4.0-py3-none-any.whl size=11696 sha256=d8a57d173e25bed93697cecaf43de7099639a2578948dcd0fda28ce165289c07\n",
      "  Stored in directory: c:\\users\\divya j\\appdata\\local\\pip\\cache\\wheels\\c2\\46\\f4\\caa1bee71096d7b0cdca2f2a2af45cacf35c5760bee8f00948\n",
      "Successfully built pyautogui pygetwindow pyscreeze PyTweening mouseinfo pymsgbox pyperclip pyrect wikipedia\n",
      "Installing collected packages: pyrect, pyperclip, PyTweening, pyscreeze, pymsgbox, pygetwindow, mouseinfo, wikipedia, pyautogui, pywhatkit\n",
      "Successfully installed PyTweening-1.0.4 mouseinfo-0.1.3 pyautogui-0.9.53 pygetwindow-0.0.9 pymsgbox-1.0.9 pyperclip-1.8.2 pyrect-0.1.4 pyscreeze-0.1.28 pywhatkit-5.3 wikipedia-1.4.0\n"
     ]
    }
   ],
   "source": [
    "pip install pywhatkit"
   ]
  },
  {
   "cell_type": "code",
   "execution_count": 1,
   "id": "5f768b0f",
   "metadata": {},
   "outputs": [],
   "source": [
    "import pywhatkit"
   ]
  },
  {
   "cell_type": "code",
   "execution_count": 2,
   "id": "b195d4e3",
   "metadata": {},
   "outputs": [
    {
     "name": "stdout",
     "output_type": "stream",
     "text": [
      "In 140 Seconds WhatsApp will open and after 15 Seconds Message will be Delivered!\n"
     ]
    }
   ],
   "source": [
    "pywhatkit.sendwhatmsg(\"+91*********\",\"Hello from Python\",20,5)"
   ]
  },
  {
   "cell_type": "markdown",
   "id": "1d669802",
   "metadata": {},
   "source": [
    "* * *"
   ]
  },
  {
   "cell_type": "code",
   "execution_count": null,
   "id": "906b05a3",
   "metadata": {},
   "outputs": [],
   "source": []
  },
  {
   "cell_type": "code",
   "execution_count": null,
   "id": "a113495f",
   "metadata": {},
   "outputs": [],
   "source": []
  },
  {
   "cell_type": "code",
   "execution_count": null,
   "id": "ebc558fb",
   "metadata": {},
   "outputs": [],
   "source": []
  },
  {
   "cell_type": "code",
   "execution_count": null,
   "id": "27f90244",
   "metadata": {},
   "outputs": [],
   "source": []
  },
  {
   "cell_type": "code",
   "execution_count": null,
   "id": "55cf7f5f",
   "metadata": {},
   "outputs": [],
   "source": []
  },
  {
   "cell_type": "code",
   "execution_count": null,
   "id": "a99240e5",
   "metadata": {},
   "outputs": [],
   "source": []
  },
  {
   "cell_type": "code",
   "execution_count": null,
   "id": "3e4ed7d8",
   "metadata": {},
   "outputs": [],
   "source": []
  },
  {
   "cell_type": "code",
   "execution_count": null,
   "id": "993f92ce",
   "metadata": {},
   "outputs": [],
   "source": []
  },
  {
   "cell_type": "code",
   "execution_count": null,
   "id": "eec82219",
   "metadata": {},
   "outputs": [],
   "source": []
  },
  {
   "cell_type": "code",
   "execution_count": null,
   "id": "d5ef4b68",
   "metadata": {},
   "outputs": [],
   "source": []
  },
  {
   "cell_type": "code",
   "execution_count": null,
   "id": "4ab91671",
   "metadata": {},
   "outputs": [],
   "source": []
  },
  {
   "cell_type": "code",
   "execution_count": null,
   "id": "ee2626ea",
   "metadata": {},
   "outputs": [],
   "source": []
  },
  {
   "cell_type": "code",
   "execution_count": null,
   "id": "9b8fb98e",
   "metadata": {},
   "outputs": [],
   "source": []
  },
  {
   "cell_type": "code",
   "execution_count": null,
   "id": "7b5c2612",
   "metadata": {},
   "outputs": [],
   "source": []
  },
  {
   "cell_type": "code",
   "execution_count": null,
   "id": "4b77a553",
   "metadata": {},
   "outputs": [],
   "source": []
  },
  {
   "cell_type": "code",
   "execution_count": null,
   "id": "79bfe2be",
   "metadata": {},
   "outputs": [],
   "source": []
  },
  {
   "cell_type": "code",
   "execution_count": null,
   "id": "0e75eefb",
   "metadata": {},
   "outputs": [],
   "source": []
  },
  {
   "cell_type": "code",
   "execution_count": null,
   "id": "fc44ff67",
   "metadata": {},
   "outputs": [],
   "source": []
  },
  {
   "cell_type": "code",
   "execution_count": null,
   "id": "ae5a5d70",
   "metadata": {},
   "outputs": [],
   "source": []
  },
  {
   "cell_type": "code",
   "execution_count": null,
   "id": "e5e87c63",
   "metadata": {},
   "outputs": [],
   "source": []
  },
  {
   "cell_type": "code",
   "execution_count": null,
   "id": "4d187122",
   "metadata": {},
   "outputs": [],
   "source": []
  },
  {
   "cell_type": "code",
   "execution_count": null,
   "id": "07c9fbfd",
   "metadata": {},
   "outputs": [],
   "source": []
  },
  {
   "cell_type": "code",
   "execution_count": null,
   "id": "5e1d3bd4",
   "metadata": {},
   "outputs": [],
   "source": []
  },
  {
   "cell_type": "code",
   "execution_count": null,
   "id": "35dc60d2",
   "metadata": {},
   "outputs": [],
   "source": []
  },
  {
   "cell_type": "code",
   "execution_count": null,
   "id": "bd09209d",
   "metadata": {},
   "outputs": [],
   "source": []
  },
  {
   "cell_type": "code",
   "execution_count": null,
   "id": "2859cb8a",
   "metadata": {},
   "outputs": [],
   "source": []
  },
  {
   "cell_type": "code",
   "execution_count": null,
   "id": "d0a16c2a",
   "metadata": {},
   "outputs": [],
   "source": []
  },
  {
   "cell_type": "code",
   "execution_count": null,
   "id": "1e5a9cba",
   "metadata": {},
   "outputs": [],
   "source": []
  },
  {
   "cell_type": "code",
   "execution_count": null,
   "id": "db201c2c",
   "metadata": {},
   "outputs": [],
   "source": []
  },
  {
   "cell_type": "code",
   "execution_count": null,
   "id": "f31ec51a",
   "metadata": {},
   "outputs": [],
   "source": []
  },
  {
   "cell_type": "code",
   "execution_count": null,
   "id": "953955d5",
   "metadata": {},
   "outputs": [],
   "source": []
  },
  {
   "cell_type": "code",
   "execution_count": null,
   "id": "faf56411",
   "metadata": {},
   "outputs": [],
   "source": []
  },
  {
   "cell_type": "code",
   "execution_count": null,
   "id": "66090d9c",
   "metadata": {},
   "outputs": [],
   "source": []
  },
  {
   "cell_type": "code",
   "execution_count": null,
   "id": "b538ceea",
   "metadata": {},
   "outputs": [],
   "source": []
  },
  {
   "cell_type": "code",
   "execution_count": null,
   "id": "4c054229",
   "metadata": {},
   "outputs": [],
   "source": []
  },
  {
   "cell_type": "code",
   "execution_count": null,
   "id": "9a89e193",
   "metadata": {},
   "outputs": [],
   "source": []
  },
  {
   "cell_type": "code",
   "execution_count": null,
   "id": "8f60cb51",
   "metadata": {},
   "outputs": [],
   "source": []
  },
  {
   "cell_type": "code",
   "execution_count": null,
   "id": "7fb7ddc5",
   "metadata": {},
   "outputs": [],
   "source": []
  },
  {
   "cell_type": "code",
   "execution_count": null,
   "id": "fb31d3f5",
   "metadata": {},
   "outputs": [],
   "source": []
  },
  {
   "cell_type": "code",
   "execution_count": null,
   "id": "9771fde1",
   "metadata": {},
   "outputs": [],
   "source": []
  },
  {
   "cell_type": "code",
   "execution_count": null,
   "id": "fe13ea6a",
   "metadata": {},
   "outputs": [],
   "source": []
  },
  {
   "cell_type": "code",
   "execution_count": null,
   "id": "2568a04c",
   "metadata": {},
   "outputs": [],
   "source": []
  },
  {
   "cell_type": "code",
   "execution_count": null,
   "id": "b9902fe3",
   "metadata": {},
   "outputs": [],
   "source": []
  },
  {
   "cell_type": "code",
   "execution_count": null,
   "id": "65a928ca",
   "metadata": {},
   "outputs": [],
   "source": []
  }
 ],
 "metadata": {
  "kernelspec": {
   "display_name": "Python 3 (ipykernel)",
   "language": "python",
   "name": "python3"
  },
  "language_info": {
   "codemirror_mode": {
    "name": "ipython",
    "version": 3
   },
   "file_extension": ".py",
   "mimetype": "text/x-python",
   "name": "python",
   "nbconvert_exporter": "python",
   "pygments_lexer": "ipython3",
   "version": "3.9.7"
  }
 },
 "nbformat": 4,
 "nbformat_minor": 5
}
