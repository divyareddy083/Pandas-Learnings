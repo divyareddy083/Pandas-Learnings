{
 "cells": [
  {
   "cell_type": "markdown",
   "id": "a679d3a0",
   "metadata": {},
   "source": [
    "### Standard Function"
   ]
  },
  {
   "cell_type": "code",
   "execution_count": 32,
   "id": "f6e6bac9",
   "metadata": {},
   "outputs": [
    {
     "data": {
      "text/plain": [
       "3"
      ]
     },
     "execution_count": 32,
     "metadata": {},
     "output_type": "execute_result"
    }
   ],
   "source": [
    "def func(a,b):\n",
    "    result=a+b\n",
    "    return result\n",
    "\n",
    "func(1,2)"
   ]
  },
  {
   "cell_type": "markdown",
   "id": "0cf9b11e",
   "metadata": {},
   "source": [
    "### Lambda Function"
   ]
  },
  {
   "cell_type": "markdown",
   "id": "8224d6f0",
   "metadata": {},
   "source": [
    "- Lambda function is a function,except that it has no name while defining it\n",
    "- If you have a single expression to be executed ,then the lambda function is extremely useful as compared to traditional function defined using def keyword"
   ]
  },
  {
   "cell_type": "code",
   "execution_count": 33,
   "id": "24f7fcb9",
   "metadata": {},
   "outputs": [],
   "source": [
    "result=lambda a,b:a+b"
   ]
  },
  {
   "cell_type": "code",
   "execution_count": 34,
   "id": "a19e4458",
   "metadata": {},
   "outputs": [
    {
     "data": {
      "text/plain": [
       "3"
      ]
     },
     "execution_count": 34,
     "metadata": {},
     "output_type": "execute_result"
    }
   ],
   "source": [
    "result(1,2)"
   ]
  },
  {
   "cell_type": "code",
   "execution_count": 36,
   "id": "82fb72b4",
   "metadata": {},
   "outputs": [
    {
     "data": {
      "text/plain": [
       "36"
      ]
     },
     "execution_count": 36,
     "metadata": {},
     "output_type": "execute_result"
    }
   ],
   "source": [
    "square_result=lambda a,b:a**2+b**2+(2*a*b)\n",
    "square_result(2,4)"
   ]
  },
  {
   "cell_type": "code",
   "execution_count": 31,
   "id": "d9d4250c",
   "metadata": {},
   "outputs": [],
   "source": [
    "def cube_func(n):\n",
    "    l=[]\n",
    "    for i in range(n):\n",
    "        l.append(i**3)\n",
    "    return l"
   ]
  },
  {
   "cell_type": "code",
   "execution_count": 23,
   "id": "c59c4bfa",
   "metadata": {},
   "outputs": [
    {
     "data": {
      "text/plain": [
       "[0,\n",
       " 1,\n",
       " 8,\n",
       " 27,\n",
       " 64,\n",
       " 125,\n",
       " 216,\n",
       " 343,\n",
       " 512,\n",
       " 729,\n",
       " 1000,\n",
       " 1331,\n",
       " 1728,\n",
       " 2197,\n",
       " 2744,\n",
       " 3375,\n",
       " 4096,\n",
       " 4913,\n",
       " 5832,\n",
       " 6859,\n",
       " 8000,\n",
       " 9261,\n",
       " 10648,\n",
       " 12167,\n",
       " 13824,\n",
       " 15625,\n",
       " 17576,\n",
       " 19683,\n",
       " 21952,\n",
       " 24389,\n",
       " 27000,\n",
       " 29791,\n",
       " 32768,\n",
       " 35937,\n",
       " 39304,\n",
       " 42875,\n",
       " 46656,\n",
       " 50653,\n",
       " 54872,\n",
       " 59319,\n",
       " 64000,\n",
       " 68921,\n",
       " 74088,\n",
       " 79507,\n",
       " 85184,\n",
       " 91125,\n",
       " 97336,\n",
       " 103823,\n",
       " 110592,\n",
       " 117649,\n",
       " 125000,\n",
       " 132651,\n",
       " 140608,\n",
       " 148877,\n",
       " 157464,\n",
       " 166375,\n",
       " 175616,\n",
       " 185193,\n",
       " 195112,\n",
       " 205379,\n",
       " 216000,\n",
       " 226981,\n",
       " 238328,\n",
       " 250047,\n",
       " 262144,\n",
       " 274625,\n",
       " 287496,\n",
       " 300763,\n",
       " 314432,\n",
       " 328509,\n",
       " 343000,\n",
       " 357911,\n",
       " 373248,\n",
       " 389017,\n",
       " 405224,\n",
       " 421875,\n",
       " 438976,\n",
       " 456533,\n",
       " 474552,\n",
       " 493039,\n",
       " 512000,\n",
       " 531441,\n",
       " 551368,\n",
       " 571787,\n",
       " 592704,\n",
       " 614125,\n",
       " 636056,\n",
       " 658503,\n",
       " 681472,\n",
       " 704969,\n",
       " 729000,\n",
       " 753571,\n",
       " 778688,\n",
       " 804357,\n",
       " 830584,\n",
       " 857375,\n",
       " 884736,\n",
       " 912673,\n",
       " 941192,\n",
       " 970299,\n",
       " 1000000,\n",
       " 1030301,\n",
       " 1061208,\n",
       " 1092727,\n",
       " 1124864,\n",
       " 1157625,\n",
       " 1191016,\n",
       " 1225043,\n",
       " 1259712,\n",
       " 1295029,\n",
       " 1331000,\n",
       " 1367631,\n",
       " 1404928,\n",
       " 1442897,\n",
       " 1481544,\n",
       " 1520875,\n",
       " 1560896,\n",
       " 1601613,\n",
       " 1643032,\n",
       " 1685159,\n",
       " 1728000,\n",
       " 1771561,\n",
       " 1815848,\n",
       " 1860867,\n",
       " 1906624,\n",
       " 1953125,\n",
       " 2000376,\n",
       " 2048383,\n",
       " 2097152,\n",
       " 2146689,\n",
       " 2197000,\n",
       " 2248091,\n",
       " 2299968,\n",
       " 2352637,\n",
       " 2406104,\n",
       " 2460375,\n",
       " 2515456,\n",
       " 2571353,\n",
       " 2628072,\n",
       " 2685619,\n",
       " 2744000,\n",
       " 2803221,\n",
       " 2863288,\n",
       " 2924207,\n",
       " 2985984,\n",
       " 3048625,\n",
       " 3112136,\n",
       " 3176523,\n",
       " 3241792,\n",
       " 3307949,\n",
       " 3375000,\n",
       " 3442951,\n",
       " 3511808,\n",
       " 3581577,\n",
       " 3652264,\n",
       " 3723875,\n",
       " 3796416,\n",
       " 3869893,\n",
       " 3944312,\n",
       " 4019679,\n",
       " 4096000,\n",
       " 4173281,\n",
       " 4251528,\n",
       " 4330747,\n",
       " 4410944,\n",
       " 4492125,\n",
       " 4574296,\n",
       " 4657463,\n",
       " 4741632,\n",
       " 4826809,\n",
       " 4913000,\n",
       " 5000211,\n",
       " 5088448,\n",
       " 5177717,\n",
       " 5268024,\n",
       " 5359375,\n",
       " 5451776,\n",
       " 5545233,\n",
       " 5639752,\n",
       " 5735339,\n",
       " 5832000,\n",
       " 5929741,\n",
       " 6028568,\n",
       " 6128487,\n",
       " 6229504,\n",
       " 6331625,\n",
       " 6434856,\n",
       " 6539203,\n",
       " 6644672,\n",
       " 6751269,\n",
       " 6859000,\n",
       " 6967871,\n",
       " 7077888,\n",
       " 7189057,\n",
       " 7301384,\n",
       " 7414875,\n",
       " 7529536,\n",
       " 7645373,\n",
       " 7762392,\n",
       " 7880599,\n",
       " 8000000,\n",
       " 8120601,\n",
       " 8242408,\n",
       " 8365427,\n",
       " 8489664,\n",
       " 8615125,\n",
       " 8741816,\n",
       " 8869743,\n",
       " 8998912,\n",
       " 9129329,\n",
       " 9261000,\n",
       " 9393931,\n",
       " 9528128,\n",
       " 9663597,\n",
       " 9800344,\n",
       " 9938375,\n",
       " 10077696,\n",
       " 10218313,\n",
       " 10360232,\n",
       " 10503459,\n",
       " 10648000,\n",
       " 10793861,\n",
       " 10941048,\n",
       " 11089567,\n",
       " 11239424,\n",
       " 11390625,\n",
       " 11543176,\n",
       " 11697083,\n",
       " 11852352,\n",
       " 12008989,\n",
       " 12167000,\n",
       " 12326391,\n",
       " 12487168,\n",
       " 12649337,\n",
       " 12812904,\n",
       " 12977875,\n",
       " 13144256,\n",
       " 13312053,\n",
       " 13481272,\n",
       " 13651919,\n",
       " 13824000,\n",
       " 13997521,\n",
       " 14172488,\n",
       " 14348907,\n",
       " 14526784,\n",
       " 14706125,\n",
       " 14886936,\n",
       " 15069223,\n",
       " 15252992,\n",
       " 15438249,\n",
       " 15625000,\n",
       " 15813251,\n",
       " 16003008,\n",
       " 16194277,\n",
       " 16387064,\n",
       " 16581375,\n",
       " 16777216,\n",
       " 16974593,\n",
       " 17173512,\n",
       " 17373979,\n",
       " 17576000,\n",
       " 17779581,\n",
       " 17984728,\n",
       " 18191447,\n",
       " 18399744,\n",
       " 18609625,\n",
       " 18821096,\n",
       " 19034163,\n",
       " 19248832,\n",
       " 19465109,\n",
       " 19683000,\n",
       " 19902511,\n",
       " 20123648,\n",
       " 20346417,\n",
       " 20570824,\n",
       " 20796875,\n",
       " 21024576,\n",
       " 21253933,\n",
       " 21484952,\n",
       " 21717639,\n",
       " 21952000,\n",
       " 22188041,\n",
       " 22425768,\n",
       " 22665187,\n",
       " 22906304,\n",
       " 23149125,\n",
       " 23393656,\n",
       " 23639903,\n",
       " 23887872,\n",
       " 24137569,\n",
       " 24389000,\n",
       " 24642171,\n",
       " 24897088,\n",
       " 25153757,\n",
       " 25412184,\n",
       " 25672375,\n",
       " 25934336,\n",
       " 26198073,\n",
       " 26463592,\n",
       " 26730899,\n",
       " 27000000,\n",
       " 27270901,\n",
       " 27543608,\n",
       " 27818127,\n",
       " 28094464,\n",
       " 28372625,\n",
       " 28652616,\n",
       " 28934443,\n",
       " 29218112,\n",
       " 29503629,\n",
       " 29791000,\n",
       " 30080231,\n",
       " 30371328,\n",
       " 30664297,\n",
       " 30959144,\n",
       " 31255875,\n",
       " 31554496,\n",
       " 31855013,\n",
       " 32157432,\n",
       " 32461759,\n",
       " 32768000,\n",
       " 33076161,\n",
       " 33386248,\n",
       " 33698267,\n",
       " 34012224,\n",
       " 34328125,\n",
       " 34645976,\n",
       " 34965783,\n",
       " 35287552,\n",
       " 35611289,\n",
       " 35937000,\n",
       " 36264691,\n",
       " 36594368,\n",
       " 36926037,\n",
       " 37259704,\n",
       " 37595375,\n",
       " 37933056,\n",
       " 38272753,\n",
       " 38614472,\n",
       " 38958219,\n",
       " 39304000,\n",
       " 39651821,\n",
       " 40001688,\n",
       " 40353607,\n",
       " 40707584,\n",
       " 41063625,\n",
       " 41421736,\n",
       " 41781923,\n",
       " 42144192,\n",
       " 42508549,\n",
       " 42875000,\n",
       " 43243551,\n",
       " 43614208,\n",
       " 43986977,\n",
       " 44361864,\n",
       " 44738875,\n",
       " 45118016,\n",
       " 45499293,\n",
       " 45882712,\n",
       " 46268279,\n",
       " 46656000,\n",
       " 47045881,\n",
       " 47437928,\n",
       " 47832147,\n",
       " 48228544,\n",
       " 48627125,\n",
       " 49027896,\n",
       " 49430863,\n",
       " 49836032,\n",
       " 50243409,\n",
       " 50653000,\n",
       " 51064811,\n",
       " 51478848,\n",
       " 51895117,\n",
       " 52313624,\n",
       " 52734375,\n",
       " 53157376,\n",
       " 53582633,\n",
       " 54010152,\n",
       " 54439939,\n",
       " 54872000,\n",
       " 55306341,\n",
       " 55742968,\n",
       " 56181887,\n",
       " 56623104,\n",
       " 57066625,\n",
       " 57512456,\n",
       " 57960603,\n",
       " 58411072,\n",
       " 58863869,\n",
       " 59319000,\n",
       " 59776471,\n",
       " 60236288,\n",
       " 60698457,\n",
       " 61162984,\n",
       " 61629875,\n",
       " 62099136,\n",
       " 62570773,\n",
       " 63044792,\n",
       " 63521199,\n",
       " 64000000,\n",
       " 64481201,\n",
       " 64964808,\n",
       " 65450827,\n",
       " 65939264,\n",
       " 66430125,\n",
       " 66923416,\n",
       " 67419143,\n",
       " 67917312,\n",
       " 68417929,\n",
       " 68921000,\n",
       " 69426531,\n",
       " 69934528,\n",
       " 70444997,\n",
       " 70957944,\n",
       " 71473375,\n",
       " 71991296,\n",
       " 72511713,\n",
       " 73034632,\n",
       " 73560059,\n",
       " 74088000,\n",
       " 74618461,\n",
       " 75151448,\n",
       " 75686967,\n",
       " 76225024,\n",
       " 76765625,\n",
       " 77308776,\n",
       " 77854483,\n",
       " 78402752,\n",
       " 78953589,\n",
       " 79507000,\n",
       " 80062991,\n",
       " 80621568,\n",
       " 81182737,\n",
       " 81746504,\n",
       " 82312875,\n",
       " 82881856,\n",
       " 83453453,\n",
       " 84027672,\n",
       " 84604519,\n",
       " 85184000,\n",
       " 85766121,\n",
       " 86350888,\n",
       " 86938307,\n",
       " 87528384,\n",
       " 88121125,\n",
       " 88716536,\n",
       " 89314623,\n",
       " 89915392,\n",
       " 90518849,\n",
       " 91125000,\n",
       " 91733851,\n",
       " 92345408,\n",
       " 92959677,\n",
       " 93576664,\n",
       " 94196375,\n",
       " 94818816,\n",
       " 95443993,\n",
       " 96071912,\n",
       " 96702579,\n",
       " 97336000,\n",
       " 97972181,\n",
       " 98611128,\n",
       " 99252847,\n",
       " 99897344,\n",
       " 100544625,\n",
       " 101194696,\n",
       " 101847563,\n",
       " 102503232,\n",
       " 103161709,\n",
       " 103823000,\n",
       " 104487111,\n",
       " 105154048,\n",
       " 105823817,\n",
       " 106496424,\n",
       " 107171875,\n",
       " 107850176,\n",
       " 108531333,\n",
       " 109215352,\n",
       " 109902239,\n",
       " 110592000,\n",
       " 111284641,\n",
       " 111980168,\n",
       " 112678587,\n",
       " 113379904,\n",
       " 114084125,\n",
       " 114791256,\n",
       " 115501303,\n",
       " 116214272,\n",
       " 116930169,\n",
       " 117649000,\n",
       " 118370771,\n",
       " 119095488,\n",
       " 119823157,\n",
       " 120553784,\n",
       " 121287375,\n",
       " 122023936,\n",
       " 122763473,\n",
       " 123505992,\n",
       " 124251499,\n",
       " 125000000,\n",
       " 125751501,\n",
       " 126506008,\n",
       " 127263527,\n",
       " 128024064,\n",
       " 128787625,\n",
       " 129554216,\n",
       " 130323843,\n",
       " 131096512,\n",
       " 131872229,\n",
       " 132651000,\n",
       " 133432831,\n",
       " 134217728,\n",
       " 135005697,\n",
       " 135796744,\n",
       " 136590875,\n",
       " 137388096,\n",
       " 138188413,\n",
       " 138991832,\n",
       " 139798359,\n",
       " 140608000,\n",
       " 141420761,\n",
       " 142236648,\n",
       " 143055667,\n",
       " 143877824,\n",
       " 144703125,\n",
       " 145531576,\n",
       " 146363183,\n",
       " 147197952,\n",
       " 148035889,\n",
       " 148877000,\n",
       " 149721291,\n",
       " 150568768,\n",
       " 151419437,\n",
       " 152273304,\n",
       " 153130375,\n",
       " 153990656,\n",
       " 154854153,\n",
       " 155720872,\n",
       " 156590819,\n",
       " 157464000,\n",
       " 158340421,\n",
       " 159220088,\n",
       " 160103007,\n",
       " 160989184,\n",
       " 161878625,\n",
       " 162771336,\n",
       " 163667323,\n",
       " 164566592,\n",
       " 165469149,\n",
       " 166375000,\n",
       " 167284151,\n",
       " 168196608,\n",
       " 169112377,\n",
       " 170031464,\n",
       " 170953875,\n",
       " 171879616,\n",
       " 172808693,\n",
       " 173741112,\n",
       " 174676879,\n",
       " 175616000,\n",
       " 176558481,\n",
       " 177504328,\n",
       " 178453547,\n",
       " 179406144,\n",
       " 180362125,\n",
       " 181321496,\n",
       " 182284263,\n",
       " 183250432,\n",
       " 184220009,\n",
       " 185193000,\n",
       " 186169411,\n",
       " 187149248,\n",
       " 188132517,\n",
       " 189119224,\n",
       " 190109375,\n",
       " 191102976,\n",
       " 192100033,\n",
       " 193100552,\n",
       " 194104539,\n",
       " 195112000,\n",
       " 196122941,\n",
       " 197137368,\n",
       " 198155287,\n",
       " 199176704,\n",
       " 200201625,\n",
       " 201230056,\n",
       " 202262003,\n",
       " 203297472,\n",
       " 204336469,\n",
       " 205379000,\n",
       " 206425071,\n",
       " 207474688,\n",
       " 208527857,\n",
       " 209584584,\n",
       " 210644875,\n",
       " 211708736,\n",
       " 212776173,\n",
       " 213847192,\n",
       " 214921799,\n",
       " 216000000,\n",
       " 217081801,\n",
       " 218167208,\n",
       " 219256227,\n",
       " 220348864,\n",
       " 221445125,\n",
       " 222545016,\n",
       " 223648543,\n",
       " 224755712,\n",
       " 225866529,\n",
       " 226981000,\n",
       " 228099131,\n",
       " 229220928,\n",
       " 230346397,\n",
       " 231475544,\n",
       " 232608375,\n",
       " 233744896,\n",
       " 234885113,\n",
       " 236029032,\n",
       " 237176659,\n",
       " 238328000,\n",
       " 239483061,\n",
       " 240641848,\n",
       " 241804367,\n",
       " 242970624,\n",
       " 244140625,\n",
       " 245314376,\n",
       " 246491883,\n",
       " 247673152,\n",
       " 248858189,\n",
       " 250047000,\n",
       " 251239591,\n",
       " 252435968,\n",
       " 253636137,\n",
       " 254840104,\n",
       " 256047875,\n",
       " 257259456,\n",
       " 258474853,\n",
       " 259694072,\n",
       " 260917119,\n",
       " 262144000,\n",
       " 263374721,\n",
       " 264609288,\n",
       " 265847707,\n",
       " 267089984,\n",
       " 268336125,\n",
       " 269586136,\n",
       " 270840023,\n",
       " 272097792,\n",
       " 273359449,\n",
       " 274625000,\n",
       " 275894451,\n",
       " 277167808,\n",
       " 278445077,\n",
       " 279726264,\n",
       " 281011375,\n",
       " 282300416,\n",
       " 283593393,\n",
       " 284890312,\n",
       " 286191179,\n",
       " 287496000,\n",
       " 288804781,\n",
       " 290117528,\n",
       " 291434247,\n",
       " 292754944,\n",
       " 294079625,\n",
       " 295408296,\n",
       " 296740963,\n",
       " 298077632,\n",
       " 299418309,\n",
       " 300763000,\n",
       " 302111711,\n",
       " 303464448,\n",
       " 304821217,\n",
       " 306182024,\n",
       " 307546875,\n",
       " 308915776,\n",
       " 310288733,\n",
       " 311665752,\n",
       " 313046839,\n",
       " 314432000,\n",
       " 315821241,\n",
       " 317214568,\n",
       " 318611987,\n",
       " 320013504,\n",
       " 321419125,\n",
       " 322828856,\n",
       " 324242703,\n",
       " 325660672,\n",
       " 327082769,\n",
       " 328509000,\n",
       " 329939371,\n",
       " 331373888,\n",
       " 332812557,\n",
       " 334255384,\n",
       " 335702375,\n",
       " 337153536,\n",
       " 338608873,\n",
       " 340068392,\n",
       " 341532099,\n",
       " 343000000,\n",
       " 344472101,\n",
       " 345948408,\n",
       " 347428927,\n",
       " 348913664,\n",
       " 350402625,\n",
       " 351895816,\n",
       " 353393243,\n",
       " 354894912,\n",
       " 356400829,\n",
       " 357911000,\n",
       " 359425431,\n",
       " 360944128,\n",
       " 362467097,\n",
       " 363994344,\n",
       " 365525875,\n",
       " 367061696,\n",
       " 368601813,\n",
       " 370146232,\n",
       " 371694959,\n",
       " 373248000,\n",
       " 374805361,\n",
       " 376367048,\n",
       " 377933067,\n",
       " 379503424,\n",
       " 381078125,\n",
       " 382657176,\n",
       " 384240583,\n",
       " 385828352,\n",
       " 387420489,\n",
       " 389017000,\n",
       " 390617891,\n",
       " 392223168,\n",
       " 393832837,\n",
       " 395446904,\n",
       " 397065375,\n",
       " 398688256,\n",
       " 400315553,\n",
       " 401947272,\n",
       " 403583419,\n",
       " 405224000,\n",
       " 406869021,\n",
       " 408518488,\n",
       " 410172407,\n",
       " 411830784,\n",
       " 413493625,\n",
       " 415160936,\n",
       " 416832723,\n",
       " 418508992,\n",
       " 420189749,\n",
       " 421875000,\n",
       " 423564751,\n",
       " 425259008,\n",
       " 426957777,\n",
       " 428661064,\n",
       " 430368875,\n",
       " 432081216,\n",
       " 433798093,\n",
       " 435519512,\n",
       " 437245479,\n",
       " 438976000,\n",
       " 440711081,\n",
       " 442450728,\n",
       " 444194947,\n",
       " 445943744,\n",
       " 447697125,\n",
       " 449455096,\n",
       " 451217663,\n",
       " 452984832,\n",
       " 454756609,\n",
       " 456533000,\n",
       " 458314011,\n",
       " 460099648,\n",
       " 461889917,\n",
       " 463684824,\n",
       " 465484375,\n",
       " 467288576,\n",
       " 469097433,\n",
       " 470910952,\n",
       " 472729139,\n",
       " 474552000,\n",
       " 476379541,\n",
       " 478211768,\n",
       " 480048687,\n",
       " 481890304,\n",
       " 483736625,\n",
       " 485587656,\n",
       " 487443403,\n",
       " 489303872,\n",
       " 491169069,\n",
       " 493039000,\n",
       " 494913671,\n",
       " 496793088,\n",
       " 498677257,\n",
       " 500566184,\n",
       " 502459875,\n",
       " 504358336,\n",
       " 506261573,\n",
       " 508169592,\n",
       " 510082399,\n",
       " 512000000,\n",
       " 513922401,\n",
       " 515849608,\n",
       " 517781627,\n",
       " 519718464,\n",
       " 521660125,\n",
       " 523606616,\n",
       " 525557943,\n",
       " 527514112,\n",
       " 529475129,\n",
       " 531441000,\n",
       " 533411731,\n",
       " 535387328,\n",
       " 537367797,\n",
       " 539353144,\n",
       " 541343375,\n",
       " 543338496,\n",
       " 545338513,\n",
       " 547343432,\n",
       " 549353259,\n",
       " 551368000,\n",
       " 553387661,\n",
       " 555412248,\n",
       " 557441767,\n",
       " 559476224,\n",
       " 561515625,\n",
       " 563559976,\n",
       " 565609283,\n",
       " 567663552,\n",
       " 569722789,\n",
       " 571787000,\n",
       " 573856191,\n",
       " 575930368,\n",
       " 578009537,\n",
       " 580093704,\n",
       " 582182875,\n",
       " 584277056,\n",
       " 586376253,\n",
       " 588480472,\n",
       " 590589719,\n",
       " 592704000,\n",
       " 594823321,\n",
       " 596947688,\n",
       " 599077107,\n",
       " 601211584,\n",
       " 603351125,\n",
       " 605495736,\n",
       " 607645423,\n",
       " 609800192,\n",
       " 611960049,\n",
       " 614125000,\n",
       " 616295051,\n",
       " 618470208,\n",
       " 620650477,\n",
       " 622835864,\n",
       " 625026375,\n",
       " 627222016,\n",
       " 629422793,\n",
       " 631628712,\n",
       " 633839779,\n",
       " 636056000,\n",
       " 638277381,\n",
       " 640503928,\n",
       " 642735647,\n",
       " 644972544,\n",
       " 647214625,\n",
       " 649461896,\n",
       " 651714363,\n",
       " 653972032,\n",
       " 656234909,\n",
       " 658503000,\n",
       " 660776311,\n",
       " 663054848,\n",
       " 665338617,\n",
       " 667627624,\n",
       " 669921875,\n",
       " 672221376,\n",
       " 674526133,\n",
       " 676836152,\n",
       " 679151439,\n",
       " 681472000,\n",
       " 683797841,\n",
       " 686128968,\n",
       " 688465387,\n",
       " 690807104,\n",
       " 693154125,\n",
       " 695506456,\n",
       " 697864103,\n",
       " 700227072,\n",
       " 702595369,\n",
       " 704969000,\n",
       " 707347971,\n",
       " 709732288,\n",
       " 712121957,\n",
       " 714516984,\n",
       " 716917375,\n",
       " 719323136,\n",
       " 721734273,\n",
       " 724150792,\n",
       " 726572699,\n",
       " 729000000,\n",
       " 731432701,\n",
       " 733870808,\n",
       " 736314327,\n",
       " 738763264,\n",
       " 741217625,\n",
       " 743677416,\n",
       " 746142643,\n",
       " 748613312,\n",
       " 751089429,\n",
       " 753571000,\n",
       " 756058031,\n",
       " 758550528,\n",
       " 761048497,\n",
       " 763551944,\n",
       " 766060875,\n",
       " 768575296,\n",
       " 771095213,\n",
       " 773620632,\n",
       " 776151559,\n",
       " 778688000,\n",
       " 781229961,\n",
       " 783777448,\n",
       " 786330467,\n",
       " 788889024,\n",
       " 791453125,\n",
       " 794022776,\n",
       " 796597983,\n",
       " 799178752,\n",
       " 801765089,\n",
       " 804357000,\n",
       " 806954491,\n",
       " 809557568,\n",
       " 812166237,\n",
       " 814780504,\n",
       " 817400375,\n",
       " 820025856,\n",
       " 822656953,\n",
       " 825293672,\n",
       " 827936019,\n",
       " 830584000,\n",
       " 833237621,\n",
       " 835896888,\n",
       " 838561807,\n",
       " 841232384,\n",
       " 843908625,\n",
       " 846590536,\n",
       " 849278123,\n",
       " 851971392,\n",
       " 854670349,\n",
       " 857375000,\n",
       " 860085351,\n",
       " 862801408,\n",
       " 865523177,\n",
       " 868250664,\n",
       " 870983875,\n",
       " 873722816,\n",
       " 876467493,\n",
       " 879217912,\n",
       " 881974079,\n",
       " 884736000,\n",
       " 887503681,\n",
       " 890277128,\n",
       " 893056347,\n",
       " 895841344,\n",
       " 898632125,\n",
       " 901428696,\n",
       " 904231063,\n",
       " 907039232,\n",
       " 909853209,\n",
       " 912673000,\n",
       " 915498611,\n",
       " 918330048,\n",
       " 921167317,\n",
       " 924010424,\n",
       " 926859375,\n",
       " 929714176,\n",
       " 932574833,\n",
       " 935441352,\n",
       " 938313739,\n",
       " 941192000,\n",
       " 944076141,\n",
       " 946966168,\n",
       " 949862087,\n",
       " 952763904,\n",
       " 955671625,\n",
       " 958585256,\n",
       " 961504803,\n",
       " 964430272,\n",
       " 967361669,\n",
       " 970299000,\n",
       " 973242271,\n",
       " 976191488,\n",
       " 979146657,\n",
       " 982107784,\n",
       " 985074875,\n",
       " 988047936,\n",
       " 991026973,\n",
       " 994011992,\n",
       " 997002999,\n",
       " ...]"
      ]
     },
     "execution_count": 23,
     "metadata": {},
     "output_type": "execute_result"
    }
   ],
   "source": [
    "cube_func(3000000)"
   ]
  },
  {
   "cell_type": "code",
   "execution_count": null,
   "id": "5893428c",
   "metadata": {},
   "outputs": [],
   "source": [
    "#cube_func(60000000000)"
   ]
  },
  {
   "cell_type": "markdown",
   "id": "49f6ccb0",
   "metadata": {},
   "source": [
    "In the above function the function is taking a huge amount of time to return the result ,since the n value is high the for loop keeps on executing and appending the values to the list (i.e., to the same memory location ) and will not be able to return the result untill the entire list is generated hence even though the function holds a simple calculation it takes a huge amount of time to return the list because it is wating for the final list to return .To overcome this scenario we use generator function \n",
    "using yield operator"
   ]
  },
  {
   "cell_type": "markdown",
   "id": "839614c5",
   "metadata": {},
   "source": [
    "### Generators"
   ]
  },
  {
   "cell_type": "markdown",
   "id": "2cb0d0fd",
   "metadata": {},
   "source": [
    "- Python generators are the functions that are similar to normal functions defined using def keyword but uses yield statement instead of return statement.\n",
    "- A generator function returns the generator object with a sequence of elements,which can iterate over.\n",
    "- Elements in generator object an be accessed either by using next() function or using a for loop"
   ]
  },
  {
   "cell_type": "code",
   "execution_count": 25,
   "id": "c69662d5",
   "metadata": {},
   "outputs": [],
   "source": [
    "def cube_func(n):\n",
    "    for i in range(n):\n",
    "        yield i**3"
   ]
  },
  {
   "cell_type": "code",
   "execution_count": 26,
   "id": "0fb7a74f",
   "metadata": {},
   "outputs": [
    {
     "data": {
      "text/plain": [
       "<generator object cube_func at 0x00000236EA8816D0>"
      ]
     },
     "execution_count": 26,
     "metadata": {},
     "output_type": "execute_result"
    }
   ],
   "source": [
    "cube_func(30)"
   ]
  },
  {
   "cell_type": "markdown",
   "id": "d2d4680f",
   "metadata": {},
   "source": [
    "The above function is created an generator object it is having the information of the function what it has done and what it has resulted but not showing the result .This is something similar to range()"
   ]
  },
  {
   "cell_type": "code",
   "execution_count": 28,
   "id": "fd9e636e",
   "metadata": {},
   "outputs": [
    {
     "data": {
      "text/plain": [
       "range(0, 5)"
      ]
     },
     "execution_count": 28,
     "metadata": {},
     "output_type": "execute_result"
    }
   ],
   "source": [
    "range(0,5) # even this is holding the values between 0-5 but it is not displaying all the values to us "
   ]
  },
  {
   "cell_type": "code",
   "execution_count": 29,
   "id": "ad815af9",
   "metadata": {},
   "outputs": [
    {
     "name": "stdout",
     "output_type": "stream",
     "text": [
      "0\n",
      "1\n",
      "2\n",
      "3\n",
      "4\n"
     ]
    }
   ],
   "source": [
    "# to know all the values we use a for loop now\n",
    "for i in range(0,5):\n",
    "    print(i)"
   ]
  },
  {
   "cell_type": "code",
   "execution_count": 30,
   "id": "f6cea21c",
   "metadata": {},
   "outputs": [
    {
     "name": "stdout",
     "output_type": "stream",
     "text": [
      "0\n",
      "1\n",
      "8\n",
      "27\n",
      "64\n",
      "125\n",
      "216\n",
      "343\n",
      "512\n",
      "729\n",
      "1000\n",
      "1331\n",
      "1728\n",
      "2197\n",
      "2744\n",
      "3375\n",
      "4096\n",
      "4913\n",
      "5832\n",
      "6859\n",
      "8000\n",
      "9261\n",
      "10648\n",
      "12167\n",
      "13824\n",
      "15625\n",
      "17576\n",
      "19683\n",
      "21952\n",
      "24389\n"
     ]
    }
   ],
   "source": [
    "#In the similar way the generator function also stores values, we can access all the elements of the object using for loop\n",
    "for i in cube_func(30):\n",
    "    print(i)"
   ]
  },
  {
   "cell_type": "code",
   "execution_count": 40,
   "id": "337cbc80",
   "metadata": {},
   "outputs": [],
   "source": [
    "#accessing using next\n",
    "def func():\n",
    "    yield 'Hello'\n",
    "    yield 'World'"
   ]
  },
  {
   "cell_type": "code",
   "execution_count": 43,
   "id": "53937262",
   "metadata": {},
   "outputs": [
    {
     "name": "stdout",
     "output_type": "stream",
     "text": [
      "Hello\n",
      "World\n"
     ]
    }
   ],
   "source": [
    "func_result=func()\n",
    "print(next(func_result))\n",
    "print(next(func_result))"
   ]
  },
  {
   "cell_type": "markdown",
   "id": "6b1f3ff1",
   "metadata": {},
   "source": [
    "In Generators it does not wait untill the final list is generated,it keeps on printing the result sequentially"
   ]
  },
  {
   "cell_type": "markdown",
   "id": "d6430737",
   "metadata": {},
   "source": [
    "### Generator Expression"
   ]
  },
  {
   "cell_type": "markdown",
   "id": "5a04090e",
   "metadata": {},
   "source": [
    "- Generator expresion provides an easy and concise way to create generators without defining the generator fuction.\n",
    "- Generator expresion is similar to list comprehension in python.But the only defference is that it uses round paranthesis instead of square brackets\n",
    "- A list comprehension produces the entire list,whereas the generator expression doesn't produce immediate result instead it returns the generator object and produces one item at a time(only when asked for)"
   ]
  },
  {
   "cell_type": "markdown",
   "id": "f64a0a9b",
   "metadata": {},
   "source": [
    "#### List Comprehension"
   ]
  },
  {
   "cell_type": "code",
   "execution_count": 45,
   "id": "4ae4d6b4",
   "metadata": {},
   "outputs": [
    {
     "data": {
      "text/plain": [
       "[1, 4, 9, 16, 25]"
      ]
     },
     "execution_count": 45,
     "metadata": {},
     "output_type": "execute_result"
    }
   ],
   "source": [
    "L=[1,2,3,4,5]\n",
    "L_comprehension=[i**2 for i in L]\n",
    "L_comprehension"
   ]
  },
  {
   "cell_type": "code",
   "execution_count": 46,
   "id": "55337b2c",
   "metadata": {},
   "outputs": [
    {
     "data": {
      "text/plain": [
       "<generator object <genexpr> at 0x00000236EA89B2E0>"
      ]
     },
     "execution_count": 46,
     "metadata": {},
     "output_type": "execute_result"
    }
   ],
   "source": [
    "generator_exp=(i**2 for i in L)\n",
    "generator_exp"
   ]
  },
  {
   "cell_type": "code",
   "execution_count": 47,
   "id": "188e22e2",
   "metadata": {},
   "outputs": [
    {
     "name": "stdout",
     "output_type": "stream",
     "text": [
      "1\n",
      "4\n",
      "9\n",
      "16\n",
      "25\n"
     ]
    }
   ],
   "source": [
    "for i in generator_exp:\n",
    "    print(i)"
   ]
  },
  {
   "cell_type": "code",
   "execution_count": 82,
   "id": "37c39880",
   "metadata": {},
   "outputs": [],
   "source": [
    "###Function generating Fibonacci series\n",
    "def genfib(n):\n",
    "    a=1\n",
    "    b=1\n",
    "    output=[]\n",
    "    for i in range(n):\n",
    "        output.append(a)\n",
    "        a,b= b,a+b\n",
    "    return output"
   ]
  },
  {
   "cell_type": "code",
   "execution_count": 83,
   "id": "a806e467",
   "metadata": {},
   "outputs": [
    {
     "data": {
      "text/plain": [
       "[1, 1, 2, 3, 5, 8, 13, 21, 34, 55]"
      ]
     },
     "execution_count": 83,
     "metadata": {},
     "output_type": "execute_result"
    }
   ],
   "source": [
    "genfib(10)"
   ]
  },
  {
   "cell_type": "code",
   "execution_count": 74,
   "id": "7c0a9584",
   "metadata": {},
   "outputs": [],
   "source": [
    "def genfib(n):\n",
    "    a=1\n",
    "    b=1\n",
    "    for i in range(n):\n",
    "        yield a\n",
    "        a,b= b,a+b \n"
   ]
  },
  {
   "cell_type": "code",
   "execution_count": 75,
   "id": "58e30baa",
   "metadata": {},
   "outputs": [
    {
     "data": {
      "text/plain": [
       "<generator object genfib at 0x00000236F4004B30>"
      ]
     },
     "execution_count": 75,
     "metadata": {},
     "output_type": "execute_result"
    }
   ],
   "source": [
    "genfib(10)"
   ]
  },
  {
   "cell_type": "code",
   "execution_count": 76,
   "id": "4f0d67c5",
   "metadata": {},
   "outputs": [
    {
     "name": "stdout",
     "output_type": "stream",
     "text": [
      "1\n",
      "1\n",
      "2\n",
      "3\n",
      "5\n",
      "8\n",
      "13\n",
      "21\n",
      "34\n",
      "55\n"
     ]
    }
   ],
   "source": [
    "for i in genfib(10):\n",
    "    print(i)"
   ]
  },
  {
   "cell_type": "markdown",
   "id": "1be2b5e6",
   "metadata": {},
   "source": [
    "### Advantage of Generators\n",
    "It will keep on generating the result but it will never occupy your entire memeory"
   ]
  },
  {
   "cell_type": "markdown",
   "id": "5bb9636b",
   "metadata": {},
   "source": [
    "### Opening,writing and reading functions"
   ]
  },
  {
   "cell_type": "code",
   "execution_count": 4,
   "id": "5b99271d",
   "metadata": {},
   "outputs": [],
   "source": [
    "f=open('test.txt','w') #The file is opened in write mode"
   ]
  },
  {
   "cell_type": "code",
   "execution_count": 6,
   "id": "60cdc350",
   "metadata": {},
   "outputs": [
    {
     "data": {
      "text/plain": [
       "33"
      ]
     },
     "execution_count": 6,
     "metadata": {},
     "output_type": "execute_result"
    }
   ],
   "source": [
    "f.write(r'Hello to the world of programming') #Writing in the file"
   ]
  },
  {
   "cell_type": "code",
   "execution_count": 7,
   "id": "811b4827",
   "metadata": {},
   "outputs": [],
   "source": [
    "f.close()"
   ]
  },
  {
   "cell_type": "code",
   "execution_count": 8,
   "id": "aa9cf38f",
   "metadata": {},
   "outputs": [],
   "source": [
    "f=open('test.txt')"
   ]
  },
  {
   "cell_type": "code",
   "execution_count": 9,
   "id": "8d852838",
   "metadata": {},
   "outputs": [
    {
     "data": {
      "text/plain": [
       "'Hello to the world of programming'"
      ]
     },
     "execution_count": 9,
     "metadata": {},
     "output_type": "execute_result"
    }
   ],
   "source": [
    "f.read()"
   ]
  },
  {
   "cell_type": "code",
   "execution_count": 10,
   "id": "61d1a453",
   "metadata": {},
   "outputs": [
    {
     "data": {
      "text/plain": [
       "'\\nThe Powerful weapon in the world is Education\\nstudy in such a way that one day your knowledge will act as a shield for all your sufferings'"
      ]
     },
     "execution_count": 10,
     "metadata": {},
     "output_type": "execute_result"
    }
   ],
   "source": [
    "f.read()"
   ]
  },
  {
   "cell_type": "code",
   "execution_count": 11,
   "id": "b4507154",
   "metadata": {},
   "outputs": [
    {
     "data": {
      "text/plain": [
       "''"
      ]
     },
     "execution_count": 11,
     "metadata": {},
     "output_type": "execute_result"
    }
   ],
   "source": [
    "f.read()"
   ]
  },
  {
   "cell_type": "code",
   "execution_count": 14,
   "id": "89281104",
   "metadata": {},
   "outputs": [
    {
     "data": {
      "text/plain": [
       "5"
      ]
     },
     "execution_count": 14,
     "metadata": {},
     "output_type": "execute_result"
    }
   ],
   "source": [
    "f.seek(5)"
   ]
  },
  {
   "cell_type": "code",
   "execution_count": 15,
   "id": "b1dfd79a",
   "metadata": {},
   "outputs": [
    {
     "data": {
      "text/plain": [
       "' to the world of programming\\nThe Powerful weapon in the world is Education\\nstudy in such a way that one day your knowledge will act as a shield for all your sufferings'"
      ]
     },
     "execution_count": 15,
     "metadata": {},
     "output_type": "execute_result"
    }
   ],
   "source": [
    "f.read()"
   ]
  },
  {
   "cell_type": "code",
   "execution_count": 16,
   "id": "49300ccb",
   "metadata": {},
   "outputs": [],
   "source": [
    "f=open('test.txt','r')"
   ]
  },
  {
   "cell_type": "code",
   "execution_count": 17,
   "id": "2afddc45",
   "metadata": {},
   "outputs": [
    {
     "ename": "UnsupportedOperation",
     "evalue": "not writable",
     "output_type": "error",
     "traceback": [
      "\u001b[1;31m---------------------------------------------------------------------------\u001b[0m",
      "\u001b[1;31mUnsupportedOperation\u001b[0m                      Traceback (most recent call last)",
      "Input \u001b[1;32mIn [17]\u001b[0m, in \u001b[0;36m<cell line: 1>\u001b[1;34m()\u001b[0m\n\u001b[1;32m----> 1\u001b[0m \u001b[43mf\u001b[49m\u001b[38;5;241;43m.\u001b[39;49m\u001b[43mwrite\u001b[49m\u001b[43m(\u001b[49m\u001b[38;5;124;43mr\u001b[39;49m\u001b[38;5;124;43m'\u001b[39;49m\u001b[38;5;124;43mWork Hard\u001b[39;49m\u001b[38;5;124;43m'\u001b[39;49m\u001b[43m)\u001b[49m\n",
      "\u001b[1;31mUnsupportedOperation\u001b[0m: not writable"
     ]
    }
   ],
   "source": [
    "f.write(r'Work Hard')"
   ]
  },
  {
   "cell_type": "code",
   "execution_count": 18,
   "id": "ab97dd33",
   "metadata": {},
   "outputs": [
    {
     "data": {
      "text/plain": [
       "'Hello to the world of programming\\nThe Powerful weapon in the world is Education\\nstudy in such a way that one day your knowledge will act as a shield for all your sufferings'"
      ]
     },
     "execution_count": 18,
     "metadata": {},
     "output_type": "execute_result"
    }
   ],
   "source": [
    "f.read()"
   ]
  },
  {
   "cell_type": "code",
   "execution_count": 19,
   "id": "4e49012d",
   "metadata": {},
   "outputs": [],
   "source": [
    "f.close()"
   ]
  },
  {
   "cell_type": "code",
   "execution_count": 33,
   "id": "e0003506",
   "metadata": {},
   "outputs": [],
   "source": [
    "f=open('test.txt','a')#file opened in append mode"
   ]
  },
  {
   "cell_type": "code",
   "execution_count": 34,
   "id": "aa4f1d3b",
   "metadata": {},
   "outputs": [
    {
     "data": {
      "text/plain": [
       "35"
      ]
     },
     "execution_count": 34,
     "metadata": {},
     "output_type": "execute_result"
    }
   ],
   "source": [
    "f.write(r' Work Hard untill you are succeeded')"
   ]
  },
  {
   "cell_type": "code",
   "execution_count": 35,
   "id": "3aeb25cc",
   "metadata": {},
   "outputs": [],
   "source": [
    "f.close()"
   ]
  },
  {
   "cell_type": "code",
   "execution_count": 36,
   "id": "e6dcc9c7",
   "metadata": {},
   "outputs": [],
   "source": [
    "f=open('test.txt','r')"
   ]
  },
  {
   "cell_type": "code",
   "execution_count": 37,
   "id": "cfa45609",
   "metadata": {},
   "outputs": [
    {
     "data": {
      "text/plain": [
       "'Hello to the world of programming\\nThe Powerful weapon in the world is Education\\nstudy in such a way that one day your knowledge will act as a shield for all your sufferings\\n Work Hard untill you are succeeded'"
      ]
     },
     "execution_count": 37,
     "metadata": {},
     "output_type": "execute_result"
    }
   ],
   "source": [
    "f.read()"
   ]
  },
  {
   "cell_type": "code",
   "execution_count": 38,
   "id": "f016360f",
   "metadata": {},
   "outputs": [],
   "source": [
    "f.close()"
   ]
  },
  {
   "cell_type": "code",
   "execution_count": 39,
   "id": "90835d9d",
   "metadata": {},
   "outputs": [],
   "source": [
    "f=open('test.txt','wb')"
   ]
  },
  {
   "cell_type": "code",
   "execution_count": 40,
   "id": "eae12599",
   "metadata": {},
   "outputs": [
    {
     "data": {
      "text/plain": [
       "13"
      ]
     },
     "execution_count": 40,
     "metadata": {},
     "output_type": "execute_result"
    }
   ],
   "source": [
    "f.write(rb'Never Give up')"
   ]
  },
  {
   "cell_type": "code",
   "execution_count": 41,
   "id": "d65ed4b1",
   "metadata": {},
   "outputs": [],
   "source": [
    "f.close()"
   ]
  },
  {
   "cell_type": "code",
   "execution_count": 42,
   "id": "9e02fdbb",
   "metadata": {},
   "outputs": [],
   "source": [
    "f=open('test.txt','r')"
   ]
  },
  {
   "cell_type": "code",
   "execution_count": 43,
   "id": "907880eb",
   "metadata": {},
   "outputs": [
    {
     "data": {
      "text/plain": [
       "'Never Give up'"
      ]
     },
     "execution_count": 43,
     "metadata": {},
     "output_type": "execute_result"
    }
   ],
   "source": [
    "f.read()"
   ]
  },
  {
   "cell_type": "code",
   "execution_count": 44,
   "id": "b96eed66",
   "metadata": {},
   "outputs": [
    {
     "data": {
      "text/plain": [
       "1"
      ]
     },
     "execution_count": 44,
     "metadata": {},
     "output_type": "execute_result"
    }
   ],
   "source": [
    "f.seek(1)"
   ]
  },
  {
   "cell_type": "code",
   "execution_count": 45,
   "id": "9a152c26",
   "metadata": {},
   "outputs": [
    {
     "data": {
      "text/plain": [
       "'ever Give up'"
      ]
     },
     "execution_count": 45,
     "metadata": {},
     "output_type": "execute_result"
    }
   ],
   "source": [
    "f.read()"
   ]
  },
  {
   "cell_type": "code",
   "execution_count": 46,
   "id": "316adf9d",
   "metadata": {},
   "outputs": [
    {
     "data": {
      "text/plain": [
       "2"
      ]
     },
     "execution_count": 46,
     "metadata": {},
     "output_type": "execute_result"
    }
   ],
   "source": [
    "f.seek(2)"
   ]
  },
  {
   "cell_type": "code",
   "execution_count": 47,
   "id": "c2638d15",
   "metadata": {},
   "outputs": [
    {
     "data": {
      "text/plain": [
       "'ver Give up'"
      ]
     },
     "execution_count": 47,
     "metadata": {},
     "output_type": "execute_result"
    }
   ],
   "source": [
    "f.read()"
   ]
  },
  {
   "cell_type": "code",
   "execution_count": 48,
   "id": "7e9fc9e2",
   "metadata": {},
   "outputs": [
    {
     "ename": "UnsupportedOperation",
     "evalue": "can't do nonzero end-relative seeks",
     "output_type": "error",
     "traceback": [
      "\u001b[1;31m---------------------------------------------------------------------------\u001b[0m",
      "\u001b[1;31mUnsupportedOperation\u001b[0m                      Traceback (most recent call last)",
      "Input \u001b[1;32mIn [48]\u001b[0m, in \u001b[0;36m<cell line: 1>\u001b[1;34m()\u001b[0m\n\u001b[1;32m----> 1\u001b[0m \u001b[43mf\u001b[49m\u001b[38;5;241;43m.\u001b[39;49m\u001b[43mseek\u001b[49m\u001b[43m(\u001b[49m\u001b[38;5;241;43m-\u001b[39;49m\u001b[38;5;241;43m3\u001b[39;49m\u001b[43m,\u001b[49m\u001b[38;5;241;43m2\u001b[39;49m\u001b[43m)\u001b[49m\n",
      "\u001b[1;31mUnsupportedOperation\u001b[0m: can't do nonzero end-relative seeks"
     ]
    }
   ],
   "source": [
    "f.seek(-3,2)"
   ]
  },
  {
   "cell_type": "code",
   "execution_count": 55,
   "id": "cf811372",
   "metadata": {},
   "outputs": [],
   "source": [
    "f=open('test.txt','rb')"
   ]
  },
  {
   "cell_type": "code",
   "execution_count": 56,
   "id": "88b31f14",
   "metadata": {},
   "outputs": [
    {
     "data": {
      "text/plain": [
       "10"
      ]
     },
     "execution_count": 56,
     "metadata": {},
     "output_type": "execute_result"
    }
   ],
   "source": [
    "f.seek(-3,2)"
   ]
  },
  {
   "cell_type": "code",
   "execution_count": 57,
   "id": "e6be1f9b",
   "metadata": {},
   "outputs": [
    {
     "data": {
      "text/plain": [
       "b' up'"
      ]
     },
     "execution_count": 57,
     "metadata": {},
     "output_type": "execute_result"
    }
   ],
   "source": [
    "f.read()"
   ]
  },
  {
   "cell_type": "code",
   "execution_count": 58,
   "id": "91e87a03",
   "metadata": {},
   "outputs": [],
   "source": [
    "f.close()"
   ]
  },
  {
   "cell_type": "code",
   "execution_count": 65,
   "id": "8f450637",
   "metadata": {},
   "outputs": [],
   "source": [
    "f=open('test.txt','rb')"
   ]
  },
  {
   "cell_type": "code",
   "execution_count": 66,
   "id": "d108849c",
   "metadata": {},
   "outputs": [
    {
     "data": {
      "text/plain": [
       "b'Never Give up'"
      ]
     },
     "execution_count": 66,
     "metadata": {},
     "output_type": "execute_result"
    }
   ],
   "source": [
    "f.readline()"
   ]
  },
  {
   "cell_type": "code",
   "execution_count": 69,
   "id": "83801902",
   "metadata": {},
   "outputs": [],
   "source": [
    "f.close()\n",
    "f=open('test.txt','rb')"
   ]
  },
  {
   "cell_type": "code",
   "execution_count": 70,
   "id": "f9f6f509",
   "metadata": {},
   "outputs": [
    {
     "data": {
      "text/plain": [
       "b'Never'"
      ]
     },
     "execution_count": 70,
     "metadata": {},
     "output_type": "execute_result"
    }
   ],
   "source": [
    "f.readline(5)"
   ]
  },
  {
   "cell_type": "code",
   "execution_count": 71,
   "id": "b7d1006c",
   "metadata": {},
   "outputs": [
    {
     "data": {
      "text/plain": [
       "b' Give u'"
      ]
     },
     "execution_count": 71,
     "metadata": {},
     "output_type": "execute_result"
    }
   ],
   "source": [
    "f.readline(7)"
   ]
  },
  {
   "cell_type": "code",
   "execution_count": 72,
   "id": "42e95ad3",
   "metadata": {},
   "outputs": [],
   "source": [
    "f.close()"
   ]
  },
  {
   "cell_type": "code",
   "execution_count": 77,
   "id": "1e048270",
   "metadata": {},
   "outputs": [],
   "source": [
    "f=open('test.txt','r')"
   ]
  },
  {
   "cell_type": "code",
   "execution_count": 78,
   "id": "cdbb7c43",
   "metadata": {},
   "outputs": [
    {
     "name": "stdout",
     "output_type": "stream",
     "text": [
      "Never Give up\n",
      " Enjoy every bits and pieces of life\n",
      " Grow through life\n",
      " Study and educate yourself in such a way that one day your knowledge speaks more than your personality.\n",
      " \n",
      " "
     ]
    }
   ],
   "source": [
    "for i in f:\n",
    "    print(i,end=\" \")"
   ]
  },
  {
   "cell_type": "code",
   "execution_count": 79,
   "id": "514463be",
   "metadata": {},
   "outputs": [],
   "source": [
    "f.close()"
   ]
  },
  {
   "cell_type": "code",
   "execution_count": 80,
   "id": "24655b73",
   "metadata": {},
   "outputs": [],
   "source": [
    "f=open('test.txt','r')"
   ]
  },
  {
   "cell_type": "code",
   "execution_count": 81,
   "id": "dc7bef9c",
   "metadata": {},
   "outputs": [
    {
     "data": {
      "text/plain": [
       "['Never Give up\\n',\n",
       " 'Enjoy every bits and pieces of life\\n',\n",
       " 'Grow through life\\n',\n",
       " 'Study and educate yourself in such a way that one day your knowledge speaks more than your personality.\\n',\n",
       " '\\n']"
      ]
     },
     "execution_count": 81,
     "metadata": {},
     "output_type": "execute_result"
    }
   ],
   "source": [
    "list(f)"
   ]
  },
  {
   "cell_type": "code",
   "execution_count": 82,
   "id": "cff84635",
   "metadata": {},
   "outputs": [],
   "source": [
    "f.close()"
   ]
  },
  {
   "cell_type": "code",
   "execution_count": 83,
   "id": "73355b8b",
   "metadata": {},
   "outputs": [],
   "source": [
    "##to open in read and write mode\n",
    "f=open('test.txt','r+')"
   ]
  },
  {
   "cell_type": "code",
   "execution_count": 84,
   "id": "22da2258",
   "metadata": {},
   "outputs": [
    {
     "data": {
      "text/plain": [
       "14"
      ]
     },
     "execution_count": 84,
     "metadata": {},
     "output_type": "execute_result"
    }
   ],
   "source": [
    "f.write(r'Believe in you')"
   ]
  },
  {
   "cell_type": "code",
   "execution_count": 85,
   "id": "a827fac7",
   "metadata": {},
   "outputs": [
    {
     "data": {
      "text/plain": [
       "'Enjoy every bits and pieces of life\\nGrow through life\\nStudy and educate yourself in such a way that one day your knowledge speaks more than your personality.\\n\\n'"
      ]
     },
     "execution_count": 85,
     "metadata": {},
     "output_type": "execute_result"
    }
   ],
   "source": [
    "f.read()"
   ]
  },
  {
   "cell_type": "code",
   "execution_count": 86,
   "id": "b03ae88a",
   "metadata": {},
   "outputs": [],
   "source": [
    "f.writelines(\"Have expectations on you,Never ever lose your hope\")"
   ]
  },
  {
   "cell_type": "code",
   "execution_count": 87,
   "id": "ac73e4a3",
   "metadata": {},
   "outputs": [],
   "source": [
    "f.close()"
   ]
  },
  {
   "cell_type": "code",
   "execution_count": 89,
   "id": "3dfdcc9e",
   "metadata": {},
   "outputs": [],
   "source": [
    "f=open('test.txt','r')"
   ]
  },
  {
   "cell_type": "code",
   "execution_count": 90,
   "id": "e0e6837d",
   "metadata": {},
   "outputs": [
    {
     "data": {
      "text/plain": [
       "'Believe in youEnjoy every bits and pieces of life\\nGrow through life\\nStudy and educate yourself in such a way that one day your knowledge speaks more than your personality.\\n\\nHave expectations on you,Never ever lose your hope'"
      ]
     },
     "execution_count": 90,
     "metadata": {},
     "output_type": "execute_result"
    }
   ],
   "source": [
    "f.read()"
   ]
  },
  {
   "cell_type": "code",
   "execution_count": 91,
   "id": "8dc03623",
   "metadata": {},
   "outputs": [],
   "source": [
    "f.close()"
   ]
  },
  {
   "cell_type": "code",
   "execution_count": 93,
   "id": "fca55f71",
   "metadata": {},
   "outputs": [],
   "source": [
    "f=open('test.txt','r+')"
   ]
  },
  {
   "cell_type": "code",
   "execution_count": 94,
   "id": "1d792586",
   "metadata": {},
   "outputs": [
    {
     "data": {
      "text/plain": [
       "4"
      ]
     },
     "execution_count": 94,
     "metadata": {},
     "output_type": "execute_result"
    }
   ],
   "source": [
    "f.fileno() #it is giving a integer descriptor of line"
   ]
  },
  {
   "cell_type": "markdown",
   "id": "23718e33",
   "metadata": {},
   "source": [
    "### Another way to open a file"
   ]
  },
  {
   "cell_type": "code",
   "execution_count": 95,
   "id": "d035829a",
   "metadata": {},
   "outputs": [
    {
     "name": "stdout",
     "output_type": "stream",
     "text": [
      "Writing test1.txt\n"
     ]
    }
   ],
   "source": [
    "%%writefile test1.txt\n",
    "My name is Divu"
   ]
  },
  {
   "cell_type": "markdown",
   "id": "1e4139cb",
   "metadata": {},
   "source": [
    "### OS module"
   ]
  },
  {
   "cell_type": "code",
   "execution_count": 100,
   "id": "f456c008",
   "metadata": {},
   "outputs": [],
   "source": [
    "import os"
   ]
  },
  {
   "cell_type": "code",
   "execution_count": 101,
   "id": "51d37026",
   "metadata": {},
   "outputs": [
    {
     "data": {
      "text/plain": [
       "'C:\\\\Users\\\\Sudhakar\\\\Python Files\\\\Ineuron Python Learnings\\\\Ineuron Feature Engineering'"
      ]
     },
     "execution_count": 101,
     "metadata": {},
     "output_type": "execute_result"
    }
   ],
   "source": [
    "pwd #present working directory"
   ]
  },
  {
   "cell_type": "code",
   "execution_count": 102,
   "id": "af78d199",
   "metadata": {},
   "outputs": [
    {
     "data": {
      "text/plain": [
       "'C:\\\\Users\\\\Sudhakar\\\\Python Files\\\\Ineuron Python Learnings\\\\Ineuron Feature Engineering'"
      ]
     },
     "execution_count": 102,
     "metadata": {},
     "output_type": "execute_result"
    }
   ],
   "source": [
    "os.getcwd()"
   ]
  },
  {
   "cell_type": "code",
   "execution_count": 103,
   "id": "08e6ad0c",
   "metadata": {},
   "outputs": [
    {
     "data": {
      "text/plain": [
       "['.ipynb_checkpoints',\n",
       " 'Feature Engineering- Handling Categorical Feature- Day 3.ipynb',\n",
       " 'Feature Engineering- Handling Categorical Feature- Day 4.ipynb',\n",
       " 'Feature Engineering- MeanMedianDay 1.ipynb',\n",
       " 'Feature Engineering- Missing Values Day 2.ipynb',\n",
       " 'Feature Engineering- Missing Values Day 3.ipynb',\n",
       " 'Feature Engineering- Normalization And Standardization- Day 5.ipynb',\n",
       " 'Feature Selection-Day 7.ipynb',\n",
       " 'Forecasting Facebook FbProphet.ipynb',\n",
       " 'Outliers.ipynb',\n",
       " 'Pandas_Functions_Practice.ipynb',\n",
       " 'Practice Notebook.ipynb',\n",
       " 'test.txt',\n",
       " 'test1.txt']"
      ]
     },
     "execution_count": 103,
     "metadata": {},
     "output_type": "execute_result"
    }
   ],
   "source": [
    "os.listdir() #returns the list of files available in this directory"
   ]
  },
  {
   "cell_type": "code",
   "execution_count": 105,
   "id": "c842aeb7",
   "metadata": {},
   "outputs": [
    {
     "data": {
      "text/plain": [
       "['.ipynb_checkpoints',\n",
       " '00 Full course notes - Probability & Statistics.pdf',\n",
       " '05_Feb_2022 - Titanic Data Analysis updated.ipynb',\n",
       " '06_Feb - SciPy.ipynb',\n",
       " '06_Feb_Statistical Analyses.ipynb',\n",
       " '1. Visualization with Matplotlib.ipynb',\n",
       " '1.Introduction to Python Basics .ipynb',\n",
       " '2. Data Viz using matplotlib.ipynb',\n",
       " '2.Control flow statements in Python.ipynb',\n",
       " '3.Data Structures in Python.ipynb',\n",
       " '30-Jan-2022 - Pandas Data Analyses.ipynb',\n",
       " '4.In-Built Modules in Python.ipynb',\n",
       " '5. NumPy Deep Dive.ipynb',\n",
       " '5. NumPy Practice continuation.ipynb',\n",
       " '5.NumPy Library (for arrays in Python).ipynb',\n",
       " '6.Pandas Library (for Data Processing).ipynb',\n",
       " '7.Matplotlib Library ( for Visualization).ipynb',\n",
       " '8.Seaborn Library (for Visualization).ipynb',\n",
       " '9.SciPy Library( for statistics).ipynb',\n",
       " 'agglomerative (2) (2).ipynb',\n",
       " 'AirPassengers-Copy1 (2) (2).ipynb',\n",
       " 'Assignment 01.ipynb',\n",
       " 'Assignment 02.ipynb',\n",
       " 'Assignment_01.ipynb',\n",
       " 'Assignment_02.ipynb',\n",
       " 'Classification Project on Titanic Dataset.ipynb',\n",
       " 'Classification Project.ipynb',\n",
       " 'decomposition (1) (1).ipynb',\n",
       " 'EDA_FitBit.ipynb',\n",
       " 'Ex 1. SF Salaries Exercise.ipynb',\n",
       " 'Ex 2. Ecommerce Purchases Exercise-Solutions .ipynb',\n",
       " 'FitBit data (1).csv',\n",
       " 'Homework (1).ipynb',\n",
       " 'housing.csv',\n",
       " 'Ineuron Python Learnings',\n",
       " 'K Means Clustering with Python_updated.ipynb',\n",
       " 'mercedes.csv',\n",
       " 'mobile_dataset.csv',\n",
       " 'monthly-milk-production-pounds.csv',\n",
       " 'NLP and Web scrapping',\n",
       " 'Project 2 Building user-based recommendation model for Amazon (1).ipynb',\n",
       " 'Project1_Mercedes Benz Greener Manufacturing (2).ipynb',\n",
       " 'Project_3_Income_Qualification (1).ipynb',\n",
       " 'Regression Project-End to end_updated.ipynb',\n",
       " 'STATISTICS.ipynb',\n",
       " 'SVM (1).ipynb',\n",
       " 'test.csv',\n",
       " 'titanic_clean_updated2.pkl',\n",
       " 'train.csv',\n",
       " 'xgboost (1).ipynb']"
      ]
     },
     "execution_count": 105,
     "metadata": {},
     "output_type": "execute_result"
    }
   ],
   "source": [
    "os.listdir('C:\\\\Users\\\\Sudhakar\\\\Python Files')"
   ]
  },
  {
   "cell_type": "code",
   "execution_count": 106,
   "id": "cbdabd76",
   "metadata": {},
   "outputs": [],
   "source": [
    "os.chdir('C:\\\\Users\\\\Sudhakar\\\\Python Files') #to change the directory"
   ]
  },
  {
   "cell_type": "code",
   "execution_count": 107,
   "id": "66d17baf",
   "metadata": {},
   "outputs": [
    {
     "data": {
      "text/plain": [
       "'C:\\\\Users\\\\Sudhakar\\\\Python Files'"
      ]
     },
     "execution_count": 107,
     "metadata": {},
     "output_type": "execute_result"
    }
   ],
   "source": [
    "os.getcwd()"
   ]
  },
  {
   "cell_type": "code",
   "execution_count": 108,
   "id": "e658aba2",
   "metadata": {},
   "outputs": [],
   "source": [
    "os.chdir('C:\\\\Users\\\\Sudhakar\\\\Python Files\\\\Ineuron Python Learnings\\\\Ineuron Feature Engineering')"
   ]
  },
  {
   "cell_type": "code",
   "execution_count": 109,
   "id": "e365a943",
   "metadata": {},
   "outputs": [
    {
     "data": {
      "text/plain": [
       "'C:\\\\Users\\\\Sudhakar\\\\Python Files\\\\Ineuron Python Learnings\\\\Ineuron Feature Engineering'"
      ]
     },
     "execution_count": 109,
     "metadata": {},
     "output_type": "execute_result"
    }
   ],
   "source": [
    "pwd"
   ]
  },
  {
   "cell_type": "code",
   "execution_count": 110,
   "id": "bb19e43f",
   "metadata": {},
   "outputs": [],
   "source": [
    "os.mkdir('Divu') #to make a new directory"
   ]
  },
  {
   "cell_type": "code",
   "execution_count": 118,
   "id": "52defdeb",
   "metadata": {},
   "outputs": [
    {
     "name": "stdout",
     "output_type": "stream",
     "text": [
      "The folder is available\n",
      "My name is Divu\n",
      "\n"
     ]
    }
   ],
   "source": [
    "if 'test1.txt' in os.listdir():\n",
    "    print(\"The folder is available\")\n",
    "    f=open('test1.txt','r+')\n",
    "    for i in f:\n",
    "        print(i)\n",
    "else:\n",
    "    print(\"The folder is not available\")"
   ]
  },
  {
   "cell_type": "code",
   "execution_count": 120,
   "id": "8daa633c",
   "metadata": {},
   "outputs": [
    {
     "ename": "FileExistsError",
     "evalue": "[WinError 183] Cannot create a file when that file already exists: 'Divu'",
     "output_type": "error",
     "traceback": [
      "\u001b[1;31m---------------------------------------------------------------------------\u001b[0m",
      "\u001b[1;31mFileExistsError\u001b[0m                           Traceback (most recent call last)",
      "Input \u001b[1;32mIn [120]\u001b[0m, in \u001b[0;36m<cell line: 1>\u001b[1;34m()\u001b[0m\n\u001b[1;32m----> 1\u001b[0m \u001b[43mos\u001b[49m\u001b[38;5;241;43m.\u001b[39;49m\u001b[43mmkdir\u001b[49m\u001b[43m(\u001b[49m\u001b[38;5;124;43m'\u001b[39;49m\u001b[38;5;124;43mDivu\u001b[39;49m\u001b[38;5;124;43m'\u001b[39;49m\u001b[43m)\u001b[49m\n",
      "\u001b[1;31mFileExistsError\u001b[0m: [WinError 183] Cannot create a file when that file already exists: 'Divu'"
     ]
    }
   ],
   "source": [
    "os.mkdir('Divu')"
   ]
  },
  {
   "cell_type": "code",
   "execution_count": 119,
   "id": "e705283e",
   "metadata": {},
   "outputs": [],
   "source": [
    "#this will help me out in avoiding the error if the folder is already present in the directory\n",
    "if not os.path.isdir('Divu'):\n",
    "    os.mkdir('Divu')"
   ]
  },
  {
   "cell_type": "code",
   "execution_count": 122,
   "id": "5de9868a",
   "metadata": {},
   "outputs": [
    {
     "ename": "PermissionError",
     "evalue": "[WinError 32] The process cannot access the file because it is being used by another process: 'test.txt' -> 'xyz.txt'",
     "output_type": "error",
     "traceback": [
      "\u001b[1;31m---------------------------------------------------------------------------\u001b[0m",
      "\u001b[1;31mPermissionError\u001b[0m                           Traceback (most recent call last)",
      "Input \u001b[1;32mIn [122]\u001b[0m, in \u001b[0;36m<cell line: 1>\u001b[1;34m()\u001b[0m\n\u001b[1;32m----> 1\u001b[0m \u001b[43mos\u001b[49m\u001b[38;5;241;43m.\u001b[39;49m\u001b[43mrename\u001b[49m\u001b[43m(\u001b[49m\u001b[38;5;124;43m'\u001b[39;49m\u001b[38;5;124;43mtest.txt\u001b[39;49m\u001b[38;5;124;43m'\u001b[39;49m\u001b[43m,\u001b[49m\u001b[38;5;124;43m'\u001b[39;49m\u001b[38;5;124;43mxyz.txt\u001b[39;49m\u001b[38;5;124;43m'\u001b[39;49m\u001b[43m)\u001b[49m\n",
      "\u001b[1;31mPermissionError\u001b[0m: [WinError 32] The process cannot access the file because it is being used by another process: 'test.txt' -> 'xyz.txt'"
     ]
    }
   ],
   "source": [
    "os.rename('test.txt','xyz.txt')"
   ]
  },
  {
   "cell_type": "code",
   "execution_count": 124,
   "id": "d7270879",
   "metadata": {},
   "outputs": [],
   "source": [
    "f=open('test.txt','r+')\n",
    "f.close()"
   ]
  },
  {
   "cell_type": "code",
   "execution_count": 125,
   "id": "94b241bd",
   "metadata": {},
   "outputs": [
    {
     "ename": "PermissionError",
     "evalue": "[WinError 32] The process cannot access the file because it is being used by another process: 'test.txt' -> 'xyz.txt'",
     "output_type": "error",
     "traceback": [
      "\u001b[1;31m---------------------------------------------------------------------------\u001b[0m",
      "\u001b[1;31mPermissionError\u001b[0m                           Traceback (most recent call last)",
      "Input \u001b[1;32mIn [125]\u001b[0m, in \u001b[0;36m<cell line: 1>\u001b[1;34m()\u001b[0m\n\u001b[1;32m----> 1\u001b[0m \u001b[43mos\u001b[49m\u001b[38;5;241;43m.\u001b[39;49m\u001b[43mrename\u001b[49m\u001b[43m(\u001b[49m\u001b[38;5;124;43m'\u001b[39;49m\u001b[38;5;124;43mtest.txt\u001b[39;49m\u001b[38;5;124;43m'\u001b[39;49m\u001b[43m,\u001b[49m\u001b[38;5;124;43m'\u001b[39;49m\u001b[38;5;124;43mxyz.txt\u001b[39;49m\u001b[38;5;124;43m'\u001b[39;49m\u001b[43m)\u001b[49m\n",
      "\u001b[1;31mPermissionError\u001b[0m: [WinError 32] The process cannot access the file because it is being used by another process: 'test.txt' -> 'xyz.txt'"
     ]
    }
   ],
   "source": [
    "os.rename('test.txt','xyz.txt')"
   ]
  },
  {
   "cell_type": "code",
   "execution_count": 126,
   "id": "1d53842b",
   "metadata": {},
   "outputs": [],
   "source": [
    "os.rmdir('Divu') #to remove the directory"
   ]
  },
  {
   "cell_type": "code",
   "execution_count": null,
   "id": "b21ebf62",
   "metadata": {},
   "outputs": [],
   "source": [
    "#to move files 1 dir to another dir \n",
    "#import shutil\n",
    "#shutil.move('dri1 location','dir2 location')"
   ]
  },
  {
   "cell_type": "code",
   "execution_count": null,
   "id": "601ef6a7",
   "metadata": {},
   "outputs": [],
   "source": [
    "# task\n",
    "#1.Create a new dir\n",
    "#2.Create 10 text files and write same data at a time\n",
    "#3.read all the data from these dir/files print in console\n",
    "#4.Hold all the data in single list\n",
    "#5.write all the data in a new file from list\n",
    "#6 keep only a newfile in the present dir and move rest in new dir"
   ]
  },
  {
   "cell_type": "code",
   "execution_count": 11,
   "id": "3f01ff12",
   "metadata": {},
   "outputs": [
    {
     "name": "stdout",
     "output_type": "stream",
     "text": [
      "Enter the directory name : Divu\n",
      "Many of life’s failures are people who did not realize how close they were to success when they gave up.\n",
      "Many of life’s failures are people who did not realize how close they were to success when they gave up.\n",
      "Many of life’s failures are people who did not realize how close they were to success when they gave up.\n",
      "Many of life’s failures are people who did not realize how close they were to success when they gave up.\n",
      "Many of life’s failures are people who did not realize how close they were to success when they gave up.\n",
      "Many of life’s failures are people who did not realize how close they were to success when they gave up.\n",
      "Many of life’s failures are people who did not realize how close they were to success when they gave up.\n",
      "Many of life’s failures are people who did not realize how close they were to success when they gave up.\n",
      "Many of life’s failures are people who did not realize how close they were to success when they gave up.\n",
      "Many of life’s failures are people who did not realize how close they were to success when they gave up.\n",
      "['Many of life’s failures are people who did not realize how close they were to success when they gave up.', 'Many of life’s failures are people who did not realize how close they were to success when they gave up.', 'Many of life’s failures are people who did not realize how close they were to success when they gave up.', 'Many of life’s failures are people who did not realize how close they were to success when they gave up.', 'Many of life’s failures are people who did not realize how close they were to success when they gave up.', 'Many of life’s failures are people who did not realize how close they were to success when they gave up.', 'Many of life’s failures are people who did not realize how close they were to success when they gave up.', 'Many of life’s failures are people who did not realize how close they were to success when they gave up.', 'Many of life’s failures are people who did not realize how close they were to success when they gave up.', 'Many of life’s failures are people who did not realize how close they were to success when they gave up.']\n"
     ]
    }
   ],
   "source": [
    "#Create 10 text files and write same data at a time\n",
    "import os\n",
    "direc=input(\"Enter the directory name : \")\n",
    "os.mkdir(direc)\n",
    "os.chdir(os.getcwd()+'\\\\'+direc)\n",
    "for i in range(10):\n",
    "    f=open('text{}.txt'.format(i),'w',encoding='UTF-8')\n",
    "    f.write(r'Many of life’s failures are people who did not realize how close they were to success when they gave up.')\n",
    "    f.close()\n",
    "for i in range(10):\n",
    "    r=open('text{}.txt'.format(i),'r',encoding='UTF-8')\n",
    "    data=r.read()\n",
    "    r.close()\n",
    "    print(data)\n",
    "    \n",
    "l=[]\n",
    "for i in range(10):\n",
    "    f=open('text{}.txt'.format(i),'r',encoding='UTF-8')\n",
    "    l.append(f.read())\n",
    "    f.close()\n",
    "print(l)\n",
    "    \n",
    "file=open('newfile.txt','w',encoding='UTF-8')\n",
    "for i in l:\n",
    "    file.write(i)\n",
    "file.close()"
   ]
  },
  {
   "cell_type": "code",
   "execution_count": 12,
   "id": "ed355ce7",
   "metadata": {},
   "outputs": [
    {
     "data": {
      "text/plain": [
       "'C:\\\\Users\\\\Sudhakar\\\\Python Files\\\\Ineuron Python Learnings\\\\Ineuron Feature Engineering\\\\Divu'"
      ]
     },
     "execution_count": 12,
     "metadata": {},
     "output_type": "execute_result"
    }
   ],
   "source": [
    "os.getcwd()"
   ]
  },
  {
   "cell_type": "code",
   "execution_count": 13,
   "id": "78482935",
   "metadata": {},
   "outputs": [],
   "source": [
    "os.chdir('C:\\\\Users\\\\Sudhakar\\\\Python Files\\\\Ineuron Python Learnings\\\\Ineuron Feature Engineering')"
   ]
  },
  {
   "cell_type": "markdown",
   "id": "5aa98104",
   "metadata": {},
   "source": [
    "### Logging and Debugging"
   ]
  },
  {
   "cell_type": "markdown",
   "id": "d5ba76c3",
   "metadata": {},
   "source": [
    "### Logging"
   ]
  },
  {
   "cell_type": "markdown",
   "id": "9dd06116",
   "metadata": {},
   "source": [
    "##### Importance of Logging"
   ]
  },
  {
   "cell_type": "markdown",
   "id": "b1a8bc21",
   "metadata": {},
   "source": [
    "Let us suppose that we have written any code  when it goes for production because of certain circumstances it is failed to perform and it might crash the system .So we will start to find the problem it is facing to perform ,we will start to debug it and try to fix the problem.But intially we dont know from where the problem is actually occuring,to know where the problem is occuring we use the concept of logging\n",
    "- we will try to capture all the login instances as a part of standard practice\n",
    "- Many projects we will end up creating reports \n",
    "- As a programmer it is our responsibility to create login for each and every instances so that we can capture any uncertainity in the process and does'nt disturb anyone."
   ]
  },
  {
   "cell_type": "code",
   "execution_count": null,
   "id": "50a81df9",
   "metadata": {},
   "outputs": [],
   "source": [
    "There are different kind of information inside the system to log\n",
    "- debug\n",
    "- info\n",
    "- warning\n",
    "- error\n",
    "- critical"
   ]
  },
  {
   "cell_type": "code",
   "execution_count": 16,
   "id": "b066ca17",
   "metadata": {},
   "outputs": [],
   "source": [
    "def addition(a,b):\n",
    "    '''\n",
    "This function performs addition of two numbers\n",
    "a and b\n",
    "\n",
    "'''\n",
    "    return a+b"
   ]
  },
  {
   "cell_type": "code",
   "execution_count": 17,
   "id": "145ef369",
   "metadata": {},
   "outputs": [
    {
     "data": {
      "text/plain": [
       "3"
      ]
     },
     "execution_count": 17,
     "metadata": {},
     "output_type": "execute_result"
    }
   ],
   "source": [
    "addition(1,2)"
   ]
  },
  {
   "cell_type": "markdown",
   "id": "035dd08d",
   "metadata": {},
   "source": [
    "#### In python we have logging module"
   ]
  },
  {
   "cell_type": "code",
   "execution_count": 19,
   "id": "748519fd",
   "metadata": {},
   "outputs": [],
   "source": [
    "import logging as lg"
   ]
  },
  {
   "cell_type": "code",
   "execution_count": 20,
   "id": "0f913254",
   "metadata": {},
   "outputs": [],
   "source": [
    "os.mkdir('logging')"
   ]
  },
  {
   "cell_type": "code",
   "execution_count": 21,
   "id": "81f609c9",
   "metadata": {},
   "outputs": [
    {
     "data": {
      "text/plain": [
       "'C:\\\\Users\\\\Sudhakar\\\\Python Files\\\\Ineuron Python Learnings\\\\Ineuron Feature Engineering'"
      ]
     },
     "execution_count": 21,
     "metadata": {},
     "output_type": "execute_result"
    }
   ],
   "source": [
    "os.getcwd()"
   ]
  },
  {
   "cell_type": "code",
   "execution_count": 23,
   "id": "4898f2f5",
   "metadata": {},
   "outputs": [],
   "source": [
    "os.chdir('C:\\\\Users\\\\Sudhakar\\\\Python Files\\\\Ineuron Python Learnings\\\\Ineuron Feature Engineering\\\\logging')"
   ]
  },
  {
   "cell_type": "code",
   "execution_count": 24,
   "id": "cac452e5",
   "metadata": {},
   "outputs": [
    {
     "data": {
      "text/plain": [
       "'C:\\\\Users\\\\Sudhakar\\\\Python Files\\\\Ineuron Python Learnings\\\\Ineuron Feature Engineering\\\\logging'"
      ]
     },
     "execution_count": 24,
     "metadata": {},
     "output_type": "execute_result"
    }
   ],
   "source": [
    "pwd"
   ]
  },
  {
   "cell_type": "code",
   "execution_count": 32,
   "id": "72f21535",
   "metadata": {},
   "outputs": [],
   "source": [
    "lg.basicConfig(filename='test.log',level=lg.ERROR,format=\"%(asctime)s%(message)s\")"
   ]
  },
  {
   "cell_type": "code",
   "execution_count": 33,
   "id": "5b1c5bad",
   "metadata": {},
   "outputs": [],
   "source": [
    "lg.info(\"I am going to create my first logging program\")"
   ]
  },
  {
   "cell_type": "code",
   "execution_count": 34,
   "id": "a9d72e17",
   "metadata": {},
   "outputs": [],
   "source": [
    "lg.warning('This is the first warning of my program to modify it')"
   ]
  },
  {
   "cell_type": "code",
   "execution_count": 35,
   "id": "29af67b4",
   "metadata": {},
   "outputs": [],
   "source": [
    "lg.error(\"This is my first error message\")"
   ]
  },
  {
   "cell_type": "code",
   "execution_count": 36,
   "id": "7836249c",
   "metadata": {},
   "outputs": [],
   "source": [
    "def division(a,b):\n",
    "    try:\n",
    "        lg.info(str(a)+str(b))\n",
    "        c=a/b\n",
    "        return c       \n",
    "    except Exception as e:\n",
    "        print(\"Check log to know about error!!\")\n",
    "        lg.error(\"Error has occured\")\n",
    "        lg.exception(str(e))"
   ]
  },
  {
   "cell_type": "code",
   "execution_count": 37,
   "id": "a533e07d",
   "metadata": {},
   "outputs": [
    {
     "name": "stdout",
     "output_type": "stream",
     "text": [
      "Check log to know about error!!\n"
     ]
    }
   ],
   "source": [
    "division(65,0)"
   ]
  },
  {
   "cell_type": "code",
   "execution_count": 38,
   "id": "f7b31f67",
   "metadata": {},
   "outputs": [],
   "source": [
    "lg.shutdown() #close the log file"
   ]
  },
  {
   "cell_type": "code",
   "execution_count": 42,
   "id": "30ff54d4",
   "metadata": {},
   "outputs": [],
   "source": [
    "import logging as lg\n",
    "lg.basicConfig(filename='test1.log',level=lg.INFO)# in the place of filename one can pass the entire path with new file name\n",
    "lg.debug(\"This is for debuging\")\n",
    "lg.info(\"This is my info log\")\n",
    "lg.warning(\"This is my warning log\")\n",
    "lg.error(\"This is my error log\")\n",
    "lg.exception(\"This is my exception log\")\n",
    "lg.critical(\"This is my critical log\")"
   ]
  },
  {
   "cell_type": "code",
   "execution_count": null,
   "id": "d27c37e3",
   "metadata": {},
   "outputs": [],
   "source": [
    "#Task2\n",
    "# 1.create a logger in your code\n",
    "#2.create one function which can take any number of input as an arugment and it will be able to return sum of it.\n",
    "#3.capture user input in log\n",
    "#4.give user instruction in log file\n",
    "#5.read a log file from python code and show all the login console\n"
   ]
  },
  {
   "cell_type": "code",
   "execution_count": 59,
   "id": "32409069",
   "metadata": {},
   "outputs": [],
   "source": [
    "os.chdir('C:\\\\Users\\\\Sudhakar\\\\Python Files\\\\Ineuron Python Learnings\\\\Ineuron Feature Engineering')"
   ]
  },
  {
   "cell_type": "code",
   "execution_count": 1,
   "id": "8c6013f3",
   "metadata": {},
   "outputs": [
    {
     "data": {
      "text/plain": [
       "'C:\\\\Users\\\\Sudhakar\\\\Python Files\\\\Ineuron Python Learnings\\\\Ineuron Feature Engineering'"
      ]
     },
     "execution_count": 1,
     "metadata": {},
     "output_type": "execute_result"
    }
   ],
   "source": [
    "pwd"
   ]
  },
  {
   "cell_type": "code",
   "execution_count": 3,
   "id": "00850212",
   "metadata": {},
   "outputs": [],
   "source": [
    "import logging as lg\n",
    "import os"
   ]
  },
  {
   "cell_type": "code",
   "execution_count": 4,
   "id": "66bc4571",
   "metadata": {},
   "outputs": [],
   "source": [
    "os.chdir('C:\\\\Users\\\\Sudhakar\\\\Python Files\\\\Ineuron Python Learnings\\\\Ineuron Feature Engineering\\\\logging')"
   ]
  },
  {
   "cell_type": "code",
   "execution_count": 5,
   "id": "62fe1496",
   "metadata": {},
   "outputs": [
    {
     "data": {
      "text/plain": [
       "'C:\\\\Users\\\\Sudhakar\\\\Python Files\\\\Ineuron Python Learnings\\\\Ineuron Feature Engineering\\\\logging'"
      ]
     },
     "execution_count": 5,
     "metadata": {},
     "output_type": "execute_result"
    }
   ],
   "source": [
    "pwd"
   ]
  },
  {
   "cell_type": "code",
   "execution_count": 6,
   "id": "2f233f5b",
   "metadata": {},
   "outputs": [
    {
     "name": "stdout",
     "output_type": "stream",
     "text": [
      "INFO:root:This is my summation function\n",
      "INFO:root:1\n",
      "INFO:root:2\n",
      "INFO:root:3\n",
      "INFO:root:4\n",
      "INFO:root:5\n",
      "\n"
     ]
    }
   ],
   "source": [
    "import logging as lg\n",
    "lg.basicConfig(filename='ErrorInfo.log',level=lg.INFO)\n",
    "\n",
    "def summation(*args):\n",
    "    lg.info(\"This is my summation function\")\n",
    "    sum=0\n",
    "    for i in args:\n",
    "        lg.info(str(i))\n",
    "        sum=sum+i\n",
    "    return sum\n",
    "summation(1,2,3,4,5)\n",
    "f=open('ErrorInfo.log','r')\n",
    "print(f.read())"
   ]
  },
  {
   "cell_type": "code",
   "execution_count": 7,
   "id": "ccb3287c",
   "metadata": {},
   "outputs": [],
   "source": [
    "lg.shutdown()"
   ]
  },
  {
   "cell_type": "code",
   "execution_count": 13,
   "id": "67034cbc",
   "metadata": {},
   "outputs": [
    {
     "data": {
      "text/plain": [
       "10"
      ]
     },
     "execution_count": 13,
     "metadata": {},
     "output_type": "execute_result"
    }
   ],
   "source": [
    "def summation(*args):\n",
    "    return sum(args)\n",
    "\n",
    "summation(1,2,3,4)"
   ]
  },
  {
   "cell_type": "code",
   "execution_count": 1,
   "id": "401e7917",
   "metadata": {},
   "outputs": [
    {
     "data": {
      "text/plain": [
       "'C:\\\\Users\\\\Sudhakar\\\\Python Files\\\\Ineuron Python Learnings\\\\Ineuron Feature Engineering'"
      ]
     },
     "execution_count": 1,
     "metadata": {},
     "output_type": "execute_result"
    }
   ],
   "source": [
    "pwd"
   ]
  },
  {
   "cell_type": "code",
   "execution_count": 3,
   "id": "f3e7843c",
   "metadata": {},
   "outputs": [
    {
     "data": {
      "text/plain": [
       "'C:\\\\Users\\\\Sudhakar\\\\Python Files\\\\Ineuron Python Learnings\\\\Ineuron Feature Engineering\\\\logging'"
      ]
     },
     "execution_count": 3,
     "metadata": {},
     "output_type": "execute_result"
    }
   ],
   "source": [
    "import os\n",
    "os.chdir('C:\\\\Users\\\\Sudhakar\\\\Python Files\\\\Ineuron Python Learnings\\\\Ineuron Feature Engineering\\\\logging')\n",
    "os.getcwd()"
   ]
  },
  {
   "cell_type": "code",
   "execution_count": 4,
   "id": "280445d7",
   "metadata": {},
   "outputs": [
    {
     "name": "stderr",
     "output_type": "stream",
     "text": [
      "2022-06-03 18:00:05,396 - root - INFO - main log\n",
      "2022-06-03 18:00:05,406 - user1 - INFO - This is from user1 info\n",
      "2022-06-03 18:00:05,407 - user2 - DEBUG - This is from user2 debug\n"
     ]
    }
   ],
   "source": [
    "#Logging example\n",
    "import logging as log\n",
    "\n",
    "log.basicConfig(filename=\"Loginfo.log\",level=log.DEBUG,format=\"%(asctime)s - %(name)s - %(levelname)s - %(message)s\")\n",
    "\n",
    "#Create handlers\n",
    "console_log=log.StreamHandler()\n",
    "console_log.setLevel(log.DEBUG)\n",
    "format=log.Formatter(\"%(asctime)s - %(name)s - %(levelname)s - %(message)s\")\n",
    "console_log.setFormatter(format)\n",
    "\n",
    "#Create a custom logger                    \n",
    "log.getLogger('').addHandler(console_log)\n",
    "log.info('main log')\n",
    "logger1=log.getLogger('user1')\n",
    "logger2=log.getLogger('user2')\n",
    "logger1.info(\"This is from user1 info\")\n",
    "logger2.debug(\"This is from user2 debug\")"
   ]
  },
  {
   "cell_type": "markdown",
   "id": "adbacb86",
   "metadata": {},
   "source": [
    "### Debugging"
   ]
  },
  {
   "cell_type": "code",
   "execution_count": 5,
   "id": "9bec681e",
   "metadata": {},
   "outputs": [],
   "source": [
    "def testdebug():\n",
    "    l=[]\n",
    "    for i in range(10):\n",
    "        l.append(i)\n",
    "        if i==9:\n",
    "            print(\"The list is appended successfully \")\n",
    "    print(l)"
   ]
  },
  {
   "cell_type": "code",
   "execution_count": 6,
   "id": "cd602cc9",
   "metadata": {},
   "outputs": [
    {
     "name": "stdout",
     "output_type": "stream",
     "text": [
      "The list is appended successfully \n",
      "[0, 1, 2, 3, 4, 5, 6, 7, 8, 9]\n"
     ]
    }
   ],
   "source": [
    "testdebug()"
   ]
  },
  {
   "cell_type": "code",
   "execution_count": 9,
   "id": "5ff86f88",
   "metadata": {},
   "outputs": [],
   "source": [
    "import ipdb"
   ]
  },
  {
   "cell_type": "code",
   "execution_count": 8,
   "id": "cdfd009e",
   "metadata": {},
   "outputs": [
    {
     "name": "stdout",
     "output_type": "stream",
     "text": [
      "Collecting ipdb\n",
      "  Downloading ipdb-0.13.9.tar.gz (16 kB)\n",
      "Requirement already satisfied: setuptools in d:\\pythoninstallation\\lib\\site-packages (from ipdb) (61.2.0)\n",
      "Requirement already satisfied: ipython>=7.17.0 in d:\\pythoninstallation\\lib\\site-packages (from ipdb) (8.2.0)\n",
      "Requirement already satisfied: toml>=0.10.2 in d:\\pythoninstallation\\lib\\site-packages (from ipdb) (0.10.2)\n",
      "Requirement already satisfied: decorator in d:\\pythoninstallation\\lib\\site-packages (from ipdb) (5.1.1)\n",
      "Requirement already satisfied: backcall in d:\\pythoninstallation\\lib\\site-packages (from ipython>=7.17.0->ipdb) (0.2.0)\n",
      "Requirement already satisfied: colorama in d:\\pythoninstallation\\lib\\site-packages (from ipython>=7.17.0->ipdb) (0.4.4)\n",
      "Requirement already satisfied: traitlets>=5 in d:\\pythoninstallation\\lib\\site-packages (from ipython>=7.17.0->ipdb) (5.1.1)\n",
      "Requirement already satisfied: jedi>=0.16 in d:\\pythoninstallation\\lib\\site-packages (from ipython>=7.17.0->ipdb) (0.18.1)\n",
      "Requirement already satisfied: pygments>=2.4.0 in d:\\pythoninstallation\\lib\\site-packages (from ipython>=7.17.0->ipdb) (2.11.2)\n",
      "Requirement already satisfied: prompt-toolkit!=3.0.0,!=3.0.1,<3.1.0,>=2.0.0 in d:\\pythoninstallation\\lib\\site-packages (from ipython>=7.17.0->ipdb) (3.0.20)\n",
      "Requirement already satisfied: pickleshare in d:\\pythoninstallation\\lib\\site-packages (from ipython>=7.17.0->ipdb) (0.7.5)\n",
      "Requirement already satisfied: stack-data in d:\\pythoninstallation\\lib\\site-packages (from ipython>=7.17.0->ipdb) (0.2.0)\n",
      "Requirement already satisfied: matplotlib-inline in d:\\pythoninstallation\\lib\\site-packages (from ipython>=7.17.0->ipdb) (0.1.2)\n",
      "Requirement already satisfied: parso<0.9.0,>=0.8.0 in d:\\pythoninstallation\\lib\\site-packages (from jedi>=0.16->ipython>=7.17.0->ipdb) (0.8.3)\n",
      "Requirement already satisfied: wcwidth in d:\\pythoninstallation\\lib\\site-packages (from prompt-toolkit!=3.0.0,!=3.0.1,<3.1.0,>=2.0.0->ipython>=7.17.0->ipdb) (0.2.5)\n",
      "Requirement already satisfied: executing in d:\\pythoninstallation\\lib\\site-packages (from stack-data->ipython>=7.17.0->ipdb) (0.8.3)\n",
      "Requirement already satisfied: asttokens in d:\\pythoninstallation\\lib\\site-packages (from stack-data->ipython>=7.17.0->ipdb) (2.0.5)\n",
      "Requirement already satisfied: pure-eval in d:\\pythoninstallation\\lib\\site-packages (from stack-data->ipython>=7.17.0->ipdb) (0.2.2)\n",
      "Requirement already satisfied: six in d:\\pythoninstallation\\lib\\site-packages (from asttokens->stack-data->ipython>=7.17.0->ipdb) (1.16.0)\n",
      "Building wheels for collected packages: ipdb\n",
      "  Building wheel for ipdb (setup.py): started\n",
      "  Building wheel for ipdb (setup.py): finished with status 'done'\n",
      "  Created wheel for ipdb: filename=ipdb-0.13.9-py3-none-any.whl size=11646 sha256=3a3ece4a4947c756227988bfc1a43d849d43ff0e2a9ec06518e74ee0447c28e8\n",
      "  Stored in directory: c:\\users\\sudhakar\\appdata\\local\\pip\\cache\\wheels\\f7\\29\\9a\\cf774cd86e9802f075a0be1c9e0830bc062d07897b2e9e87cd\n",
      "Successfully built ipdb\n",
      "Installing collected packages: ipdb\n",
      "Successfully installed ipdb-0.13.9\n"
     ]
    }
   ],
   "source": [
    "#!pip install ipdb\n",
    "\n",
    "#If your getting access denied error use \n",
    "#!pip install --user ipdb"
   ]
  },
  {
   "cell_type": "code",
   "execution_count": 10,
   "id": "b33b8405",
   "metadata": {},
   "outputs": [],
   "source": [
    "def testdebug():\n",
    "    ipdb.set_trace()\n",
    "    l=[]\n",
    "    for i in range(10):\n",
    "        l.append(i)\n",
    "        if i==9:\n",
    "            print(\"The list is appended successfully \")\n",
    "    return l"
   ]
  },
  {
   "cell_type": "code",
   "execution_count": 11,
   "id": "79d6728c",
   "metadata": {},
   "outputs": [
    {
     "name": "stdout",
     "output_type": "stream",
     "text": [
      "> \u001b[1;32mc:\\users\\sudhakar\\appdata\\local\\temp\\ipykernel_10264\\2035141098.py\u001b[0m(3)\u001b[0;36mtestdebug\u001b[1;34m()\u001b[0m\n",
      "\n",
      "ipdb> h\n",
      "\n",
      "Documented commands (type help <topic>):\n",
      "========================================\n",
      "EOF    commands   enable    ll        pp       s                until \n",
      "a      condition  exit      longlist  psource  skip_hidden      up    \n",
      "alias  cont       h         n         q        skip_predicates  w     \n",
      "args   context    help      next      quit     source           whatis\n",
      "b      continue   ignore    p         r        step             where \n",
      "break  d          interact  pdef      restart  tbreak         \n",
      "bt     debug      j         pdoc      return   u              \n",
      "c      disable    jump      pfile     retval   unalias        \n",
      "cl     display    l         pinfo     run      undisplay      \n",
      "clear  down       list      pinfo2    rv       unt            \n",
      "\n",
      "Miscellaneous help topics:\n",
      "==========================\n",
      "exec  pdb\n",
      "\n",
      "ipdb> next\n",
      "> \u001b[1;32mc:\\users\\sudhakar\\appdata\\local\\temp\\ipykernel_10264\\2035141098.py\u001b[0m(4)\u001b[0;36mtestdebug\u001b[1;34m()\u001b[0m\n",
      "\n",
      "ipdb> next\n",
      "> \u001b[1;32mc:\\users\\sudhakar\\appdata\\local\\temp\\ipykernel_10264\\2035141098.py\u001b[0m(5)\u001b[0;36mtestdebug\u001b[1;34m()\u001b[0m\n",
      "\n",
      "ipdb> next\n",
      "> \u001b[1;32mc:\\users\\sudhakar\\appdata\\local\\temp\\ipykernel_10264\\2035141098.py\u001b[0m(6)\u001b[0;36mtestdebug\u001b[1;34m()\u001b[0m\n",
      "\n",
      "ipdb> next\n",
      "> \u001b[1;32mc:\\users\\sudhakar\\appdata\\local\\temp\\ipykernel_10264\\2035141098.py\u001b[0m(4)\u001b[0;36mtestdebug\u001b[1;34m()\u001b[0m\n",
      "\n",
      "ipdb> next\n",
      "> \u001b[1;32mc:\\users\\sudhakar\\appdata\\local\\temp\\ipykernel_10264\\2035141098.py\u001b[0m(5)\u001b[0;36mtestdebug\u001b[1;34m()\u001b[0m\n",
      "\n",
      "ipdb> next\n",
      "> \u001b[1;32mc:\\users\\sudhakar\\appdata\\local\\temp\\ipykernel_10264\\2035141098.py\u001b[0m(6)\u001b[0;36mtestdebug\u001b[1;34m()\u001b[0m\n",
      "\n",
      "ipdb> next\n",
      "> \u001b[1;32mc:\\users\\sudhakar\\appdata\\local\\temp\\ipykernel_10264\\2035141098.py\u001b[0m(4)\u001b[0;36mtestdebug\u001b[1;34m()\u001b[0m\n",
      "\n",
      "ipdb> next\n",
      "> \u001b[1;32mc:\\users\\sudhakar\\appdata\\local\\temp\\ipykernel_10264\\2035141098.py\u001b[0m(5)\u001b[0;36mtestdebug\u001b[1;34m()\u001b[0m\n",
      "\n",
      "ipdb> next\n",
      "> \u001b[1;32mc:\\users\\sudhakar\\appdata\\local\\temp\\ipykernel_10264\\2035141098.py\u001b[0m(6)\u001b[0;36mtestdebug\u001b[1;34m()\u001b[0m\n",
      "\n",
      "ipdb> next\n",
      "> \u001b[1;32mc:\\users\\sudhakar\\appdata\\local\\temp\\ipykernel_10264\\2035141098.py\u001b[0m(4)\u001b[0;36mtestdebug\u001b[1;34m()\u001b[0m\n",
      "\n",
      "ipdb> next\n",
      "> \u001b[1;32mc:\\users\\sudhakar\\appdata\\local\\temp\\ipykernel_10264\\2035141098.py\u001b[0m(5)\u001b[0;36mtestdebug\u001b[1;34m()\u001b[0m\n",
      "\n",
      "ipdb> next\n",
      "> \u001b[1;32mc:\\users\\sudhakar\\appdata\\local\\temp\\ipykernel_10264\\2035141098.py\u001b[0m(6)\u001b[0;36mtestdebug\u001b[1;34m()\u001b[0m\n",
      "\n",
      "ipdb> next\n",
      "> \u001b[1;32mc:\\users\\sudhakar\\appdata\\local\\temp\\ipykernel_10264\\2035141098.py\u001b[0m(4)\u001b[0;36mtestdebug\u001b[1;34m()\u001b[0m\n",
      "\n",
      "ipdb> next\n",
      "> \u001b[1;32mc:\\users\\sudhakar\\appdata\\local\\temp\\ipykernel_10264\\2035141098.py\u001b[0m(5)\u001b[0;36mtestdebug\u001b[1;34m()\u001b[0m\n",
      "\n",
      "ipdb> next\n",
      "> \u001b[1;32mc:\\users\\sudhakar\\appdata\\local\\temp\\ipykernel_10264\\2035141098.py\u001b[0m(6)\u001b[0;36mtestdebug\u001b[1;34m()\u001b[0m\n",
      "\n",
      "ipdb> next\n",
      "> \u001b[1;32mc:\\users\\sudhakar\\appdata\\local\\temp\\ipykernel_10264\\2035141098.py\u001b[0m(4)\u001b[0;36mtestdebug\u001b[1;34m()\u001b[0m\n",
      "\n",
      "ipdb> next\n",
      "> \u001b[1;32mc:\\users\\sudhakar\\appdata\\local\\temp\\ipykernel_10264\\2035141098.py\u001b[0m(5)\u001b[0;36mtestdebug\u001b[1;34m()\u001b[0m\n",
      "\n",
      "ipdb> next\n",
      "> \u001b[1;32mc:\\users\\sudhakar\\appdata\\local\\temp\\ipykernel_10264\\2035141098.py\u001b[0m(6)\u001b[0;36mtestdebug\u001b[1;34m()\u001b[0m\n",
      "\n",
      "ipdb> next\n",
      "> \u001b[1;32mc:\\users\\sudhakar\\appdata\\local\\temp\\ipykernel_10264\\2035141098.py\u001b[0m(4)\u001b[0;36mtestdebug\u001b[1;34m()\u001b[0m\n",
      "\n",
      "ipdb> next\n",
      "> \u001b[1;32mc:\\users\\sudhakar\\appdata\\local\\temp\\ipykernel_10264\\2035141098.py\u001b[0m(5)\u001b[0;36mtestdebug\u001b[1;34m()\u001b[0m\n",
      "\n",
      "ipdb> i\n",
      "6\n",
      "ipdb> c\n",
      "The list is appended successfully \n"
     ]
    },
    {
     "data": {
      "text/plain": [
       "[0, 1, 2, 3, 4, 5, 6, 7, 8, 9]"
      ]
     },
     "execution_count": 11,
     "metadata": {},
     "output_type": "execute_result"
    }
   ],
   "source": [
    "testdebug()"
   ]
  },
  {
   "cell_type": "code",
   "execution_count": 12,
   "id": "48daf883",
   "metadata": {},
   "outputs": [],
   "source": [
    "import ipdb"
   ]
  },
  {
   "cell_type": "code",
   "execution_count": 15,
   "id": "b5b4e1e1",
   "metadata": {},
   "outputs": [],
   "source": [
    "def pattern(n):\n",
    "    ipdb.sset_trace()\n",
    "    for i in range(n):\n",
    "        for j in range(i+1):\n",
    "            print('*',end=\" \")\n",
    "            if n==5:\n",
    "                continue\n",
    "        print()"
   ]
  },
  {
   "cell_type": "code",
   "execution_count": 16,
   "id": "e26b829a",
   "metadata": {},
   "outputs": [
    {
     "name": "stdout",
     "output_type": "stream",
     "text": [
      "ipdb> h\n",
      "ipdb> next\n",
      "ipdb> n\n",
      "ipdb> n\n",
      "ipdb> n\n",
      "ipdb> n\n",
      "ipdb> c\n"
     ]
    }
   ],
   "source": [
    "pattern(10)"
   ]
  },
  {
   "cell_type": "markdown",
   "id": "c97a805c",
   "metadata": {},
   "source": []
  },
  {
   "cell_type": "code",
   "execution_count": null,
   "id": "fa48e1be",
   "metadata": {},
   "outputs": [],
   "source": []
  },
  {
   "cell_type": "code",
   "execution_count": null,
   "id": "87864291",
   "metadata": {},
   "outputs": [],
   "source": []
  },
  {
   "cell_type": "code",
   "execution_count": null,
   "id": "0d93b68e",
   "metadata": {},
   "outputs": [],
   "source": []
  },
  {
   "cell_type": "code",
   "execution_count": null,
   "id": "472e1bf5",
   "metadata": {},
   "outputs": [],
   "source": []
  },
  {
   "cell_type": "code",
   "execution_count": null,
   "id": "3891f775",
   "metadata": {},
   "outputs": [],
   "source": []
  },
  {
   "cell_type": "code",
   "execution_count": null,
   "id": "884f0acb",
   "metadata": {},
   "outputs": [],
   "source": []
  },
  {
   "cell_type": "code",
   "execution_count": null,
   "id": "7d9c3302",
   "metadata": {},
   "outputs": [],
   "source": []
  },
  {
   "cell_type": "code",
   "execution_count": null,
   "id": "4ca5fae1",
   "metadata": {},
   "outputs": [],
   "source": []
  },
  {
   "cell_type": "code",
   "execution_count": null,
   "id": "f9f1b7e4",
   "metadata": {},
   "outputs": [],
   "source": []
  },
  {
   "cell_type": "code",
   "execution_count": null,
   "id": "3d60a99c",
   "metadata": {},
   "outputs": [],
   "source": []
  },
  {
   "cell_type": "code",
   "execution_count": null,
   "id": "09cd52f1",
   "metadata": {},
   "outputs": [],
   "source": []
  },
  {
   "cell_type": "code",
   "execution_count": null,
   "id": "0be06024",
   "metadata": {},
   "outputs": [],
   "source": []
  },
  {
   "cell_type": "code",
   "execution_count": null,
   "id": "c8c44da4",
   "metadata": {},
   "outputs": [],
   "source": []
  },
  {
   "cell_type": "code",
   "execution_count": null,
   "id": "ac5dd6c8",
   "metadata": {},
   "outputs": [],
   "source": []
  },
  {
   "cell_type": "code",
   "execution_count": null,
   "id": "24cc2e02",
   "metadata": {},
   "outputs": [],
   "source": []
  },
  {
   "cell_type": "code",
   "execution_count": null,
   "id": "fc4f3915",
   "metadata": {},
   "outputs": [],
   "source": []
  },
  {
   "cell_type": "code",
   "execution_count": null,
   "id": "02121acf",
   "metadata": {},
   "outputs": [],
   "source": []
  },
  {
   "cell_type": "code",
   "execution_count": null,
   "id": "e23c6917",
   "metadata": {},
   "outputs": [],
   "source": []
  }
 ],
 "metadata": {
  "kernelspec": {
   "display_name": "Python 3 (ipykernel)",
   "language": "python",
   "name": "python3"
  },
  "language_info": {
   "codemirror_mode": {
    "name": "ipython",
    "version": 3
   },
   "file_extension": ".py",
   "mimetype": "text/x-python",
   "name": "python",
   "nbconvert_exporter": "python",
   "pygments_lexer": "ipython3",
   "version": "3.9.12"
  }
 },
 "nbformat": 4,
 "nbformat_minor": 5
}
